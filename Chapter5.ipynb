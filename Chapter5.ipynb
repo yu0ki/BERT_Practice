{
  "nbformat": 4,
  "nbformat_minor": 0,
  "metadata": {
    "colab": {
      "name": "Chapter5.ipynb",
      "provenance": [],
      "collapsed_sections": [],
      "authorship_tag": "ABX9TyO0hKLs9rZSZW+wnrbcwFfw",
      "include_colab_link": true
    },
    "kernelspec": {
      "name": "python3",
      "display_name": "Python 3"
    },
    "language_info": {
      "name": "python"
    },
    "accelerator": "GPU",
    "gpuClass": "standard",
    "widgets": {
      "application/vnd.jupyter.widget-state+json": {
        "2ec126069b0648feb879efbc2c32fe27": {
          "model_module": "@jupyter-widgets/controls",
          "model_name": "HBoxModel",
          "model_module_version": "1.5.0",
          "state": {
            "_dom_classes": [],
            "_model_module": "@jupyter-widgets/controls",
            "_model_module_version": "1.5.0",
            "_model_name": "HBoxModel",
            "_view_count": null,
            "_view_module": "@jupyter-widgets/controls",
            "_view_module_version": "1.5.0",
            "_view_name": "HBoxView",
            "box_style": "",
            "children": [
              "IPY_MODEL_d7d7012806684dc5a55b2e6d687bf120",
              "IPY_MODEL_17baec016d94457a8777964f49f0f659",
              "IPY_MODEL_87819742e2a2400e806dd118c011a15e"
            ],
            "layout": "IPY_MODEL_9d49581d1ce54d029369d28a92a2a129"
          }
        },
        "d7d7012806684dc5a55b2e6d687bf120": {
          "model_module": "@jupyter-widgets/controls",
          "model_name": "HTMLModel",
          "model_module_version": "1.5.0",
          "state": {
            "_dom_classes": [],
            "_model_module": "@jupyter-widgets/controls",
            "_model_module_version": "1.5.0",
            "_model_name": "HTMLModel",
            "_view_count": null,
            "_view_module": "@jupyter-widgets/controls",
            "_view_module_version": "1.5.0",
            "_view_name": "HTMLView",
            "description": "",
            "description_tooltip": null,
            "layout": "IPY_MODEL_b1d1e1c4918e4bc68ed28fe97c146a1f",
            "placeholder": "​",
            "style": "IPY_MODEL_4c3de66aa5c946e1a18b0c3c7bb39dbf",
            "value": "Downloading: 100%"
          }
        },
        "17baec016d94457a8777964f49f0f659": {
          "model_module": "@jupyter-widgets/controls",
          "model_name": "FloatProgressModel",
          "model_module_version": "1.5.0",
          "state": {
            "_dom_classes": [],
            "_model_module": "@jupyter-widgets/controls",
            "_model_module_version": "1.5.0",
            "_model_name": "FloatProgressModel",
            "_view_count": null,
            "_view_module": "@jupyter-widgets/controls",
            "_view_module_version": "1.5.0",
            "_view_name": "ProgressView",
            "bar_style": "success",
            "description": "",
            "description_tooltip": null,
            "layout": "IPY_MODEL_4e24a908f6cc4fc4bd4107669b40067c",
            "max": 257706,
            "min": 0,
            "orientation": "horizontal",
            "style": "IPY_MODEL_8ff5dd55f159480ea1f89d4c2b533c09",
            "value": 257706
          }
        },
        "87819742e2a2400e806dd118c011a15e": {
          "model_module": "@jupyter-widgets/controls",
          "model_name": "HTMLModel",
          "model_module_version": "1.5.0",
          "state": {
            "_dom_classes": [],
            "_model_module": "@jupyter-widgets/controls",
            "_model_module_version": "1.5.0",
            "_model_name": "HTMLModel",
            "_view_count": null,
            "_view_module": "@jupyter-widgets/controls",
            "_view_module_version": "1.5.0",
            "_view_name": "HTMLView",
            "description": "",
            "description_tooltip": null,
            "layout": "IPY_MODEL_441b4092774d4702a06b6e9726a9ec9d",
            "placeholder": "​",
            "style": "IPY_MODEL_5ae74ac221a74205843997b9ed1f4376",
            "value": " 258k/258k [00:00&lt;00:00, 4.07MB/s]"
          }
        },
        "9d49581d1ce54d029369d28a92a2a129": {
          "model_module": "@jupyter-widgets/base",
          "model_name": "LayoutModel",
          "model_module_version": "1.2.0",
          "state": {
            "_model_module": "@jupyter-widgets/base",
            "_model_module_version": "1.2.0",
            "_model_name": "LayoutModel",
            "_view_count": null,
            "_view_module": "@jupyter-widgets/base",
            "_view_module_version": "1.2.0",
            "_view_name": "LayoutView",
            "align_content": null,
            "align_items": null,
            "align_self": null,
            "border": null,
            "bottom": null,
            "display": null,
            "flex": null,
            "flex_flow": null,
            "grid_area": null,
            "grid_auto_columns": null,
            "grid_auto_flow": null,
            "grid_auto_rows": null,
            "grid_column": null,
            "grid_gap": null,
            "grid_row": null,
            "grid_template_areas": null,
            "grid_template_columns": null,
            "grid_template_rows": null,
            "height": null,
            "justify_content": null,
            "justify_items": null,
            "left": null,
            "margin": null,
            "max_height": null,
            "max_width": null,
            "min_height": null,
            "min_width": null,
            "object_fit": null,
            "object_position": null,
            "order": null,
            "overflow": null,
            "overflow_x": null,
            "overflow_y": null,
            "padding": null,
            "right": null,
            "top": null,
            "visibility": null,
            "width": null
          }
        },
        "b1d1e1c4918e4bc68ed28fe97c146a1f": {
          "model_module": "@jupyter-widgets/base",
          "model_name": "LayoutModel",
          "model_module_version": "1.2.0",
          "state": {
            "_model_module": "@jupyter-widgets/base",
            "_model_module_version": "1.2.0",
            "_model_name": "LayoutModel",
            "_view_count": null,
            "_view_module": "@jupyter-widgets/base",
            "_view_module_version": "1.2.0",
            "_view_name": "LayoutView",
            "align_content": null,
            "align_items": null,
            "align_self": null,
            "border": null,
            "bottom": null,
            "display": null,
            "flex": null,
            "flex_flow": null,
            "grid_area": null,
            "grid_auto_columns": null,
            "grid_auto_flow": null,
            "grid_auto_rows": null,
            "grid_column": null,
            "grid_gap": null,
            "grid_row": null,
            "grid_template_areas": null,
            "grid_template_columns": null,
            "grid_template_rows": null,
            "height": null,
            "justify_content": null,
            "justify_items": null,
            "left": null,
            "margin": null,
            "max_height": null,
            "max_width": null,
            "min_height": null,
            "min_width": null,
            "object_fit": null,
            "object_position": null,
            "order": null,
            "overflow": null,
            "overflow_x": null,
            "overflow_y": null,
            "padding": null,
            "right": null,
            "top": null,
            "visibility": null,
            "width": null
          }
        },
        "4c3de66aa5c946e1a18b0c3c7bb39dbf": {
          "model_module": "@jupyter-widgets/controls",
          "model_name": "DescriptionStyleModel",
          "model_module_version": "1.5.0",
          "state": {
            "_model_module": "@jupyter-widgets/controls",
            "_model_module_version": "1.5.0",
            "_model_name": "DescriptionStyleModel",
            "_view_count": null,
            "_view_module": "@jupyter-widgets/base",
            "_view_module_version": "1.2.0",
            "_view_name": "StyleView",
            "description_width": ""
          }
        },
        "4e24a908f6cc4fc4bd4107669b40067c": {
          "model_module": "@jupyter-widgets/base",
          "model_name": "LayoutModel",
          "model_module_version": "1.2.0",
          "state": {
            "_model_module": "@jupyter-widgets/base",
            "_model_module_version": "1.2.0",
            "_model_name": "LayoutModel",
            "_view_count": null,
            "_view_module": "@jupyter-widgets/base",
            "_view_module_version": "1.2.0",
            "_view_name": "LayoutView",
            "align_content": null,
            "align_items": null,
            "align_self": null,
            "border": null,
            "bottom": null,
            "display": null,
            "flex": null,
            "flex_flow": null,
            "grid_area": null,
            "grid_auto_columns": null,
            "grid_auto_flow": null,
            "grid_auto_rows": null,
            "grid_column": null,
            "grid_gap": null,
            "grid_row": null,
            "grid_template_areas": null,
            "grid_template_columns": null,
            "grid_template_rows": null,
            "height": null,
            "justify_content": null,
            "justify_items": null,
            "left": null,
            "margin": null,
            "max_height": null,
            "max_width": null,
            "min_height": null,
            "min_width": null,
            "object_fit": null,
            "object_position": null,
            "order": null,
            "overflow": null,
            "overflow_x": null,
            "overflow_y": null,
            "padding": null,
            "right": null,
            "top": null,
            "visibility": null,
            "width": null
          }
        },
        "8ff5dd55f159480ea1f89d4c2b533c09": {
          "model_module": "@jupyter-widgets/controls",
          "model_name": "ProgressStyleModel",
          "model_module_version": "1.5.0",
          "state": {
            "_model_module": "@jupyter-widgets/controls",
            "_model_module_version": "1.5.0",
            "_model_name": "ProgressStyleModel",
            "_view_count": null,
            "_view_module": "@jupyter-widgets/base",
            "_view_module_version": "1.2.0",
            "_view_name": "StyleView",
            "bar_color": null,
            "description_width": ""
          }
        },
        "441b4092774d4702a06b6e9726a9ec9d": {
          "model_module": "@jupyter-widgets/base",
          "model_name": "LayoutModel",
          "model_module_version": "1.2.0",
          "state": {
            "_model_module": "@jupyter-widgets/base",
            "_model_module_version": "1.2.0",
            "_model_name": "LayoutModel",
            "_view_count": null,
            "_view_module": "@jupyter-widgets/base",
            "_view_module_version": "1.2.0",
            "_view_name": "LayoutView",
            "align_content": null,
            "align_items": null,
            "align_self": null,
            "border": null,
            "bottom": null,
            "display": null,
            "flex": null,
            "flex_flow": null,
            "grid_area": null,
            "grid_auto_columns": null,
            "grid_auto_flow": null,
            "grid_auto_rows": null,
            "grid_column": null,
            "grid_gap": null,
            "grid_row": null,
            "grid_template_areas": null,
            "grid_template_columns": null,
            "grid_template_rows": null,
            "height": null,
            "justify_content": null,
            "justify_items": null,
            "left": null,
            "margin": null,
            "max_height": null,
            "max_width": null,
            "min_height": null,
            "min_width": null,
            "object_fit": null,
            "object_position": null,
            "order": null,
            "overflow": null,
            "overflow_x": null,
            "overflow_y": null,
            "padding": null,
            "right": null,
            "top": null,
            "visibility": null,
            "width": null
          }
        },
        "5ae74ac221a74205843997b9ed1f4376": {
          "model_module": "@jupyter-widgets/controls",
          "model_name": "DescriptionStyleModel",
          "model_module_version": "1.5.0",
          "state": {
            "_model_module": "@jupyter-widgets/controls",
            "_model_module_version": "1.5.0",
            "_model_name": "DescriptionStyleModel",
            "_view_count": null,
            "_view_module": "@jupyter-widgets/base",
            "_view_module_version": "1.2.0",
            "_view_name": "StyleView",
            "description_width": ""
          }
        },
        "9433d65cf6164353abfdf44114204f28": {
          "model_module": "@jupyter-widgets/controls",
          "model_name": "HBoxModel",
          "model_module_version": "1.5.0",
          "state": {
            "_dom_classes": [],
            "_model_module": "@jupyter-widgets/controls",
            "_model_module_version": "1.5.0",
            "_model_name": "HBoxModel",
            "_view_count": null,
            "_view_module": "@jupyter-widgets/controls",
            "_view_module_version": "1.5.0",
            "_view_name": "HBoxView",
            "box_style": "",
            "children": [
              "IPY_MODEL_11b00adde5574d82aec4f453eae57b56",
              "IPY_MODEL_e2bf26a58f074af18f43e94dcd594982",
              "IPY_MODEL_d3053ab7a3fd48a3ba5ebc6a05befad9"
            ],
            "layout": "IPY_MODEL_123a4a8f91ac412394301495e41227ba"
          }
        },
        "11b00adde5574d82aec4f453eae57b56": {
          "model_module": "@jupyter-widgets/controls",
          "model_name": "HTMLModel",
          "model_module_version": "1.5.0",
          "state": {
            "_dom_classes": [],
            "_model_module": "@jupyter-widgets/controls",
            "_model_module_version": "1.5.0",
            "_model_name": "HTMLModel",
            "_view_count": null,
            "_view_module": "@jupyter-widgets/controls",
            "_view_module_version": "1.5.0",
            "_view_name": "HTMLView",
            "description": "",
            "description_tooltip": null,
            "layout": "IPY_MODEL_3ac13b1e79504a2182eb930f031cd0f9",
            "placeholder": "​",
            "style": "IPY_MODEL_eb1743048445414287e2da3eb4ac9683",
            "value": "Downloading: 100%"
          }
        },
        "e2bf26a58f074af18f43e94dcd594982": {
          "model_module": "@jupyter-widgets/controls",
          "model_name": "FloatProgressModel",
          "model_module_version": "1.5.0",
          "state": {
            "_dom_classes": [],
            "_model_module": "@jupyter-widgets/controls",
            "_model_module_version": "1.5.0",
            "_model_name": "FloatProgressModel",
            "_view_count": null,
            "_view_module": "@jupyter-widgets/controls",
            "_view_module_version": "1.5.0",
            "_view_name": "ProgressView",
            "bar_style": "success",
            "description": "",
            "description_tooltip": null,
            "layout": "IPY_MODEL_738da8062db74d71af45857025bd2c71",
            "max": 110,
            "min": 0,
            "orientation": "horizontal",
            "style": "IPY_MODEL_bb83dd97347a4b079bbae37910aaea9d",
            "value": 110
          }
        },
        "d3053ab7a3fd48a3ba5ebc6a05befad9": {
          "model_module": "@jupyter-widgets/controls",
          "model_name": "HTMLModel",
          "model_module_version": "1.5.0",
          "state": {
            "_dom_classes": [],
            "_model_module": "@jupyter-widgets/controls",
            "_model_module_version": "1.5.0",
            "_model_name": "HTMLModel",
            "_view_count": null,
            "_view_module": "@jupyter-widgets/controls",
            "_view_module_version": "1.5.0",
            "_view_name": "HTMLView",
            "description": "",
            "description_tooltip": null,
            "layout": "IPY_MODEL_40db7a31db52412cad25bdcf0d897183",
            "placeholder": "​",
            "style": "IPY_MODEL_87279249f4434df09ffdbb2d21db8a67",
            "value": " 110/110 [00:00&lt;00:00, 2.14kB/s]"
          }
        },
        "123a4a8f91ac412394301495e41227ba": {
          "model_module": "@jupyter-widgets/base",
          "model_name": "LayoutModel",
          "model_module_version": "1.2.0",
          "state": {
            "_model_module": "@jupyter-widgets/base",
            "_model_module_version": "1.2.0",
            "_model_name": "LayoutModel",
            "_view_count": null,
            "_view_module": "@jupyter-widgets/base",
            "_view_module_version": "1.2.0",
            "_view_name": "LayoutView",
            "align_content": null,
            "align_items": null,
            "align_self": null,
            "border": null,
            "bottom": null,
            "display": null,
            "flex": null,
            "flex_flow": null,
            "grid_area": null,
            "grid_auto_columns": null,
            "grid_auto_flow": null,
            "grid_auto_rows": null,
            "grid_column": null,
            "grid_gap": null,
            "grid_row": null,
            "grid_template_areas": null,
            "grid_template_columns": null,
            "grid_template_rows": null,
            "height": null,
            "justify_content": null,
            "justify_items": null,
            "left": null,
            "margin": null,
            "max_height": null,
            "max_width": null,
            "min_height": null,
            "min_width": null,
            "object_fit": null,
            "object_position": null,
            "order": null,
            "overflow": null,
            "overflow_x": null,
            "overflow_y": null,
            "padding": null,
            "right": null,
            "top": null,
            "visibility": null,
            "width": null
          }
        },
        "3ac13b1e79504a2182eb930f031cd0f9": {
          "model_module": "@jupyter-widgets/base",
          "model_name": "LayoutModel",
          "model_module_version": "1.2.0",
          "state": {
            "_model_module": "@jupyter-widgets/base",
            "_model_module_version": "1.2.0",
            "_model_name": "LayoutModel",
            "_view_count": null,
            "_view_module": "@jupyter-widgets/base",
            "_view_module_version": "1.2.0",
            "_view_name": "LayoutView",
            "align_content": null,
            "align_items": null,
            "align_self": null,
            "border": null,
            "bottom": null,
            "display": null,
            "flex": null,
            "flex_flow": null,
            "grid_area": null,
            "grid_auto_columns": null,
            "grid_auto_flow": null,
            "grid_auto_rows": null,
            "grid_column": null,
            "grid_gap": null,
            "grid_row": null,
            "grid_template_areas": null,
            "grid_template_columns": null,
            "grid_template_rows": null,
            "height": null,
            "justify_content": null,
            "justify_items": null,
            "left": null,
            "margin": null,
            "max_height": null,
            "max_width": null,
            "min_height": null,
            "min_width": null,
            "object_fit": null,
            "object_position": null,
            "order": null,
            "overflow": null,
            "overflow_x": null,
            "overflow_y": null,
            "padding": null,
            "right": null,
            "top": null,
            "visibility": null,
            "width": null
          }
        },
        "eb1743048445414287e2da3eb4ac9683": {
          "model_module": "@jupyter-widgets/controls",
          "model_name": "DescriptionStyleModel",
          "model_module_version": "1.5.0",
          "state": {
            "_model_module": "@jupyter-widgets/controls",
            "_model_module_version": "1.5.0",
            "_model_name": "DescriptionStyleModel",
            "_view_count": null,
            "_view_module": "@jupyter-widgets/base",
            "_view_module_version": "1.2.0",
            "_view_name": "StyleView",
            "description_width": ""
          }
        },
        "738da8062db74d71af45857025bd2c71": {
          "model_module": "@jupyter-widgets/base",
          "model_name": "LayoutModel",
          "model_module_version": "1.2.0",
          "state": {
            "_model_module": "@jupyter-widgets/base",
            "_model_module_version": "1.2.0",
            "_model_name": "LayoutModel",
            "_view_count": null,
            "_view_module": "@jupyter-widgets/base",
            "_view_module_version": "1.2.0",
            "_view_name": "LayoutView",
            "align_content": null,
            "align_items": null,
            "align_self": null,
            "border": null,
            "bottom": null,
            "display": null,
            "flex": null,
            "flex_flow": null,
            "grid_area": null,
            "grid_auto_columns": null,
            "grid_auto_flow": null,
            "grid_auto_rows": null,
            "grid_column": null,
            "grid_gap": null,
            "grid_row": null,
            "grid_template_areas": null,
            "grid_template_columns": null,
            "grid_template_rows": null,
            "height": null,
            "justify_content": null,
            "justify_items": null,
            "left": null,
            "margin": null,
            "max_height": null,
            "max_width": null,
            "min_height": null,
            "min_width": null,
            "object_fit": null,
            "object_position": null,
            "order": null,
            "overflow": null,
            "overflow_x": null,
            "overflow_y": null,
            "padding": null,
            "right": null,
            "top": null,
            "visibility": null,
            "width": null
          }
        },
        "bb83dd97347a4b079bbae37910aaea9d": {
          "model_module": "@jupyter-widgets/controls",
          "model_name": "ProgressStyleModel",
          "model_module_version": "1.5.0",
          "state": {
            "_model_module": "@jupyter-widgets/controls",
            "_model_module_version": "1.5.0",
            "_model_name": "ProgressStyleModel",
            "_view_count": null,
            "_view_module": "@jupyter-widgets/base",
            "_view_module_version": "1.2.0",
            "_view_name": "StyleView",
            "bar_color": null,
            "description_width": ""
          }
        },
        "40db7a31db52412cad25bdcf0d897183": {
          "model_module": "@jupyter-widgets/base",
          "model_name": "LayoutModel",
          "model_module_version": "1.2.0",
          "state": {
            "_model_module": "@jupyter-widgets/base",
            "_model_module_version": "1.2.0",
            "_model_name": "LayoutModel",
            "_view_count": null,
            "_view_module": "@jupyter-widgets/base",
            "_view_module_version": "1.2.0",
            "_view_name": "LayoutView",
            "align_content": null,
            "align_items": null,
            "align_self": null,
            "border": null,
            "bottom": null,
            "display": null,
            "flex": null,
            "flex_flow": null,
            "grid_area": null,
            "grid_auto_columns": null,
            "grid_auto_flow": null,
            "grid_auto_rows": null,
            "grid_column": null,
            "grid_gap": null,
            "grid_row": null,
            "grid_template_areas": null,
            "grid_template_columns": null,
            "grid_template_rows": null,
            "height": null,
            "justify_content": null,
            "justify_items": null,
            "left": null,
            "margin": null,
            "max_height": null,
            "max_width": null,
            "min_height": null,
            "min_width": null,
            "object_fit": null,
            "object_position": null,
            "order": null,
            "overflow": null,
            "overflow_x": null,
            "overflow_y": null,
            "padding": null,
            "right": null,
            "top": null,
            "visibility": null,
            "width": null
          }
        },
        "87279249f4434df09ffdbb2d21db8a67": {
          "model_module": "@jupyter-widgets/controls",
          "model_name": "DescriptionStyleModel",
          "model_module_version": "1.5.0",
          "state": {
            "_model_module": "@jupyter-widgets/controls",
            "_model_module_version": "1.5.0",
            "_model_name": "DescriptionStyleModel",
            "_view_count": null,
            "_view_module": "@jupyter-widgets/base",
            "_view_module_version": "1.2.0",
            "_view_name": "StyleView",
            "description_width": ""
          }
        },
        "f65183af78034bacbdc563e72348612b": {
          "model_module": "@jupyter-widgets/controls",
          "model_name": "HBoxModel",
          "model_module_version": "1.5.0",
          "state": {
            "_dom_classes": [],
            "_model_module": "@jupyter-widgets/controls",
            "_model_module_version": "1.5.0",
            "_model_name": "HBoxModel",
            "_view_count": null,
            "_view_module": "@jupyter-widgets/controls",
            "_view_module_version": "1.5.0",
            "_view_name": "HBoxView",
            "box_style": "",
            "children": [
              "IPY_MODEL_04b29d109f1e4ec79eb42adb5bd99980",
              "IPY_MODEL_f707e41f15e04a389fa5d9effe30f79d",
              "IPY_MODEL_bf73b8e3cc964d9b874f66c2c7ba59a9"
            ],
            "layout": "IPY_MODEL_422d649e347c4c18b8a519a7f3804dcb"
          }
        },
        "04b29d109f1e4ec79eb42adb5bd99980": {
          "model_module": "@jupyter-widgets/controls",
          "model_name": "HTMLModel",
          "model_module_version": "1.5.0",
          "state": {
            "_dom_classes": [],
            "_model_module": "@jupyter-widgets/controls",
            "_model_module_version": "1.5.0",
            "_model_name": "HTMLModel",
            "_view_count": null,
            "_view_module": "@jupyter-widgets/controls",
            "_view_module_version": "1.5.0",
            "_view_name": "HTMLView",
            "description": "",
            "description_tooltip": null,
            "layout": "IPY_MODEL_8f18810e04bd48ba9775611f6e948853",
            "placeholder": "​",
            "style": "IPY_MODEL_0460b8fed32345828aad58b53d94983b",
            "value": "Downloading: 100%"
          }
        },
        "f707e41f15e04a389fa5d9effe30f79d": {
          "model_module": "@jupyter-widgets/controls",
          "model_name": "FloatProgressModel",
          "model_module_version": "1.5.0",
          "state": {
            "_dom_classes": [],
            "_model_module": "@jupyter-widgets/controls",
            "_model_module_version": "1.5.0",
            "_model_name": "FloatProgressModel",
            "_view_count": null,
            "_view_module": "@jupyter-widgets/controls",
            "_view_module_version": "1.5.0",
            "_view_name": "ProgressView",
            "bar_style": "success",
            "description": "",
            "description_tooltip": null,
            "layout": "IPY_MODEL_c532f38eabe844f48aee656911995bef",
            "max": 479,
            "min": 0,
            "orientation": "horizontal",
            "style": "IPY_MODEL_6bec3822f2324d379f932a0d1d5fcd5f",
            "value": 479
          }
        },
        "bf73b8e3cc964d9b874f66c2c7ba59a9": {
          "model_module": "@jupyter-widgets/controls",
          "model_name": "HTMLModel",
          "model_module_version": "1.5.0",
          "state": {
            "_dom_classes": [],
            "_model_module": "@jupyter-widgets/controls",
            "_model_module_version": "1.5.0",
            "_model_name": "HTMLModel",
            "_view_count": null,
            "_view_module": "@jupyter-widgets/controls",
            "_view_module_version": "1.5.0",
            "_view_name": "HTMLView",
            "description": "",
            "description_tooltip": null,
            "layout": "IPY_MODEL_6f645d0fa9b549b49fde5e36c07c3ccb",
            "placeholder": "​",
            "style": "IPY_MODEL_3917a8173c9d4d1caa4245c96a6b4566",
            "value": " 479/479 [00:00&lt;00:00, 8.56kB/s]"
          }
        },
        "422d649e347c4c18b8a519a7f3804dcb": {
          "model_module": "@jupyter-widgets/base",
          "model_name": "LayoutModel",
          "model_module_version": "1.2.0",
          "state": {
            "_model_module": "@jupyter-widgets/base",
            "_model_module_version": "1.2.0",
            "_model_name": "LayoutModel",
            "_view_count": null,
            "_view_module": "@jupyter-widgets/base",
            "_view_module_version": "1.2.0",
            "_view_name": "LayoutView",
            "align_content": null,
            "align_items": null,
            "align_self": null,
            "border": null,
            "bottom": null,
            "display": null,
            "flex": null,
            "flex_flow": null,
            "grid_area": null,
            "grid_auto_columns": null,
            "grid_auto_flow": null,
            "grid_auto_rows": null,
            "grid_column": null,
            "grid_gap": null,
            "grid_row": null,
            "grid_template_areas": null,
            "grid_template_columns": null,
            "grid_template_rows": null,
            "height": null,
            "justify_content": null,
            "justify_items": null,
            "left": null,
            "margin": null,
            "max_height": null,
            "max_width": null,
            "min_height": null,
            "min_width": null,
            "object_fit": null,
            "object_position": null,
            "order": null,
            "overflow": null,
            "overflow_x": null,
            "overflow_y": null,
            "padding": null,
            "right": null,
            "top": null,
            "visibility": null,
            "width": null
          }
        },
        "8f18810e04bd48ba9775611f6e948853": {
          "model_module": "@jupyter-widgets/base",
          "model_name": "LayoutModel",
          "model_module_version": "1.2.0",
          "state": {
            "_model_module": "@jupyter-widgets/base",
            "_model_module_version": "1.2.0",
            "_model_name": "LayoutModel",
            "_view_count": null,
            "_view_module": "@jupyter-widgets/base",
            "_view_module_version": "1.2.0",
            "_view_name": "LayoutView",
            "align_content": null,
            "align_items": null,
            "align_self": null,
            "border": null,
            "bottom": null,
            "display": null,
            "flex": null,
            "flex_flow": null,
            "grid_area": null,
            "grid_auto_columns": null,
            "grid_auto_flow": null,
            "grid_auto_rows": null,
            "grid_column": null,
            "grid_gap": null,
            "grid_row": null,
            "grid_template_areas": null,
            "grid_template_columns": null,
            "grid_template_rows": null,
            "height": null,
            "justify_content": null,
            "justify_items": null,
            "left": null,
            "margin": null,
            "max_height": null,
            "max_width": null,
            "min_height": null,
            "min_width": null,
            "object_fit": null,
            "object_position": null,
            "order": null,
            "overflow": null,
            "overflow_x": null,
            "overflow_y": null,
            "padding": null,
            "right": null,
            "top": null,
            "visibility": null,
            "width": null
          }
        },
        "0460b8fed32345828aad58b53d94983b": {
          "model_module": "@jupyter-widgets/controls",
          "model_name": "DescriptionStyleModel",
          "model_module_version": "1.5.0",
          "state": {
            "_model_module": "@jupyter-widgets/controls",
            "_model_module_version": "1.5.0",
            "_model_name": "DescriptionStyleModel",
            "_view_count": null,
            "_view_module": "@jupyter-widgets/base",
            "_view_module_version": "1.2.0",
            "_view_name": "StyleView",
            "description_width": ""
          }
        },
        "c532f38eabe844f48aee656911995bef": {
          "model_module": "@jupyter-widgets/base",
          "model_name": "LayoutModel",
          "model_module_version": "1.2.0",
          "state": {
            "_model_module": "@jupyter-widgets/base",
            "_model_module_version": "1.2.0",
            "_model_name": "LayoutModel",
            "_view_count": null,
            "_view_module": "@jupyter-widgets/base",
            "_view_module_version": "1.2.0",
            "_view_name": "LayoutView",
            "align_content": null,
            "align_items": null,
            "align_self": null,
            "border": null,
            "bottom": null,
            "display": null,
            "flex": null,
            "flex_flow": null,
            "grid_area": null,
            "grid_auto_columns": null,
            "grid_auto_flow": null,
            "grid_auto_rows": null,
            "grid_column": null,
            "grid_gap": null,
            "grid_row": null,
            "grid_template_areas": null,
            "grid_template_columns": null,
            "grid_template_rows": null,
            "height": null,
            "justify_content": null,
            "justify_items": null,
            "left": null,
            "margin": null,
            "max_height": null,
            "max_width": null,
            "min_height": null,
            "min_width": null,
            "object_fit": null,
            "object_position": null,
            "order": null,
            "overflow": null,
            "overflow_x": null,
            "overflow_y": null,
            "padding": null,
            "right": null,
            "top": null,
            "visibility": null,
            "width": null
          }
        },
        "6bec3822f2324d379f932a0d1d5fcd5f": {
          "model_module": "@jupyter-widgets/controls",
          "model_name": "ProgressStyleModel",
          "model_module_version": "1.5.0",
          "state": {
            "_model_module": "@jupyter-widgets/controls",
            "_model_module_version": "1.5.0",
            "_model_name": "ProgressStyleModel",
            "_view_count": null,
            "_view_module": "@jupyter-widgets/base",
            "_view_module_version": "1.2.0",
            "_view_name": "StyleView",
            "bar_color": null,
            "description_width": ""
          }
        },
        "6f645d0fa9b549b49fde5e36c07c3ccb": {
          "model_module": "@jupyter-widgets/base",
          "model_name": "LayoutModel",
          "model_module_version": "1.2.0",
          "state": {
            "_model_module": "@jupyter-widgets/base",
            "_model_module_version": "1.2.0",
            "_model_name": "LayoutModel",
            "_view_count": null,
            "_view_module": "@jupyter-widgets/base",
            "_view_module_version": "1.2.0",
            "_view_name": "LayoutView",
            "align_content": null,
            "align_items": null,
            "align_self": null,
            "border": null,
            "bottom": null,
            "display": null,
            "flex": null,
            "flex_flow": null,
            "grid_area": null,
            "grid_auto_columns": null,
            "grid_auto_flow": null,
            "grid_auto_rows": null,
            "grid_column": null,
            "grid_gap": null,
            "grid_row": null,
            "grid_template_areas": null,
            "grid_template_columns": null,
            "grid_template_rows": null,
            "height": null,
            "justify_content": null,
            "justify_items": null,
            "left": null,
            "margin": null,
            "max_height": null,
            "max_width": null,
            "min_height": null,
            "min_width": null,
            "object_fit": null,
            "object_position": null,
            "order": null,
            "overflow": null,
            "overflow_x": null,
            "overflow_y": null,
            "padding": null,
            "right": null,
            "top": null,
            "visibility": null,
            "width": null
          }
        },
        "3917a8173c9d4d1caa4245c96a6b4566": {
          "model_module": "@jupyter-widgets/controls",
          "model_name": "DescriptionStyleModel",
          "model_module_version": "1.5.0",
          "state": {
            "_model_module": "@jupyter-widgets/controls",
            "_model_module_version": "1.5.0",
            "_model_name": "DescriptionStyleModel",
            "_view_count": null,
            "_view_module": "@jupyter-widgets/base",
            "_view_module_version": "1.2.0",
            "_view_name": "StyleView",
            "description_width": ""
          }
        },
        "1014087a4a1041799076cdc4eea7e281": {
          "model_module": "@jupyter-widgets/controls",
          "model_name": "HBoxModel",
          "model_module_version": "1.5.0",
          "state": {
            "_dom_classes": [],
            "_model_module": "@jupyter-widgets/controls",
            "_model_module_version": "1.5.0",
            "_model_name": "HBoxModel",
            "_view_count": null,
            "_view_module": "@jupyter-widgets/controls",
            "_view_module_version": "1.5.0",
            "_view_name": "HBoxView",
            "box_style": "",
            "children": [
              "IPY_MODEL_58409edc1f6d43cea2b6930e1565a350",
              "IPY_MODEL_2dbe1b727f424b21ac703b0743938821",
              "IPY_MODEL_cc0979d7149a41f4924addbb8959181d"
            ],
            "layout": "IPY_MODEL_9f3e6e6161d143319f7f2c8ff44dd7f6"
          }
        },
        "58409edc1f6d43cea2b6930e1565a350": {
          "model_module": "@jupyter-widgets/controls",
          "model_name": "HTMLModel",
          "model_module_version": "1.5.0",
          "state": {
            "_dom_classes": [],
            "_model_module": "@jupyter-widgets/controls",
            "_model_module_version": "1.5.0",
            "_model_name": "HTMLModel",
            "_view_count": null,
            "_view_module": "@jupyter-widgets/controls",
            "_view_module_version": "1.5.0",
            "_view_name": "HTMLView",
            "description": "",
            "description_tooltip": null,
            "layout": "IPY_MODEL_d3b8a680339d41a18535b8cfc5bc99ae",
            "placeholder": "​",
            "style": "IPY_MODEL_4a3890e3950e4ccf9acb1640a1a2652d",
            "value": "Downloading: 100%"
          }
        },
        "2dbe1b727f424b21ac703b0743938821": {
          "model_module": "@jupyter-widgets/controls",
          "model_name": "FloatProgressModel",
          "model_module_version": "1.5.0",
          "state": {
            "_dom_classes": [],
            "_model_module": "@jupyter-widgets/controls",
            "_model_module_version": "1.5.0",
            "_model_name": "FloatProgressModel",
            "_view_count": null,
            "_view_module": "@jupyter-widgets/controls",
            "_view_module_version": "1.5.0",
            "_view_name": "ProgressView",
            "bar_style": "success",
            "description": "",
            "description_tooltip": null,
            "layout": "IPY_MODEL_0e4a1e3f41f74dcf9a82ca5050205796",
            "max": 445021143,
            "min": 0,
            "orientation": "horizontal",
            "style": "IPY_MODEL_5e212e24bc6b43ec95e1a775f27b3eea",
            "value": 445021143
          }
        },
        "cc0979d7149a41f4924addbb8959181d": {
          "model_module": "@jupyter-widgets/controls",
          "model_name": "HTMLModel",
          "model_module_version": "1.5.0",
          "state": {
            "_dom_classes": [],
            "_model_module": "@jupyter-widgets/controls",
            "_model_module_version": "1.5.0",
            "_model_name": "HTMLModel",
            "_view_count": null,
            "_view_module": "@jupyter-widgets/controls",
            "_view_module_version": "1.5.0",
            "_view_name": "HTMLView",
            "description": "",
            "description_tooltip": null,
            "layout": "IPY_MODEL_d6f73eb834854a59aac06f5379683135",
            "placeholder": "​",
            "style": "IPY_MODEL_b0bfde6d509b482bad89bd6b2364c3e7",
            "value": " 445M/445M [00:11&lt;00:00, 60.0MB/s]"
          }
        },
        "9f3e6e6161d143319f7f2c8ff44dd7f6": {
          "model_module": "@jupyter-widgets/base",
          "model_name": "LayoutModel",
          "model_module_version": "1.2.0",
          "state": {
            "_model_module": "@jupyter-widgets/base",
            "_model_module_version": "1.2.0",
            "_model_name": "LayoutModel",
            "_view_count": null,
            "_view_module": "@jupyter-widgets/base",
            "_view_module_version": "1.2.0",
            "_view_name": "LayoutView",
            "align_content": null,
            "align_items": null,
            "align_self": null,
            "border": null,
            "bottom": null,
            "display": null,
            "flex": null,
            "flex_flow": null,
            "grid_area": null,
            "grid_auto_columns": null,
            "grid_auto_flow": null,
            "grid_auto_rows": null,
            "grid_column": null,
            "grid_gap": null,
            "grid_row": null,
            "grid_template_areas": null,
            "grid_template_columns": null,
            "grid_template_rows": null,
            "height": null,
            "justify_content": null,
            "justify_items": null,
            "left": null,
            "margin": null,
            "max_height": null,
            "max_width": null,
            "min_height": null,
            "min_width": null,
            "object_fit": null,
            "object_position": null,
            "order": null,
            "overflow": null,
            "overflow_x": null,
            "overflow_y": null,
            "padding": null,
            "right": null,
            "top": null,
            "visibility": null,
            "width": null
          }
        },
        "d3b8a680339d41a18535b8cfc5bc99ae": {
          "model_module": "@jupyter-widgets/base",
          "model_name": "LayoutModel",
          "model_module_version": "1.2.0",
          "state": {
            "_model_module": "@jupyter-widgets/base",
            "_model_module_version": "1.2.0",
            "_model_name": "LayoutModel",
            "_view_count": null,
            "_view_module": "@jupyter-widgets/base",
            "_view_module_version": "1.2.0",
            "_view_name": "LayoutView",
            "align_content": null,
            "align_items": null,
            "align_self": null,
            "border": null,
            "bottom": null,
            "display": null,
            "flex": null,
            "flex_flow": null,
            "grid_area": null,
            "grid_auto_columns": null,
            "grid_auto_flow": null,
            "grid_auto_rows": null,
            "grid_column": null,
            "grid_gap": null,
            "grid_row": null,
            "grid_template_areas": null,
            "grid_template_columns": null,
            "grid_template_rows": null,
            "height": null,
            "justify_content": null,
            "justify_items": null,
            "left": null,
            "margin": null,
            "max_height": null,
            "max_width": null,
            "min_height": null,
            "min_width": null,
            "object_fit": null,
            "object_position": null,
            "order": null,
            "overflow": null,
            "overflow_x": null,
            "overflow_y": null,
            "padding": null,
            "right": null,
            "top": null,
            "visibility": null,
            "width": null
          }
        },
        "4a3890e3950e4ccf9acb1640a1a2652d": {
          "model_module": "@jupyter-widgets/controls",
          "model_name": "DescriptionStyleModel",
          "model_module_version": "1.5.0",
          "state": {
            "_model_module": "@jupyter-widgets/controls",
            "_model_module_version": "1.5.0",
            "_model_name": "DescriptionStyleModel",
            "_view_count": null,
            "_view_module": "@jupyter-widgets/base",
            "_view_module_version": "1.2.0",
            "_view_name": "StyleView",
            "description_width": ""
          }
        },
        "0e4a1e3f41f74dcf9a82ca5050205796": {
          "model_module": "@jupyter-widgets/base",
          "model_name": "LayoutModel",
          "model_module_version": "1.2.0",
          "state": {
            "_model_module": "@jupyter-widgets/base",
            "_model_module_version": "1.2.0",
            "_model_name": "LayoutModel",
            "_view_count": null,
            "_view_module": "@jupyter-widgets/base",
            "_view_module_version": "1.2.0",
            "_view_name": "LayoutView",
            "align_content": null,
            "align_items": null,
            "align_self": null,
            "border": null,
            "bottom": null,
            "display": null,
            "flex": null,
            "flex_flow": null,
            "grid_area": null,
            "grid_auto_columns": null,
            "grid_auto_flow": null,
            "grid_auto_rows": null,
            "grid_column": null,
            "grid_gap": null,
            "grid_row": null,
            "grid_template_areas": null,
            "grid_template_columns": null,
            "grid_template_rows": null,
            "height": null,
            "justify_content": null,
            "justify_items": null,
            "left": null,
            "margin": null,
            "max_height": null,
            "max_width": null,
            "min_height": null,
            "min_width": null,
            "object_fit": null,
            "object_position": null,
            "order": null,
            "overflow": null,
            "overflow_x": null,
            "overflow_y": null,
            "padding": null,
            "right": null,
            "top": null,
            "visibility": null,
            "width": null
          }
        },
        "5e212e24bc6b43ec95e1a775f27b3eea": {
          "model_module": "@jupyter-widgets/controls",
          "model_name": "ProgressStyleModel",
          "model_module_version": "1.5.0",
          "state": {
            "_model_module": "@jupyter-widgets/controls",
            "_model_module_version": "1.5.0",
            "_model_name": "ProgressStyleModel",
            "_view_count": null,
            "_view_module": "@jupyter-widgets/base",
            "_view_module_version": "1.2.0",
            "_view_name": "StyleView",
            "bar_color": null,
            "description_width": ""
          }
        },
        "d6f73eb834854a59aac06f5379683135": {
          "model_module": "@jupyter-widgets/base",
          "model_name": "LayoutModel",
          "model_module_version": "1.2.0",
          "state": {
            "_model_module": "@jupyter-widgets/base",
            "_model_module_version": "1.2.0",
            "_model_name": "LayoutModel",
            "_view_count": null,
            "_view_module": "@jupyter-widgets/base",
            "_view_module_version": "1.2.0",
            "_view_name": "LayoutView",
            "align_content": null,
            "align_items": null,
            "align_self": null,
            "border": null,
            "bottom": null,
            "display": null,
            "flex": null,
            "flex_flow": null,
            "grid_area": null,
            "grid_auto_columns": null,
            "grid_auto_flow": null,
            "grid_auto_rows": null,
            "grid_column": null,
            "grid_gap": null,
            "grid_row": null,
            "grid_template_areas": null,
            "grid_template_columns": null,
            "grid_template_rows": null,
            "height": null,
            "justify_content": null,
            "justify_items": null,
            "left": null,
            "margin": null,
            "max_height": null,
            "max_width": null,
            "min_height": null,
            "min_width": null,
            "object_fit": null,
            "object_position": null,
            "order": null,
            "overflow": null,
            "overflow_x": null,
            "overflow_y": null,
            "padding": null,
            "right": null,
            "top": null,
            "visibility": null,
            "width": null
          }
        },
        "b0bfde6d509b482bad89bd6b2364c3e7": {
          "model_module": "@jupyter-widgets/controls",
          "model_name": "DescriptionStyleModel",
          "model_module_version": "1.5.0",
          "state": {
            "_model_module": "@jupyter-widgets/controls",
            "_model_module_version": "1.5.0",
            "_model_name": "DescriptionStyleModel",
            "_view_count": null,
            "_view_module": "@jupyter-widgets/base",
            "_view_module_version": "1.2.0",
            "_view_name": "StyleView",
            "description_width": ""
          }
        }
      }
    }
  },
  "cells": [
    {
      "cell_type": "markdown",
      "metadata": {
        "id": "view-in-github",
        "colab_type": "text"
      },
      "source": [
        "<a href=\"https://colab.research.google.com/github/yu0ki/BERT_Practice/blob/main/Chapter5.ipynb\" target=\"_parent\"><img src=\"https://colab.research.google.com/assets/colab-badge.svg\" alt=\"Open In Colab\"/></a>"
      ]
    },
    {
      "cell_type": "code",
      "execution_count": 2,
      "metadata": {
        "colab": {
          "base_uri": "https://localhost:8080/"
        },
        "id": "Su1ehFmQ5i8u",
        "outputId": "729b69ae-f3cb-4b46-a2cd-a7ea667d9555"
      },
      "outputs": [
        {
          "output_type": "stream",
          "name": "stdout",
          "text": [
            "Looking in indexes: https://pypi.org/simple, https://us-python.pkg.dev/colab-wheels/public/simple/\n",
            "Collecting transformers==4.5.0\n",
            "  Downloading transformers-4.5.0-py3-none-any.whl (2.1 MB)\n",
            "\u001b[K     |████████████████████████████████| 2.1 MB 27.8 MB/s \n",
            "\u001b[?25hCollecting fugashi==1.1.0\n",
            "  Downloading fugashi-1.1.0-cp37-cp37m-manylinux1_x86_64.whl (486 kB)\n",
            "\u001b[K     |████████████████████████████████| 486 kB 70.0 MB/s \n",
            "\u001b[?25hCollecting ipadic==1.0.0\n",
            "  Downloading ipadic-1.0.0.tar.gz (13.4 MB)\n",
            "\u001b[K     |████████████████████████████████| 13.4 MB 68.6 MB/s \n",
            "\u001b[?25hRequirement already satisfied: tqdm>=4.27 in /usr/local/lib/python3.7/dist-packages (from transformers==4.5.0) (4.64.0)\n",
            "Requirement already satisfied: packaging in /usr/local/lib/python3.7/dist-packages (from transformers==4.5.0) (21.3)\n",
            "Collecting sacremoses\n",
            "  Downloading sacremoses-0.0.53.tar.gz (880 kB)\n",
            "\u001b[K     |████████████████████████████████| 880 kB 56.9 MB/s \n",
            "\u001b[?25hRequirement already satisfied: numpy>=1.17 in /usr/local/lib/python3.7/dist-packages (from transformers==4.5.0) (1.21.6)\n",
            "Collecting tokenizers<0.11,>=0.10.1\n",
            "  Downloading tokenizers-0.10.3-cp37-cp37m-manylinux_2_5_x86_64.manylinux1_x86_64.manylinux_2_12_x86_64.manylinux2010_x86_64.whl (3.3 MB)\n",
            "\u001b[K     |████████████████████████████████| 3.3 MB 65.8 MB/s \n",
            "\u001b[?25hRequirement already satisfied: requests in /usr/local/lib/python3.7/dist-packages (from transformers==4.5.0) (2.23.0)\n",
            "Requirement already satisfied: filelock in /usr/local/lib/python3.7/dist-packages (from transformers==4.5.0) (3.8.0)\n",
            "Requirement already satisfied: regex!=2019.12.17 in /usr/local/lib/python3.7/dist-packages (from transformers==4.5.0) (2022.6.2)\n",
            "Requirement already satisfied: importlib-metadata in /usr/local/lib/python3.7/dist-packages (from transformers==4.5.0) (4.12.0)\n",
            "Requirement already satisfied: zipp>=0.5 in /usr/local/lib/python3.7/dist-packages (from importlib-metadata->transformers==4.5.0) (3.8.1)\n",
            "Requirement already satisfied: typing-extensions>=3.6.4 in /usr/local/lib/python3.7/dist-packages (from importlib-metadata->transformers==4.5.0) (4.1.1)\n",
            "Requirement already satisfied: pyparsing!=3.0.5,>=2.0.2 in /usr/local/lib/python3.7/dist-packages (from packaging->transformers==4.5.0) (3.0.9)\n",
            "Requirement already satisfied: urllib3!=1.25.0,!=1.25.1,<1.26,>=1.21.1 in /usr/local/lib/python3.7/dist-packages (from requests->transformers==4.5.0) (1.24.3)\n",
            "Requirement already satisfied: certifi>=2017.4.17 in /usr/local/lib/python3.7/dist-packages (from requests->transformers==4.5.0) (2022.6.15)\n",
            "Requirement already satisfied: chardet<4,>=3.0.2 in /usr/local/lib/python3.7/dist-packages (from requests->transformers==4.5.0) (3.0.4)\n",
            "Requirement already satisfied: idna<3,>=2.5 in /usr/local/lib/python3.7/dist-packages (from requests->transformers==4.5.0) (2.10)\n",
            "Requirement already satisfied: six in /usr/local/lib/python3.7/dist-packages (from sacremoses->transformers==4.5.0) (1.15.0)\n",
            "Requirement already satisfied: click in /usr/local/lib/python3.7/dist-packages (from sacremoses->transformers==4.5.0) (7.1.2)\n",
            "Requirement already satisfied: joblib in /usr/local/lib/python3.7/dist-packages (from sacremoses->transformers==4.5.0) (1.1.0)\n",
            "Building wheels for collected packages: ipadic, sacremoses\n",
            "  Building wheel for ipadic (setup.py) ... \u001b[?25l\u001b[?25hdone\n",
            "  Created wheel for ipadic: filename=ipadic-1.0.0-py3-none-any.whl size=13556723 sha256=a1142dd56f282035a4924c8f30fcfedfe8d0d9684a52b955e0f4ca6930f98fc7\n",
            "  Stored in directory: /root/.cache/pip/wheels/33/8b/99/cf0d27191876637cd3639a560f93aa982d7855ce826c94348b\n",
            "  Building wheel for sacremoses (setup.py) ... \u001b[?25l\u001b[?25hdone\n",
            "  Created wheel for sacremoses: filename=sacremoses-0.0.53-py3-none-any.whl size=895260 sha256=5a94d8eed8e7375a8764be487afdd253afec618292cf077bebb02d64fb3210e8\n",
            "  Stored in directory: /root/.cache/pip/wheels/87/39/dd/a83eeef36d0bf98e7a4d1933a4ad2d660295a40613079bafc9\n",
            "Successfully built ipadic sacremoses\n",
            "Installing collected packages: tokenizers, sacremoses, transformers, ipadic, fugashi\n",
            "Successfully installed fugashi-1.1.0 ipadic-1.0.0 sacremoses-0.0.53 tokenizers-0.10.3 transformers-4.5.0\n"
          ]
        }
      ],
      "source": [
        "# この章では、BERTを使って穴埋めタスクを行う\n",
        "\n",
        "\n",
        "# ライブラリたち\n",
        "!pip install transformers==4.5.0 fugashi==1.1.0 ipadic==1.0.0\n",
        "\n",
        "import numpy as np\n",
        "import torch\n",
        "from transformers import BertJapaneseTokenizer, BertForMaskedLM\n",
        "\n",
        "\n",
        "# ちなみに、BertForMaskedLMは特殊トークン[MASK]に入るトークンを語彙の中から予測するクラス"
      ]
    },
    {
      "cell_type": "code",
      "source": [
        "# まずはトークナイザを準備\n",
        "\n",
        "model_name = 'cl-tohoku/bert-base-japanese-whole-word-masking'\n",
        "tokenizer = BertJapaneseTokenizer.from_pretrained(model_name)\n",
        "\n",
        "\n",
        "# 次は穴埋めタスク用の事前学習済みモデルを準備\n",
        "bert_mlm = BertForMaskedLM.from_pretrained(model_name)\n",
        "# GPUにのっける\n",
        "bert_mlm = bert_mlm.cuda()\n"
      ],
      "metadata": {
        "colab": {
          "base_uri": "https://localhost:8080/",
          "height": 219,
          "referenced_widgets": [
            "2ec126069b0648feb879efbc2c32fe27",
            "d7d7012806684dc5a55b2e6d687bf120",
            "17baec016d94457a8777964f49f0f659",
            "87819742e2a2400e806dd118c011a15e",
            "9d49581d1ce54d029369d28a92a2a129",
            "b1d1e1c4918e4bc68ed28fe97c146a1f",
            "4c3de66aa5c946e1a18b0c3c7bb39dbf",
            "4e24a908f6cc4fc4bd4107669b40067c",
            "8ff5dd55f159480ea1f89d4c2b533c09",
            "441b4092774d4702a06b6e9726a9ec9d",
            "5ae74ac221a74205843997b9ed1f4376",
            "9433d65cf6164353abfdf44114204f28",
            "11b00adde5574d82aec4f453eae57b56",
            "e2bf26a58f074af18f43e94dcd594982",
            "d3053ab7a3fd48a3ba5ebc6a05befad9",
            "123a4a8f91ac412394301495e41227ba",
            "3ac13b1e79504a2182eb930f031cd0f9",
            "eb1743048445414287e2da3eb4ac9683",
            "738da8062db74d71af45857025bd2c71",
            "bb83dd97347a4b079bbae37910aaea9d",
            "40db7a31db52412cad25bdcf0d897183",
            "87279249f4434df09ffdbb2d21db8a67",
            "f65183af78034bacbdc563e72348612b",
            "04b29d109f1e4ec79eb42adb5bd99980",
            "f707e41f15e04a389fa5d9effe30f79d",
            "bf73b8e3cc964d9b874f66c2c7ba59a9",
            "422d649e347c4c18b8a519a7f3804dcb",
            "8f18810e04bd48ba9775611f6e948853",
            "0460b8fed32345828aad58b53d94983b",
            "c532f38eabe844f48aee656911995bef",
            "6bec3822f2324d379f932a0d1d5fcd5f",
            "6f645d0fa9b549b49fde5e36c07c3ccb",
            "3917a8173c9d4d1caa4245c96a6b4566",
            "1014087a4a1041799076cdc4eea7e281",
            "58409edc1f6d43cea2b6930e1565a350",
            "2dbe1b727f424b21ac703b0743938821",
            "cc0979d7149a41f4924addbb8959181d",
            "9f3e6e6161d143319f7f2c8ff44dd7f6",
            "d3b8a680339d41a18535b8cfc5bc99ae",
            "4a3890e3950e4ccf9acb1640a1a2652d",
            "0e4a1e3f41f74dcf9a82ca5050205796",
            "5e212e24bc6b43ec95e1a775f27b3eea",
            "d6f73eb834854a59aac06f5379683135",
            "b0bfde6d509b482bad89bd6b2364c3e7"
          ]
        },
        "id": "p5wVH3v06fet",
        "outputId": "39e256cb-d514-420a-8ab9-01ecec7c9449"
      },
      "execution_count": 3,
      "outputs": [
        {
          "output_type": "display_data",
          "data": {
            "text/plain": [
              "Downloading:   0%|          | 0.00/258k [00:00<?, ?B/s]"
            ],
            "application/vnd.jupyter.widget-view+json": {
              "version_major": 2,
              "version_minor": 0,
              "model_id": "2ec126069b0648feb879efbc2c32fe27"
            }
          },
          "metadata": {}
        },
        {
          "output_type": "display_data",
          "data": {
            "text/plain": [
              "Downloading:   0%|          | 0.00/110 [00:00<?, ?B/s]"
            ],
            "application/vnd.jupyter.widget-view+json": {
              "version_major": 2,
              "version_minor": 0,
              "model_id": "9433d65cf6164353abfdf44114204f28"
            }
          },
          "metadata": {}
        },
        {
          "output_type": "display_data",
          "data": {
            "text/plain": [
              "Downloading:   0%|          | 0.00/479 [00:00<?, ?B/s]"
            ],
            "application/vnd.jupyter.widget-view+json": {
              "version_major": 2,
              "version_minor": 0,
              "model_id": "f65183af78034bacbdc563e72348612b"
            }
          },
          "metadata": {}
        },
        {
          "output_type": "display_data",
          "data": {
            "text/plain": [
              "Downloading:   0%|          | 0.00/445M [00:00<?, ?B/s]"
            ],
            "application/vnd.jupyter.widget-view+json": {
              "version_major": 2,
              "version_minor": 0,
              "model_id": "1014087a4a1041799076cdc4eea7e281"
            }
          },
          "metadata": {}
        },
        {
          "output_type": "stream",
          "name": "stderr",
          "text": [
            "Some weights of the model checkpoint at cl-tohoku/bert-base-japanese-whole-word-masking were not used when initializing BertForMaskedLM: ['cls.seq_relationship.weight', 'cls.seq_relationship.bias']\n",
            "- This IS expected if you are initializing BertForMaskedLM from the checkpoint of a model trained on another task or with another architecture (e.g. initializing a BertForSequenceClassification model from a BertForPreTraining model).\n",
            "- This IS NOT expected if you are initializing BertForMaskedLM from the checkpoint of a model that you expect to be exactly identical (initializing a BertForSequenceClassification model from a BertForSequenceClassification model).\n"
          ]
        }
      ]
    },
    {
      "cell_type": "code",
      "source": [
        "# 「今日は[MASK]へ行く。」　を穴埋めしてみよう\n",
        "\n",
        "# ・・・とその前に、まずは文章をトークン化したものを見てみよう（[MASK]がちゃんとトークンと見做されている）\n",
        "text = \"今日は[MASK]へ行く。\"\n",
        "tokens = tokenizer.tokenize(text)\n",
        "print(tokens)\n",
        "\n",
        "\n",
        "# 手順1：トークン列をトークンIDで置き換える(符号化)\n",
        "input_ids = tokenizer.encode(text, return_tensors = 'pt')\n",
        "print(input_ids)\n",
        "\n",
        "# そしてGPUへ送り込む\n",
        "input_ids = input_ids.cuda()\n"
      ],
      "metadata": {
        "colab": {
          "base_uri": "https://localhost:8080/"
        },
        "id": "WUfBo1nJ85If",
        "outputId": "71c38d29-765c-4a56-b3b4-e7310e4e647e"
      },
      "execution_count": 4,
      "outputs": [
        {
          "output_type": "stream",
          "name": "stdout",
          "text": [
            "['今日', 'は', '[MASK]', 'へ', '行く', '。']\n",
            "tensor([[   2, 3246,    9,    4,  118, 3488,    8,    3]])\n"
          ]
        }
      ]
    },
    {
      "cell_type": "code",
      "source": [
        "# 手順２：BERTに入力して分類スコアを得る\n",
        "# １文しか入力してないので、input_ids以外の指定（トークンの最大数とか）が必要ない\n",
        "with torch.no_grad():\n",
        "  output = bert_mlm(input_ids = input_ids)\n",
        "# print(output)\n",
        "\n",
        "# outputの属性のうち「logits」が、語彙中の各単語に対する分類スコアである\n",
        "# scoresは、三次元配列：各次元数（サイズ）は(バッチサイズ, 系列長, 語彙のサイズ)\n",
        "# scores[i, j, k] = 入力された文章のi文目に対応するトークン列の、j番目のトークンに対して、トークンIDがkの語彙のスコア\n",
        "scores = output.logits\n",
        "print(scores)"
      ],
      "metadata": {
        "colab": {
          "base_uri": "https://localhost:8080/"
        },
        "id": "vvVHfnLU-ajj",
        "outputId": "30d33acd-d8b8-4e06-d7d8-298f5527240f"
      },
      "execution_count": 5,
      "outputs": [
        {
          "output_type": "stream",
          "name": "stdout",
          "text": [
            "tensor([[[ -5.8525,   5.0457,  -1.7965,  ...,  -4.8386,  -6.4219,  -7.8085],\n",
            "         [ -4.0218,   7.2845,  -5.3993,  ...,  -6.0369,  -6.5811,  -2.1289],\n",
            "         [ -5.8364,   5.3641,  -2.2106,  ...,  -4.3529,  -5.7284,  -4.3889],\n",
            "         ...,\n",
            "         [ -7.8698,   5.9753,  -4.3922,  ...,  -4.3223,  -6.0900, -11.4386],\n",
            "         [ -5.4500,   6.5491,   0.0368,  ...,  -4.5615,  -5.1636,  -7.0161],\n",
            "         [ -8.7510,   3.2686,  -1.6596,  ...,  -5.0593,  -7.0547, -10.7624]]],\n",
            "       device='cuda:0')\n"
          ]
        }
      ]
    },
    {
      "cell_type": "code",
      "source": [
        "# ちなみにBertForMaskedMLは\n",
        "# 入力 -> BertModelに入力を入れた時の出力 -> それを線形変換 -> GELU関数（活性化関数） -> 線形変換 -> 最終出力"
      ],
      "metadata": {
        "id": "4nakb6nLBGSS"
      },
      "execution_count": 6,
      "outputs": []
    },
    {
      "cell_type": "code",
      "source": [
        "# 手順３：scoresから[MASK]に入るトークンを予測\n",
        "\n",
        "# まず、入力された文章（or　文章集合）から、[MASK]（こいつのトークンIDは4）の位置（配列のインデックス）を求める\n",
        "# input_ids[i].tolist().index(4) : i文目の中でID4に対応するインデックス\n",
        "mask_position = input_ids[0].tolist().index(4)\n",
        "\n",
        "# スコアが最も良いトークンのIDを取り出す\n",
        "# argmax：配列で、一番大きい要素の「インデックス（順番）」を返す関数。括弧の中は初期値（省略可能）\n",
        "id_best = scores[0, mask_position].argmax(-1).item()\n",
        "\n",
        "# id_bestに対応するトークンを入手\n",
        "token_best = tokenizer.convert_ids_to_tokens(id_best)\n",
        "\n",
        "# 取り出したトークンに「##」がついていた場合(Chapter4参照)は、それを取り除く\n",
        "token_best = token_best.replace(\"##\", \"\")\n",
        "\n",
        "# 元の入力文章の{MASK}を、token_bestで置き換える\n",
        "final_text = text.replace(\"[MASK]\", token_best)\n",
        "print(final_text)"
      ],
      "metadata": {
        "colab": {
          "base_uri": "https://localhost:8080/"
        },
        "id": "i-bOxb3qEF6R",
        "outputId": "6b84dcaa-a91a-48d5-d413-91892c6ae538"
      },
      "execution_count": 7,
      "outputs": [
        {
          "output_type": "stream",
          "name": "stdout",
          "text": [
            "今日は東京へ行く。\n"
          ]
        }
      ]
    },
    {
      "cell_type": "code",
      "source": [
        "# 最上位１位だけでなく、上位１０位を求めてみよう\n",
        "\n",
        "# まずは、text, tokenizer, bert_mlm, num_topk(=上位k件)を入力として、上位num_topk件の穴埋め予測を出す関数を定義\n",
        "def predict_mask_topk(text, tokenizer, bert_mlm, num_topk):\n",
        "\n",
        "  # テキストを符号化\n",
        "  input_ids = tokenizer.encode(text, return_tensors='pt')\n",
        "  input_ids = input_ids.cuda()\n",
        "\n",
        "\n",
        "\n",
        "  # bert_mlmに入力（計算結果を保存しないことで、リソースを節約）\n",
        "  with torch.no_grad():\n",
        "    output = bert_mlm(input_ids = input_ids)\n",
        "  # 分類スコアを取得\n",
        "  scores = output.logits\n",
        "\n",
        "\n",
        "\n",
        "\n",
        "  # トークンID ４　に対応する、input_idsのインデックスを求める\n",
        "  # もし複数の[MASK]が含まれていた場合には、 一番最初に見つけたindexを返す\n",
        "  mask_position = input_ids[0].tolist().index(4)\n",
        "\n",
        "  # scoresから上位num_topk件を取得\n",
        "  # topk(n) は上位n件を取得してくれる\n",
        "  scores_topk = scores[0, mask_position].topk(num_topk)\n",
        "\n",
        "  # scores_topkのスコアを持つトークンのID列\n",
        "  # indices はnumpy が提供する関数っぽい。\n",
        "  # scores_topkのscores[0, masked_position]内でのindex (=token id)を取得\n",
        "  ids_topk = scores_topk.indices\n",
        "\n",
        "  # ids_topkを対応するトークンへ変換\n",
        "  tokens_topk = tokenizer.convert_ids_to_tokens(ids_topk)\n",
        "\n",
        "  \n",
        "\n",
        "\n",
        "\n",
        "\n",
        "\n",
        "  # 以上で求めた上位トークンで文中の[MASK]を置き換える\n",
        "  text_topk = []\n",
        "  for token in tokens_topk:\n",
        "    token = token.replace('##', '')\n",
        "\n",
        "    # [MASK]のうち先頭から1個を置換\n",
        "    text_topk.append(text.replace('[MASK]', token, 1))\n",
        "\n",
        "  return text_topk, scores_topk\n",
        "\n"
      ],
      "metadata": {
        "id": "fuGtT2MyJGI2"
      },
      "execution_count": 37,
      "outputs": []
    },
    {
      "cell_type": "code",
      "source": [
        "# 上記の関数で、上位１０件の文章を出力してみよう\n",
        "\n",
        "text_topk, _ = predict_mask_topk (text, tokenizer, bert_mlm, 10)\n",
        "\n",
        "# * : 配列を展開\n",
        "#  sep : 区切り方指定\n",
        "# option + ¥ でバックスラッシュを打てる\n",
        "print(*text_topk, sep='\\n')"
      ],
      "metadata": {
        "colab": {
          "base_uri": "https://localhost:8080/"
        },
        "id": "3K1W7t8iRm-g",
        "outputId": "3ae82d26-b7a5-41a0-f5f3-eb404e0abd0e"
      },
      "execution_count": 39,
      "outputs": [
        {
          "output_type": "stream",
          "name": "stdout",
          "text": [
            "今日は東京へ行く。\n",
            "今日はハワイへ行く。\n",
            "今日は学校へ行く。\n",
            "今日はニューヨークへ行く。\n",
            "今日はどこへ行く。\n",
            "今日は空港へ行く。\n",
            "今日はアメリカへ行く。\n",
            "今日は病院へ行く。\n",
            "今日はそこへ行く。\n",
            "今日はロンドンへ行く。\n"
          ]
        }
      ]
    },
    {
      "cell_type": "code",
      "source": [
        "# MASK箇所が複数ある場合\n",
        "\n",
        "# 例えば「今日は[MASK][MASK]へ行く。」の穴埋め\n",
        "# [MASK] の組み合わせは語彙サイズ（=32000）の２乗でめっちゃ計算量やばい\n",
        "\n",
        "# 近似的な方法を用いよう！　\n",
        "# 貪欲法\n",
        "# 一番最初の[MASK]を最も高いスコアを持つトークンで穴埋めする -> 穴埋め後の文章に対して次の[MASK]を最も高いスコアを持つトークンで穴埋めする -> ......\n",
        "\n",
        "\n",
        "def greedy_prediction (text, tokenizer, bert_mlm):\n",
        "\n",
        "  for a in range(text.count('[MASK]')):\n",
        "    # print(text.count(\"[MASK]\"))\n",
        "    # print(a)\n",
        "    # print(text)\n",
        "    text= predict_mask_topk(text, tokenizer, bert_mlm, 1)[0][0]\n",
        "    \n",
        "  return text"
      ],
      "metadata": {
        "id": "VuKSGloBNFFf"
      },
      "execution_count": 40,
      "outputs": []
    },
    {
      "cell_type": "code",
      "source": [
        "print(tokenizer.tokenize('今日は[MASK][MASK]へ行く。'))\n",
        "\n",
        "# 実際穴を埋めてみる\n",
        "greedy_prediction(\"今日は[MASK][MASK]へ行く。\", tokenizer, bert_mlm)"
      ],
      "metadata": {
        "colab": {
          "base_uri": "https://localhost:8080/",
          "height": 53
        },
        "id": "JejMD4wzQUcJ",
        "outputId": "0c8b7a8f-0d3d-4b10-98bc-a7c7830b77f1"
      },
      "execution_count": 41,
      "outputs": [
        {
          "output_type": "stream",
          "name": "stdout",
          "text": [
            "['今日', 'は', '[MASK]', '[MASK]', 'へ', '行く', '。']\n"
          ]
        },
        {
          "output_type": "execute_result",
          "data": {
            "text/plain": [
              "'今日は、東京へ行く。'"
            ],
            "application/vnd.google.colaboratory.intrinsic+json": {
              "type": "string"
            }
          },
          "metadata": {},
          "execution_count": 41
        }
      ]
    },
    {
      "cell_type": "code",
      "source": [
        "# MASKを増やしすぎるとBERTは意味のある文を生成できない。\n",
        "# なぜなら、BERTは事前学習で文章のうちごく一部のトークンをMASKに置き換えて、周りの文脈から予測するタスクしかしていないから\n",
        "\n",
        "greedy_prediction(\"今日は[MASK][MASK][MASK][MASK][MASK]\", tokenizer, bert_mlm)"
      ],
      "metadata": {
        "colab": {
          "base_uri": "https://localhost:8080/",
          "height": 35
        },
        "id": "wLVjtN9skGEI",
        "outputId": "02fae644-2e3e-40d6-b50d-600ce0a4aabd"
      },
      "execution_count": 42,
      "outputs": [
        {
          "output_type": "execute_result",
          "data": {
            "text/plain": [
              "'今日は社会社会的な地位'"
            ],
            "application/vnd.google.colaboratory.intrinsic+json": {
              "type": "string"
            }
          },
          "metadata": {},
          "execution_count": 42
        }
      ]
    },
    {
      "cell_type": "code",
      "source": [
        "# 貪欲法より有能な近似：ビームサーチ\n",
        "# 貪欲法と違って、最終的な合計スコアが最大になるように狙う\n",
        "\n",
        "# 特徴\n",
        "# 複数の文章を同時に処理できる\n",
        "# 貪欲法と違い、最終結果が最高スコアになるように\n",
        "\n",
        "# 手順\n",
        "# 複数の文章が与えられたとする\n",
        "# １。一つ目の[MASK]に対して、上位１０件分の解候補を出し、穴を埋める\n",
        "# ２。得られた10個の文それぞれに対して、２つ目の[MASK]に対する10個の解候補を出す\n",
        "# ３。得られた１００通りの文章の中から、スコアの良い10個を選び他は捨てる\n",
        "# この流れを繰り返す\n",
        "\n",
        "\n",
        "def beam_search(text, tokenizer, bert_mlm, num_topk):\n",
        "\n",
        "  # マスクの数\n",
        "  num_mask = text.count('[MASK]')\n",
        "\n",
        "  # ループ中で使用する配列の初期化\n",
        "  text_topk = [text]\n",
        "  scores_topk = np.array([0])\n",
        "\n",
        "\n",
        "  # maskの数だけ以下を繰り返す\n",
        "  for _ in range(num_mask):\n",
        "\n",
        "    # 解候補(num_topkの２乗個出てくるはず)は以下に格納\n",
        "    text_candidates = []\n",
        "    score_candidates = []\n",
        "\n",
        "    # ここまでに得られているtext, scoreの上位num_topk件から、新たな解候補を作成\n",
        "    for text_mask, score in zip(text_topk, scores_topk):\n",
        "      text_cand, score_cand = predict_mask_topk(text_mask, tokenizer, bert_mlm, num_topk)\n",
        "      text_candidates.extend(text_cand)\n",
        "\n",
        "      # TypeError: can't convert cuda:0 device type tensor to numpy. Use Tensor.cpu() to copy the tensor to host memory first.\n",
        "      # を回避するためにscore_candに色々つけた。教科書では、predict_mask_topkの方で、スコアに関する出力にこれをつけてくれている\n",
        "      score_candidates.append(score + score_cand.values.cpu().numpy())\n",
        "\n",
        "    \n",
        "    # それらから上位num_topk個を残す\n",
        "    # hstackは、与えられた複数の配列を全て結合する。つまり１次元配列に直されている\n",
        "    score_candidates = np.hstack(score_candidates)\n",
        "\n",
        "    # np.argsort()は値ではなく並び替えたインデックス（元のndarrayでの位置 = 0始まりの順番）のndarrayを返す\n",
        "    # 昇順ソートなので、[::-1]で逆順にする\n",
        "    # [:num_topk]で上位候補を絞る\n",
        "    index_list = score_candidates.argsort()[::-1][:num_topk]\n",
        "\n",
        "    # 該当候補のtextの配列\n",
        "    text_topk = [text_candidates[idx] for idx in index_list]\n",
        "    # さらに対応するスコア\n",
        "    score_topk = score_candidates[index_list]\n",
        "\n",
        "  return text_topk"
      ],
      "metadata": {
        "id": "aqa5nINskuRm"
      },
      "execution_count": 54,
      "outputs": []
    },
    {
      "cell_type": "code",
      "source": [
        "text = \"今日は[MASK][MASK]へ行く。\"\n",
        "text_topk = beam_search(text, tokenizer, bert_mlm, 10)\n",
        "print(*text_topk, sep='\\n')"
      ],
      "metadata": {
        "colab": {
          "base_uri": "https://localhost:8080/"
        },
        "id": "sifDdbFtzrwi",
        "outputId": "5e16aad2-9209-46cd-b901-72e91352d953"
      },
      "execution_count": 55,
      "outputs": [
        {
          "output_type": "stream",
          "name": "stdout",
          "text": [
            "今日は、東京へ行く。\n",
            "今日は、ハワイへ行く。\n",
            "今日は、学校へ行く。\n",
            "今日は、ニューヨークへ行く。\n",
            "今日は、空港へ行く。\n",
            "今日は、北海道へ行く。\n",
            "今日は、パリへ行く。\n",
            "今日は、アメリカへ行く。\n",
            "今日は、日本へ行く。\n",
            "今日は、病院へ行く。\n"
          ]
        }
      ]
    },
    {
      "cell_type": "code",
      "source": [
        "# ちなみに実験すると\n",
        "# MASKを増やしすぎるとBERTは意味のある文を生成できない。\n",
        "# なぜなら、BERTは事前学習で文章のうちごく一部のトークンをMASKに置き換えて、周りの文脈から予測するタスクしかしていないから\n",
        "\n",
        "print(*beam_search(\"今日は[MASK][MASK][MASK][MASK][MASK]\", tokenizer, bert_mlm, 10), sep='\\n')"
      ],
      "metadata": {
        "colab": {
          "base_uri": "https://localhost:8080/"
        },
        "id": "25i7bWJB1uwU",
        "outputId": "3011fd0f-0e9c-40e0-f70c-a59386b781ce"
      },
      "execution_count": 61,
      "outputs": [
        {
          "output_type": "stream",
          "name": "stdout",
          "text": [
            "今日は社会社会的な地位\n",
            "今日は社会社会的な組織\n",
            "今日は社会社会的なもの\n",
            "今日は社会社会的な活動\n",
            "今日は社会社会的な団体\n",
            "今日は社会社会的な状況\n",
            "今日は社会社会的な概念\n",
            "今日は社会社会的な役割\n",
            "今日は社会社会的な存在\n",
            "今日は社会社会的な意味\n"
          ]
        }
      ]
    }
  ]
}