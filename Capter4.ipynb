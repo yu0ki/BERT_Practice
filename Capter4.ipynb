{
  "nbformat": 4,
  "nbformat_minor": 0,
  "metadata": {
    "colab": {
      "name": "Capter4.ipynb",
      "provenance": [],
      "collapsed_sections": [],
      "authorship_tag": "ABX9TyNmt5vK6c2NDYibeN4wSvVs",
      "include_colab_link": true
    },
    "kernelspec": {
      "name": "python3",
      "display_name": "Python 3"
    },
    "language_info": {
      "name": "python"
    },
    "accelerator": "GPU",
    "gpuClass": "standard",
    "widgets": {
      "application/vnd.jupyter.widget-state+json": {
        "c438daf53487484793ff48b5a9198d0c": {
          "model_module": "@jupyter-widgets/controls",
          "model_name": "HBoxModel",
          "model_module_version": "1.5.0",
          "state": {
            "_dom_classes": [],
            "_model_module": "@jupyter-widgets/controls",
            "_model_module_version": "1.5.0",
            "_model_name": "HBoxModel",
            "_view_count": null,
            "_view_module": "@jupyter-widgets/controls",
            "_view_module_version": "1.5.0",
            "_view_name": "HBoxView",
            "box_style": "",
            "children": [
              "IPY_MODEL_d7479a58b8e94ec7a36df2e748861578",
              "IPY_MODEL_3c1cc94799404e7ab6413cf7b6233d70",
              "IPY_MODEL_707f1c0dccd2437098525aca9e7a3632"
            ],
            "layout": "IPY_MODEL_eca17f4f80cb49628713e8e2d5f53ffe"
          }
        },
        "d7479a58b8e94ec7a36df2e748861578": {
          "model_module": "@jupyter-widgets/controls",
          "model_name": "HTMLModel",
          "model_module_version": "1.5.0",
          "state": {
            "_dom_classes": [],
            "_model_module": "@jupyter-widgets/controls",
            "_model_module_version": "1.5.0",
            "_model_name": "HTMLModel",
            "_view_count": null,
            "_view_module": "@jupyter-widgets/controls",
            "_view_module_version": "1.5.0",
            "_view_name": "HTMLView",
            "description": "",
            "description_tooltip": null,
            "layout": "IPY_MODEL_723a0e1ab01e430e94df46fab4950a9e",
            "placeholder": "​",
            "style": "IPY_MODEL_74e72d44b71543f0952e63393195bba3",
            "value": "Downloading: 100%"
          }
        },
        "3c1cc94799404e7ab6413cf7b6233d70": {
          "model_module": "@jupyter-widgets/controls",
          "model_name": "FloatProgressModel",
          "model_module_version": "1.5.0",
          "state": {
            "_dom_classes": [],
            "_model_module": "@jupyter-widgets/controls",
            "_model_module_version": "1.5.0",
            "_model_name": "FloatProgressModel",
            "_view_count": null,
            "_view_module": "@jupyter-widgets/controls",
            "_view_module_version": "1.5.0",
            "_view_name": "ProgressView",
            "bar_style": "success",
            "description": "",
            "description_tooltip": null,
            "layout": "IPY_MODEL_d19c37dd1dcf4a59acc87fc2388d6737",
            "max": 257706,
            "min": 0,
            "orientation": "horizontal",
            "style": "IPY_MODEL_f30618b00b0a40a5967790287a8e3ee7",
            "value": 257706
          }
        },
        "707f1c0dccd2437098525aca9e7a3632": {
          "model_module": "@jupyter-widgets/controls",
          "model_name": "HTMLModel",
          "model_module_version": "1.5.0",
          "state": {
            "_dom_classes": [],
            "_model_module": "@jupyter-widgets/controls",
            "_model_module_version": "1.5.0",
            "_model_name": "HTMLModel",
            "_view_count": null,
            "_view_module": "@jupyter-widgets/controls",
            "_view_module_version": "1.5.0",
            "_view_name": "HTMLView",
            "description": "",
            "description_tooltip": null,
            "layout": "IPY_MODEL_3fa0b3b146f5452393e5e0ce0c473610",
            "placeholder": "​",
            "style": "IPY_MODEL_cfd48ba096404721ade174e151a55ab6",
            "value": " 258k/258k [00:00&lt;00:00, 903kB/s]"
          }
        },
        "eca17f4f80cb49628713e8e2d5f53ffe": {
          "model_module": "@jupyter-widgets/base",
          "model_name": "LayoutModel",
          "model_module_version": "1.2.0",
          "state": {
            "_model_module": "@jupyter-widgets/base",
            "_model_module_version": "1.2.0",
            "_model_name": "LayoutModel",
            "_view_count": null,
            "_view_module": "@jupyter-widgets/base",
            "_view_module_version": "1.2.0",
            "_view_name": "LayoutView",
            "align_content": null,
            "align_items": null,
            "align_self": null,
            "border": null,
            "bottom": null,
            "display": null,
            "flex": null,
            "flex_flow": null,
            "grid_area": null,
            "grid_auto_columns": null,
            "grid_auto_flow": null,
            "grid_auto_rows": null,
            "grid_column": null,
            "grid_gap": null,
            "grid_row": null,
            "grid_template_areas": null,
            "grid_template_columns": null,
            "grid_template_rows": null,
            "height": null,
            "justify_content": null,
            "justify_items": null,
            "left": null,
            "margin": null,
            "max_height": null,
            "max_width": null,
            "min_height": null,
            "min_width": null,
            "object_fit": null,
            "object_position": null,
            "order": null,
            "overflow": null,
            "overflow_x": null,
            "overflow_y": null,
            "padding": null,
            "right": null,
            "top": null,
            "visibility": null,
            "width": null
          }
        },
        "723a0e1ab01e430e94df46fab4950a9e": {
          "model_module": "@jupyter-widgets/base",
          "model_name": "LayoutModel",
          "model_module_version": "1.2.0",
          "state": {
            "_model_module": "@jupyter-widgets/base",
            "_model_module_version": "1.2.0",
            "_model_name": "LayoutModel",
            "_view_count": null,
            "_view_module": "@jupyter-widgets/base",
            "_view_module_version": "1.2.0",
            "_view_name": "LayoutView",
            "align_content": null,
            "align_items": null,
            "align_self": null,
            "border": null,
            "bottom": null,
            "display": null,
            "flex": null,
            "flex_flow": null,
            "grid_area": null,
            "grid_auto_columns": null,
            "grid_auto_flow": null,
            "grid_auto_rows": null,
            "grid_column": null,
            "grid_gap": null,
            "grid_row": null,
            "grid_template_areas": null,
            "grid_template_columns": null,
            "grid_template_rows": null,
            "height": null,
            "justify_content": null,
            "justify_items": null,
            "left": null,
            "margin": null,
            "max_height": null,
            "max_width": null,
            "min_height": null,
            "min_width": null,
            "object_fit": null,
            "object_position": null,
            "order": null,
            "overflow": null,
            "overflow_x": null,
            "overflow_y": null,
            "padding": null,
            "right": null,
            "top": null,
            "visibility": null,
            "width": null
          }
        },
        "74e72d44b71543f0952e63393195bba3": {
          "model_module": "@jupyter-widgets/controls",
          "model_name": "DescriptionStyleModel",
          "model_module_version": "1.5.0",
          "state": {
            "_model_module": "@jupyter-widgets/controls",
            "_model_module_version": "1.5.0",
            "_model_name": "DescriptionStyleModel",
            "_view_count": null,
            "_view_module": "@jupyter-widgets/base",
            "_view_module_version": "1.2.0",
            "_view_name": "StyleView",
            "description_width": ""
          }
        },
        "d19c37dd1dcf4a59acc87fc2388d6737": {
          "model_module": "@jupyter-widgets/base",
          "model_name": "LayoutModel",
          "model_module_version": "1.2.0",
          "state": {
            "_model_module": "@jupyter-widgets/base",
            "_model_module_version": "1.2.0",
            "_model_name": "LayoutModel",
            "_view_count": null,
            "_view_module": "@jupyter-widgets/base",
            "_view_module_version": "1.2.0",
            "_view_name": "LayoutView",
            "align_content": null,
            "align_items": null,
            "align_self": null,
            "border": null,
            "bottom": null,
            "display": null,
            "flex": null,
            "flex_flow": null,
            "grid_area": null,
            "grid_auto_columns": null,
            "grid_auto_flow": null,
            "grid_auto_rows": null,
            "grid_column": null,
            "grid_gap": null,
            "grid_row": null,
            "grid_template_areas": null,
            "grid_template_columns": null,
            "grid_template_rows": null,
            "height": null,
            "justify_content": null,
            "justify_items": null,
            "left": null,
            "margin": null,
            "max_height": null,
            "max_width": null,
            "min_height": null,
            "min_width": null,
            "object_fit": null,
            "object_position": null,
            "order": null,
            "overflow": null,
            "overflow_x": null,
            "overflow_y": null,
            "padding": null,
            "right": null,
            "top": null,
            "visibility": null,
            "width": null
          }
        },
        "f30618b00b0a40a5967790287a8e3ee7": {
          "model_module": "@jupyter-widgets/controls",
          "model_name": "ProgressStyleModel",
          "model_module_version": "1.5.0",
          "state": {
            "_model_module": "@jupyter-widgets/controls",
            "_model_module_version": "1.5.0",
            "_model_name": "ProgressStyleModel",
            "_view_count": null,
            "_view_module": "@jupyter-widgets/base",
            "_view_module_version": "1.2.0",
            "_view_name": "StyleView",
            "bar_color": null,
            "description_width": ""
          }
        },
        "3fa0b3b146f5452393e5e0ce0c473610": {
          "model_module": "@jupyter-widgets/base",
          "model_name": "LayoutModel",
          "model_module_version": "1.2.0",
          "state": {
            "_model_module": "@jupyter-widgets/base",
            "_model_module_version": "1.2.0",
            "_model_name": "LayoutModel",
            "_view_count": null,
            "_view_module": "@jupyter-widgets/base",
            "_view_module_version": "1.2.0",
            "_view_name": "LayoutView",
            "align_content": null,
            "align_items": null,
            "align_self": null,
            "border": null,
            "bottom": null,
            "display": null,
            "flex": null,
            "flex_flow": null,
            "grid_area": null,
            "grid_auto_columns": null,
            "grid_auto_flow": null,
            "grid_auto_rows": null,
            "grid_column": null,
            "grid_gap": null,
            "grid_row": null,
            "grid_template_areas": null,
            "grid_template_columns": null,
            "grid_template_rows": null,
            "height": null,
            "justify_content": null,
            "justify_items": null,
            "left": null,
            "margin": null,
            "max_height": null,
            "max_width": null,
            "min_height": null,
            "min_width": null,
            "object_fit": null,
            "object_position": null,
            "order": null,
            "overflow": null,
            "overflow_x": null,
            "overflow_y": null,
            "padding": null,
            "right": null,
            "top": null,
            "visibility": null,
            "width": null
          }
        },
        "cfd48ba096404721ade174e151a55ab6": {
          "model_module": "@jupyter-widgets/controls",
          "model_name": "DescriptionStyleModel",
          "model_module_version": "1.5.0",
          "state": {
            "_model_module": "@jupyter-widgets/controls",
            "_model_module_version": "1.5.0",
            "_model_name": "DescriptionStyleModel",
            "_view_count": null,
            "_view_module": "@jupyter-widgets/base",
            "_view_module_version": "1.2.0",
            "_view_name": "StyleView",
            "description_width": ""
          }
        },
        "f950ecf7b194478d80a82ef046d0c09d": {
          "model_module": "@jupyter-widgets/controls",
          "model_name": "HBoxModel",
          "model_module_version": "1.5.0",
          "state": {
            "_dom_classes": [],
            "_model_module": "@jupyter-widgets/controls",
            "_model_module_version": "1.5.0",
            "_model_name": "HBoxModel",
            "_view_count": null,
            "_view_module": "@jupyter-widgets/controls",
            "_view_module_version": "1.5.0",
            "_view_name": "HBoxView",
            "box_style": "",
            "children": [
              "IPY_MODEL_63c7546c166f4b82a45998d6e8e9cc4e",
              "IPY_MODEL_e7721a5103bb45ebb80897adca061020",
              "IPY_MODEL_a4130b65bfbd417ab0464f85b3626a57"
            ],
            "layout": "IPY_MODEL_8c0acda325e04971a4025456efc416da"
          }
        },
        "63c7546c166f4b82a45998d6e8e9cc4e": {
          "model_module": "@jupyter-widgets/controls",
          "model_name": "HTMLModel",
          "model_module_version": "1.5.0",
          "state": {
            "_dom_classes": [],
            "_model_module": "@jupyter-widgets/controls",
            "_model_module_version": "1.5.0",
            "_model_name": "HTMLModel",
            "_view_count": null,
            "_view_module": "@jupyter-widgets/controls",
            "_view_module_version": "1.5.0",
            "_view_name": "HTMLView",
            "description": "",
            "description_tooltip": null,
            "layout": "IPY_MODEL_3cf52d506fc44e22ac4a29d93f0fb8a6",
            "placeholder": "​",
            "style": "IPY_MODEL_570c5ea62dd445ffad23e6db48435a00",
            "value": "Downloading: 100%"
          }
        },
        "e7721a5103bb45ebb80897adca061020": {
          "model_module": "@jupyter-widgets/controls",
          "model_name": "FloatProgressModel",
          "model_module_version": "1.5.0",
          "state": {
            "_dom_classes": [],
            "_model_module": "@jupyter-widgets/controls",
            "_model_module_version": "1.5.0",
            "_model_name": "FloatProgressModel",
            "_view_count": null,
            "_view_module": "@jupyter-widgets/controls",
            "_view_module_version": "1.5.0",
            "_view_name": "ProgressView",
            "bar_style": "success",
            "description": "",
            "description_tooltip": null,
            "layout": "IPY_MODEL_40e50ba306194da1a066d916bf4a7c41",
            "max": 110,
            "min": 0,
            "orientation": "horizontal",
            "style": "IPY_MODEL_2efe709fa0744d878ed4979399c2abf1",
            "value": 110
          }
        },
        "a4130b65bfbd417ab0464f85b3626a57": {
          "model_module": "@jupyter-widgets/controls",
          "model_name": "HTMLModel",
          "model_module_version": "1.5.0",
          "state": {
            "_dom_classes": [],
            "_model_module": "@jupyter-widgets/controls",
            "_model_module_version": "1.5.0",
            "_model_name": "HTMLModel",
            "_view_count": null,
            "_view_module": "@jupyter-widgets/controls",
            "_view_module_version": "1.5.0",
            "_view_name": "HTMLView",
            "description": "",
            "description_tooltip": null,
            "layout": "IPY_MODEL_e9b8d52f51224ef598634b00f8a126c9",
            "placeholder": "​",
            "style": "IPY_MODEL_83a7ede8bb8d4753a498dd48fbbced08",
            "value": " 110/110 [00:00&lt;00:00, 3.40kB/s]"
          }
        },
        "8c0acda325e04971a4025456efc416da": {
          "model_module": "@jupyter-widgets/base",
          "model_name": "LayoutModel",
          "model_module_version": "1.2.0",
          "state": {
            "_model_module": "@jupyter-widgets/base",
            "_model_module_version": "1.2.0",
            "_model_name": "LayoutModel",
            "_view_count": null,
            "_view_module": "@jupyter-widgets/base",
            "_view_module_version": "1.2.0",
            "_view_name": "LayoutView",
            "align_content": null,
            "align_items": null,
            "align_self": null,
            "border": null,
            "bottom": null,
            "display": null,
            "flex": null,
            "flex_flow": null,
            "grid_area": null,
            "grid_auto_columns": null,
            "grid_auto_flow": null,
            "grid_auto_rows": null,
            "grid_column": null,
            "grid_gap": null,
            "grid_row": null,
            "grid_template_areas": null,
            "grid_template_columns": null,
            "grid_template_rows": null,
            "height": null,
            "justify_content": null,
            "justify_items": null,
            "left": null,
            "margin": null,
            "max_height": null,
            "max_width": null,
            "min_height": null,
            "min_width": null,
            "object_fit": null,
            "object_position": null,
            "order": null,
            "overflow": null,
            "overflow_x": null,
            "overflow_y": null,
            "padding": null,
            "right": null,
            "top": null,
            "visibility": null,
            "width": null
          }
        },
        "3cf52d506fc44e22ac4a29d93f0fb8a6": {
          "model_module": "@jupyter-widgets/base",
          "model_name": "LayoutModel",
          "model_module_version": "1.2.0",
          "state": {
            "_model_module": "@jupyter-widgets/base",
            "_model_module_version": "1.2.0",
            "_model_name": "LayoutModel",
            "_view_count": null,
            "_view_module": "@jupyter-widgets/base",
            "_view_module_version": "1.2.0",
            "_view_name": "LayoutView",
            "align_content": null,
            "align_items": null,
            "align_self": null,
            "border": null,
            "bottom": null,
            "display": null,
            "flex": null,
            "flex_flow": null,
            "grid_area": null,
            "grid_auto_columns": null,
            "grid_auto_flow": null,
            "grid_auto_rows": null,
            "grid_column": null,
            "grid_gap": null,
            "grid_row": null,
            "grid_template_areas": null,
            "grid_template_columns": null,
            "grid_template_rows": null,
            "height": null,
            "justify_content": null,
            "justify_items": null,
            "left": null,
            "margin": null,
            "max_height": null,
            "max_width": null,
            "min_height": null,
            "min_width": null,
            "object_fit": null,
            "object_position": null,
            "order": null,
            "overflow": null,
            "overflow_x": null,
            "overflow_y": null,
            "padding": null,
            "right": null,
            "top": null,
            "visibility": null,
            "width": null
          }
        },
        "570c5ea62dd445ffad23e6db48435a00": {
          "model_module": "@jupyter-widgets/controls",
          "model_name": "DescriptionStyleModel",
          "model_module_version": "1.5.0",
          "state": {
            "_model_module": "@jupyter-widgets/controls",
            "_model_module_version": "1.5.0",
            "_model_name": "DescriptionStyleModel",
            "_view_count": null,
            "_view_module": "@jupyter-widgets/base",
            "_view_module_version": "1.2.0",
            "_view_name": "StyleView",
            "description_width": ""
          }
        },
        "40e50ba306194da1a066d916bf4a7c41": {
          "model_module": "@jupyter-widgets/base",
          "model_name": "LayoutModel",
          "model_module_version": "1.2.0",
          "state": {
            "_model_module": "@jupyter-widgets/base",
            "_model_module_version": "1.2.0",
            "_model_name": "LayoutModel",
            "_view_count": null,
            "_view_module": "@jupyter-widgets/base",
            "_view_module_version": "1.2.0",
            "_view_name": "LayoutView",
            "align_content": null,
            "align_items": null,
            "align_self": null,
            "border": null,
            "bottom": null,
            "display": null,
            "flex": null,
            "flex_flow": null,
            "grid_area": null,
            "grid_auto_columns": null,
            "grid_auto_flow": null,
            "grid_auto_rows": null,
            "grid_column": null,
            "grid_gap": null,
            "grid_row": null,
            "grid_template_areas": null,
            "grid_template_columns": null,
            "grid_template_rows": null,
            "height": null,
            "justify_content": null,
            "justify_items": null,
            "left": null,
            "margin": null,
            "max_height": null,
            "max_width": null,
            "min_height": null,
            "min_width": null,
            "object_fit": null,
            "object_position": null,
            "order": null,
            "overflow": null,
            "overflow_x": null,
            "overflow_y": null,
            "padding": null,
            "right": null,
            "top": null,
            "visibility": null,
            "width": null
          }
        },
        "2efe709fa0744d878ed4979399c2abf1": {
          "model_module": "@jupyter-widgets/controls",
          "model_name": "ProgressStyleModel",
          "model_module_version": "1.5.0",
          "state": {
            "_model_module": "@jupyter-widgets/controls",
            "_model_module_version": "1.5.0",
            "_model_name": "ProgressStyleModel",
            "_view_count": null,
            "_view_module": "@jupyter-widgets/base",
            "_view_module_version": "1.2.0",
            "_view_name": "StyleView",
            "bar_color": null,
            "description_width": ""
          }
        },
        "e9b8d52f51224ef598634b00f8a126c9": {
          "model_module": "@jupyter-widgets/base",
          "model_name": "LayoutModel",
          "model_module_version": "1.2.0",
          "state": {
            "_model_module": "@jupyter-widgets/base",
            "_model_module_version": "1.2.0",
            "_model_name": "LayoutModel",
            "_view_count": null,
            "_view_module": "@jupyter-widgets/base",
            "_view_module_version": "1.2.0",
            "_view_name": "LayoutView",
            "align_content": null,
            "align_items": null,
            "align_self": null,
            "border": null,
            "bottom": null,
            "display": null,
            "flex": null,
            "flex_flow": null,
            "grid_area": null,
            "grid_auto_columns": null,
            "grid_auto_flow": null,
            "grid_auto_rows": null,
            "grid_column": null,
            "grid_gap": null,
            "grid_row": null,
            "grid_template_areas": null,
            "grid_template_columns": null,
            "grid_template_rows": null,
            "height": null,
            "justify_content": null,
            "justify_items": null,
            "left": null,
            "margin": null,
            "max_height": null,
            "max_width": null,
            "min_height": null,
            "min_width": null,
            "object_fit": null,
            "object_position": null,
            "order": null,
            "overflow": null,
            "overflow_x": null,
            "overflow_y": null,
            "padding": null,
            "right": null,
            "top": null,
            "visibility": null,
            "width": null
          }
        },
        "83a7ede8bb8d4753a498dd48fbbced08": {
          "model_module": "@jupyter-widgets/controls",
          "model_name": "DescriptionStyleModel",
          "model_module_version": "1.5.0",
          "state": {
            "_model_module": "@jupyter-widgets/controls",
            "_model_module_version": "1.5.0",
            "_model_name": "DescriptionStyleModel",
            "_view_count": null,
            "_view_module": "@jupyter-widgets/base",
            "_view_module_version": "1.2.0",
            "_view_name": "StyleView",
            "description_width": ""
          }
        },
        "e0c620c6eefb4ccbb4c4015db390f2e8": {
          "model_module": "@jupyter-widgets/controls",
          "model_name": "HBoxModel",
          "model_module_version": "1.5.0",
          "state": {
            "_dom_classes": [],
            "_model_module": "@jupyter-widgets/controls",
            "_model_module_version": "1.5.0",
            "_model_name": "HBoxModel",
            "_view_count": null,
            "_view_module": "@jupyter-widgets/controls",
            "_view_module_version": "1.5.0",
            "_view_name": "HBoxView",
            "box_style": "",
            "children": [
              "IPY_MODEL_44321d5401554158b022166e05b0b3e8",
              "IPY_MODEL_0160eeca114049ebb9638197f210fca9",
              "IPY_MODEL_a14bcf4487214e309c285c5b4b275e3f"
            ],
            "layout": "IPY_MODEL_9f757f75a7f84877a346092b7f5feead"
          }
        },
        "44321d5401554158b022166e05b0b3e8": {
          "model_module": "@jupyter-widgets/controls",
          "model_name": "HTMLModel",
          "model_module_version": "1.5.0",
          "state": {
            "_dom_classes": [],
            "_model_module": "@jupyter-widgets/controls",
            "_model_module_version": "1.5.0",
            "_model_name": "HTMLModel",
            "_view_count": null,
            "_view_module": "@jupyter-widgets/controls",
            "_view_module_version": "1.5.0",
            "_view_name": "HTMLView",
            "description": "",
            "description_tooltip": null,
            "layout": "IPY_MODEL_87c58c1ef02843e2ace04bd55b654fb0",
            "placeholder": "​",
            "style": "IPY_MODEL_f276ccd1274144b296c7fac1ed11fae8",
            "value": "Downloading: 100%"
          }
        },
        "0160eeca114049ebb9638197f210fca9": {
          "model_module": "@jupyter-widgets/controls",
          "model_name": "FloatProgressModel",
          "model_module_version": "1.5.0",
          "state": {
            "_dom_classes": [],
            "_model_module": "@jupyter-widgets/controls",
            "_model_module_version": "1.5.0",
            "_model_name": "FloatProgressModel",
            "_view_count": null,
            "_view_module": "@jupyter-widgets/controls",
            "_view_module_version": "1.5.0",
            "_view_name": "ProgressView",
            "bar_style": "success",
            "description": "",
            "description_tooltip": null,
            "layout": "IPY_MODEL_fc80d56af5e7497b90bb8eba7f9bf7c3",
            "max": 479,
            "min": 0,
            "orientation": "horizontal",
            "style": "IPY_MODEL_b1394ca1310c476fad15ddc2bca8f377",
            "value": 479
          }
        },
        "a14bcf4487214e309c285c5b4b275e3f": {
          "model_module": "@jupyter-widgets/controls",
          "model_name": "HTMLModel",
          "model_module_version": "1.5.0",
          "state": {
            "_dom_classes": [],
            "_model_module": "@jupyter-widgets/controls",
            "_model_module_version": "1.5.0",
            "_model_name": "HTMLModel",
            "_view_count": null,
            "_view_module": "@jupyter-widgets/controls",
            "_view_module_version": "1.5.0",
            "_view_name": "HTMLView",
            "description": "",
            "description_tooltip": null,
            "layout": "IPY_MODEL_75d629798cc046fabcc486abbbc83d56",
            "placeholder": "​",
            "style": "IPY_MODEL_c4ae31946e57450e8c01bab733b156e6",
            "value": " 479/479 [00:00&lt;00:00, 14.6kB/s]"
          }
        },
        "9f757f75a7f84877a346092b7f5feead": {
          "model_module": "@jupyter-widgets/base",
          "model_name": "LayoutModel",
          "model_module_version": "1.2.0",
          "state": {
            "_model_module": "@jupyter-widgets/base",
            "_model_module_version": "1.2.0",
            "_model_name": "LayoutModel",
            "_view_count": null,
            "_view_module": "@jupyter-widgets/base",
            "_view_module_version": "1.2.0",
            "_view_name": "LayoutView",
            "align_content": null,
            "align_items": null,
            "align_self": null,
            "border": null,
            "bottom": null,
            "display": null,
            "flex": null,
            "flex_flow": null,
            "grid_area": null,
            "grid_auto_columns": null,
            "grid_auto_flow": null,
            "grid_auto_rows": null,
            "grid_column": null,
            "grid_gap": null,
            "grid_row": null,
            "grid_template_areas": null,
            "grid_template_columns": null,
            "grid_template_rows": null,
            "height": null,
            "justify_content": null,
            "justify_items": null,
            "left": null,
            "margin": null,
            "max_height": null,
            "max_width": null,
            "min_height": null,
            "min_width": null,
            "object_fit": null,
            "object_position": null,
            "order": null,
            "overflow": null,
            "overflow_x": null,
            "overflow_y": null,
            "padding": null,
            "right": null,
            "top": null,
            "visibility": null,
            "width": null
          }
        },
        "87c58c1ef02843e2ace04bd55b654fb0": {
          "model_module": "@jupyter-widgets/base",
          "model_name": "LayoutModel",
          "model_module_version": "1.2.0",
          "state": {
            "_model_module": "@jupyter-widgets/base",
            "_model_module_version": "1.2.0",
            "_model_name": "LayoutModel",
            "_view_count": null,
            "_view_module": "@jupyter-widgets/base",
            "_view_module_version": "1.2.0",
            "_view_name": "LayoutView",
            "align_content": null,
            "align_items": null,
            "align_self": null,
            "border": null,
            "bottom": null,
            "display": null,
            "flex": null,
            "flex_flow": null,
            "grid_area": null,
            "grid_auto_columns": null,
            "grid_auto_flow": null,
            "grid_auto_rows": null,
            "grid_column": null,
            "grid_gap": null,
            "grid_row": null,
            "grid_template_areas": null,
            "grid_template_columns": null,
            "grid_template_rows": null,
            "height": null,
            "justify_content": null,
            "justify_items": null,
            "left": null,
            "margin": null,
            "max_height": null,
            "max_width": null,
            "min_height": null,
            "min_width": null,
            "object_fit": null,
            "object_position": null,
            "order": null,
            "overflow": null,
            "overflow_x": null,
            "overflow_y": null,
            "padding": null,
            "right": null,
            "top": null,
            "visibility": null,
            "width": null
          }
        },
        "f276ccd1274144b296c7fac1ed11fae8": {
          "model_module": "@jupyter-widgets/controls",
          "model_name": "DescriptionStyleModel",
          "model_module_version": "1.5.0",
          "state": {
            "_model_module": "@jupyter-widgets/controls",
            "_model_module_version": "1.5.0",
            "_model_name": "DescriptionStyleModel",
            "_view_count": null,
            "_view_module": "@jupyter-widgets/base",
            "_view_module_version": "1.2.0",
            "_view_name": "StyleView",
            "description_width": ""
          }
        },
        "fc80d56af5e7497b90bb8eba7f9bf7c3": {
          "model_module": "@jupyter-widgets/base",
          "model_name": "LayoutModel",
          "model_module_version": "1.2.0",
          "state": {
            "_model_module": "@jupyter-widgets/base",
            "_model_module_version": "1.2.0",
            "_model_name": "LayoutModel",
            "_view_count": null,
            "_view_module": "@jupyter-widgets/base",
            "_view_module_version": "1.2.0",
            "_view_name": "LayoutView",
            "align_content": null,
            "align_items": null,
            "align_self": null,
            "border": null,
            "bottom": null,
            "display": null,
            "flex": null,
            "flex_flow": null,
            "grid_area": null,
            "grid_auto_columns": null,
            "grid_auto_flow": null,
            "grid_auto_rows": null,
            "grid_column": null,
            "grid_gap": null,
            "grid_row": null,
            "grid_template_areas": null,
            "grid_template_columns": null,
            "grid_template_rows": null,
            "height": null,
            "justify_content": null,
            "justify_items": null,
            "left": null,
            "margin": null,
            "max_height": null,
            "max_width": null,
            "min_height": null,
            "min_width": null,
            "object_fit": null,
            "object_position": null,
            "order": null,
            "overflow": null,
            "overflow_x": null,
            "overflow_y": null,
            "padding": null,
            "right": null,
            "top": null,
            "visibility": null,
            "width": null
          }
        },
        "b1394ca1310c476fad15ddc2bca8f377": {
          "model_module": "@jupyter-widgets/controls",
          "model_name": "ProgressStyleModel",
          "model_module_version": "1.5.0",
          "state": {
            "_model_module": "@jupyter-widgets/controls",
            "_model_module_version": "1.5.0",
            "_model_name": "ProgressStyleModel",
            "_view_count": null,
            "_view_module": "@jupyter-widgets/base",
            "_view_module_version": "1.2.0",
            "_view_name": "StyleView",
            "bar_color": null,
            "description_width": ""
          }
        },
        "75d629798cc046fabcc486abbbc83d56": {
          "model_module": "@jupyter-widgets/base",
          "model_name": "LayoutModel",
          "model_module_version": "1.2.0",
          "state": {
            "_model_module": "@jupyter-widgets/base",
            "_model_module_version": "1.2.0",
            "_model_name": "LayoutModel",
            "_view_count": null,
            "_view_module": "@jupyter-widgets/base",
            "_view_module_version": "1.2.0",
            "_view_name": "LayoutView",
            "align_content": null,
            "align_items": null,
            "align_self": null,
            "border": null,
            "bottom": null,
            "display": null,
            "flex": null,
            "flex_flow": null,
            "grid_area": null,
            "grid_auto_columns": null,
            "grid_auto_flow": null,
            "grid_auto_rows": null,
            "grid_column": null,
            "grid_gap": null,
            "grid_row": null,
            "grid_template_areas": null,
            "grid_template_columns": null,
            "grid_template_rows": null,
            "height": null,
            "justify_content": null,
            "justify_items": null,
            "left": null,
            "margin": null,
            "max_height": null,
            "max_width": null,
            "min_height": null,
            "min_width": null,
            "object_fit": null,
            "object_position": null,
            "order": null,
            "overflow": null,
            "overflow_x": null,
            "overflow_y": null,
            "padding": null,
            "right": null,
            "top": null,
            "visibility": null,
            "width": null
          }
        },
        "c4ae31946e57450e8c01bab733b156e6": {
          "model_module": "@jupyter-widgets/controls",
          "model_name": "DescriptionStyleModel",
          "model_module_version": "1.5.0",
          "state": {
            "_model_module": "@jupyter-widgets/controls",
            "_model_module_version": "1.5.0",
            "_model_name": "DescriptionStyleModel",
            "_view_count": null,
            "_view_module": "@jupyter-widgets/base",
            "_view_module_version": "1.2.0",
            "_view_name": "StyleView",
            "description_width": ""
          }
        },
        "cff4abc324aa48c1b020aadb967c5405": {
          "model_module": "@jupyter-widgets/controls",
          "model_name": "HBoxModel",
          "model_module_version": "1.5.0",
          "state": {
            "_dom_classes": [],
            "_model_module": "@jupyter-widgets/controls",
            "_model_module_version": "1.5.0",
            "_model_name": "HBoxModel",
            "_view_count": null,
            "_view_module": "@jupyter-widgets/controls",
            "_view_module_version": "1.5.0",
            "_view_name": "HBoxView",
            "box_style": "",
            "children": [
              "IPY_MODEL_a1c3f9db218c404ca7f9c99d01798389",
              "IPY_MODEL_b1982b4fbdbe4a33bb05f4eeb5c7ad86",
              "IPY_MODEL_74fa656cea3d4def90ed0f1e8eda8743"
            ],
            "layout": "IPY_MODEL_4e16794a22384afebfbf85454385333c"
          }
        },
        "a1c3f9db218c404ca7f9c99d01798389": {
          "model_module": "@jupyter-widgets/controls",
          "model_name": "HTMLModel",
          "model_module_version": "1.5.0",
          "state": {
            "_dom_classes": [],
            "_model_module": "@jupyter-widgets/controls",
            "_model_module_version": "1.5.0",
            "_model_name": "HTMLModel",
            "_view_count": null,
            "_view_module": "@jupyter-widgets/controls",
            "_view_module_version": "1.5.0",
            "_view_name": "HTMLView",
            "description": "",
            "description_tooltip": null,
            "layout": "IPY_MODEL_ae3f943c063b4d4ea1372efe279c9c70",
            "placeholder": "​",
            "style": "IPY_MODEL_fd6e9edcfa26425a8af154ce86527895",
            "value": "Downloading: 100%"
          }
        },
        "b1982b4fbdbe4a33bb05f4eeb5c7ad86": {
          "model_module": "@jupyter-widgets/controls",
          "model_name": "FloatProgressModel",
          "model_module_version": "1.5.0",
          "state": {
            "_dom_classes": [],
            "_model_module": "@jupyter-widgets/controls",
            "_model_module_version": "1.5.0",
            "_model_name": "FloatProgressModel",
            "_view_count": null,
            "_view_module": "@jupyter-widgets/controls",
            "_view_module_version": "1.5.0",
            "_view_name": "ProgressView",
            "bar_style": "success",
            "description": "",
            "description_tooltip": null,
            "layout": "IPY_MODEL_924a49f90d044a63883503379ea72360",
            "max": 445021143,
            "min": 0,
            "orientation": "horizontal",
            "style": "IPY_MODEL_543ac4b365d74c26b0e5084fd126f373",
            "value": 445021143
          }
        },
        "74fa656cea3d4def90ed0f1e8eda8743": {
          "model_module": "@jupyter-widgets/controls",
          "model_name": "HTMLModel",
          "model_module_version": "1.5.0",
          "state": {
            "_dom_classes": [],
            "_model_module": "@jupyter-widgets/controls",
            "_model_module_version": "1.5.0",
            "_model_name": "HTMLModel",
            "_view_count": null,
            "_view_module": "@jupyter-widgets/controls",
            "_view_module_version": "1.5.0",
            "_view_name": "HTMLView",
            "description": "",
            "description_tooltip": null,
            "layout": "IPY_MODEL_8673c94957044814b55c7a74d60a7cd2",
            "placeholder": "​",
            "style": "IPY_MODEL_7489b375decf467ab6eea1b1eed7fee5",
            "value": " 445M/445M [00:13&lt;00:00, 20.6MB/s]"
          }
        },
        "4e16794a22384afebfbf85454385333c": {
          "model_module": "@jupyter-widgets/base",
          "model_name": "LayoutModel",
          "model_module_version": "1.2.0",
          "state": {
            "_model_module": "@jupyter-widgets/base",
            "_model_module_version": "1.2.0",
            "_model_name": "LayoutModel",
            "_view_count": null,
            "_view_module": "@jupyter-widgets/base",
            "_view_module_version": "1.2.0",
            "_view_name": "LayoutView",
            "align_content": null,
            "align_items": null,
            "align_self": null,
            "border": null,
            "bottom": null,
            "display": null,
            "flex": null,
            "flex_flow": null,
            "grid_area": null,
            "grid_auto_columns": null,
            "grid_auto_flow": null,
            "grid_auto_rows": null,
            "grid_column": null,
            "grid_gap": null,
            "grid_row": null,
            "grid_template_areas": null,
            "grid_template_columns": null,
            "grid_template_rows": null,
            "height": null,
            "justify_content": null,
            "justify_items": null,
            "left": null,
            "margin": null,
            "max_height": null,
            "max_width": null,
            "min_height": null,
            "min_width": null,
            "object_fit": null,
            "object_position": null,
            "order": null,
            "overflow": null,
            "overflow_x": null,
            "overflow_y": null,
            "padding": null,
            "right": null,
            "top": null,
            "visibility": null,
            "width": null
          }
        },
        "ae3f943c063b4d4ea1372efe279c9c70": {
          "model_module": "@jupyter-widgets/base",
          "model_name": "LayoutModel",
          "model_module_version": "1.2.0",
          "state": {
            "_model_module": "@jupyter-widgets/base",
            "_model_module_version": "1.2.0",
            "_model_name": "LayoutModel",
            "_view_count": null,
            "_view_module": "@jupyter-widgets/base",
            "_view_module_version": "1.2.0",
            "_view_name": "LayoutView",
            "align_content": null,
            "align_items": null,
            "align_self": null,
            "border": null,
            "bottom": null,
            "display": null,
            "flex": null,
            "flex_flow": null,
            "grid_area": null,
            "grid_auto_columns": null,
            "grid_auto_flow": null,
            "grid_auto_rows": null,
            "grid_column": null,
            "grid_gap": null,
            "grid_row": null,
            "grid_template_areas": null,
            "grid_template_columns": null,
            "grid_template_rows": null,
            "height": null,
            "justify_content": null,
            "justify_items": null,
            "left": null,
            "margin": null,
            "max_height": null,
            "max_width": null,
            "min_height": null,
            "min_width": null,
            "object_fit": null,
            "object_position": null,
            "order": null,
            "overflow": null,
            "overflow_x": null,
            "overflow_y": null,
            "padding": null,
            "right": null,
            "top": null,
            "visibility": null,
            "width": null
          }
        },
        "fd6e9edcfa26425a8af154ce86527895": {
          "model_module": "@jupyter-widgets/controls",
          "model_name": "DescriptionStyleModel",
          "model_module_version": "1.5.0",
          "state": {
            "_model_module": "@jupyter-widgets/controls",
            "_model_module_version": "1.5.0",
            "_model_name": "DescriptionStyleModel",
            "_view_count": null,
            "_view_module": "@jupyter-widgets/base",
            "_view_module_version": "1.2.0",
            "_view_name": "StyleView",
            "description_width": ""
          }
        },
        "924a49f90d044a63883503379ea72360": {
          "model_module": "@jupyter-widgets/base",
          "model_name": "LayoutModel",
          "model_module_version": "1.2.0",
          "state": {
            "_model_module": "@jupyter-widgets/base",
            "_model_module_version": "1.2.0",
            "_model_name": "LayoutModel",
            "_view_count": null,
            "_view_module": "@jupyter-widgets/base",
            "_view_module_version": "1.2.0",
            "_view_name": "LayoutView",
            "align_content": null,
            "align_items": null,
            "align_self": null,
            "border": null,
            "bottom": null,
            "display": null,
            "flex": null,
            "flex_flow": null,
            "grid_area": null,
            "grid_auto_columns": null,
            "grid_auto_flow": null,
            "grid_auto_rows": null,
            "grid_column": null,
            "grid_gap": null,
            "grid_row": null,
            "grid_template_areas": null,
            "grid_template_columns": null,
            "grid_template_rows": null,
            "height": null,
            "justify_content": null,
            "justify_items": null,
            "left": null,
            "margin": null,
            "max_height": null,
            "max_width": null,
            "min_height": null,
            "min_width": null,
            "object_fit": null,
            "object_position": null,
            "order": null,
            "overflow": null,
            "overflow_x": null,
            "overflow_y": null,
            "padding": null,
            "right": null,
            "top": null,
            "visibility": null,
            "width": null
          }
        },
        "543ac4b365d74c26b0e5084fd126f373": {
          "model_module": "@jupyter-widgets/controls",
          "model_name": "ProgressStyleModel",
          "model_module_version": "1.5.0",
          "state": {
            "_model_module": "@jupyter-widgets/controls",
            "_model_module_version": "1.5.0",
            "_model_name": "ProgressStyleModel",
            "_view_count": null,
            "_view_module": "@jupyter-widgets/base",
            "_view_module_version": "1.2.0",
            "_view_name": "StyleView",
            "bar_color": null,
            "description_width": ""
          }
        },
        "8673c94957044814b55c7a74d60a7cd2": {
          "model_module": "@jupyter-widgets/base",
          "model_name": "LayoutModel",
          "model_module_version": "1.2.0",
          "state": {
            "_model_module": "@jupyter-widgets/base",
            "_model_module_version": "1.2.0",
            "_model_name": "LayoutModel",
            "_view_count": null,
            "_view_module": "@jupyter-widgets/base",
            "_view_module_version": "1.2.0",
            "_view_name": "LayoutView",
            "align_content": null,
            "align_items": null,
            "align_self": null,
            "border": null,
            "bottom": null,
            "display": null,
            "flex": null,
            "flex_flow": null,
            "grid_area": null,
            "grid_auto_columns": null,
            "grid_auto_flow": null,
            "grid_auto_rows": null,
            "grid_column": null,
            "grid_gap": null,
            "grid_row": null,
            "grid_template_areas": null,
            "grid_template_columns": null,
            "grid_template_rows": null,
            "height": null,
            "justify_content": null,
            "justify_items": null,
            "left": null,
            "margin": null,
            "max_height": null,
            "max_width": null,
            "min_height": null,
            "min_width": null,
            "object_fit": null,
            "object_position": null,
            "order": null,
            "overflow": null,
            "overflow_x": null,
            "overflow_y": null,
            "padding": null,
            "right": null,
            "top": null,
            "visibility": null,
            "width": null
          }
        },
        "7489b375decf467ab6eea1b1eed7fee5": {
          "model_module": "@jupyter-widgets/controls",
          "model_name": "DescriptionStyleModel",
          "model_module_version": "1.5.0",
          "state": {
            "_model_module": "@jupyter-widgets/controls",
            "_model_module_version": "1.5.0",
            "_model_name": "DescriptionStyleModel",
            "_view_count": null,
            "_view_module": "@jupyter-widgets/base",
            "_view_module_version": "1.2.0",
            "_view_name": "StyleView",
            "description_width": ""
          }
        }
      }
    }
  },
  "cells": [
    {
      "cell_type": "markdown",
      "metadata": {
        "id": "view-in-github",
        "colab_type": "text"
      },
      "source": [
        "<a href=\"https://colab.research.google.com/github/yu0ki/BERT_Practice/blob/main/Capter4.ipynb\" target=\"_parent\"><img src=\"https://colab.research.google.com/assets/colab-badge.svg\" alt=\"Open In Colab\"/></a>"
      ]
    },
    {
      "cell_type": "code",
      "execution_count": 2,
      "metadata": {
        "colab": {
          "base_uri": "https://localhost:8080/",
          "height": 887,
          "referenced_widgets": [
            "c438daf53487484793ff48b5a9198d0c",
            "d7479a58b8e94ec7a36df2e748861578",
            "3c1cc94799404e7ab6413cf7b6233d70",
            "707f1c0dccd2437098525aca9e7a3632",
            "eca17f4f80cb49628713e8e2d5f53ffe",
            "723a0e1ab01e430e94df46fab4950a9e",
            "74e72d44b71543f0952e63393195bba3",
            "d19c37dd1dcf4a59acc87fc2388d6737",
            "f30618b00b0a40a5967790287a8e3ee7",
            "3fa0b3b146f5452393e5e0ce0c473610",
            "cfd48ba096404721ade174e151a55ab6",
            "f950ecf7b194478d80a82ef046d0c09d",
            "63c7546c166f4b82a45998d6e8e9cc4e",
            "e7721a5103bb45ebb80897adca061020",
            "a4130b65bfbd417ab0464f85b3626a57",
            "8c0acda325e04971a4025456efc416da",
            "3cf52d506fc44e22ac4a29d93f0fb8a6",
            "570c5ea62dd445ffad23e6db48435a00",
            "40e50ba306194da1a066d916bf4a7c41",
            "2efe709fa0744d878ed4979399c2abf1",
            "e9b8d52f51224ef598634b00f8a126c9",
            "83a7ede8bb8d4753a498dd48fbbced08"
          ]
        },
        "id": "DyC1syCrk2OQ",
        "outputId": "f5b118e8-93c2-4a04-a6f9-ff70a7a99086"
      },
      "outputs": [
        {
          "output_type": "stream",
          "name": "stdout",
          "text": [
            "Looking in indexes: https://pypi.org/simple, https://us-python.pkg.dev/colab-wheels/public/simple/\n",
            "Collecting transformers==4.5.0\n",
            "  Downloading transformers-4.5.0-py3-none-any.whl (2.1 MB)\n",
            "\u001b[K     |████████████████████████████████| 2.1 MB 8.2 MB/s \n",
            "\u001b[?25hCollecting fugashi==1.1.0\n",
            "  Downloading fugashi-1.1.0-cp37-cp37m-manylinux1_x86_64.whl (486 kB)\n",
            "\u001b[K     |████████████████████████████████| 486 kB 69.4 MB/s \n",
            "\u001b[?25hCollecting ipadic==1.0.0\n",
            "  Downloading ipadic-1.0.0.tar.gz (13.4 MB)\n",
            "\u001b[K     |████████████████████████████████| 13.4 MB 45.8 MB/s \n",
            "\u001b[?25hRequirement already satisfied: importlib-metadata in /usr/local/lib/python3.7/dist-packages (from transformers==4.5.0) (4.12.0)\n",
            "Requirement already satisfied: packaging in /usr/local/lib/python3.7/dist-packages (from transformers==4.5.0) (21.3)\n",
            "Collecting sacremoses\n",
            "  Downloading sacremoses-0.0.53.tar.gz (880 kB)\n",
            "\u001b[K     |████████████████████████████████| 880 kB 57.0 MB/s \n",
            "\u001b[?25hCollecting tokenizers<0.11,>=0.10.1\n",
            "  Downloading tokenizers-0.10.3-cp37-cp37m-manylinux_2_5_x86_64.manylinux1_x86_64.manylinux_2_12_x86_64.manylinux2010_x86_64.whl (3.3 MB)\n",
            "\u001b[K     |████████████████████████████████| 3.3 MB 50.7 MB/s \n",
            "\u001b[?25hRequirement already satisfied: requests in /usr/local/lib/python3.7/dist-packages (from transformers==4.5.0) (2.23.0)\n",
            "Requirement already satisfied: regex!=2019.12.17 in /usr/local/lib/python3.7/dist-packages (from transformers==4.5.0) (2022.6.2)\n",
            "Requirement already satisfied: tqdm>=4.27 in /usr/local/lib/python3.7/dist-packages (from transformers==4.5.0) (4.64.0)\n",
            "Requirement already satisfied: filelock in /usr/local/lib/python3.7/dist-packages (from transformers==4.5.0) (3.8.0)\n",
            "Requirement already satisfied: numpy>=1.17 in /usr/local/lib/python3.7/dist-packages (from transformers==4.5.0) (1.21.6)\n",
            "Requirement already satisfied: zipp>=0.5 in /usr/local/lib/python3.7/dist-packages (from importlib-metadata->transformers==4.5.0) (3.8.1)\n",
            "Requirement already satisfied: typing-extensions>=3.6.4 in /usr/local/lib/python3.7/dist-packages (from importlib-metadata->transformers==4.5.0) (4.1.1)\n",
            "Requirement already satisfied: pyparsing!=3.0.5,>=2.0.2 in /usr/local/lib/python3.7/dist-packages (from packaging->transformers==4.5.0) (3.0.9)\n",
            "Requirement already satisfied: idna<3,>=2.5 in /usr/local/lib/python3.7/dist-packages (from requests->transformers==4.5.0) (2.10)\n",
            "Requirement already satisfied: certifi>=2017.4.17 in /usr/local/lib/python3.7/dist-packages (from requests->transformers==4.5.0) (2022.6.15)\n",
            "Requirement already satisfied: chardet<4,>=3.0.2 in /usr/local/lib/python3.7/dist-packages (from requests->transformers==4.5.0) (3.0.4)\n",
            "Requirement already satisfied: urllib3!=1.25.0,!=1.25.1,<1.26,>=1.21.1 in /usr/local/lib/python3.7/dist-packages (from requests->transformers==4.5.0) (1.24.3)\n",
            "Requirement already satisfied: six in /usr/local/lib/python3.7/dist-packages (from sacremoses->transformers==4.5.0) (1.15.0)\n",
            "Requirement already satisfied: click in /usr/local/lib/python3.7/dist-packages (from sacremoses->transformers==4.5.0) (7.1.2)\n",
            "Requirement already satisfied: joblib in /usr/local/lib/python3.7/dist-packages (from sacremoses->transformers==4.5.0) (1.1.0)\n",
            "Building wheels for collected packages: ipadic, sacremoses\n",
            "  Building wheel for ipadic (setup.py) ... \u001b[?25l\u001b[?25hdone\n",
            "  Created wheel for ipadic: filename=ipadic-1.0.0-py3-none-any.whl size=13556723 sha256=84f6980349589613a734fc677303303c3df2e68fb422ba151a5f38480cc895ac\n",
            "  Stored in directory: /root/.cache/pip/wheels/33/8b/99/cf0d27191876637cd3639a560f93aa982d7855ce826c94348b\n",
            "  Building wheel for sacremoses (setup.py) ... \u001b[?25l\u001b[?25hdone\n",
            "  Created wheel for sacremoses: filename=sacremoses-0.0.53-py3-none-any.whl size=895260 sha256=503fcde86060c129955889cbde134fe4d4fb0e95be6ca3849e473941aea1a669\n",
            "  Stored in directory: /root/.cache/pip/wheels/87/39/dd/a83eeef36d0bf98e7a4d1933a4ad2d660295a40613079bafc9\n",
            "Successfully built ipadic sacremoses\n",
            "Installing collected packages: tokenizers, sacremoses, transformers, ipadic, fugashi\n",
            "Successfully installed fugashi-1.1.0 ipadic-1.0.0 sacremoses-0.0.53 tokenizers-0.10.3 transformers-4.5.0\n"
          ]
        },
        {
          "output_type": "display_data",
          "data": {
            "text/plain": [
              "Downloading:   0%|          | 0.00/258k [00:00<?, ?B/s]"
            ],
            "application/vnd.jupyter.widget-view+json": {
              "version_major": 2,
              "version_minor": 0,
              "model_id": "c438daf53487484793ff48b5a9198d0c"
            }
          },
          "metadata": {}
        },
        {
          "output_type": "display_data",
          "data": {
            "text/plain": [
              "Downloading:   0%|          | 0.00/110 [00:00<?, ?B/s]"
            ],
            "application/vnd.jupyter.widget-view+json": {
              "version_major": 2,
              "version_minor": 0,
              "model_id": "f950ecf7b194478d80a82ef046d0c09d"
            }
          },
          "metadata": {}
        },
        {
          "output_type": "execute_result",
          "data": {
            "text/plain": [
              "['明日', 'は', '自然', '言語', '処理', 'の', '勉強', 'を', 'しよ', 'う']"
            ]
          },
          "metadata": {},
          "execution_count": 2
        }
      ],
      "source": [
        "# ライブラリインストール\n",
        "# 各ライブラリの働きはREADME参照\n",
        "!pip install transformers==4.5.0 fugashi==1.1.0 ipadic==1.0.0\n",
        "import torch\n",
        "from transformers import BertJapaneseTokenizer, BertModel\n",
        "\n",
        "\n",
        "# トークナイザの定義\n",
        "# トークナイザ:文章をトークン分割して、BERTに入力可能なようにする\n",
        "# 東北大学が作った事前学習ずみBERTモデルをまず用意\n",
        "# それを用いて学習済みトークナイザをロード（BertJapaneseTokenizerはおそらくライブラリtransformersに含まれている）\n",
        "# (このモデルはMeCabを用いて単語分割し、WordPieceを用いてその単語をトークンに分割する。wordPieceの語彙はtokenizer.vocabからアクセス)\n",
        "model_name = 'cl-tohoku/bert-base-japanese-whole-word-masking'\n",
        "tokenizer = BertJapaneseTokenizer.from_pretrained(model_name)\n",
        "\n",
        "\n",
        "# まずは文章をトークン化してみよう\n",
        "tokenizer.tokenize('明日は自然言語処理の勉強をしよう')\n",
        "\n",
        "\n"
      ]
    },
    {
      "cell_type": "code",
      "source": [
        "# トークナイザの定義\n",
        "# トークナイザ:文章をトークン分割して、BERTに入力可能なようにする\n",
        "# 東北大学が作った事前学習ずみBERTモデルをまず用意\n",
        "# それを用いて学習済みトークナイザをロード（BertJapaneseTokenizerはおそらくライブラリtransformersに含まれている）\n",
        "# (このモデルはMeCabを用いて単語分割し、WordPieceを用いてその単語をトークンに分割する。wordPieceの語彙はtokenizer.vocabからアクセス)\n",
        "model_name = 'cl-tohoku/bert-base-japanese-whole-word-masking'\n",
        "tokenizer = BertJapaneseTokenizer.from_pretrained(model_name)"
      ],
      "metadata": {
        "id": "dD8alMisuiiF"
      },
      "execution_count": 3,
      "outputs": []
    },
    {
      "cell_type": "code",
      "source": [
        "# まずは文章をトークン化してみよう\n",
        "tokenizer.tokenize('明日は自然言語処理の勉強をしよう')"
      ],
      "metadata": {
        "colab": {
          "base_uri": "https://localhost:8080/"
        },
        "id": "LnuXqOCeuoBp",
        "outputId": "45f55f6d-a847-41f2-b0e3-e29bca9e883e"
      },
      "execution_count": 4,
      "outputs": [
        {
          "output_type": "execute_result",
          "data": {
            "text/plain": [
              "['明日', 'は', '自然', '言語', '処理', 'の', '勉強', 'を', 'しよ', 'う']"
            ]
          },
          "metadata": {},
          "execution_count": 4
        }
      ]
    },
    {
      "cell_type": "code",
      "source": [
        "# マシンラーニングなどの複合語は、先頭ではないサブワードには＃＃がつく\n",
        "# サブワード分割はWordPieceのお仕事\n",
        "tokenizer.tokenize('明日はマシンラーニングの勉強をしよう')"
      ],
      "metadata": {
        "colab": {
          "base_uri": "https://localhost:8080/"
        },
        "outputId": "27215fe6-ca06-45da-88cc-1f4ca28a638f",
        "id": "CzkglkkGvDmI"
      },
      "execution_count": 5,
      "outputs": [
        {
          "output_type": "execute_result",
          "data": {
            "text/plain": [
              "['明日', 'は', 'マシン', '##ラー', '##ニング', 'の', '勉強', 'を', 'しよ', 'う']"
            ]
          },
          "metadata": {},
          "execution_count": 5
        }
      ]
    },
    {
      "cell_type": "code",
      "source": [
        "# 未知語を表すトークン：[UNK]\n",
        "tokenizer.tokenize('機械学習を中国語にすると机器学习という')"
      ],
      "metadata": {
        "colab": {
          "base_uri": "https://localhost:8080/"
        },
        "id": "8CEBZmnqvaOG",
        "outputId": "2a3b60de-eb4f-43b5-9de3-bf53f90143f7"
      },
      "execution_count": 6,
      "outputs": [
        {
          "output_type": "execute_result",
          "data": {
            "text/plain": [
              "['機械', '学習', 'を', '中国', '語', 'に', 'する', 'と', '机', '器', '学', '[UNK]', 'という']"
            ]
          },
          "metadata": {},
          "execution_count": 6
        }
      ]
    },
    {
      "cell_type": "code",
      "source": [
        "# トークン化が完了したので、次は得られたトークンをトークンIDに変換しよう（BERTには数値で入力）\n",
        "# この作業を符号化(encode)と呼ぶ\n",
        "\n",
        "# encode()は、tokenize()の結果をIDに変換したものの先頭に[CLS] (文章の先頭のトークン)、最後に[SEP] (文章終わりのトークン)をおく\n",
        "\n",
        "\n",
        "input_ids = tokenizer.encode('明日は自然言語処理の勉強をしよう')\n",
        "print(tokenizer.tokenize('明日は自然言語処理の勉強をしよう'))\n",
        "print(input_ids)"
      ],
      "metadata": {
        "colab": {
          "base_uri": "https://localhost:8080/"
        },
        "id": "xGjN-d2uvyEa",
        "outputId": "d25833e0-ec98-4398-eb7a-265845a2cc14"
      },
      "execution_count": 7,
      "outputs": [
        {
          "output_type": "stream",
          "name": "stdout",
          "text": [
            "['明日', 'は', '自然', '言語', '処理', 'の', '勉強', 'を', 'しよ', 'う']\n",
            "[2, 11475, 9, 1757, 1882, 2762, 5, 8192, 11, 2132, 205, 3]\n"
          ]
        }
      ]
    },
    {
      "cell_type": "code",
      "source": [
        "# 逆変換（ID→トークン）はconvert_ids_to_tokensで行う\n",
        "tokenizer.convert_ids_to_tokens(input_ids)"
      ],
      "metadata": {
        "colab": {
          "base_uri": "https://localhost:8080/"
        },
        "id": "978zF2Myw2c0",
        "outputId": "d88f93c6-bba7-49a0-93c6-e372f811ef5b"
      },
      "execution_count": 8,
      "outputs": [
        {
          "output_type": "execute_result",
          "data": {
            "text/plain": [
              "['[CLS]', '明日', 'は', '自然', '言語', '処理', 'の', '勉強', 'を', 'しよ', 'う', '[SEP]']"
            ]
          },
          "metadata": {},
          "execution_count": 8
        }
      ]
    },
    {
      "cell_type": "code",
      "source": [
        "# BERTでは通常、複数の文章をまとめて処理する -> 文章のトークン列の長さ（系列長）を揃えないとダメ\n",
        "# 文章が短ければ、特殊トークン[PAD]を追加する\n",
        "# 文章が長ければ、末尾のトークンではみ出したものは削除\n",
        "\n",
        "\n",
        "# 例えばこれを符号化すると、以下のようになる\n",
        "text = \"明日の天気は晴れだ。\"\n",
        "\n",
        "# textを符号化している\n",
        "# 系列長は12(特殊トークン含む)であり、足りなければ[PAD], 多すぎれば切り捨て(truncation)\n",
        "encoding = tokenizer(\n",
        "    text, max_length=12, padding='max_length', truncation=True\n",
        ")\n",
        "\n",
        "\n",
        "# input_ids : トークンの符号化結果\n",
        "# token_type_ids' ： 2つの文章を同時に入力した場合、どちらの文章に属しているのかを判断する\n",
        "# attention_mask : [PAD]の位置で0, それ以外で1. PADはattentionでは考慮しなくて良い\n",
        "print('# encoding : ')\n",
        "print(encoding)\n",
        "print(tokenizer.convert_ids_to_tokens(encoding['input_ids']))\n",
        "\n"
      ],
      "metadata": {
        "colab": {
          "base_uri": "https://localhost:8080/"
        },
        "id": "IcYU30zGxez0",
        "outputId": "fbb224dc-6c09-464f-fa70-c78ecb8bd0d1"
      },
      "execution_count": 9,
      "outputs": [
        {
          "output_type": "stream",
          "name": "stdout",
          "text": [
            "# encoding : \n",
            "{'input_ids': [2, 11475, 5, 11385, 9, 16577, 75, 8, 3, 0, 0, 0], 'token_type_ids': [0, 0, 0, 0, 0, 0, 0, 0, 0, 0, 0, 0], 'attention_mask': [1, 1, 1, 1, 1, 1, 1, 1, 1, 0, 0, 0]}\n",
            "['[CLS]', '明日', 'の', '天気', 'は', '晴れ', 'だ', '。', '[SEP]', '[PAD]', '[PAD]', '[PAD]']\n"
          ]
        }
      ]
    },
    {
      "cell_type": "code",
      "source": [
        "# max_lengthを短くすると、文章が削られる\n",
        "\n",
        "# textを符号化している\n",
        "# 系列長は6(特殊トークン含む)であり、足りなければ[PAD], 多すぎれば切り捨て(truncation)\n",
        "encoding = tokenizer(\n",
        "    text, max_length=6, padding='max_length', truncation=True\n",
        ")\n",
        "\n",
        "\n",
        "# input_ids : トークンの符号化結果\n",
        "# token_type_ids' ： 2つの文章を同時に入力した場合、どちらの文章に属しているのかを判断する\n",
        "# attention_mask : [PAD]の位置で0, それ以外で1. PADはattentionでは考慮しなくて良い\n",
        "print('# encoding : ')\n",
        "print(encoding)\n",
        "print(tokenizer.convert_ids_to_tokens(encoding['input_ids']))"
      ],
      "metadata": {
        "colab": {
          "base_uri": "https://localhost:8080/"
        },
        "id": "eXxwnRby0gf5",
        "outputId": "969d5955-bde0-4388-edc1-f9d78848e755"
      },
      "execution_count": 10,
      "outputs": [
        {
          "output_type": "stream",
          "name": "stdout",
          "text": [
            "# encoding : \n",
            "{'input_ids': [2, 11475, 5, 11385, 9, 3], 'token_type_ids': [0, 0, 0, 0, 0, 0], 'attention_mask': [1, 1, 1, 1, 1, 1]}\n",
            "['[CLS]', '明日', 'の', '天気', 'は', '[SEP]']\n"
          ]
        }
      ]
    },
    {
      "cell_type": "code",
      "source": [
        "# 複数文章をまとめて符号化\n",
        "\n",
        "text_list = ['明日の天気は晴れだ。', 'パソコンが急に動かなくなった。']\n",
        "\n",
        "# 系列長は10(特殊トークン含む)であり、足りなければ[PAD], 多すぎれば切り捨て(truncation)\n",
        "encoding = tokenizer(\n",
        "    text_list, max_length=10, padding='max_length', truncation=True\n",
        ")\n",
        "\n",
        "\n",
        "# input_ids : トークンの符号化結果\n",
        "# token_type_ids' ： 2つの文章を同時に入力した場合、どちらの文章に属しているのかを判断する\n",
        "# attention_mask : [PAD]の位置で0, それ以外で1. PADはattentionでは考慮しなくて良い\n",
        "print('# encoding : ')\n",
        "print(encoding)\n",
        "print(tokenizer.convert_ids_to_tokens(encoding['input_ids'][0]))\n",
        "print(tokenizer.convert_ids_to_tokens(encoding['input_ids'][1]))"
      ],
      "metadata": {
        "colab": {
          "base_uri": "https://localhost:8080/"
        },
        "id": "aZI8KMCt1E8Q",
        "outputId": "e12ae83d-54cd-4553-f69c-499ffdda9fc2"
      },
      "execution_count": 11,
      "outputs": [
        {
          "output_type": "stream",
          "name": "stdout",
          "text": [
            "# encoding : \n",
            "{'input_ids': [[2, 11475, 5, 11385, 9, 16577, 75, 8, 3, 0], [2, 6311, 14, 1132, 7, 16084, 332, 58, 10, 3]], 'token_type_ids': [[0, 0, 0, 0, 0, 0, 0, 0, 0, 0], [0, 0, 0, 0, 0, 0, 0, 0, 0, 0]], 'attention_mask': [[1, 1, 1, 1, 1, 1, 1, 1, 1, 0], [1, 1, 1, 1, 1, 1, 1, 1, 1, 1]]}\n",
            "['[CLS]', '明日', 'の', '天気', 'は', '晴れ', 'だ', '。', '[SEP]', '[PAD]']\n",
            "['[CLS]', 'パソコン', 'が', '急', 'に', '動か', 'なく', 'なっ', 'た', '[SEP]']\n"
          ]
        }
      ]
    },
    {
      "cell_type": "code",
      "source": [
        "# tokenizerのpaddingを「longest」に設定すると\n",
        "# 最長の文章の長さに系列長を合わせる\n",
        "\n",
        "encoding = tokenizer(\n",
        "    text_list, padding='longest'\n",
        ")\n",
        "\n",
        "print('# encoding : ')\n",
        "print(encoding)\n",
        "print(tokenizer.convert_ids_to_tokens(encoding['input_ids'][0]))\n",
        "print(tokenizer.convert_ids_to_tokens(encoding['input_ids'][1]))\n"
      ],
      "metadata": {
        "colab": {
          "base_uri": "https://localhost:8080/"
        },
        "id": "yjSB5l-i1ktU",
        "outputId": "73370fbf-5520-4b76-cbdc-ef50a6f40627"
      },
      "execution_count": 12,
      "outputs": [
        {
          "output_type": "stream",
          "name": "stdout",
          "text": [
            "# encoding : \n",
            "{'input_ids': [[2, 11475, 5, 11385, 9, 16577, 75, 8, 3, 0, 0], [2, 6311, 14, 1132, 7, 16084, 332, 58, 10, 8, 3]], 'token_type_ids': [[0, 0, 0, 0, 0, 0, 0, 0, 0, 0, 0], [0, 0, 0, 0, 0, 0, 0, 0, 0, 0, 0]], 'attention_mask': [[1, 1, 1, 1, 1, 1, 1, 1, 1, 0, 0], [1, 1, 1, 1, 1, 1, 1, 1, 1, 1, 1]]}\n",
            "['[CLS]', '明日', 'の', '天気', 'は', '晴れ', 'だ', '。', '[SEP]', '[PAD]', '[PAD]']\n",
            "['[CLS]', 'パソコン', 'が', '急', 'に', '動か', 'なく', 'なっ', 'た', '。', '[SEP]']\n"
          ]
        }
      ]
    },
    {
      "cell_type": "code",
      "source": [
        "# transformers(ライブラリ)の提供するBERTに値を入力する際には、データ型をtorch.Tensorにしておく必要がある\n",
        "# tokenizerの引数に「return_tensors='pt'」と付け加えることでデータ型変更可能\n",
        "\n",
        "encoding = tokenizer(\n",
        "    text_list, padding='longest', return_tensors='pt'\n",
        ")\n",
        "\n",
        "print(encoding)"
      ],
      "metadata": {
        "colab": {
          "base_uri": "https://localhost:8080/"
        },
        "id": "tgK2MiEA3dSd",
        "outputId": "879c3991-493b-4959-ef1d-b26acd7cd86f"
      },
      "execution_count": 13,
      "outputs": [
        {
          "output_type": "stream",
          "name": "stdout",
          "text": [
            "{'input_ids': tensor([[    2, 11475,     5, 11385,     9, 16577,    75,     8,     3,     0,\n",
            "             0],\n",
            "        [    2,  6311,    14,  1132,     7, 16084,   332,    58,    10,     8,\n",
            "             3]]), 'token_type_ids': tensor([[0, 0, 0, 0, 0, 0, 0, 0, 0, 0, 0],\n",
            "        [0, 0, 0, 0, 0, 0, 0, 0, 0, 0, 0]]), 'attention_mask': tensor([[1, 1, 1, 1, 1, 1, 1, 1, 1, 0, 0],\n",
            "        [1, 1, 1, 1, 1, 1, 1, 1, 1, 1, 1]])}\n"
          ]
        }
      ]
    },
    {
      "cell_type": "code",
      "source": [
        "# ここから、実際にBERTモデルの使い方を学ぶ\n",
        "# transformersのバートモデルをロード\n",
        "bert = BertModel.from_pretrained(model_name)\n",
        "\n",
        "# bertをGPUに載せる\n",
        "bert = bert.cuda()"
      ],
      "metadata": {
        "colab": {
          "base_uri": "https://localhost:8080/",
          "height": 81,
          "referenced_widgets": [
            "e0c620c6eefb4ccbb4c4015db390f2e8",
            "44321d5401554158b022166e05b0b3e8",
            "0160eeca114049ebb9638197f210fca9",
            "a14bcf4487214e309c285c5b4b275e3f",
            "9f757f75a7f84877a346092b7f5feead",
            "87c58c1ef02843e2ace04bd55b654fb0",
            "f276ccd1274144b296c7fac1ed11fae8",
            "fc80d56af5e7497b90bb8eba7f9bf7c3",
            "b1394ca1310c476fad15ddc2bca8f377",
            "75d629798cc046fabcc486abbbc83d56",
            "c4ae31946e57450e8c01bab733b156e6",
            "cff4abc324aa48c1b020aadb967c5405",
            "a1c3f9db218c404ca7f9c99d01798389",
            "b1982b4fbdbe4a33bb05f4eeb5c7ad86",
            "74fa656cea3d4def90ed0f1e8eda8743",
            "4e16794a22384afebfbf85454385333c",
            "ae3f943c063b4d4ea1372efe279c9c70",
            "fd6e9edcfa26425a8af154ce86527895",
            "924a49f90d044a63883503379ea72360",
            "543ac4b365d74c26b0e5084fd126f373",
            "8673c94957044814b55c7a74d60a7cd2",
            "7489b375decf467ab6eea1b1eed7fee5"
          ]
        },
        "id": "-omnJxb__E1t",
        "outputId": "6e728ba1-cdb0-48f0-9c37-28ae23346032"
      },
      "execution_count": 14,
      "outputs": [
        {
          "output_type": "display_data",
          "data": {
            "text/plain": [
              "Downloading:   0%|          | 0.00/479 [00:00<?, ?B/s]"
            ],
            "application/vnd.jupyter.widget-view+json": {
              "version_major": 2,
              "version_minor": 0,
              "model_id": "e0c620c6eefb4ccbb4c4015db390f2e8"
            }
          },
          "metadata": {}
        },
        {
          "output_type": "display_data",
          "data": {
            "text/plain": [
              "Downloading:   0%|          | 0.00/445M [00:00<?, ?B/s]"
            ],
            "application/vnd.jupyter.widget-view+json": {
              "version_major": 2,
              "version_minor": 0,
              "model_id": "cff4abc324aa48c1b020aadb967c5405"
            }
          },
          "metadata": {}
        }
      ]
    },
    {
      "cell_type": "code",
      "source": [
        "# モデル概要\n",
        "# num_hidden_layers : レイヤー数\n",
        "# hidden_size : BERTの出力次元数\n",
        "# max_position_embeddings : 最大で入力できるトークン列の長さ\n",
        "\n",
        "print(bert.config)"
      ],
      "metadata": {
        "colab": {
          "base_uri": "https://localhost:8080/"
        },
        "id": "2PI_viLyAuSu",
        "outputId": "2d7d6f60-879e-4ea2-c846-35dca38cfbdd"
      },
      "execution_count": 15,
      "outputs": [
        {
          "output_type": "stream",
          "name": "stdout",
          "text": [
            "BertConfig {\n",
            "  \"_name_or_path\": \"cl-tohoku/bert-base-japanese-whole-word-masking\",\n",
            "  \"architectures\": [\n",
            "    \"BertForMaskedLM\"\n",
            "  ],\n",
            "  \"attention_probs_dropout_prob\": 0.1,\n",
            "  \"gradient_checkpointing\": false,\n",
            "  \"hidden_act\": \"gelu\",\n",
            "  \"hidden_dropout_prob\": 0.1,\n",
            "  \"hidden_size\": 768,\n",
            "  \"initializer_range\": 0.02,\n",
            "  \"intermediate_size\": 3072,\n",
            "  \"layer_norm_eps\": 1e-12,\n",
            "  \"max_position_embeddings\": 512,\n",
            "  \"model_type\": \"bert\",\n",
            "  \"num_attention_heads\": 12,\n",
            "  \"num_hidden_layers\": 12,\n",
            "  \"pad_token_id\": 0,\n",
            "  \"position_embedding_type\": \"absolute\",\n",
            "  \"tokenizer_class\": \"BertJapaneseTokenizer\",\n",
            "  \"transformers_version\": \"4.5.0\",\n",
            "  \"type_vocab_size\": 2,\n",
            "  \"use_cache\": true,\n",
            "  \"vocab_size\": 32000\n",
            "}\n",
            "\n"
          ]
        }
      ]
    },
    {
      "cell_type": "code",
      "source": [
        "# バッチサイズ：まとめて処理する文章の数\n",
        "\n",
        "encoding = tokenizer(\n",
        "    text_list,\n",
        "    max_length = 32,\n",
        "    padding = 'max_length',\n",
        "    truncation=True,\n",
        "    return_tensors='pt'\n",
        ")\n",
        "\n",
        "# データをGPUに載せる\n",
        "# encoding.items()はdict型 -> key valueの組み合わせ\n",
        "# keyをk, valueをv.cuda()としてGPUに突っ込んでるんだと思う\n",
        "\n",
        "print(encoding.items())\n",
        "encoding = { k : v.cuda() for k, v in encoding.items() }\n",
        "print(encoding)\n",
        "\n",
        "# bertで処理\n",
        "# 辞書型encodingの中身を展開して関数に入力\n",
        "\n",
        "# output = bert(\n",
        "#     input_ids=encoding['input_ids'],\n",
        "#     attention_mask=encoding['attention_mask'],\n",
        "#     token_type_ids=encoding['token_type_ids']\n",
        "# )\n",
        "\n",
        "# 上記コードの省略形\n",
        "output = bert(**encoding)\n",
        "# 最終層の出力\n",
        "last_hidden_state = output.last_hidden_state"
      ],
      "metadata": {
        "colab": {
          "base_uri": "https://localhost:8080/"
        },
        "id": "iYgr0dJ8B3gw",
        "outputId": "f9fd53d6-1645-43e7-b7d8-3017b5a400be"
      },
      "execution_count": 18,
      "outputs": [
        {
          "output_type": "stream",
          "name": "stdout",
          "text": [
            "dict_items([('input_ids', tensor([[    2, 11475,     5, 11385,     9, 16577,    75,     8,     3,     0,\n",
            "             0,     0,     0,     0,     0,     0,     0,     0,     0,     0,\n",
            "             0,     0,     0,     0,     0,     0,     0,     0,     0,     0,\n",
            "             0,     0],\n",
            "        [    2,  6311,    14,  1132,     7, 16084,   332,    58,    10,     8,\n",
            "             3,     0,     0,     0,     0,     0,     0,     0,     0,     0,\n",
            "             0,     0,     0,     0,     0,     0,     0,     0,     0,     0,\n",
            "             0,     0]])), ('token_type_ids', tensor([[0, 0, 0, 0, 0, 0, 0, 0, 0, 0, 0, 0, 0, 0, 0, 0, 0, 0, 0, 0, 0, 0, 0, 0,\n",
            "         0, 0, 0, 0, 0, 0, 0, 0],\n",
            "        [0, 0, 0, 0, 0, 0, 0, 0, 0, 0, 0, 0, 0, 0, 0, 0, 0, 0, 0, 0, 0, 0, 0, 0,\n",
            "         0, 0, 0, 0, 0, 0, 0, 0]])), ('attention_mask', tensor([[1, 1, 1, 1, 1, 1, 1, 1, 1, 0, 0, 0, 0, 0, 0, 0, 0, 0, 0, 0, 0, 0, 0, 0,\n",
            "         0, 0, 0, 0, 0, 0, 0, 0],\n",
            "        [1, 1, 1, 1, 1, 1, 1, 1, 1, 1, 1, 0, 0, 0, 0, 0, 0, 0, 0, 0, 0, 0, 0, 0,\n",
            "         0, 0, 0, 0, 0, 0, 0, 0]]))])\n",
            "{'input_ids': tensor([[    2, 11475,     5, 11385,     9, 16577,    75,     8,     3,     0,\n",
            "             0,     0,     0,     0,     0,     0,     0,     0,     0,     0,\n",
            "             0,     0,     0,     0,     0,     0,     0,     0,     0,     0,\n",
            "             0,     0],\n",
            "        [    2,  6311,    14,  1132,     7, 16084,   332,    58,    10,     8,\n",
            "             3,     0,     0,     0,     0,     0,     0,     0,     0,     0,\n",
            "             0,     0,     0,     0,     0,     0,     0,     0,     0,     0,\n",
            "             0,     0]], device='cuda:0'), 'token_type_ids': tensor([[0, 0, 0, 0, 0, 0, 0, 0, 0, 0, 0, 0, 0, 0, 0, 0, 0, 0, 0, 0, 0, 0, 0, 0,\n",
            "         0, 0, 0, 0, 0, 0, 0, 0],\n",
            "        [0, 0, 0, 0, 0, 0, 0, 0, 0, 0, 0, 0, 0, 0, 0, 0, 0, 0, 0, 0, 0, 0, 0, 0,\n",
            "         0, 0, 0, 0, 0, 0, 0, 0]], device='cuda:0'), 'attention_mask': tensor([[1, 1, 1, 1, 1, 1, 1, 1, 1, 0, 0, 0, 0, 0, 0, 0, 0, 0, 0, 0, 0, 0, 0, 0,\n",
            "         0, 0, 0, 0, 0, 0, 0, 0],\n",
            "        [1, 1, 1, 1, 1, 1, 1, 1, 1, 1, 1, 0, 0, 0, 0, 0, 0, 0, 0, 0, 0, 0, 0, 0,\n",
            "         0, 0, 0, 0, 0, 0, 0, 0]], device='cuda:0')}\n"
          ]
        }
      ]
    },
    {
      "cell_type": "code",
      "source": [
        "# 出力テンソルのサイズ\n",
        "# [バッチサイズ, 系列長, 隠れ状態の次元数]\n",
        "print(last_hidden_state.size())\n",
        "\n",
        "# i番目の文章に含まれるj番目のトークンの分散表現\n",
        "# last_hidden_state[i, j]\n",
        "print(last_hidden_state[1, 1])"
      ],
      "metadata": {
        "colab": {
          "base_uri": "https://localhost:8080/"
        },
        "id": "cdAutxz-Fma7",
        "outputId": "fa0bf7be-1283-450c-e209-a353bc3e2b10"
      },
      "execution_count": 20,
      "outputs": [
        {
          "output_type": "stream",
          "name": "stdout",
          "text": [
            "torch.Size([2, 32, 768])\n",
            "tensor([ 2.1030e-01,  4.3554e-01, -3.3010e-02,  1.1276e-01,  1.7338e-01,\n",
            "        -3.8727e-01, -1.4225e-01, -2.1831e-02,  7.0929e-01,  1.2820e-01,\n",
            "        -1.7813e-01,  3.8195e-01,  1.8803e-01, -5.0586e-01, -2.4604e-02,\n",
            "         6.6034e-01, -3.6920e-01, -1.0582e-01,  3.5404e-01, -2.4468e-01,\n",
            "        -3.7272e-01, -4.5828e-01,  3.4351e-01, -4.1613e-01, -3.4940e-01,\n",
            "        -2.4177e-01, -3.1484e-01, -6.0683e-01,  7.6463e-02,  5.7444e-01,\n",
            "        -2.0198e-01, -2.7453e-01,  1.5271e-01, -1.9025e-01, -1.1113e-01,\n",
            "         9.9064e-03,  7.8439e-02, -5.6840e-02, -3.4166e-01, -1.9815e-01,\n",
            "        -3.8176e-02,  3.9712e-01,  1.1200e-01,  9.8846e-01,  1.3539e-01,\n",
            "         2.5618e-01,  2.1362e-01, -2.0378e-01, -1.7304e-01, -8.3455e-02,\n",
            "         6.7937e-01,  2.3632e-01,  6.0747e-01,  3.3469e-01,  6.0564e-02,\n",
            "         3.3551e-02,  3.0007e-02, -1.0812e-01,  1.8126e-01,  3.3926e-01,\n",
            "        -3.4851e-01, -4.1329e-01,  5.7043e-01, -6.3324e-01, -3.0123e-01,\n",
            "        -8.5524e-02, -1.7465e-02,  2.2145e-01,  9.6205e-02, -4.4567e-01,\n",
            "        -1.7390e-01,  8.8064e-02, -5.0026e-01,  1.6482e-01, -2.1635e-02,\n",
            "        -2.9521e-01, -1.6518e-01,  9.2123e-03, -4.3911e-01,  6.7764e-02,\n",
            "        -3.5702e-02, -2.9383e-01, -2.5046e-01,  2.4873e-02, -4.5630e-01,\n",
            "        -6.5201e-01,  2.1048e-01, -3.6494e-02, -1.4875e-01, -1.0998e-03,\n",
            "        -2.0817e-01,  5.4746e-01, -2.2164e-01,  3.2339e-01, -1.2962e-02,\n",
            "         8.0074e-03,  1.0387e-01,  2.4290e-01,  3.1380e-02, -2.3440e-01,\n",
            "         1.0298e-01, -2.9099e-01, -2.7511e-02,  1.4879e-01,  1.4898e-01,\n",
            "        -1.5148e-02,  1.8392e-01,  1.5654e-01, -3.2363e-01, -6.9294e-02,\n",
            "         6.4572e-02,  2.1933e-01,  1.5511e-01, -1.6479e-01,  5.8653e-01,\n",
            "         3.9334e-01,  3.1140e-01,  2.1933e-01,  1.1923e-01,  1.9987e-01,\n",
            "        -6.1627e-02, -5.7170e-01, -1.1831e-01,  2.8317e-01, -2.4909e-01,\n",
            "        -1.4802e-01,  1.6719e-01, -2.0716e-01, -1.4654e-01,  7.1647e-01,\n",
            "        -3.3722e-01, -2.5597e-01,  7.3494e-01, -1.5501e-01,  8.2315e-02,\n",
            "         1.5898e-01, -1.3001e-02, -1.6849e-02, -3.0606e-01,  1.7891e-01,\n",
            "        -5.7785e-01, -5.2481e-01, -6.4688e-02, -3.9004e-01,  4.1090e-02,\n",
            "         3.0664e-01,  3.7211e-01,  2.4996e-01,  1.6302e-01,  1.2453e-01,\n",
            "        -2.7478e-02,  1.2738e-02,  3.2161e-01,  3.1662e-01,  1.3068e-01,\n",
            "        -8.2572e-01, -3.2944e-01,  3.4105e-01,  1.4536e-01, -6.9175e-01,\n",
            "         4.4679e-01, -2.7042e-01,  2.9914e-01,  8.3928e-02, -2.2631e-01,\n",
            "         4.0874e-01,  8.1886e-02, -2.4554e-01,  1.6514e-01, -1.6873e-01,\n",
            "        -8.4375e-02, -5.4294e-02,  3.4036e-02, -7.6432e-02, -2.4793e-01,\n",
            "         5.1267e-01, -2.9160e-02, -1.6612e-01, -1.1928e-01, -3.8235e-02,\n",
            "        -7.8405e-02, -5.3360e-02, -4.9552e-02, -4.5131e-01, -1.4652e-01,\n",
            "         2.0264e-01, -4.8048e-02,  3.3910e-01,  3.9333e-01,  3.6700e-01,\n",
            "         2.5668e-02, -4.3720e-02,  3.8036e-01,  5.9651e-01, -4.6716e-02,\n",
            "        -5.9499e-01, -3.1995e-01,  9.7146e-02, -2.8103e-03,  1.4262e-01,\n",
            "         9.0068e-02, -2.1262e-01,  6.6211e-01,  8.9341e-02,  1.0806e-01,\n",
            "         1.3370e-01, -7.2002e-01,  1.2738e-01,  4.4026e-01, -4.9658e-01,\n",
            "        -2.8518e-01, -1.3504e-02,  1.1899e-01,  2.6307e-01,  5.1125e-01,\n",
            "         3.5907e-04, -3.8588e-02, -5.5739e-01,  2.5883e-01, -1.9135e-01,\n",
            "        -6.0812e-01, -3.4735e-01,  2.8281e-02, -1.7541e-01,  4.2489e-01,\n",
            "         3.8484e-02, -3.4341e-01, -8.1648e-02,  2.7031e-01,  9.6433e-02,\n",
            "         3.9572e-02, -1.3967e-01, -1.0185e-01, -1.2388e-01,  2.2248e-01,\n",
            "         1.7085e-01,  7.9608e-02, -3.7485e-03, -6.9483e-02, -1.3303e-01,\n",
            "        -5.1615e-01,  7.2119e-01, -8.2414e-01, -2.2494e-02, -1.9215e-02,\n",
            "         6.2224e-01, -1.0794e-01, -3.3845e-01, -3.0969e-01, -3.1729e-01,\n",
            "         1.1099e-01, -8.8456e-01, -4.6657e-01,  4.9662e-01, -6.8983e-01,\n",
            "        -6.9890e-02,  1.0288e-01,  9.2698e-02, -4.3941e-01,  5.0451e-01,\n",
            "        -7.6768e-01,  1.0706e-01,  8.1282e-03, -3.8848e-01, -7.9038e-01,\n",
            "        -1.0079e-01, -2.9251e-01,  1.5563e-01, -3.7639e-02,  1.1062e-01,\n",
            "         1.1410e-01, -1.7035e-01, -1.5829e-01,  3.6107e-01,  1.0373e-02,\n",
            "         1.5510e-01,  2.0185e-01,  2.9624e-02,  1.6618e-01,  4.4618e-01,\n",
            "        -7.5434e-01,  3.4101e-01, -1.4512e-01,  9.9945e-02,  2.3476e-01,\n",
            "        -2.3282e-01,  2.1943e-01,  1.6386e-01, -3.4150e-03,  7.9380e-03,\n",
            "        -5.8302e-02, -2.3185e-01,  3.9602e-01,  2.3153e-01,  3.3849e-02,\n",
            "         1.8431e-01, -2.9088e-01, -4.4095e-01,  2.7322e-01, -1.8638e-01,\n",
            "         4.9065e-01, -1.3271e-01,  2.4737e-02,  4.4307e-02, -3.0408e-01,\n",
            "        -1.0496e-01, -1.1010e-02, -3.9576e-02, -2.7195e-02, -1.7717e-01,\n",
            "         8.7379e-03, -2.0338e-02,  2.8220e-01, -7.7171e-01,  2.2277e-01,\n",
            "         6.2734e-02,  4.6461e-01, -6.1242e-01, -1.3480e-01,  4.4346e-01,\n",
            "         9.2622e-02, -1.5645e-01,  4.4871e-01,  3.2381e-01, -6.4549e-02,\n",
            "         4.7521e-01,  1.3819e-01,  1.1155e-01,  1.4418e-01, -1.8917e-01,\n",
            "         2.5618e-01, -3.1808e-01, -4.9051e-02,  2.6570e-01, -1.8100e-01,\n",
            "         3.7416e-01, -6.2272e-01, -1.9542e-01, -6.4957e-02, -5.1254e-02,\n",
            "         4.5392e-02, -1.2990e-01,  5.5243e-02, -2.1229e-01, -6.5420e-02,\n",
            "         3.6316e-01,  1.7837e-01, -4.2911e-01,  1.6323e-01,  5.8189e-02,\n",
            "         7.3214e-02,  2.3895e-01,  1.1180e-01,  5.1835e-02,  9.4876e-02,\n",
            "        -2.2339e-01,  1.0747e-01, -6.7991e-01,  1.0080e-01,  4.2916e-01,\n",
            "        -8.4522e-02,  3.1638e-02,  3.1925e-01,  5.7426e-02,  1.4470e-02,\n",
            "         4.5993e-01,  6.6944e-02, -4.1726e-01,  3.5995e-01, -6.8260e-02,\n",
            "        -1.8714e-01, -2.6457e-01,  3.2565e-01, -1.1315e-01, -1.4374e-01,\n",
            "         1.5328e-01,  4.1079e-01,  1.6960e-01,  1.9865e-01, -1.4053e-01,\n",
            "         7.3224e-01,  3.3723e-01, -1.1710e-01, -2.7271e-02, -2.6888e-02,\n",
            "         7.8031e-02, -5.0473e-01, -2.2264e-01,  3.8007e-02, -2.2311e-01,\n",
            "         6.2427e-01,  1.2756e-01, -1.3964e-01,  9.3957e-02, -6.6261e-02,\n",
            "         9.4520e-02, -6.9749e-01, -2.4652e-01,  3.9372e-01, -5.3877e-02,\n",
            "         1.4800e-01,  1.2332e-02,  2.5548e-01,  1.5206e-01,  2.7269e-01,\n",
            "         2.0776e-01, -1.0028e-01,  2.2542e-02, -6.6906e-01,  3.9255e-01,\n",
            "        -5.6553e-01, -2.0976e-01, -5.2623e-01, -8.9296e-02, -7.0398e-01,\n",
            "        -1.5741e-02,  5.9559e-01, -1.2888e-01, -1.7715e-01, -3.7564e-01,\n",
            "         3.4976e-01, -1.3188e-01, -7.0824e-02, -4.1549e-01, -4.5701e-01,\n",
            "        -2.8437e-02, -1.5406e-01,  3.3884e-01,  6.6175e-01, -2.1380e-01,\n",
            "        -1.8267e-01, -1.7277e-01,  3.0526e-01, -3.2452e-01, -6.5054e-02,\n",
            "        -2.7734e-01, -2.3107e-01, -5.3843e-01,  5.0413e-01, -8.4351e-03,\n",
            "         2.5208e-01,  2.2009e-01,  1.6381e-02, -3.2516e-02,  7.8832e-02,\n",
            "        -4.4394e-01,  1.9710e-01, -5.7782e-02, -1.1970e-01, -4.3235e-01,\n",
            "         5.8825e-01,  3.3527e-01, -1.3951e-01, -9.1755e-02, -2.0916e-01,\n",
            "         1.3525e-01,  2.7200e-01, -3.8917e-01,  7.2203e-02,  3.2416e-02,\n",
            "        -2.3647e-02,  2.2941e-01, -3.2461e-02,  1.2986e-01, -1.0103e-01,\n",
            "         2.9506e-03, -3.7561e-01,  4.2262e-01,  1.9220e-01, -5.0422e-02,\n",
            "         8.2052e-02,  3.8995e-01, -3.9670e-02,  7.2237e-01, -5.3138e-01,\n",
            "         2.4074e-01, -2.1747e-01,  2.0707e-01, -1.1495e-01,  1.2031e-01,\n",
            "        -1.3167e-02,  7.6669e-02,  4.6398e-01, -2.0557e-01,  1.1616e-01,\n",
            "         8.1795e-02, -8.5544e-02, -5.4625e-01,  4.0058e-01,  4.5019e-02,\n",
            "         2.9949e-01, -1.6551e-01, -7.8812e-01, -1.9633e-01, -1.2735e-01,\n",
            "         6.7550e-01, -1.8660e-01,  9.3688e-02,  2.8054e-03,  3.1325e-01,\n",
            "         2.2599e-01, -1.8762e-01, -6.3867e-01, -8.9720e-02,  3.6658e-01,\n",
            "         3.8075e-01,  1.7178e-01, -8.6174e-03, -6.5775e-02,  5.7723e-03,\n",
            "        -7.3314e-02,  8.7750e-02,  4.0202e-01, -2.1107e-01,  7.4081e-03,\n",
            "         2.8177e-02, -1.0713e-01,  4.1308e-01, -5.8173e-01,  3.1477e-01,\n",
            "         2.4732e-01,  7.0499e-02, -6.1813e-02,  2.7629e-01, -4.4746e-02,\n",
            "         2.4633e-01, -2.5624e-01, -4.1280e-01,  5.8883e-01,  1.6756e-01,\n",
            "        -3.9461e-02, -6.6592e-02,  3.0520e-01, -1.1100e-01, -3.0704e-01,\n",
            "         4.6378e-01, -5.9814e-01, -3.1876e-01, -3.2337e-01,  4.2491e-01,\n",
            "         2.2977e-01, -5.8695e-02, -1.8294e-01,  1.0520e-01,  4.1683e-01,\n",
            "         1.2522e-01,  8.3011e-02, -9.2289e-02, -3.8013e-01, -1.2556e-02,\n",
            "        -1.0533e-01,  1.5987e-01,  3.0042e-01,  6.3484e-01,  1.2821e-01,\n",
            "        -3.0740e-01, -9.4170e-02, -1.4260e-01, -1.9099e-01, -4.3315e-01,\n",
            "         9.0847e-02,  2.2741e-01, -2.4837e-01,  1.9035e-01,  3.5944e-01,\n",
            "        -1.5010e-01,  2.8656e-01,  1.4587e-01, -4.1995e-02, -4.8607e-02,\n",
            "        -4.0067e-01, -4.4183e-01,  3.0170e-01,  8.2180e-02,  3.0557e-01,\n",
            "        -1.0979e-01,  1.2989e-01,  1.0978e-01, -2.9689e-02, -1.1864e-01,\n",
            "        -3.7218e-01, -4.9447e-01, -1.2692e-01, -4.0356e-01,  1.1771e-01,\n",
            "        -8.2424e-02, -3.6571e-02,  2.5060e-02, -1.1489e-01,  3.3871e-01,\n",
            "         3.1776e-02, -3.1578e-01, -6.5180e-02, -5.8060e-02, -2.9311e-01,\n",
            "        -6.1277e-01, -2.5947e-01, -3.5585e-01,  2.6873e-01,  4.7434e-01,\n",
            "         2.2759e-01, -7.4631e-02, -1.1485e-01, -2.6919e-01, -1.2136e-01,\n",
            "         3.4376e-01,  3.0838e-02,  1.3721e-01,  4.6693e-01, -3.4413e-01,\n",
            "        -2.8510e-01, -3.3948e-01,  1.1541e-01, -5.2677e-01,  2.4673e-01,\n",
            "        -2.9426e-01, -2.9282e-01,  1.0182e+01, -5.4357e-02,  2.2471e-01,\n",
            "        -3.8435e-01,  3.4923e-01, -7.8512e-01, -5.1630e-01,  1.6070e-01,\n",
            "        -3.3856e-01,  3.1585e-01,  1.2933e-01, -1.5541e-01,  8.8636e-03,\n",
            "        -1.6302e-01, -4.8836e-01,  2.2978e-01, -6.2475e-02,  2.9885e-01,\n",
            "         2.0704e-03, -4.5634e-01, -1.1645e-01, -5.7374e-01,  3.6659e-01,\n",
            "        -1.0620e+00,  2.2692e-01, -2.4359e-01,  2.7572e-01,  4.2348e-03,\n",
            "        -3.2756e-01, -1.0872e-01,  2.5904e-01, -4.1710e-01, -3.4907e-02,\n",
            "        -2.0279e-01,  5.5974e-03,  4.6804e-01, -1.8536e-01,  6.8355e-02,\n",
            "        -1.1386e-01,  3.3194e-02,  4.1667e-02,  1.1611e-01,  6.1759e-02,\n",
            "        -1.0734e-01, -9.7718e-02, -1.3584e-01, -5.9973e-01,  6.8973e-01,\n",
            "         4.7523e-01,  5.2370e-02, -2.1656e-01,  7.5682e-02, -1.2870e-01,\n",
            "        -1.8151e-01,  1.8012e-01, -8.9809e-02,  2.6717e-01, -9.5889e-02,\n",
            "        -5.1675e-02,  5.3564e-01, -2.9633e-01, -3.3201e-01,  2.1999e-01,\n",
            "        -4.6465e-01, -1.7137e-01,  1.8088e-01, -1.8381e-01, -8.0734e-02,\n",
            "         2.1317e-02, -1.0147e+00,  1.3311e-02,  1.2787e-01, -3.7716e-01,\n",
            "         4.5893e-02, -4.9739e-02, -2.0368e-01,  2.6763e-01,  5.2782e-01,\n",
            "        -3.7435e-01,  3.9588e-01,  2.6132e-01,  1.1611e-01,  3.5518e-01,\n",
            "        -2.2051e-01, -3.3402e-01, -7.9314e-02, -1.0021e-01,  2.8372e-01,\n",
            "         3.6739e-01,  2.6868e-01, -4.6391e-01,  1.0433e-01, -7.1819e-01,\n",
            "        -1.8443e-01, -3.9950e-01, -6.1662e-04,  2.6777e-01, -1.7964e-01,\n",
            "        -1.0999e-01, -8.0848e-02,  2.9714e-02, -2.8391e-01, -1.8848e-01,\n",
            "        -7.7118e-02,  9.6582e-02,  1.8614e-01,  1.6531e-01,  4.5868e-01,\n",
            "         3.4460e-01,  3.7486e-01, -4.4291e-01,  6.3486e-01,  3.8980e-01,\n",
            "        -3.9473e-01,  3.0777e-01,  1.2558e-01,  1.6727e-01,  4.7388e-01,\n",
            "        -3.3845e-01,  5.2670e-01, -1.4810e-01, -1.5892e-01,  5.2498e-01,\n",
            "         4.8404e-02,  9.6735e-02,  1.0148e-01, -3.6672e-02, -3.1362e-02,\n",
            "        -7.6444e-02,  2.7200e-04,  2.0458e-02,  3.1370e-02,  8.8373e-01,\n",
            "        -1.4680e-01, -4.2265e-01,  7.1759e-01, -6.6062e-01,  2.9657e-01,\n",
            "         2.9785e-01, -4.4993e-01,  4.9340e-02, -9.5426e-02, -4.2644e-01,\n",
            "        -2.7056e-01, -1.5309e-01, -2.3046e-01,  2.6005e-01,  3.9554e-02,\n",
            "        -2.9172e-02, -4.9005e-01, -4.7913e-01], device='cuda:0',\n",
            "       grad_fn=<SelectBackward0>)\n"
          ]
        }
      ]
    },
    {
      "cell_type": "code",
      "source": [
        "# torch.no_grad() : 計算の途中経過を保存しないことで、メモリと計算時間を減らす\n",
        "\n",
        "with torch.no_grad():\n",
        "  output = bert(**encoding)\n",
        "  last_hidden_state = output.last_hidden_state"
      ],
      "metadata": {
        "id": "SiodvskwGilG"
      },
      "execution_count": 21,
      "outputs": []
    },
    {
      "cell_type": "code",
      "source": [
        "# last_hidden_stateをCPUに移す（今はGPU上にある）\n",
        "# last_hidden_state　= last_hidden_state.cpu()\n",
        "\n",
        "# last_hidden_stateをnumpy.ndarrayに変換\n",
        "# last_hidden_state = last_hidden_state.numpy()\n",
        "\n",
        "# last_hidden_stateをリストに変換\n",
        "# last_hidden_state = last_hidden_state.tolist()"
      ],
      "metadata": {
        "id": "ufGE2rYmG4jv"
      },
      "execution_count": null,
      "outputs": []
    }
  ]
}