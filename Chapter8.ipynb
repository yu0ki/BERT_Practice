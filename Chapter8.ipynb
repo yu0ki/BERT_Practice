{
  "nbformat": 4,
  "nbformat_minor": 0,
  "metadata": {
    "colab": {
      "provenance": [],
      "collapsed_sections": [],
      "authorship_tag": "ABX9TyMWknZ589/Mnj6cmKvbUIIz",
      "include_colab_link": true
    },
    "kernelspec": {
      "name": "python3",
      "display_name": "Python 3"
    },
    "language_info": {
      "name": "python"
    },
    "accelerator": "GPU",
    "gpuClass": "standard",
    "widgets": {
      "application/vnd.jupyter.widget-state+json": {
        "2bf138185995486b8886710bffee82ff": {
          "model_module": "@jupyter-widgets/controls",
          "model_name": "HBoxModel",
          "model_module_version": "1.5.0",
          "state": {
            "_dom_classes": [],
            "_model_module": "@jupyter-widgets/controls",
            "_model_module_version": "1.5.0",
            "_model_name": "HBoxModel",
            "_view_count": null,
            "_view_module": "@jupyter-widgets/controls",
            "_view_module_version": "1.5.0",
            "_view_name": "HBoxView",
            "box_style": "",
            "children": [
              "IPY_MODEL_f3d3c284995b469caafb2fc1f6ed2d3d",
              "IPY_MODEL_c3b17567cb9a4b8c9ea2ddef86cc489a",
              "IPY_MODEL_9c60f650a0304037bb9087c9ecf65f5e"
            ],
            "layout": "IPY_MODEL_8fa3ab539aab45a79de8375a55e92f95"
          }
        },
        "f3d3c284995b469caafb2fc1f6ed2d3d": {
          "model_module": "@jupyter-widgets/controls",
          "model_name": "HTMLModel",
          "model_module_version": "1.5.0",
          "state": {
            "_dom_classes": [],
            "_model_module": "@jupyter-widgets/controls",
            "_model_module_version": "1.5.0",
            "_model_name": "HTMLModel",
            "_view_count": null,
            "_view_module": "@jupyter-widgets/controls",
            "_view_module_version": "1.5.0",
            "_view_name": "HTMLView",
            "description": "",
            "description_tooltip": null,
            "layout": "IPY_MODEL_f02013e170404ea1a9ba1cde568ddece",
            "placeholder": "​",
            "style": "IPY_MODEL_1e9e0bc67b2e430f90a6dd8253c2dc41",
            "value": "Sanity Checking DataLoader 0: 100%"
          }
        },
        "c3b17567cb9a4b8c9ea2ddef86cc489a": {
          "model_module": "@jupyter-widgets/controls",
          "model_name": "FloatProgressModel",
          "model_module_version": "1.5.0",
          "state": {
            "_dom_classes": [],
            "_model_module": "@jupyter-widgets/controls",
            "_model_module_version": "1.5.0",
            "_model_name": "FloatProgressModel",
            "_view_count": null,
            "_view_module": "@jupyter-widgets/controls",
            "_view_module_version": "1.5.0",
            "_view_name": "ProgressView",
            "bar_style": "info",
            "description": "",
            "description_tooltip": null,
            "layout": "IPY_MODEL_58fd7936c3c64b18a2d319db85e48be6",
            "max": 1,
            "min": 0,
            "orientation": "horizontal",
            "style": "IPY_MODEL_902d9dd539d948fdb915badbf6541341",
            "value": 1
          }
        },
        "9c60f650a0304037bb9087c9ecf65f5e": {
          "model_module": "@jupyter-widgets/controls",
          "model_name": "HTMLModel",
          "model_module_version": "1.5.0",
          "state": {
            "_dom_classes": [],
            "_model_module": "@jupyter-widgets/controls",
            "_model_module_version": "1.5.0",
            "_model_name": "HTMLModel",
            "_view_count": null,
            "_view_module": "@jupyter-widgets/controls",
            "_view_module_version": "1.5.0",
            "_view_name": "HTMLView",
            "description": "",
            "description_tooltip": null,
            "layout": "IPY_MODEL_c6c15b3c0e0347cc88ba64ff2e7d645c",
            "placeholder": "​",
            "style": "IPY_MODEL_b16c54aebfe84b6db583f8a22f23b44d",
            "value": " 2/2 [00:01&lt;00:00,  1.14it/s]"
          }
        },
        "8fa3ab539aab45a79de8375a55e92f95": {
          "model_module": "@jupyter-widgets/base",
          "model_name": "LayoutModel",
          "model_module_version": "1.2.0",
          "state": {
            "_model_module": "@jupyter-widgets/base",
            "_model_module_version": "1.2.0",
            "_model_name": "LayoutModel",
            "_view_count": null,
            "_view_module": "@jupyter-widgets/base",
            "_view_module_version": "1.2.0",
            "_view_name": "LayoutView",
            "align_content": null,
            "align_items": null,
            "align_self": null,
            "border": null,
            "bottom": null,
            "display": "inline-flex",
            "flex": null,
            "flex_flow": "row wrap",
            "grid_area": null,
            "grid_auto_columns": null,
            "grid_auto_flow": null,
            "grid_auto_rows": null,
            "grid_column": null,
            "grid_gap": null,
            "grid_row": null,
            "grid_template_areas": null,
            "grid_template_columns": null,
            "grid_template_rows": null,
            "height": null,
            "justify_content": null,
            "justify_items": null,
            "left": null,
            "margin": null,
            "max_height": null,
            "max_width": null,
            "min_height": null,
            "min_width": null,
            "object_fit": null,
            "object_position": null,
            "order": null,
            "overflow": null,
            "overflow_x": null,
            "overflow_y": null,
            "padding": null,
            "right": null,
            "top": null,
            "visibility": "hidden",
            "width": "100%"
          }
        },
        "f02013e170404ea1a9ba1cde568ddece": {
          "model_module": "@jupyter-widgets/base",
          "model_name": "LayoutModel",
          "model_module_version": "1.2.0",
          "state": {
            "_model_module": "@jupyter-widgets/base",
            "_model_module_version": "1.2.0",
            "_model_name": "LayoutModel",
            "_view_count": null,
            "_view_module": "@jupyter-widgets/base",
            "_view_module_version": "1.2.0",
            "_view_name": "LayoutView",
            "align_content": null,
            "align_items": null,
            "align_self": null,
            "border": null,
            "bottom": null,
            "display": null,
            "flex": null,
            "flex_flow": null,
            "grid_area": null,
            "grid_auto_columns": null,
            "grid_auto_flow": null,
            "grid_auto_rows": null,
            "grid_column": null,
            "grid_gap": null,
            "grid_row": null,
            "grid_template_areas": null,
            "grid_template_columns": null,
            "grid_template_rows": null,
            "height": null,
            "justify_content": null,
            "justify_items": null,
            "left": null,
            "margin": null,
            "max_height": null,
            "max_width": null,
            "min_height": null,
            "min_width": null,
            "object_fit": null,
            "object_position": null,
            "order": null,
            "overflow": null,
            "overflow_x": null,
            "overflow_y": null,
            "padding": null,
            "right": null,
            "top": null,
            "visibility": null,
            "width": null
          }
        },
        "1e9e0bc67b2e430f90a6dd8253c2dc41": {
          "model_module": "@jupyter-widgets/controls",
          "model_name": "DescriptionStyleModel",
          "model_module_version": "1.5.0",
          "state": {
            "_model_module": "@jupyter-widgets/controls",
            "_model_module_version": "1.5.0",
            "_model_name": "DescriptionStyleModel",
            "_view_count": null,
            "_view_module": "@jupyter-widgets/base",
            "_view_module_version": "1.2.0",
            "_view_name": "StyleView",
            "description_width": ""
          }
        },
        "58fd7936c3c64b18a2d319db85e48be6": {
          "model_module": "@jupyter-widgets/base",
          "model_name": "LayoutModel",
          "model_module_version": "1.2.0",
          "state": {
            "_model_module": "@jupyter-widgets/base",
            "_model_module_version": "1.2.0",
            "_model_name": "LayoutModel",
            "_view_count": null,
            "_view_module": "@jupyter-widgets/base",
            "_view_module_version": "1.2.0",
            "_view_name": "LayoutView",
            "align_content": null,
            "align_items": null,
            "align_self": null,
            "border": null,
            "bottom": null,
            "display": null,
            "flex": "2",
            "flex_flow": null,
            "grid_area": null,
            "grid_auto_columns": null,
            "grid_auto_flow": null,
            "grid_auto_rows": null,
            "grid_column": null,
            "grid_gap": null,
            "grid_row": null,
            "grid_template_areas": null,
            "grid_template_columns": null,
            "grid_template_rows": null,
            "height": null,
            "justify_content": null,
            "justify_items": null,
            "left": null,
            "margin": null,
            "max_height": null,
            "max_width": null,
            "min_height": null,
            "min_width": null,
            "object_fit": null,
            "object_position": null,
            "order": null,
            "overflow": null,
            "overflow_x": null,
            "overflow_y": null,
            "padding": null,
            "right": null,
            "top": null,
            "visibility": null,
            "width": null
          }
        },
        "902d9dd539d948fdb915badbf6541341": {
          "model_module": "@jupyter-widgets/controls",
          "model_name": "ProgressStyleModel",
          "model_module_version": "1.5.0",
          "state": {
            "_model_module": "@jupyter-widgets/controls",
            "_model_module_version": "1.5.0",
            "_model_name": "ProgressStyleModel",
            "_view_count": null,
            "_view_module": "@jupyter-widgets/base",
            "_view_module_version": "1.2.0",
            "_view_name": "StyleView",
            "bar_color": null,
            "description_width": ""
          }
        },
        "c6c15b3c0e0347cc88ba64ff2e7d645c": {
          "model_module": "@jupyter-widgets/base",
          "model_name": "LayoutModel",
          "model_module_version": "1.2.0",
          "state": {
            "_model_module": "@jupyter-widgets/base",
            "_model_module_version": "1.2.0",
            "_model_name": "LayoutModel",
            "_view_count": null,
            "_view_module": "@jupyter-widgets/base",
            "_view_module_version": "1.2.0",
            "_view_name": "LayoutView",
            "align_content": null,
            "align_items": null,
            "align_self": null,
            "border": null,
            "bottom": null,
            "display": null,
            "flex": null,
            "flex_flow": null,
            "grid_area": null,
            "grid_auto_columns": null,
            "grid_auto_flow": null,
            "grid_auto_rows": null,
            "grid_column": null,
            "grid_gap": null,
            "grid_row": null,
            "grid_template_areas": null,
            "grid_template_columns": null,
            "grid_template_rows": null,
            "height": null,
            "justify_content": null,
            "justify_items": null,
            "left": null,
            "margin": null,
            "max_height": null,
            "max_width": null,
            "min_height": null,
            "min_width": null,
            "object_fit": null,
            "object_position": null,
            "order": null,
            "overflow": null,
            "overflow_x": null,
            "overflow_y": null,
            "padding": null,
            "right": null,
            "top": null,
            "visibility": null,
            "width": null
          }
        },
        "b16c54aebfe84b6db583f8a22f23b44d": {
          "model_module": "@jupyter-widgets/controls",
          "model_name": "DescriptionStyleModel",
          "model_module_version": "1.5.0",
          "state": {
            "_model_module": "@jupyter-widgets/controls",
            "_model_module_version": "1.5.0",
            "_model_name": "DescriptionStyleModel",
            "_view_count": null,
            "_view_module": "@jupyter-widgets/base",
            "_view_module_version": "1.2.0",
            "_view_name": "StyleView",
            "description_width": ""
          }
        },
        "ab30085dbd1841f88dfef7c5239e8d7e": {
          "model_module": "@jupyter-widgets/controls",
          "model_name": "HBoxModel",
          "model_module_version": "1.5.0",
          "state": {
            "_dom_classes": [],
            "_model_module": "@jupyter-widgets/controls",
            "_model_module_version": "1.5.0",
            "_model_name": "HBoxModel",
            "_view_count": null,
            "_view_module": "@jupyter-widgets/controls",
            "_view_module_version": "1.5.0",
            "_view_name": "HBoxView",
            "box_style": "",
            "children": [
              "IPY_MODEL_b906f5b153c44884b98a094f12ee4664",
              "IPY_MODEL_8a91e1bd3e0c4ee5bafc896e165ad793",
              "IPY_MODEL_5d4f07ee2e17453a8b947d392ca50a58"
            ],
            "layout": "IPY_MODEL_5975be50fd364957aa0b93cccbd52fde"
          }
        },
        "b906f5b153c44884b98a094f12ee4664": {
          "model_module": "@jupyter-widgets/controls",
          "model_name": "HTMLModel",
          "model_module_version": "1.5.0",
          "state": {
            "_dom_classes": [],
            "_model_module": "@jupyter-widgets/controls",
            "_model_module_version": "1.5.0",
            "_model_name": "HTMLModel",
            "_view_count": null,
            "_view_module": "@jupyter-widgets/controls",
            "_view_module_version": "1.5.0",
            "_view_name": "HTMLView",
            "description": "",
            "description_tooltip": null,
            "layout": "IPY_MODEL_e957659eb5974623ad0a77822c9d9bca",
            "placeholder": "​",
            "style": "IPY_MODEL_631a85c2cfaf4201a715972876e41dfa",
            "value": "Epoch 0: 100%"
          }
        },
        "8a91e1bd3e0c4ee5bafc896e165ad793": {
          "model_module": "@jupyter-widgets/controls",
          "model_name": "FloatProgressModel",
          "model_module_version": "1.5.0",
          "state": {
            "_dom_classes": [],
            "_model_module": "@jupyter-widgets/controls",
            "_model_module_version": "1.5.0",
            "_model_name": "FloatProgressModel",
            "_view_count": null,
            "_view_module": "@jupyter-widgets/controls",
            "_view_module_version": "1.5.0",
            "_view_name": "ProgressView",
            "bar_style": "success",
            "description": "",
            "description_tooltip": null,
            "layout": "IPY_MODEL_219a766c80ae43f589f8e356b20eeece",
            "max": 1,
            "min": 0,
            "orientation": "horizontal",
            "style": "IPY_MODEL_cbf33b21bc27446b9c5526170eb00991",
            "value": 1
          }
        },
        "5d4f07ee2e17453a8b947d392ca50a58": {
          "model_module": "@jupyter-widgets/controls",
          "model_name": "HTMLModel",
          "model_module_version": "1.5.0",
          "state": {
            "_dom_classes": [],
            "_model_module": "@jupyter-widgets/controls",
            "_model_module_version": "1.5.0",
            "_model_name": "HTMLModel",
            "_view_count": null,
            "_view_module": "@jupyter-widgets/controls",
            "_view_module_version": "1.5.0",
            "_view_name": "HTMLView",
            "description": "",
            "description_tooltip": null,
            "layout": "IPY_MODEL_399759e027d04a209dc1a17a4bb50efb",
            "placeholder": "​",
            "style": "IPY_MODEL_ab5afdf4345343f3844bdd23186d903d",
            "value": " 106/106 [01:16&lt;00:00,  1.39it/s, loss=0.17, v_num=2]"
          }
        },
        "5975be50fd364957aa0b93cccbd52fde": {
          "model_module": "@jupyter-widgets/base",
          "model_name": "LayoutModel",
          "model_module_version": "1.2.0",
          "state": {
            "_model_module": "@jupyter-widgets/base",
            "_model_module_version": "1.2.0",
            "_model_name": "LayoutModel",
            "_view_count": null,
            "_view_module": "@jupyter-widgets/base",
            "_view_module_version": "1.2.0",
            "_view_name": "LayoutView",
            "align_content": null,
            "align_items": null,
            "align_self": null,
            "border": null,
            "bottom": null,
            "display": "inline-flex",
            "flex": null,
            "flex_flow": "row wrap",
            "grid_area": null,
            "grid_auto_columns": null,
            "grid_auto_flow": null,
            "grid_auto_rows": null,
            "grid_column": null,
            "grid_gap": null,
            "grid_row": null,
            "grid_template_areas": null,
            "grid_template_columns": null,
            "grid_template_rows": null,
            "height": null,
            "justify_content": null,
            "justify_items": null,
            "left": null,
            "margin": null,
            "max_height": null,
            "max_width": null,
            "min_height": null,
            "min_width": null,
            "object_fit": null,
            "object_position": null,
            "order": null,
            "overflow": null,
            "overflow_x": null,
            "overflow_y": null,
            "padding": null,
            "right": null,
            "top": null,
            "visibility": null,
            "width": "100%"
          }
        },
        "e957659eb5974623ad0a77822c9d9bca": {
          "model_module": "@jupyter-widgets/base",
          "model_name": "LayoutModel",
          "model_module_version": "1.2.0",
          "state": {
            "_model_module": "@jupyter-widgets/base",
            "_model_module_version": "1.2.0",
            "_model_name": "LayoutModel",
            "_view_count": null,
            "_view_module": "@jupyter-widgets/base",
            "_view_module_version": "1.2.0",
            "_view_name": "LayoutView",
            "align_content": null,
            "align_items": null,
            "align_self": null,
            "border": null,
            "bottom": null,
            "display": null,
            "flex": null,
            "flex_flow": null,
            "grid_area": null,
            "grid_auto_columns": null,
            "grid_auto_flow": null,
            "grid_auto_rows": null,
            "grid_column": null,
            "grid_gap": null,
            "grid_row": null,
            "grid_template_areas": null,
            "grid_template_columns": null,
            "grid_template_rows": null,
            "height": null,
            "justify_content": null,
            "justify_items": null,
            "left": null,
            "margin": null,
            "max_height": null,
            "max_width": null,
            "min_height": null,
            "min_width": null,
            "object_fit": null,
            "object_position": null,
            "order": null,
            "overflow": null,
            "overflow_x": null,
            "overflow_y": null,
            "padding": null,
            "right": null,
            "top": null,
            "visibility": null,
            "width": null
          }
        },
        "631a85c2cfaf4201a715972876e41dfa": {
          "model_module": "@jupyter-widgets/controls",
          "model_name": "DescriptionStyleModel",
          "model_module_version": "1.5.0",
          "state": {
            "_model_module": "@jupyter-widgets/controls",
            "_model_module_version": "1.5.0",
            "_model_name": "DescriptionStyleModel",
            "_view_count": null,
            "_view_module": "@jupyter-widgets/base",
            "_view_module_version": "1.2.0",
            "_view_name": "StyleView",
            "description_width": ""
          }
        },
        "219a766c80ae43f589f8e356b20eeece": {
          "model_module": "@jupyter-widgets/base",
          "model_name": "LayoutModel",
          "model_module_version": "1.2.0",
          "state": {
            "_model_module": "@jupyter-widgets/base",
            "_model_module_version": "1.2.0",
            "_model_name": "LayoutModel",
            "_view_count": null,
            "_view_module": "@jupyter-widgets/base",
            "_view_module_version": "1.2.0",
            "_view_name": "LayoutView",
            "align_content": null,
            "align_items": null,
            "align_self": null,
            "border": null,
            "bottom": null,
            "display": null,
            "flex": "2",
            "flex_flow": null,
            "grid_area": null,
            "grid_auto_columns": null,
            "grid_auto_flow": null,
            "grid_auto_rows": null,
            "grid_column": null,
            "grid_gap": null,
            "grid_row": null,
            "grid_template_areas": null,
            "grid_template_columns": null,
            "grid_template_rows": null,
            "height": null,
            "justify_content": null,
            "justify_items": null,
            "left": null,
            "margin": null,
            "max_height": null,
            "max_width": null,
            "min_height": null,
            "min_width": null,
            "object_fit": null,
            "object_position": null,
            "order": null,
            "overflow": null,
            "overflow_x": null,
            "overflow_y": null,
            "padding": null,
            "right": null,
            "top": null,
            "visibility": null,
            "width": null
          }
        },
        "cbf33b21bc27446b9c5526170eb00991": {
          "model_module": "@jupyter-widgets/controls",
          "model_name": "ProgressStyleModel",
          "model_module_version": "1.5.0",
          "state": {
            "_model_module": "@jupyter-widgets/controls",
            "_model_module_version": "1.5.0",
            "_model_name": "ProgressStyleModel",
            "_view_count": null,
            "_view_module": "@jupyter-widgets/base",
            "_view_module_version": "1.2.0",
            "_view_name": "StyleView",
            "bar_color": null,
            "description_width": ""
          }
        },
        "399759e027d04a209dc1a17a4bb50efb": {
          "model_module": "@jupyter-widgets/base",
          "model_name": "LayoutModel",
          "model_module_version": "1.2.0",
          "state": {
            "_model_module": "@jupyter-widgets/base",
            "_model_module_version": "1.2.0",
            "_model_name": "LayoutModel",
            "_view_count": null,
            "_view_module": "@jupyter-widgets/base",
            "_view_module_version": "1.2.0",
            "_view_name": "LayoutView",
            "align_content": null,
            "align_items": null,
            "align_self": null,
            "border": null,
            "bottom": null,
            "display": null,
            "flex": null,
            "flex_flow": null,
            "grid_area": null,
            "grid_auto_columns": null,
            "grid_auto_flow": null,
            "grid_auto_rows": null,
            "grid_column": null,
            "grid_gap": null,
            "grid_row": null,
            "grid_template_areas": null,
            "grid_template_columns": null,
            "grid_template_rows": null,
            "height": null,
            "justify_content": null,
            "justify_items": null,
            "left": null,
            "margin": null,
            "max_height": null,
            "max_width": null,
            "min_height": null,
            "min_width": null,
            "object_fit": null,
            "object_position": null,
            "order": null,
            "overflow": null,
            "overflow_x": null,
            "overflow_y": null,
            "padding": null,
            "right": null,
            "top": null,
            "visibility": null,
            "width": null
          }
        },
        "ab5afdf4345343f3844bdd23186d903d": {
          "model_module": "@jupyter-widgets/controls",
          "model_name": "DescriptionStyleModel",
          "model_module_version": "1.5.0",
          "state": {
            "_model_module": "@jupyter-widgets/controls",
            "_model_module_version": "1.5.0",
            "_model_name": "DescriptionStyleModel",
            "_view_count": null,
            "_view_module": "@jupyter-widgets/base",
            "_view_module_version": "1.2.0",
            "_view_name": "StyleView",
            "description_width": ""
          }
        },
        "519f8ba91a1a4ad5957d6e058deed3c6": {
          "model_module": "@jupyter-widgets/controls",
          "model_name": "HBoxModel",
          "model_module_version": "1.5.0",
          "state": {
            "_dom_classes": [],
            "_model_module": "@jupyter-widgets/controls",
            "_model_module_version": "1.5.0",
            "_model_name": "HBoxModel",
            "_view_count": null,
            "_view_module": "@jupyter-widgets/controls",
            "_view_module_version": "1.5.0",
            "_view_name": "HBoxView",
            "box_style": "",
            "children": [
              "IPY_MODEL_7a5d34c1c5ad48b98f9f90f649465202",
              "IPY_MODEL_62509dd5d62348cdb3bed86a6cf1c39d",
              "IPY_MODEL_12bdf0c238264ba8968a9c41e6ba6159"
            ],
            "layout": "IPY_MODEL_734cede3743646afaca91bdab0455c87"
          }
        },
        "7a5d34c1c5ad48b98f9f90f649465202": {
          "model_module": "@jupyter-widgets/controls",
          "model_name": "HTMLModel",
          "model_module_version": "1.5.0",
          "state": {
            "_dom_classes": [],
            "_model_module": "@jupyter-widgets/controls",
            "_model_module_version": "1.5.0",
            "_model_name": "HTMLModel",
            "_view_count": null,
            "_view_module": "@jupyter-widgets/controls",
            "_view_module_version": "1.5.0",
            "_view_name": "HTMLView",
            "description": "",
            "description_tooltip": null,
            "layout": "IPY_MODEL_16d434b2ffe9445288c3149dcacfd0bc",
            "placeholder": "​",
            "style": "IPY_MODEL_ccaa4432b44d4beabba958e09ceba6bb",
            "value": "Validation DataLoader 0: 100%"
          }
        },
        "62509dd5d62348cdb3bed86a6cf1c39d": {
          "model_module": "@jupyter-widgets/controls",
          "model_name": "FloatProgressModel",
          "model_module_version": "1.5.0",
          "state": {
            "_dom_classes": [],
            "_model_module": "@jupyter-widgets/controls",
            "_model_module_version": "1.5.0",
            "_model_name": "FloatProgressModel",
            "_view_count": null,
            "_view_module": "@jupyter-widgets/controls",
            "_view_module_version": "1.5.0",
            "_view_name": "ProgressView",
            "bar_style": "info",
            "description": "",
            "description_tooltip": null,
            "layout": "IPY_MODEL_92562fef4e9344b4ae0dc8a49a9c394e",
            "max": 1,
            "min": 0,
            "orientation": "horizontal",
            "style": "IPY_MODEL_dded591879af42ed97467fa07320654e",
            "value": 1
          }
        },
        "12bdf0c238264ba8968a9c41e6ba6159": {
          "model_module": "@jupyter-widgets/controls",
          "model_name": "HTMLModel",
          "model_module_version": "1.5.0",
          "state": {
            "_dom_classes": [],
            "_model_module": "@jupyter-widgets/controls",
            "_model_module_version": "1.5.0",
            "_model_name": "HTMLModel",
            "_view_count": null,
            "_view_module": "@jupyter-widgets/controls",
            "_view_module_version": "1.5.0",
            "_view_name": "HTMLView",
            "description": "",
            "description_tooltip": null,
            "layout": "IPY_MODEL_3953681aa38a4342b7aed0772c3c787a",
            "placeholder": "​",
            "style": "IPY_MODEL_ddb8a4e6355047a8b86ecdc32c8eb450",
            "value": " 5/5 [00:05&lt;00:00,  1.02s/it]"
          }
        },
        "734cede3743646afaca91bdab0455c87": {
          "model_module": "@jupyter-widgets/base",
          "model_name": "LayoutModel",
          "model_module_version": "1.2.0",
          "state": {
            "_model_module": "@jupyter-widgets/base",
            "_model_module_version": "1.2.0",
            "_model_name": "LayoutModel",
            "_view_count": null,
            "_view_module": "@jupyter-widgets/base",
            "_view_module_version": "1.2.0",
            "_view_name": "LayoutView",
            "align_content": null,
            "align_items": null,
            "align_self": null,
            "border": null,
            "bottom": null,
            "display": "inline-flex",
            "flex": null,
            "flex_flow": "row wrap",
            "grid_area": null,
            "grid_auto_columns": null,
            "grid_auto_flow": null,
            "grid_auto_rows": null,
            "grid_column": null,
            "grid_gap": null,
            "grid_row": null,
            "grid_template_areas": null,
            "grid_template_columns": null,
            "grid_template_rows": null,
            "height": null,
            "justify_content": null,
            "justify_items": null,
            "left": null,
            "margin": null,
            "max_height": null,
            "max_width": null,
            "min_height": null,
            "min_width": null,
            "object_fit": null,
            "object_position": null,
            "order": null,
            "overflow": null,
            "overflow_x": null,
            "overflow_y": null,
            "padding": null,
            "right": null,
            "top": null,
            "visibility": "hidden",
            "width": "100%"
          }
        },
        "16d434b2ffe9445288c3149dcacfd0bc": {
          "model_module": "@jupyter-widgets/base",
          "model_name": "LayoutModel",
          "model_module_version": "1.2.0",
          "state": {
            "_model_module": "@jupyter-widgets/base",
            "_model_module_version": "1.2.0",
            "_model_name": "LayoutModel",
            "_view_count": null,
            "_view_module": "@jupyter-widgets/base",
            "_view_module_version": "1.2.0",
            "_view_name": "LayoutView",
            "align_content": null,
            "align_items": null,
            "align_self": null,
            "border": null,
            "bottom": null,
            "display": null,
            "flex": null,
            "flex_flow": null,
            "grid_area": null,
            "grid_auto_columns": null,
            "grid_auto_flow": null,
            "grid_auto_rows": null,
            "grid_column": null,
            "grid_gap": null,
            "grid_row": null,
            "grid_template_areas": null,
            "grid_template_columns": null,
            "grid_template_rows": null,
            "height": null,
            "justify_content": null,
            "justify_items": null,
            "left": null,
            "margin": null,
            "max_height": null,
            "max_width": null,
            "min_height": null,
            "min_width": null,
            "object_fit": null,
            "object_position": null,
            "order": null,
            "overflow": null,
            "overflow_x": null,
            "overflow_y": null,
            "padding": null,
            "right": null,
            "top": null,
            "visibility": null,
            "width": null
          }
        },
        "ccaa4432b44d4beabba958e09ceba6bb": {
          "model_module": "@jupyter-widgets/controls",
          "model_name": "DescriptionStyleModel",
          "model_module_version": "1.5.0",
          "state": {
            "_model_module": "@jupyter-widgets/controls",
            "_model_module_version": "1.5.0",
            "_model_name": "DescriptionStyleModel",
            "_view_count": null,
            "_view_module": "@jupyter-widgets/base",
            "_view_module_version": "1.2.0",
            "_view_name": "StyleView",
            "description_width": ""
          }
        },
        "92562fef4e9344b4ae0dc8a49a9c394e": {
          "model_module": "@jupyter-widgets/base",
          "model_name": "LayoutModel",
          "model_module_version": "1.2.0",
          "state": {
            "_model_module": "@jupyter-widgets/base",
            "_model_module_version": "1.2.0",
            "_model_name": "LayoutModel",
            "_view_count": null,
            "_view_module": "@jupyter-widgets/base",
            "_view_module_version": "1.2.0",
            "_view_name": "LayoutView",
            "align_content": null,
            "align_items": null,
            "align_self": null,
            "border": null,
            "bottom": null,
            "display": null,
            "flex": "2",
            "flex_flow": null,
            "grid_area": null,
            "grid_auto_columns": null,
            "grid_auto_flow": null,
            "grid_auto_rows": null,
            "grid_column": null,
            "grid_gap": null,
            "grid_row": null,
            "grid_template_areas": null,
            "grid_template_columns": null,
            "grid_template_rows": null,
            "height": null,
            "justify_content": null,
            "justify_items": null,
            "left": null,
            "margin": null,
            "max_height": null,
            "max_width": null,
            "min_height": null,
            "min_width": null,
            "object_fit": null,
            "object_position": null,
            "order": null,
            "overflow": null,
            "overflow_x": null,
            "overflow_y": null,
            "padding": null,
            "right": null,
            "top": null,
            "visibility": null,
            "width": null
          }
        },
        "dded591879af42ed97467fa07320654e": {
          "model_module": "@jupyter-widgets/controls",
          "model_name": "ProgressStyleModel",
          "model_module_version": "1.5.0",
          "state": {
            "_model_module": "@jupyter-widgets/controls",
            "_model_module_version": "1.5.0",
            "_model_name": "ProgressStyleModel",
            "_view_count": null,
            "_view_module": "@jupyter-widgets/base",
            "_view_module_version": "1.2.0",
            "_view_name": "StyleView",
            "bar_color": null,
            "description_width": ""
          }
        },
        "3953681aa38a4342b7aed0772c3c787a": {
          "model_module": "@jupyter-widgets/base",
          "model_name": "LayoutModel",
          "model_module_version": "1.2.0",
          "state": {
            "_model_module": "@jupyter-widgets/base",
            "_model_module_version": "1.2.0",
            "_model_name": "LayoutModel",
            "_view_count": null,
            "_view_module": "@jupyter-widgets/base",
            "_view_module_version": "1.2.0",
            "_view_name": "LayoutView",
            "align_content": null,
            "align_items": null,
            "align_self": null,
            "border": null,
            "bottom": null,
            "display": null,
            "flex": null,
            "flex_flow": null,
            "grid_area": null,
            "grid_auto_columns": null,
            "grid_auto_flow": null,
            "grid_auto_rows": null,
            "grid_column": null,
            "grid_gap": null,
            "grid_row": null,
            "grid_template_areas": null,
            "grid_template_columns": null,
            "grid_template_rows": null,
            "height": null,
            "justify_content": null,
            "justify_items": null,
            "left": null,
            "margin": null,
            "max_height": null,
            "max_width": null,
            "min_height": null,
            "min_width": null,
            "object_fit": null,
            "object_position": null,
            "order": null,
            "overflow": null,
            "overflow_x": null,
            "overflow_y": null,
            "padding": null,
            "right": null,
            "top": null,
            "visibility": null,
            "width": null
          }
        },
        "ddb8a4e6355047a8b86ecdc32c8eb450": {
          "model_module": "@jupyter-widgets/controls",
          "model_name": "DescriptionStyleModel",
          "model_module_version": "1.5.0",
          "state": {
            "_model_module": "@jupyter-widgets/controls",
            "_model_module_version": "1.5.0",
            "_model_name": "DescriptionStyleModel",
            "_view_count": null,
            "_view_module": "@jupyter-widgets/base",
            "_view_module_version": "1.2.0",
            "_view_name": "StyleView",
            "description_width": ""
          }
        }
      }
    }
  },
  "cells": [
    {
      "cell_type": "markdown",
      "metadata": {
        "id": "view-in-github",
        "colab_type": "text"
      },
      "source": [
        "<a href=\"https://colab.research.google.com/github/yu0ki/BERT_Practice/blob/main/Chapter8.ipynb\" target=\"_parent\"><img src=\"https://colab.research.google.com/assets/colab-badge.svg\" alt=\"Open In Colab\"/></a>"
      ]
    },
    {
      "cell_type": "code",
      "execution_count": 1,
      "metadata": {
        "colab": {
          "base_uri": "https://localhost:8080/",
          "height": 35
        },
        "id": "EqLjWGBsw_C9",
        "outputId": "c43a4825-66f8-488e-9f2b-5d92e476299c"
      },
      "outputs": [
        {
          "output_type": "execute_result",
          "data": {
            "text/plain": [
              "'\\n本章でやること：固有表現抽出\\nつまり文章から人名、組織名といったものを抽出する\\nまずは簡単な方法を学んで、次にBERTを使ったものを学んでいく\\n'"
            ],
            "application/vnd.google.colaboratory.intrinsic+json": {
              "type": "string"
            }
          },
          "metadata": {},
          "execution_count": 1
        }
      ],
      "source": [
        "'''\n",
        "本章でやること：固有表現抽出\n",
        "つまり文章から人名、組織名といったものを抽出する\n",
        "まずは簡単な方法を学んで、次にBERTを使ったものを学んでいく\n",
        "'''"
      ]
    },
    {
      "cell_type": "code",
      "source": [
        "# まずはディレクトリ移動\n",
        "!mkdir chap8\n",
        "%cd ./chap8\n"
      ],
      "metadata": {
        "colab": {
          "base_uri": "https://localhost:8080/"
        },
        "id": "ulWkNLj1xuDT",
        "outputId": "a7c9ec45-1b5b-4f25-a3bd-44573f73c5b9"
      },
      "execution_count": 2,
      "outputs": [
        {
          "output_type": "stream",
          "name": "stdout",
          "text": [
            "/content/chap8\n"
          ]
        }
      ]
    },
    {
      "cell_type": "code",
      "source": [
        "# 次はライブラリ\n",
        "# バージョンが教科書のだと古いようなので、模範解答（https://github.com/stockmarkteam/bert-book/blob/master/Chapter6.ipynb）にバージョンを合わせている\n",
        "!pip install transformers==4.18.0 fugashi==1.1.0 ipadic==1.0.0 pytorch-lightning==1.6.1\n",
        "\n",
        "# 集合に関する数学的な操作のライブラリかな？\n",
        "# https://qiita.com/anmint/items/37ca0ded5e1d360b51f3\n",
        "import itertools\n",
        "\n",
        "import random\n",
        "import json\n",
        "from tqdm import tqdm\n",
        "import numpy as np\n",
        "\n",
        "# unicode文字列に対していろいろ操作できそうなライブラリ\n",
        "# https://docs.python.org/ja/3/library/unicodedata.html\n",
        "import unicodedata\n",
        "\n",
        "import torch\n",
        "from torch.utils.data import DataLoader\n",
        "from transformers import BertJapaneseTokenizer, BertForTokenClassification\n",
        "import pytorch_lightning as pl\n",
        "\n",
        "# 日本語学習済みモデル\n",
        "MODEL_NAME = 'cl-tohoku/bert-base-japanese-whole-word-masking'"
      ],
      "metadata": {
        "colab": {
          "base_uri": "https://localhost:8080/"
        },
        "id": "1VKOABi3yF89",
        "outputId": "600f9df2-c07f-42c8-8e01-acc20ad6c679"
      },
      "execution_count": 3,
      "outputs": [
        {
          "output_type": "stream",
          "name": "stdout",
          "text": [
            "Looking in indexes: https://pypi.org/simple, https://us-python.pkg.dev/colab-wheels/public/simple/\n",
            "Collecting transformers==4.18.0\n",
            "  Downloading transformers-4.18.0-py3-none-any.whl (4.0 MB)\n",
            "\u001b[K     |████████████████████████████████| 4.0 MB 7.9 MB/s \n",
            "\u001b[?25hCollecting fugashi==1.1.0\n",
            "  Downloading fugashi-1.1.0-cp37-cp37m-manylinux1_x86_64.whl (486 kB)\n",
            "\u001b[K     |████████████████████████████████| 486 kB 64.2 MB/s \n",
            "\u001b[?25hCollecting ipadic==1.0.0\n",
            "  Downloading ipadic-1.0.0.tar.gz (13.4 MB)\n",
            "\u001b[K     |████████████████████████████████| 13.4 MB 28.2 MB/s \n",
            "\u001b[?25hCollecting pytorch-lightning==1.6.1\n",
            "  Downloading pytorch_lightning-1.6.1-py3-none-any.whl (582 kB)\n",
            "\u001b[K     |████████████████████████████████| 582 kB 64.8 MB/s \n",
            "\u001b[?25hRequirement already satisfied: filelock in /usr/local/lib/python3.7/dist-packages (from transformers==4.18.0) (3.8.0)\n",
            "Requirement already satisfied: requests in /usr/local/lib/python3.7/dist-packages (from transformers==4.18.0) (2.23.0)\n",
            "Requirement already satisfied: importlib-metadata in /usr/local/lib/python3.7/dist-packages (from transformers==4.18.0) (4.12.0)\n",
            "Requirement already satisfied: tqdm>=4.27 in /usr/local/lib/python3.7/dist-packages (from transformers==4.18.0) (4.64.1)\n",
            "Collecting tokenizers!=0.11.3,<0.13,>=0.11.1\n",
            "  Downloading tokenizers-0.12.1-cp37-cp37m-manylinux_2_12_x86_64.manylinux2010_x86_64.whl (6.6 MB)\n",
            "\u001b[K     |████████████████████████████████| 6.6 MB 42.9 MB/s \n",
            "\u001b[?25hCollecting huggingface-hub<1.0,>=0.1.0\n",
            "  Downloading huggingface_hub-0.9.1-py3-none-any.whl (120 kB)\n",
            "\u001b[K     |████████████████████████████████| 120 kB 56.3 MB/s \n",
            "\u001b[?25hRequirement already satisfied: numpy>=1.17 in /usr/local/lib/python3.7/dist-packages (from transformers==4.18.0) (1.21.6)\n",
            "Requirement already satisfied: regex!=2019.12.17 in /usr/local/lib/python3.7/dist-packages (from transformers==4.18.0) (2022.6.2)\n",
            "Requirement already satisfied: packaging>=20.0 in /usr/local/lib/python3.7/dist-packages (from transformers==4.18.0) (21.3)\n",
            "Requirement already satisfied: pyyaml>=5.1 in /usr/local/lib/python3.7/dist-packages (from transformers==4.18.0) (6.0)\n",
            "Collecting sacremoses\n",
            "  Downloading sacremoses-0.0.53.tar.gz (880 kB)\n",
            "\u001b[K     |████████████████████████████████| 880 kB 70.0 MB/s \n",
            "\u001b[?25hRequirement already satisfied: tensorboard>=2.2.0 in /usr/local/lib/python3.7/dist-packages (from pytorch-lightning==1.6.1) (2.8.0)\n",
            "Collecting pyDeprecate<0.4.0,>=0.3.1\n",
            "  Downloading pyDeprecate-0.3.2-py3-none-any.whl (10 kB)\n",
            "Requirement already satisfied: typing-extensions>=4.0.0 in /usr/local/lib/python3.7/dist-packages (from pytorch-lightning==1.6.1) (4.1.1)\n",
            "Requirement already satisfied: torch>=1.8.* in /usr/local/lib/python3.7/dist-packages (from pytorch-lightning==1.6.1) (1.12.1+cu113)\n",
            "Requirement already satisfied: fsspec[http]!=2021.06.0,>=2021.05.0 in /usr/local/lib/python3.7/dist-packages (from pytorch-lightning==1.6.1) (2022.8.2)\n",
            "Collecting torchmetrics>=0.4.1\n",
            "  Downloading torchmetrics-0.9.3-py3-none-any.whl (419 kB)\n",
            "\u001b[K     |████████████████████████████████| 419 kB 50.4 MB/s \n",
            "\u001b[?25hRequirement already satisfied: aiohttp!=4.0.0a0,!=4.0.0a1 in /usr/local/lib/python3.7/dist-packages (from fsspec[http]!=2021.06.0,>=2021.05.0->pytorch-lightning==1.6.1) (3.8.1)\n",
            "Requirement already satisfied: attrs>=17.3.0 in /usr/local/lib/python3.7/dist-packages (from aiohttp!=4.0.0a0,!=4.0.0a1->fsspec[http]!=2021.06.0,>=2021.05.0->pytorch-lightning==1.6.1) (22.1.0)\n",
            "Requirement already satisfied: charset-normalizer<3.0,>=2.0 in /usr/local/lib/python3.7/dist-packages (from aiohttp!=4.0.0a0,!=4.0.0a1->fsspec[http]!=2021.06.0,>=2021.05.0->pytorch-lightning==1.6.1) (2.1.1)\n",
            "Requirement already satisfied: aiosignal>=1.1.2 in /usr/local/lib/python3.7/dist-packages (from aiohttp!=4.0.0a0,!=4.0.0a1->fsspec[http]!=2021.06.0,>=2021.05.0->pytorch-lightning==1.6.1) (1.2.0)\n",
            "Requirement already satisfied: async-timeout<5.0,>=4.0.0a3 in /usr/local/lib/python3.7/dist-packages (from aiohttp!=4.0.0a0,!=4.0.0a1->fsspec[http]!=2021.06.0,>=2021.05.0->pytorch-lightning==1.6.1) (4.0.2)\n",
            "Requirement already satisfied: asynctest==0.13.0 in /usr/local/lib/python3.7/dist-packages (from aiohttp!=4.0.0a0,!=4.0.0a1->fsspec[http]!=2021.06.0,>=2021.05.0->pytorch-lightning==1.6.1) (0.13.0)\n",
            "Requirement already satisfied: multidict<7.0,>=4.5 in /usr/local/lib/python3.7/dist-packages (from aiohttp!=4.0.0a0,!=4.0.0a1->fsspec[http]!=2021.06.0,>=2021.05.0->pytorch-lightning==1.6.1) (6.0.2)\n",
            "Requirement already satisfied: yarl<2.0,>=1.0 in /usr/local/lib/python3.7/dist-packages (from aiohttp!=4.0.0a0,!=4.0.0a1->fsspec[http]!=2021.06.0,>=2021.05.0->pytorch-lightning==1.6.1) (1.8.1)\n",
            "Requirement already satisfied: frozenlist>=1.1.1 in /usr/local/lib/python3.7/dist-packages (from aiohttp!=4.0.0a0,!=4.0.0a1->fsspec[http]!=2021.06.0,>=2021.05.0->pytorch-lightning==1.6.1) (1.3.1)\n",
            "Requirement already satisfied: pyparsing!=3.0.5,>=2.0.2 in /usr/local/lib/python3.7/dist-packages (from packaging>=20.0->transformers==4.18.0) (3.0.9)\n",
            "Requirement already satisfied: markdown>=2.6.8 in /usr/local/lib/python3.7/dist-packages (from tensorboard>=2.2.0->pytorch-lightning==1.6.1) (3.4.1)\n",
            "Requirement already satisfied: absl-py>=0.4 in /usr/local/lib/python3.7/dist-packages (from tensorboard>=2.2.0->pytorch-lightning==1.6.1) (1.2.0)\n",
            "Requirement already satisfied: werkzeug>=0.11.15 in /usr/local/lib/python3.7/dist-packages (from tensorboard>=2.2.0->pytorch-lightning==1.6.1) (1.0.1)\n",
            "Requirement already satisfied: google-auth-oauthlib<0.5,>=0.4.1 in /usr/local/lib/python3.7/dist-packages (from tensorboard>=2.2.0->pytorch-lightning==1.6.1) (0.4.6)\n",
            "Requirement already satisfied: tensorboard-plugin-wit>=1.6.0 in /usr/local/lib/python3.7/dist-packages (from tensorboard>=2.2.0->pytorch-lightning==1.6.1) (1.8.1)\n",
            "Requirement already satisfied: wheel>=0.26 in /usr/local/lib/python3.7/dist-packages (from tensorboard>=2.2.0->pytorch-lightning==1.6.1) (0.37.1)\n",
            "Requirement already satisfied: google-auth<3,>=1.6.3 in /usr/local/lib/python3.7/dist-packages (from tensorboard>=2.2.0->pytorch-lightning==1.6.1) (1.35.0)\n",
            "Requirement already satisfied: protobuf>=3.6.0 in /usr/local/lib/python3.7/dist-packages (from tensorboard>=2.2.0->pytorch-lightning==1.6.1) (3.17.3)\n",
            "Requirement already satisfied: tensorboard-data-server<0.7.0,>=0.6.0 in /usr/local/lib/python3.7/dist-packages (from tensorboard>=2.2.0->pytorch-lightning==1.6.1) (0.6.1)\n",
            "Requirement already satisfied: setuptools>=41.0.0 in /usr/local/lib/python3.7/dist-packages (from tensorboard>=2.2.0->pytorch-lightning==1.6.1) (57.4.0)\n",
            "Requirement already satisfied: grpcio>=1.24.3 in /usr/local/lib/python3.7/dist-packages (from tensorboard>=2.2.0->pytorch-lightning==1.6.1) (1.48.1)\n",
            "Requirement already satisfied: cachetools<5.0,>=2.0.0 in /usr/local/lib/python3.7/dist-packages (from google-auth<3,>=1.6.3->tensorboard>=2.2.0->pytorch-lightning==1.6.1) (4.2.4)\n",
            "Requirement already satisfied: six>=1.9.0 in /usr/local/lib/python3.7/dist-packages (from google-auth<3,>=1.6.3->tensorboard>=2.2.0->pytorch-lightning==1.6.1) (1.15.0)\n",
            "Requirement already satisfied: rsa<5,>=3.1.4 in /usr/local/lib/python3.7/dist-packages (from google-auth<3,>=1.6.3->tensorboard>=2.2.0->pytorch-lightning==1.6.1) (4.9)\n",
            "Requirement already satisfied: pyasn1-modules>=0.2.1 in /usr/local/lib/python3.7/dist-packages (from google-auth<3,>=1.6.3->tensorboard>=2.2.0->pytorch-lightning==1.6.1) (0.2.8)\n",
            "Requirement already satisfied: requests-oauthlib>=0.7.0 in /usr/local/lib/python3.7/dist-packages (from google-auth-oauthlib<0.5,>=0.4.1->tensorboard>=2.2.0->pytorch-lightning==1.6.1) (1.3.1)\n",
            "Requirement already satisfied: zipp>=0.5 in /usr/local/lib/python3.7/dist-packages (from importlib-metadata->transformers==4.18.0) (3.8.1)\n",
            "Requirement already satisfied: pyasn1<0.5.0,>=0.4.6 in /usr/local/lib/python3.7/dist-packages (from pyasn1-modules>=0.2.1->google-auth<3,>=1.6.3->tensorboard>=2.2.0->pytorch-lightning==1.6.1) (0.4.8)\n",
            "Requirement already satisfied: chardet<4,>=3.0.2 in /usr/local/lib/python3.7/dist-packages (from requests->transformers==4.18.0) (3.0.4)\n",
            "Requirement already satisfied: certifi>=2017.4.17 in /usr/local/lib/python3.7/dist-packages (from requests->transformers==4.18.0) (2022.6.15)\n",
            "Requirement already satisfied: urllib3!=1.25.0,!=1.25.1,<1.26,>=1.21.1 in /usr/local/lib/python3.7/dist-packages (from requests->transformers==4.18.0) (1.24.3)\n",
            "Requirement already satisfied: idna<3,>=2.5 in /usr/local/lib/python3.7/dist-packages (from requests->transformers==4.18.0) (2.10)\n",
            "Requirement already satisfied: oauthlib>=3.0.0 in /usr/local/lib/python3.7/dist-packages (from requests-oauthlib>=0.7.0->google-auth-oauthlib<0.5,>=0.4.1->tensorboard>=2.2.0->pytorch-lightning==1.6.1) (3.2.0)\n",
            "Requirement already satisfied: click in /usr/local/lib/python3.7/dist-packages (from sacremoses->transformers==4.18.0) (7.1.2)\n",
            "Requirement already satisfied: joblib in /usr/local/lib/python3.7/dist-packages (from sacremoses->transformers==4.18.0) (1.1.0)\n",
            "Building wheels for collected packages: ipadic, sacremoses\n",
            "  Building wheel for ipadic (setup.py) ... \u001b[?25l\u001b[?25hdone\n",
            "  Created wheel for ipadic: filename=ipadic-1.0.0-py3-none-any.whl size=13556723 sha256=8220556d9353c85406fe87c2f72f88534949ec9b85964216f96256027d7c7da4\n",
            "  Stored in directory: /root/.cache/pip/wheels/33/8b/99/cf0d27191876637cd3639a560f93aa982d7855ce826c94348b\n",
            "  Building wheel for sacremoses (setup.py) ... \u001b[?25l\u001b[?25hdone\n",
            "  Created wheel for sacremoses: filename=sacremoses-0.0.53-py3-none-any.whl size=895260 sha256=9a74da50436ee074f5834663fcbbd9172c0c62da7a6970e97e20d28f380b496b\n",
            "  Stored in directory: /root/.cache/pip/wheels/87/39/dd/a83eeef36d0bf98e7a4d1933a4ad2d660295a40613079bafc9\n",
            "Successfully built ipadic sacremoses\n",
            "Installing collected packages: torchmetrics, tokenizers, sacremoses, pyDeprecate, huggingface-hub, transformers, pytorch-lightning, ipadic, fugashi\n",
            "Successfully installed fugashi-1.1.0 huggingface-hub-0.9.1 ipadic-1.0.0 pyDeprecate-0.3.2 pytorch-lightning-1.6.1 sacremoses-0.0.53 tokenizers-0.12.1 torchmetrics-0.9.3 transformers-4.18.0\n"
          ]
        }
      ]
    },
    {
      "cell_type": "code",
      "source": [
        "'''\n",
        "固有表現抽出とは\n",
        "\n",
        "人名・組織名などの固有名詞\n",
        "日付などの時間表現\n",
        "金額などの数値表現\n",
        "\n",
        "などを抽出する。そして、それが人名なのかなんなのか、カテゴリを判定する\n",
        "\n",
        "ちなみに、どんなカテゴリが定義されているかは何パターンかあり、問題によって変える\n",
        "IREX\n",
        "拡張固有表現階層\n",
        "などがある\n",
        "'''"
      ],
      "metadata": {
        "colab": {
          "base_uri": "https://localhost:8080/",
          "height": 53
        },
        "id": "lkeYk-Xszf2e",
        "outputId": "b4e5f7f7-5d69-4649-dd66-b48fc9e3c45d"
      },
      "execution_count": 4,
      "outputs": [
        {
          "output_type": "execute_result",
          "data": {
            "text/plain": [
              "'\\n固有表現抽出とは\\n\\n人名・組織名などの固有名詞\\n日付などの時間表現\\n金額などの数値表現\\n\\nなどを抽出する。そして、それが人名なのかなんなのか、カテゴリを判定する\\n\\nちなみに、どんなカテゴリが定義されているかは何パターンかあり、問題によって変える\\nIREX\\n拡張固有表現階層\\nなどがある\\n'"
            ],
            "application/vnd.google.colaboratory.intrinsic+json": {
              "type": "string"
            }
          },
          "metadata": {},
          "execution_count": 4
        }
      ]
    },
    {
      "cell_type": "code",
      "source": [
        "'''\n",
        "表記揺れについて\n",
        "\n",
        "固有表現には全角・半角などの違いで、表記揺れが発生する\n",
        "よって、これらを正規化することで１つに統一する必要がある\n",
        "\n",
        "正規化には、unicodedata.normalize('NFKC', text) が用いられる\n",
        "NFKCは正規化のモード\n",
        "textは正規化対象の文字列\n",
        "\n",
        "'''\n",
        "# 匿名関数lambda\n",
        "normalize = lambda s: unicodedata.normalize(\"NFKC\", s)\n",
        "\n",
        "# 全角ABCを半角に正規化\n",
        "print(f'ＡＢＣ　-> {normalize(\"ＡＢＣ\")}')\n",
        "# 半角ABCを半角に正規化\n",
        "print(f'ABC　-> {normalize(\"ABC\")}')\n",
        "\n",
        "# 全角１２３を半角に正規化\n",
        "print(f'１２３　-> {normalize(\"１２３\")}')\n",
        "# 半角ABCを半角に正規化\n",
        "print(f'123　-> {normalize(\"123\")}')\n",
        "\n",
        "# 全角カタカナを全角に正規化\n",
        "print(f'アイウ　-> {normalize(\"アイウ\")}')\n",
        "# 半角カタカナを全角に正規化\n",
        "print(f'ｱｲｳ　-> {normalize(\"ｱｲｳ\")}')"
      ],
      "metadata": {
        "colab": {
          "base_uri": "https://localhost:8080/"
        },
        "id": "_cTRA9S40vL6",
        "outputId": "4d0bedf8-f368-417c-aeb7-52191f345695"
      },
      "execution_count": 5,
      "outputs": [
        {
          "output_type": "stream",
          "name": "stdout",
          "text": [
            "ＡＢＣ　-> ABC\n",
            "ABC　-> ABC\n",
            "１２３　-> 123\n",
            "123　-> 123\n",
            "アイウ　-> アイウ\n",
            "ｱｲｳ　-> アイウ\n"
          ]
        }
      ]
    },
    {
      "cell_type": "code",
      "source": [
        "'''\n",
        "固有表現抽出方法１\n",
        "IO法\n",
        "\n",
        "簡単なアルゴリズムであるが、一般的にはBIO法の方がよく使われる\n",
        "    IO法でもまあまあいいが、一部対応できない表現があるためBIOが使われる傾向にある\n",
        "\n",
        "アルゴリズム\n",
        "１。トークンが固有表現の一部であれば、トークンにタグ「I-(Type)」をつける.  ex) I - (人名)　など\n",
        "２。トークンが固有表現の一部でないならば、トークンのタグはOとする\n",
        "3。O以外の同じタグが連続している部分トークン列を連結して、固有表現とする\n",
        "    トークナイザがトークン分割の際に「##」を付与している場合があるので、これは除外して結合する\n",
        "\n",
        "I は Inside, O は Outsideから来ている\n",
        "\n",
        "\n",
        "問題点\n",
        "同じタグを持つ固有名詞が複数続いた場合は、全てが連結されて一つの固有表現として抽出される\n",
        "日米　などは日本とアメリカで別々のはずなのに、1個に合体してしまう\n",
        "\n",
        "'''"
      ],
      "metadata": {
        "colab": {
          "base_uri": "https://localhost:8080/",
          "height": 88
        },
        "id": "5cuuzIi86pMq",
        "outputId": "66c1c66b-d6b1-455b-c7bc-f57a4f38e284"
      },
      "execution_count": 6,
      "outputs": [
        {
          "output_type": "execute_result",
          "data": {
            "text/plain": [
              "'\\n固有表現抽出方法１\\nIO法\\n\\n簡単なアルゴリズムであるが、一般的にはBIO法の方がよく使われる\\n    IO法でもまあまあいいが、一部対応できない表現があるためBIOが使われる傾向にある\\n\\nアルゴリズム\\n１。トークンが固有表現の一部であれば、トークンにタグ「I-(Type)」をつける.  ex) I - (人名)\\u3000など\\n２。トークンが固有表現の一部でないならば、トークンのタグはOとする\\n3。O以外の同じタグが連続している部分トークン列を連結して、固有表現とする\\n    トークナイザがトークン分割の際に「##」を付与している場合があるので、これは除外して結合する\\n\\nI は Inside, O は Outsideから来ている\\n\\n\\n問題点\\n同じタグを持つ固有名詞が複数続いた場合は、全てが連結されて一つの固有表現として抽出される\\n日米\\u3000などは日本とアメリカで別々のはずなのに、1個に合体してしまう\\n\\n'"
            ],
            "application/vnd.google.colaboratory.intrinsic+json": {
              "type": "string"
            }
          },
          "metadata": {},
          "execution_count": 6
        }
      ]
    },
    {
      "cell_type": "code",
      "source": [
        "# 固有表現では普段のトークンにタグを付与するので\n",
        "# それに対応したトークナイザを定義しないといけない\n",
        "\n",
        "# そのトークナイザの中では、学習・推論に使用する関数を定義\n",
        "# ここは最悪あんまり理解してなくてもいいらしい\n",
        "\n",
        "\n",
        "# BertJapaneseTokenizerを継承：つまり、selfはBertJapaneseTokenizerの関数は使える\n",
        "class NER_tokenizer(BertJapaneseTokenizer):\n",
        "\n",
        "    '''\n",
        "    文章と、それに含まれる固有表現が与えられたときに、符号化とラベル列の作成を行う関数\n",
        "    この関数の出力は、BERTモデルに入力できる形になっている。（学習時に使用する関数）\n",
        "    つまり、固有表現に適切なラベルを付与してBERTに入力できるように変換する関数\n",
        "    これをBERTに入力すると、ラベルがついているため、損失を返してくれる\n",
        "    これをもとにパラメータを学習する\n",
        "    '''\n",
        "    def encode_plus_tagged(self, text, entities, max_length):\n",
        "\n",
        "        # 手順１：固有表現の前後でtextを分割し、それぞれのラベルをつけておく\n",
        "\n",
        "        # entities は配列\n",
        "        # 配列のようそはdict型\n",
        "        # {'name' : 固有表現, 'span': [文章中の文字列の開始位置index, 終了index+1], 'type' : 固有表現のラベル, 'type_id' : typeに紐づく数字（１：１対応）}\n",
        "        # sorted :https://note.nkmk.me/python-list-sort-sorted/\n",
        "        # 単語の文章中での開始位置でソート\n",
        "        entities = sorted(entities, key=lambda x: x['span'][0])\n",
        "\n",
        "        # 分割後の文字列を追加する\n",
        "        splitted = []\n",
        "\n",
        "        # 次にラベルをつけるのはどこからか？を表す\n",
        "        position = 0\n",
        "\n",
        "        '''\n",
        "        entitiesの中には、文章中に入っている固有表現とそのラベル一覧が入っている（教師データ）\n",
        "        textを普段通り分割すると、固有表現が途中で分断されてしまって、教師データと一致する固有表現が検出できなくなってしまうことがある\n",
        "        これを回避するために、以下のfor文では教師データの固有表現を見つけては、textを分割するという対応をとっている\n",
        "        分割ついでにラベルもちゃんと記録する\n",
        "        '''\n",
        "        for entity in entities:\n",
        "            start = entity['span'][0]\n",
        "            end = entity['span'][1]\n",
        "\n",
        "            # 固有表現のラベル\n",
        "            label = entity['type_id']\n",
        "\n",
        "            # 固有表現でないものにはラベルOをつける\n",
        "            splitted.append({'text' : text[position:start], 'label' : 0})\n",
        "\n",
        "            # 固有表現には対応するラベルをIDで付与\n",
        "            splitted.append({'text' : text[start:end], 'label' : label})\n",
        "\n",
        "            # 次にラベルをつけるのはend以降\n",
        "            position = end\n",
        "\n",
        "        # 最後余った文字列をラベル0にする\n",
        "        splitted.append({'text' : text[position:], 'label' : 0})\n",
        "\n",
        "        # 長さ０の文字列をsplittedから取り除く\n",
        "        splitted = [ s for s in splitted if s['text']]\n",
        "\n",
        "        # 手順２：分割されたそれぞれの文字列をトークン化し、ラベルづけする\n",
        "\n",
        "        # トークンを入れる\n",
        "        tokens = []\n",
        "        # ラベルを入れる\n",
        "        labels = []\n",
        "\n",
        "        for text_splitted in splitted:\n",
        "            text = text_splitted['text']\n",
        "            label = text_splitted['label']\n",
        "\n",
        "            # テキストをトークン化\n",
        "            tokens_splitted = self.tokenize(text)\n",
        "            # 対応するラベルを追加\n",
        "            labels_splitted = [label] * len(tokens_splitted)\n",
        "\n",
        "            tokens.extend(tokens_splitted)\n",
        "            labels.extend(labels_splitted)\n",
        "\n",
        "        \n",
        "        # 手順３：符号化を行い、BERTに入力可能にする\n",
        "        input_ids = self.convert_tokens_to_ids(tokens)\n",
        "\n",
        "        # 公式ドキュメントが見つからないが\n",
        "        # prepare_for_model はinput_idsを符号化するらしい\n",
        "        # 公式これか？？https://huggingface.co/docs/transformers/internal/tokenization_utils#transformers.PreTrainedTokenizerBase.prepare_for_model\n",
        "\n",
        "        encoding = self.prepare_for_model(\n",
        "            input_ids,\n",
        "            max_length=max_length,\n",
        "            padding='max_length',\n",
        "            truncation=True\n",
        "        )\n",
        "\n",
        "\n",
        "        # 特殊トークン[CLS], [SEP]のラベルを０にする\n",
        "        labels = [0] + labels[:max_length-2] + [0]\n",
        "\n",
        "        # [PAD]もラベルを０に\n",
        "        # [PAD]は文末にあるので、その数だけ最後に追加すればいい\n",
        "        labels = labels + [0]*(max_length - len(labels))\n",
        "\n",
        "        encoding['labels'] = labels\n",
        "\n",
        "        return encoding\n",
        "\n",
        "    \n",
        "    '''\n",
        "    文章を符号化するとともに、各トークンの文章中の位置を特定する関数\n",
        "    文章中に未知語などが含まれていた場合、先ほどの関数でラベルづけした出力（input_ids やそれに対応するlabel 元の文章は保存されない）からは\n",
        "    元の文章を復元して、固有表現はこれだ！と特定できない。\n",
        "    そのため、位置を特定しておく必要がある\n",
        "    （推論時に使用する関数）\n",
        "    '''\n",
        "    def encode_plus_untagged(\n",
        "        self, text, max_length=None, return_tensors=None\n",
        "    ):\n",
        "        # 手順１：文章のトークン化\n",
        "\n",
        "        # トークンを追加していく\n",
        "        tokens = []\n",
        "        # トークンに対応する文章中の文字列を追加していく\n",
        "        tokens_original = []\n",
        "\n",
        "        # MeCabで単語に分割\n",
        "        # https://huggingface.co/transformers/v4.11.3/_modules/transformers/models/bert_japanese/tokenization_bert_japanese.html\n",
        "        # self.word_tokenizerにはBasicTokenizerというクラスのインスタンスが入ってるっぽい\n",
        "        words = self.word_tokenizer.tokenize(text)\n",
        "        # print('1')\n",
        "        # 手順２：単語をサブワード分割して、元のテキストを保存\n",
        "        for word in words:\n",
        "            # 単語をサブワードに分割\n",
        "            # 未知語も分割すれば対応可能になる可能性が上がるっぽいね　　　例）東京タワーが未知語でも、東京とタワーはそれぞれ既知の単語かもしれない\n",
        "            # https://note.com/npaka/n/nb08941a36c8b#I3MMH\n",
        "            tokens_word = self.subword_tokenizer.tokenize(word)\n",
        "            tokens.extend(tokens_word)\n",
        "\n",
        "            # 未知語への対応\n",
        "            # 未知語に遭遇した場合は元のテキストを残しておかないと、全て[UNK]に変換されてしまって区別できなくなる\n",
        "            if tokens_word[0] == '[UNK]':\n",
        "                tokens_original.append(word)\n",
        "            else:\n",
        "                # 先頭の単語以外は##を除去して保存\n",
        "                # 未知語対策のifを挟まないと、[UNK]が直で保存される\n",
        "                tokens_original.extend([\n",
        "                    token.replace('##', '') for token in tokens_word\n",
        "                ])\n",
        "        # print('2')\n",
        "        # 手順３：各トークンの文章中での位置を保存（空白位置も考慮）\n",
        "        position = 0\n",
        "        spans = [] # トークンの位置情報を追加していく\n",
        "\n",
        "        for token in tokens_original:\n",
        "            # トークン長\n",
        "            l = len(token)\n",
        "\n",
        "            # text（元の入力文章）中の[position..position+l]を切り出して、tokenと一致するか確認\n",
        "            # while 1 = while true\n",
        "            while 1:\n",
        "                # 一致しない場合\n",
        "                if token != text[position:position+l]:\n",
        "                    position += 1\n",
        "                else:\n",
        "                    spans.append([position, position+l])\n",
        "                    position += 1\n",
        "                    break\n",
        "\n",
        "        # print('3')\n",
        "        # 手順４：符号化を行い、BERT入力可能にする\n",
        "        input_ids = self.convert_tokens_to_ids(tokens)\n",
        "\n",
        "        # input_idsが既にわかっている場合に使用できる符号化\n",
        "        # 確かめてはいないが、いつもはBertJapanezeTokenizerのインスタンスを関数として呼び出していたが、それができないため、わざわざこの関数を使用しているのではないのか？と思っている\n",
        "        # selfに直接引数与えれるのかな・・・\n",
        "        encoding = self.prepare_for_model(\n",
        "            input_ids,\n",
        "            max_length=max_length,\n",
        "            padding='max_length' if max_length else False,\n",
        "            truncation = True if max_length else False\n",
        "        )\n",
        "\n",
        "        # [CLS], [SEP], [PAD]の処理\n",
        "        # 系列長\n",
        "        sequence_length = len(encoding['input_ids'])\n",
        "\n",
        "        # [CLS]に対応するダミーspan追加\n",
        "        # sequence_lengthには[sep][cls]が入っているが、spansの時点ではこれらは入っていないデータを使っているので、数合わせのために-2\n",
        "        # sequence_lenghtはspansの長さより長い\n",
        "        spans = [[-1, -1]] + spans[:sequence_length-2]\n",
        "\n",
        "        # sep, padに対する追加\n",
        "        spans = spans + [[-1, -1]] * (sequence_length - len(spans))\n",
        "\n",
        "        # print('4')\n",
        "        \n",
        "        # 手順５：必要に応じて出力の型を調整\n",
        "        if return_tensors == 'pt':\n",
        "            encoding = { k : torch.tensor([v]) for k, v in encoding.items() }\n",
        "        \n",
        "        return encoding, spans\n",
        "\n",
        "\n",
        "    '''\n",
        "    「文章」と「タグ列」と「各トークンの文章中の位置」が与えられた時に、文章中に含まれる固有表現に対応する文字列や位置を特定する関数\n",
        "    文章、ラベル列の予測値、各トークンの位置から固有表現を得る（推論時に使用）\n",
        "    '''\n",
        "    def convert_bert_output_to_entities(self, text, labels, spans):\n",
        "        \"\"\"\n",
        "        文章、ラベル列の予測値、各トークンの位置から固有表現を得る。\n",
        "        \"\"\"\n",
        "        # labels, spansから特殊トークンに対応する部分を取り除く\n",
        "        labels = [label for label, span in zip(labels, spans) if span[0] != -1]\n",
        "        spans = [span for span in spans if span[0] != -1]\n",
        "\n",
        "        # 同じラベルが連続するトークンをまとめて、固有表現を抽出する。\n",
        "        entities = []\n",
        "        for label, group \\\n",
        "            in itertools.groupby(enumerate(labels), key=lambda x: x[1]):\n",
        "            \n",
        "            group = list(group)\n",
        "            start = spans[group[0][0]][0]\n",
        "            end = spans[group[-1][0]][1]\n",
        "\n",
        "            if label != 0: # ラベルが0以外ならば、新たな固有表現として追加。\n",
        "                entity = {\n",
        "                    \"name\": text[start:end],\n",
        "                    \"span\": [start, end],\n",
        "                    \"type_id\": label\n",
        "                }\n",
        "                entities.append(entity)\n",
        "\n",
        "        return entities \n",
        "\n",
        "\n",
        "\n"
      ],
      "metadata": {
        "id": "wQepsOxT-3Ce"
      },
      "execution_count": 31,
      "outputs": []
    },
    {
      "cell_type": "code",
      "source": [
        "# 上記のトークナイザーをインスタンス化\n",
        "tokenizer = NER_tokenizer.from_pretrained(MODEL_NAME)"
      ],
      "metadata": {
        "colab": {
          "base_uri": "https://localhost:8080/"
        },
        "id": "L4K5rK7roxVT",
        "outputId": "62fc110f-5d8f-43a2-dc07-ec328023054b"
      },
      "execution_count": 32,
      "outputs": [
        {
          "output_type": "stream",
          "name": "stderr",
          "text": [
            "The tokenizer class you load from this checkpoint is not the same type as the class this function is called from. It may result in unexpected tokenization. \n",
            "The tokenizer class you load from this checkpoint is 'BertJapaneseTokenizer'. \n",
            "The class this function is called from is 'NER_tokenizer'.\n"
          ]
        }
      ]
    },
    {
      "cell_type": "code",
      "source": [
        "# encode_plus_taggedの挙動確認\n",
        "text = '昨日のみらい事務所との打ち合わせは順調だった'\n",
        "\n",
        "# ちなみにIO法のOタグは0(zero), I タグは１以上の数字で表される \n",
        "entities = [\n",
        "    {'name' : 'みらい事務所', 'span' : [3, 9], 'type_id' : 1}\n",
        "]\n",
        "\n",
        "encoding = tokenizer.encode_plus_tagged(\n",
        "    text, entities, max_length=20\n",
        ")\n",
        "print(encoding)"
      ],
      "metadata": {
        "colab": {
          "base_uri": "https://localhost:8080/"
        },
        "id": "69OKdPyBpHJM",
        "outputId": "a206a2d7-f90d-4a60-b401-5e8a46c3af10"
      },
      "execution_count": 33,
      "outputs": [
        {
          "output_type": "stream",
          "name": "stdout",
          "text": [
            "{'input_ids': [2, 10271, 28486, 5, 546, 10780, 2464, 13, 5, 1878, 2682, 9, 10750, 308, 10, 3, 0, 0, 0, 0], 'token_type_ids': [0, 0, 0, 0, 0, 0, 0, 0, 0, 0, 0, 0, 0, 0, 0, 0, 0, 0, 0, 0], 'attention_mask': [1, 1, 1, 1, 1, 1, 1, 1, 1, 1, 1, 1, 1, 1, 1, 1, 0, 0, 0, 0], 'labels': [0, 0, 0, 0, 1, 1, 1, 0, 0, 0, 0, 0, 0, 0, 0, 0, 0, 0, 0, 0]}\n"
          ]
        }
      ]
    },
    {
      "cell_type": "code",
      "source": [
        "# encode_plus_untaggedの挙動確認\n",
        "\n",
        "text = '騰訊の英語名はTencent Holdings Ltdである。'\n",
        "encoding, spans = tokenizer.encode_plus_untagged(\n",
        "    text, return_tensors='pt'\n",
        ")\n",
        "print('# encoding')\n",
        "print(encoding)\n",
        "print('# spans')\n",
        "print(spans)"
      ],
      "metadata": {
        "colab": {
          "base_uri": "https://localhost:8080/"
        },
        "id": "wlxkcM3Tq8Vg",
        "outputId": "abeadc17-5524-4abc-dd90-9c51079f1fed"
      },
      "execution_count": 34,
      "outputs": [
        {
          "output_type": "stream",
          "name": "stdout",
          "text": [
            "# encoding\n",
            "{'input_ids': tensor([[    2,     1, 26280,     5,  1543,   125,     9,  6749, 28550,  2953,\n",
            "         28550, 28566, 21202, 28683, 14050, 12475,    12,    31,     8,     3]]), 'token_type_ids': tensor([[0, 0, 0, 0, 0, 0, 0, 0, 0, 0, 0, 0, 0, 0, 0, 0, 0, 0, 0, 0]]), 'attention_mask': tensor([[1, 1, 1, 1, 1, 1, 1, 1, 1, 1, 1, 1, 1, 1, 1, 1, 1, 1, 1, 1]])}\n",
            "# spans\n",
            "[[-1, -1], [0, 1], [1, 2], [2, 3], [3, 5], [5, 6], [6, 7], [7, 9], [9, 10], [10, 12], [12, 13], [13, 14], [15, 18], [18, 19], [19, 23], [24, 27], [27, 28], [28, 30], [30, 31], [-1, -1]]\n"
          ]
        }
      ]
    },
    {
      "cell_type": "code",
      "source": [
        "# convert_bert_output_to_entitiesの挙動確認\n",
        "# 適当なバートからの出力を置いておく\n",
        "labels_predicted = [0, 1, 1, 0,0,0,0,1,1,1,1,1,1,1,1,1,0,0,0,0]\n",
        "\n",
        "entities = tokenizer.convert_bert_output_to_entities(\n",
        "    text, labels_predicted, spans\n",
        ")\n",
        "print(entities)"
      ],
      "metadata": {
        "colab": {
          "base_uri": "https://localhost:8080/"
        },
        "id": "YZ1RUfJPu25E",
        "outputId": "7106ca9c-cfa6-4285-9758-1229eaf5d7cb"
      },
      "execution_count": 35,
      "outputs": [
        {
          "output_type": "stream",
          "name": "stdout",
          "text": [
            "[{'name': '騰訊', 'span': [0, 2], 'type_id': 1}, {'name': 'Tencent Holdings Ltd', 'span': [7, 27], 'type_id': 1}]\n"
          ]
        }
      ]
    },
    {
      "cell_type": "code",
      "source": [
        "'''\n",
        "ここからは、BERTも使って固有表現抽出を行っていく\n",
        "BertForTokenClassificationが使用できる\n",
        "'''\n",
        "\n",
        "tokenizer = NER_tokenizer.from_pretrained(MODEL_NAME)\n",
        "\n",
        "# 固有表現のタイプが３つ　＋　Oタグでlabel数は4\n",
        "# 1:組織名、２：人名、３：製品名\n",
        "bert_tc = BertForTokenClassification.from_pretrained(\n",
        "    MODEL_NAME, num_labels = 4\n",
        ")\n",
        "\n",
        "bert_tc = bert_tc.cuda()"
      ],
      "metadata": {
        "colab": {
          "base_uri": "https://localhost:8080/"
        },
        "id": "2pexGuFJvZeX",
        "outputId": "903b7bd2-a60b-4775-9d3c-0f963bdeadf9"
      },
      "execution_count": 36,
      "outputs": [
        {
          "output_type": "stream",
          "name": "stderr",
          "text": [
            "The tokenizer class you load from this checkpoint is not the same type as the class this function is called from. It may result in unexpected tokenization. \n",
            "The tokenizer class you load from this checkpoint is 'BertJapaneseTokenizer'. \n",
            "The class this function is called from is 'NER_tokenizer'.\n",
            "Some weights of the model checkpoint at cl-tohoku/bert-base-japanese-whole-word-masking were not used when initializing BertForTokenClassification: ['cls.predictions.bias', 'cls.seq_relationship.weight', 'cls.predictions.decoder.weight', 'cls.predictions.transform.LayerNorm.bias', 'cls.predictions.transform.LayerNorm.weight', 'cls.predictions.transform.dense.weight', 'cls.predictions.transform.dense.bias', 'cls.seq_relationship.bias']\n",
            "- This IS expected if you are initializing BertForTokenClassification from the checkpoint of a model trained on another task or with another architecture (e.g. initializing a BertForSequenceClassification model from a BertForPreTraining model).\n",
            "- This IS NOT expected if you are initializing BertForTokenClassification from the checkpoint of a model that you expect to be exactly identical (initializing a BertForSequenceClassification model from a BertForSequenceClassification model).\n",
            "Some weights of BertForTokenClassification were not initialized from the model checkpoint at cl-tohoku/bert-base-japanese-whole-word-masking and are newly initialized: ['classifier.weight', 'classifier.bias']\n",
            "You should probably TRAIN this model on a down-stream task to be able to use it for predictions and inference.\n"
          ]
        }
      ]
    },
    {
      "cell_type": "code",
      "source": [
        "'''\n",
        "推論時の使い方\n",
        "'''\n",
        "\n",
        "# データの定義\n",
        "text = 'AさんはB大学に入学した。'\n",
        "\n",
        "# 符号化を行い、トークンの文章中の位置も特定する\n",
        "encoding, spans = tokenizer.encode_plus_untagged(\n",
        "    text, return_tensors = 'pt'\n",
        ")\n",
        "\n",
        "encoding = { k : v.cuda() for k, v in encoding.items() }\n",
        "\n",
        "# BERTでトークンごとの分類スコアを出力\n",
        "# スコアが最も高いラベルを予測値とする\n",
        "\n",
        "with torch.no_grad():\n",
        "    output = bert_tc(**encoding)\n",
        "    # scores[バッチサイズ, 系列長, ラベルの数]\n",
        "    scores = output.logits\n",
        "    labels_predicted = scores[0].argmax(-1).cpu().numpy().tolist()\n",
        "\n",
        "# ラベルを固有表現に変換\n",
        "entities = tokenizer.convert_bert_output_to_entities(text, labels_predicted, spans)\n",
        "print(entities)\n",
        "\n",
        "\n",
        "# ちなみに、チューニングしていないので出力は出鱈目である"
      ],
      "metadata": {
        "colab": {
          "base_uri": "https://localhost:8080/"
        },
        "id": "kvyPCsvKwPK7",
        "outputId": "e92fc805-34fd-4271-cad8-1fc163ea67d1"
      },
      "execution_count": 37,
      "outputs": [
        {
          "output_type": "stream",
          "name": "stdout",
          "text": [
            "[{'name': 'A', 'span': [0, 1], 'type_id': 2}, {'name': 'さんは', 'span': [1, 4], 'type_id': 3}, {'name': 'B大学に', 'span': [4, 8], 'type_id': 2}, {'name': '入学', 'span': [8, 10], 'type_id': 3}, {'name': 'した。', 'span': [10, 13], 'type_id': 2}]\n"
          ]
        }
      ]
    },
    {
      "cell_type": "code",
      "source": [
        "'''\n",
        "学習する際のコード\n",
        "\n",
        "'''\n",
        "\n",
        "# 学習用データの定義\n",
        "data = [\n",
        "    {\n",
        "        'text': 'AさんはB大学に入学した。',\n",
        "        'entities': [\n",
        "            {'name': 'A', 'span': [0, 1], 'type_id': 2},\n",
        "            {'name': 'B大学', 'span': [4, 7], 'type_id': 1}\n",
        "        ]\n",
        "    },\n",
        "    {\n",
        "        'text': 'CDE株式会社は新製品「E」を販売する。',\n",
        "        'entities': [\n",
        "            {'name': 'CDE株式会社', 'span': [0, 7], 'type_id': 1},\n",
        "            {'name': 'E', 'span': [12, 13], 'type_id': 3}\n",
        "        ]\n",
        "    }\n",
        "]\n",
        "\n",
        "# 各データを符号化\n",
        "max_length = 32\n",
        "\n",
        "# 符号化結果を格納\n",
        "dataset_for_loader = []\n",
        "\n",
        "# 符号化\n",
        "for sample in data:\n",
        "    text = sample['text']\n",
        "    entities = sample['entities']\n",
        "\n",
        "    encoding = tokenizer.encode_plus_tagged(\n",
        "        text, entities, max_length\n",
        "    )\n",
        "    encoding = { k : torch.tensor(v) for k, v in encoding.items() }\n",
        "    dataset_for_loader.append(encoding)\n",
        "\n",
        "\n",
        "# データローダを作成\n",
        "dataloader = DataLoader(dataset_for_loader, batch_size = len(data))\n",
        "\n",
        "# ミニバッチを取り出して損失を得る\n",
        "for batch in dataloader:\n",
        "    batch = { k : v.cuda() for k, v in batch.items() }\n",
        "    output = bert_tc(**batch)\n",
        "    loss = output.loss\n"
      ],
      "metadata": {
        "id": "VwqKJF9V0C2c"
      },
      "execution_count": 38,
      "outputs": []
    },
    {
      "cell_type": "code",
      "source": [
        "# データセット使って学習しましょうや\n",
        "'''\n",
        "データの詳細\n",
        "https://github.com/stockmarketeam/ner-wikipedia-dataset\n",
        "\n",
        "データは以下のような形をしている\n",
        "{\n",
        "    'curid' : 'wikipediaのID',\n",
        "    'entities' : [\n",
        "        { 'name' : '長岡半太郎', 'span' : [0, 5], 'type' : '人名' },\n",
        "        { 'name' : '半太郎', 'span' : [34, 37], 'type' : '人名' },\n",
        "        { 'name' : '長三郎', 'span' : [46, 49], 'type' : '人名' }\n",
        "    ],\n",
        "    'text' : '長岡半太郎とは同郷の先輩後輩関係でかねてから親交があったのみならず、半太郎は妻や幼子の医療を長三郎に全面的に頼んでいた。'\n",
        "}\n",
        "'''\n",
        "!git clone --branch v2.0 https://github.com/stockmarkteam/ner-wikipedia-dataset "
      ],
      "metadata": {
        "colab": {
          "base_uri": "https://localhost:8080/"
        },
        "id": "_eUopP4dHCLh",
        "outputId": "d43e21cb-6c1e-4207-9b4c-0a11af25c244"
      },
      "execution_count": 39,
      "outputs": [
        {
          "output_type": "stream",
          "name": "stdout",
          "text": [
            "fatal: destination path 'ner-wikipedia-dataset' already exists and is not an empty directory.\n"
          ]
        }
      ]
    },
    {
      "cell_type": "code",
      "source": [
        "'''\n",
        "データを読み込み、\n",
        "文字列の正規化を行い\n",
        "固有表現のカテゴリを1~8のタイプのIDに変更する\n",
        "それから学習データ・訓練データなどに分割する\n",
        "\n",
        "'''\n",
        "\n",
        "# データのロード\n",
        "dataset = json.load(open('ner-wikipedia-dataset/ner.json', 'r'))\n",
        "\n",
        "# 固有表現のタイプとIDを対応づける辞書\n",
        "type_id_dict = {\n",
        "    \"人名\": 1,\n",
        "    \"法人名\": 2,\n",
        "    \"政治的組織名\": 3,\n",
        "    \"その他の組織名\": 4,\n",
        "    \"地名\": 5,\n",
        "    \"施設名\": 6,\n",
        "    \"製品名\": 7,\n",
        "    \"イベント名\": 8\n",
        "}\n",
        "\n",
        "\n",
        "# カテゴリーをラベルに変更\n",
        "# 文字列の正規化\n",
        "for sample in dataset:\n",
        "    # カテゴリをIDへ\n",
        "    for e in sample['entities']:\n",
        "        e['type_id'] = type_id_dict[e['type']]\n",
        "        del e['type']\n",
        "\n",
        "    # 文字列の正規化\n",
        "    sample['text'] = unicodedata.normalize('NFKC', sample['text'])\n",
        "\n",
        "\n",
        "# データの分割\n",
        "# 学習：検証：テスト = 6 : 2 : 2\n",
        "\n",
        "random.shuffle(dataset)\n",
        "n = len(dataset)\n",
        "n_train = int(n * 0.6)\n",
        "n_val = int(n*0.2)\n",
        "\n",
        "dataset_train = dataset[:n_train]\n",
        "dataset_val = dataset[n_train : n_train + n_val]\n",
        "dataset_test = dataset[n_train + n_val : ]"
      ],
      "metadata": {
        "id": "4jtEL6w_IF-S"
      },
      "execution_count": 40,
      "outputs": []
    },
    {
      "cell_type": "code",
      "source": [
        "'''\n",
        "ファインチューニングを行うための準備\n",
        "\n",
        "データローダの作成\n",
        "'''\n",
        "\n",
        "def create_dataset(tokenizer, dataset, max_length):\n",
        "    # まずはデータローダに入力できるようにデータを符号化しよう関数\n",
        "    dataset_for_loader = []\n",
        "\n",
        "    for sample in dataset:\n",
        "        text = sample['text']\n",
        "        entities = sample['entities']\n",
        "\n",
        "        encoding = tokenizer.encode_plus_tagged(\n",
        "            text, entities, max_length=max_length\n",
        "        )\n",
        "\n",
        "        encoding = { k : torch.tensor(v) for k, v in encoding.items() }\n",
        "\n",
        "        dataset_for_loader.append(encoding)\n",
        "    return dataset_for_loader\n",
        "\n",
        "\n",
        "# 上の関数を使って、学習・検証用データローダを作る\n",
        "max_length = 128\n",
        "\n",
        "dataset_train_for_loader = create_dataset (\n",
        "    tokenizer, dataset_train, max_length\n",
        ")\n",
        "\n",
        "dataset_val_for_loader = create_dataset (\n",
        "    tokenizer, dataset_val, max_length\n",
        ")\n",
        "\n",
        "dataloader_train = DataLoader(\n",
        "    dataset_train_for_loader, batch_size=32, shuffle=True\n",
        ")\n",
        "\n",
        "dataloader_val = DataLoader(dataset_val_for_loader, batch_size=256)"
      ],
      "metadata": {
        "id": "Ho0ycaXcM2Nf"
      },
      "execution_count": 41,
      "outputs": []
    },
    {
      "cell_type": "code",
      "source": [
        "'''\n",
        "ファインチューニング\n",
        "PyTorch Lightning のクラスを定義して\n",
        "チェックポイントを書き（=モデルを保存する条件を指定する）\n",
        "学習メソッドを回すぜ\n",
        "\n",
        "'''\n",
        "\n",
        "# PyTorch Lightningのモデル\n",
        "class BertForTokenClassification_pl(pl.LightningModule):\n",
        "        \n",
        "    def __init__(self, model_name, num_labels, lr):\n",
        "        super().__init__()\n",
        "        self.save_hyperparameters()\n",
        "        self.bert_tc = BertForTokenClassification.from_pretrained(\n",
        "            model_name,\n",
        "            num_labels=num_labels\n",
        "        )\n",
        "        \n",
        "    def training_step(self, batch, batch_idx):\n",
        "        output = self.bert_tc(**batch)\n",
        "        loss = output.loss\n",
        "        self.log('train_loss', loss)\n",
        "        return loss\n",
        "        \n",
        "    def validation_step(self, batch, batch_idx):\n",
        "        output = self.bert_tc(**batch)\n",
        "        val_loss = output.loss\n",
        "        self.log('val_loss', val_loss)\n",
        "        \n",
        "    def configure_optimizers(self):\n",
        "        return torch.optim.Adam(self.parameters(), lr=self.hparams.lr)\n",
        "\n",
        "checkpoint = pl.callbacks.ModelCheckpoint(\n",
        "    monitor='val_loss',\n",
        "    mode='min',\n",
        "    save_top_k=1,\n",
        "    save_weights_only=True,\n",
        "    dirpath='model/'\n",
        ")\n",
        "\n",
        "trainer = pl.Trainer(\n",
        "    gpus=1,\n",
        "    # max_epochs=5,\n",
        "    max_epochs=1,\n",
        "    callbacks=[checkpoint]\n",
        ")\n",
        "\n",
        "# ファインチューニング\n",
        "model = BertForTokenClassification_pl(\n",
        "    MODEL_NAME, num_labels=9, lr=1e-5\n",
        ")\n",
        "trainer.fit(model, dataloader_train, dataloader_val)\n",
        "best_model_path = checkpoint.best_model_path"
      ],
      "metadata": {
        "colab": {
          "base_uri": "https://localhost:8080/",
          "height": 444,
          "referenced_widgets": [
            "2bf138185995486b8886710bffee82ff",
            "f3d3c284995b469caafb2fc1f6ed2d3d",
            "c3b17567cb9a4b8c9ea2ddef86cc489a",
            "9c60f650a0304037bb9087c9ecf65f5e",
            "8fa3ab539aab45a79de8375a55e92f95",
            "f02013e170404ea1a9ba1cde568ddece",
            "1e9e0bc67b2e430f90a6dd8253c2dc41",
            "58fd7936c3c64b18a2d319db85e48be6",
            "902d9dd539d948fdb915badbf6541341",
            "c6c15b3c0e0347cc88ba64ff2e7d645c",
            "b16c54aebfe84b6db583f8a22f23b44d",
            "ab30085dbd1841f88dfef7c5239e8d7e",
            "b906f5b153c44884b98a094f12ee4664",
            "8a91e1bd3e0c4ee5bafc896e165ad793",
            "5d4f07ee2e17453a8b947d392ca50a58",
            "5975be50fd364957aa0b93cccbd52fde",
            "e957659eb5974623ad0a77822c9d9bca",
            "631a85c2cfaf4201a715972876e41dfa",
            "219a766c80ae43f589f8e356b20eeece",
            "cbf33b21bc27446b9c5526170eb00991",
            "399759e027d04a209dc1a17a4bb50efb",
            "ab5afdf4345343f3844bdd23186d903d",
            "519f8ba91a1a4ad5957d6e058deed3c6",
            "7a5d34c1c5ad48b98f9f90f649465202",
            "62509dd5d62348cdb3bed86a6cf1c39d",
            "12bdf0c238264ba8968a9c41e6ba6159",
            "734cede3743646afaca91bdab0455c87",
            "16d434b2ffe9445288c3149dcacfd0bc",
            "ccaa4432b44d4beabba958e09ceba6bb",
            "92562fef4e9344b4ae0dc8a49a9c394e",
            "dded591879af42ed97467fa07320654e",
            "3953681aa38a4342b7aed0772c3c787a",
            "ddb8a4e6355047a8b86ecdc32c8eb450"
          ]
        },
        "id": "5e-fX4EEQc1q",
        "outputId": "d4eed2f4-988b-4913-f242-7572c2dffde0"
      },
      "execution_count": 45,
      "outputs": [
        {
          "output_type": "stream",
          "name": "stderr",
          "text": [
            "INFO:pytorch_lightning.utilities.rank_zero:GPU available: True, used: True\n",
            "INFO:pytorch_lightning.utilities.rank_zero:TPU available: False, using: 0 TPU cores\n",
            "INFO:pytorch_lightning.utilities.rank_zero:IPU available: False, using: 0 IPUs\n",
            "INFO:pytorch_lightning.utilities.rank_zero:HPU available: False, using: 0 HPUs\n",
            "Some weights of the model checkpoint at cl-tohoku/bert-base-japanese-whole-word-masking were not used when initializing BertForTokenClassification: ['cls.predictions.bias', 'cls.seq_relationship.weight', 'cls.predictions.decoder.weight', 'cls.predictions.transform.LayerNorm.bias', 'cls.predictions.transform.LayerNorm.weight', 'cls.predictions.transform.dense.weight', 'cls.predictions.transform.dense.bias', 'cls.seq_relationship.bias']\n",
            "- This IS expected if you are initializing BertForTokenClassification from the checkpoint of a model trained on another task or with another architecture (e.g. initializing a BertForSequenceClassification model from a BertForPreTraining model).\n",
            "- This IS NOT expected if you are initializing BertForTokenClassification from the checkpoint of a model that you expect to be exactly identical (initializing a BertForSequenceClassification model from a BertForSequenceClassification model).\n",
            "Some weights of BertForTokenClassification were not initialized from the model checkpoint at cl-tohoku/bert-base-japanese-whole-word-masking and are newly initialized: ['classifier.weight', 'classifier.bias']\n",
            "You should probably TRAIN this model on a down-stream task to be able to use it for predictions and inference.\n",
            "/usr/local/lib/python3.7/dist-packages/pytorch_lightning/callbacks/model_checkpoint.py:608: UserWarning: Checkpoint directory /content/chap8/model exists and is not empty.\n",
            "  rank_zero_warn(f\"Checkpoint directory {dirpath} exists and is not empty.\")\n",
            "INFO:pytorch_lightning.accelerators.gpu:LOCAL_RANK: 0 - CUDA_VISIBLE_DEVICES: [0]\n",
            "INFO:pytorch_lightning.callbacks.model_summary:\n",
            "  | Name    | Type                       | Params\n",
            "-------------------------------------------------------\n",
            "0 | bert_tc | BertForTokenClassification | 110 M \n",
            "-------------------------------------------------------\n",
            "110 M     Trainable params\n",
            "0         Non-trainable params\n",
            "110 M     Total params\n",
            "440.135   Total estimated model params size (MB)\n"
          ]
        },
        {
          "output_type": "display_data",
          "data": {
            "text/plain": [
              "Sanity Checking: 0it [00:00, ?it/s]"
            ],
            "application/vnd.jupyter.widget-view+json": {
              "version_major": 2,
              "version_minor": 0,
              "model_id": "2bf138185995486b8886710bffee82ff"
            }
          },
          "metadata": {}
        },
        {
          "output_type": "display_data",
          "data": {
            "text/plain": [
              "Training: 0it [00:00, ?it/s]"
            ],
            "application/vnd.jupyter.widget-view+json": {
              "version_major": 2,
              "version_minor": 0,
              "model_id": "ab30085dbd1841f88dfef7c5239e8d7e"
            }
          },
          "metadata": {}
        },
        {
          "output_type": "display_data",
          "data": {
            "text/plain": [
              "Validation: 0it [00:00, ?it/s]"
            ],
            "application/vnd.jupyter.widget-view+json": {
              "version_major": 2,
              "version_minor": 0,
              "model_id": "519f8ba91a1a4ad5957d6e058deed3c6"
            }
          },
          "metadata": {}
        }
      ]
    },
    {
      "cell_type": "code",
      "source": [
        "'''\n",
        "ここまでで学習が完了した\n",
        "次はテストデータを用いて予測を行う\n",
        "'''\n",
        "\n",
        "# BERTで固有表現抽出を行うための関数を定義しよう\n",
        "def predict(text, tokenizer, bert_tc):\n",
        "    # まずはテキストをBERTに入力可能な状態にする\n",
        "    encoding, spans = tokenizer.encode_plus_untagged(\n",
        "        text, return_tensors = 'pt'\n",
        "    )\n",
        "\n",
        "    encoding = { k: v.cuda() for k, v in encoding.items() }\n",
        "\n",
        "    # BERTに入力して出力を得る\n",
        "    with torch.no_grad():\n",
        "        output = bert_tc(**encoding)\n",
        "        scores = output.logits\n",
        "        labels_predicted = scores[0].argmax(-1).cpu().numpy().tolist()\n",
        "\n",
        "    # print(labels_predicted)\n",
        "    # ラベル列を固有表現に変換\n",
        "    entities = tokenizer.convert_bert_output_to_entities(\n",
        "        text, labels_predicted, spans\n",
        "    )\n",
        "    # print(entities)\n",
        "\n",
        "    return entities\n",
        "\n",
        "\n",
        "# ここから本体\n",
        "# トークナイザーをロード\n",
        "tokenizer = NER_tokenizer.from_pretrained(MODEL_NAME)\n",
        "\n",
        "# ファインチューニングしたモデルをロードしてGPUにのせる\n",
        "model = BertForTokenClassification_pl.load_from_checkpoint(\n",
        "    best_model_path\n",
        ")\n",
        "bert_tc = model.bert_tc.cuda()\n",
        "\n",
        "\n",
        "# 固有表現抽出\n",
        "# 以下では１データずつ処理しているが、これはわかりやすいコードにするためである\n",
        "# バッチ化して処理を行った方が処理時間は短い\n",
        "\n",
        "# 正解の固有表現の置き場所\n",
        "entities_list = []\n",
        "# 抽出された固有表現をおく場所\n",
        "entities_predicted_list = []\n",
        "\n",
        "for sample in tqdm(dataset_test):\n",
        "    text=sample['text']\n",
        "    entities_predicted = predict(text, tokenizer, bert_tc) # BERTで予測\n",
        "    entities_list.append(sample['entities'])\n",
        "    entities_predicted_list.append( entities_predicted )"
      ],
      "metadata": {
        "colab": {
          "base_uri": "https://localhost:8080/"
        },
        "id": "L5ZwQjCgRYka",
        "outputId": "c3169bb7-56e3-44a9-aca7-14e1dd7bf979"
      },
      "execution_count": 47,
      "outputs": [
        {
          "output_type": "stream",
          "name": "stderr",
          "text": [
            "The tokenizer class you load from this checkpoint is not the same type as the class this function is called from. It may result in unexpected tokenization. \n",
            "The tokenizer class you load from this checkpoint is 'BertJapaneseTokenizer'. \n",
            "The class this function is called from is 'NER_tokenizer'.\n",
            "Some weights of the model checkpoint at cl-tohoku/bert-base-japanese-whole-word-masking were not used when initializing BertForTokenClassification: ['cls.predictions.bias', 'cls.seq_relationship.weight', 'cls.predictions.decoder.weight', 'cls.predictions.transform.LayerNorm.bias', 'cls.predictions.transform.LayerNorm.weight', 'cls.predictions.transform.dense.weight', 'cls.predictions.transform.dense.bias', 'cls.seq_relationship.bias']\n",
            "- This IS expected if you are initializing BertForTokenClassification from the checkpoint of a model trained on another task or with another architecture (e.g. initializing a BertForSequenceClassification model from a BertForPreTraining model).\n",
            "- This IS NOT expected if you are initializing BertForTokenClassification from the checkpoint of a model that you expect to be exactly identical (initializing a BertForSequenceClassification model from a BertForSequenceClassification model).\n",
            "Some weights of BertForTokenClassification were not initialized from the model checkpoint at cl-tohoku/bert-base-japanese-whole-word-masking and are newly initialized: ['classifier.weight', 'classifier.bias']\n",
            "You should probably TRAIN this model on a down-stream task to be able to use it for predictions and inference.\n",
            "\n",
            "  0%|          | 0/1070 [00:00<?, ?it/s]\u001b[A\n",
            "  1%|          | 9/1070 [00:00<00:12, 85.53it/s]\u001b[A\n",
            "  2%|▏         | 18/1070 [00:00<00:12, 83.22it/s]"
          ]
        },
        {
          "output_type": "stream",
          "name": "stdout",
          "text": [
            "[{'name': '李承晩', 'span': [0, 3], 'type_id': 1}, {'name': '朴正煕', 'span': [8, 11], 'type_id': 1}]\n",
            "[{'name': '真田', 'span': [5, 7], 'type_id': 1}, {'name': '佐渡', 'span': [8, 10], 'type_id': 1}]\n",
            "[{'name': '嶺真', 'span': [5, 7], 'type_id': 1}, {'name': '椋祥', 'span': [16, 18], 'type_id': 1}, {'name': '藤ヶ谷陽', 'span': [24, 28], 'type_id': 1}, {'name': '林瑞輝', 'span': [40, 43], 'type_id': 1}, {'name': '尾直', 'span': [45, 47], 'type_id': 1}, {'name': '阪翔', 'span': [50, 52], 'type_id': 1}, {'name': '平尾', 'span': [54, 56], 'type_id': 1}]\n",
            "[]\n",
            "[{'name': '長', 'span': [1, 2], 'type_id': 2}, {'name': '稲城', 'span': [11, 13], 'type_id': 2}, {'name': '城長', 'span': [16, 18], 'type_id': 2}, {'name': '稲城', 'span': [31, 33], 'type_id': 2}]\n",
            "[{'name': '・', 'span': [12, 13], 'type_id': 2}, {'name': 'ス', 'span': [13, 14], 'type_id': 7}, {'name': 'ダ', 'span': [14, 15], 'type_id': 1}, {'name': 'メリカーナ', 'span': [15, 20], 'type_id': 7}]\n",
            "[{'name': 'スー・エレン', 'span': [0, 6], 'type_id': 1}]\n",
            "[]\n",
            "[]\n",
            "[]\n",
            "[{'name': 'フリーデナー貸付', 'span': [6, 14], 'type_id': 1}]\n",
            "[{'name': '川島正徳', 'span': [24, 28], 'type_id': 1}, {'name': 'ノ', 'span': [31, 32], 'type_id': 1}, {'name': 'モン', 'span': [32, 34], 'type_id': 6}, {'name': 'ハン', 'span': [34, 36], 'type_id': 2}]\n",
            "[{'name': '大丸有', 'span': [3, 6], 'type_id': 2}, {'name': '三菱地所', 'span': [11, 15], 'type_id': 2}, {'name': '三菱地所プロパティマネ', 'span': [34, 45], 'type_id': 2}]\n",
            "[]\n",
            "[{'name': '札幌', 'span': [5, 7], 'type_id': 8}, {'name': '札幌', 'span': [61, 63], 'type_id': 8}]\n",
            "[{'name': '木', 'span': [45, 46], 'type_id': 6}]\n",
            "[{'name': '岡部豊', 'span': [24, 27], 'type_id': 1}]\n",
            "[{'name': 'チャールズ・ポメロイ・ストーン', 'span': [0, 15], 'type_id': 1}]\n"
          ]
        },
        {
          "output_type": "stream",
          "name": "stderr",
          "text": [
            "\u001b[A\n",
            "  3%|▎         | 27/1070 [00:00<00:12, 83.70it/s]\u001b[A\n",
            "  3%|▎         | 36/1070 [00:00<00:12, 83.35it/s]\u001b[A"
          ]
        },
        {
          "output_type": "stream",
          "name": "stdout",
          "text": [
            "[{'name': '足立光宏', 'span': [6, 10], 'type_id': 1}, {'name': '松岡', 'span': [26, 28], 'type_id': 1}]\n",
            "[{'name': '阪神', 'span': [38, 40], 'type_id': 8}, {'name': '・', 'span': [40, 41], 'type_id': 1}, {'name': '淡路', 'span': [41, 43], 'type_id': 8}]\n",
            "[]\n",
            "[]\n",
            "[{'name': 'ミルドレッド・コリン', 'span': [7, 17], 'type_id': 1}]\n",
            "[{'name': 'ピンポン', 'span': [6, 10], 'type_id': 7}]\n",
            "[{'name': '藤', 'span': [8, 9], 'type_id': 1}, {'name': '石井希', 'span': [19, 22], 'type_id': 1}, {'name': '久保田望', 'span': [23, 27], 'type_id': 1}]\n",
            "[{'name': '大和', 'span': [0, 2], 'type_id': 2}, {'name': '創造', 'span': [5, 7], 'type_id': 2}]\n",
            "[]\n",
            "[{'name': \"'s\", 'span': [9, 11], 'type_id': 2}]\n",
            "[]\n",
            "[{'name': 'カール・アブラハム・ピル', 'span': [43, 55], 'type_id': 1}]\n",
            "[]\n",
            "[{'name': 'ベンチャーズ', 'span': [15, 21], 'type_id': 2}]\n",
            "[{'name': '三共', 'span': [56, 58], 'type_id': 2}, {'name': '日本光学工業', 'span': [59, 65], 'type_id': 2}, {'name': '味の素', 'span': [66, 69], 'type_id': 2}, {'name': 'タカジアスターゼ', 'span': [90, 98], 'type_id': 2}, {'name': 'ニッコール', 'span': [99, 104], 'type_id': 2}, {'name': '味', 'span': [105, 106], 'type_id': 1}, {'name': 'の素', 'span': [106, 108], 'type_id': 2}]\n",
            "[]\n",
            "[]\n",
            "[]\n"
          ]
        },
        {
          "output_type": "stream",
          "name": "stderr",
          "text": [
            "\n",
            "  4%|▍         | 45/1070 [00:00<00:12, 83.44it/s]\u001b[A\n",
            "  5%|▌         | 54/1070 [00:00<00:11, 84.71it/s]\u001b[A"
          ]
        },
        {
          "output_type": "stream",
          "name": "stdout",
          "text": [
            "[{'name': '小林武史', 'span': [7, 11], 'type_id': 1}, {'name': '櫻井和寿', 'span': [12, 16], 'type_id': 1}, {'name': 'ap b', 'span': [30, 34], 'type_id': 2}, {'name': 'ank', 'span': [34, 37], 'type_id': 1}, {'name': 'fe', 'span': [38, 40], 'type_id': 2}]\n",
            "[{'name': 'ラナ', 'span': [13, 15], 'type_id': 2}, {'name': 'カ', 'span': [15, 16], 'type_id': 1}, {'name': 'ジオ', 'span': [16, 18], 'type_id': 2}]\n",
            "[{'name': 'あさま', 'span': [3, 6], 'type_id': 1}, {'name': '山荘', 'span': [6, 8], 'type_id': 2}]\n",
            "[{'name': 'タ', 'span': [12, 13], 'type_id': 2}]\n",
            "[{'name': 'エッケナー博士', 'span': [0, 7], 'type_id': 1}]\n",
            "[{'name': '&', 'span': [1, 2], 'type_id': 2}, {'name': '&E', 'span': [36, 38], 'type_id': 2}]\n",
            "[{'name': 'La New', 'span': [13, 19], 'type_id': 2}, {'name': 'ベア', 'span': [19, 21], 'type_id': 6}]\n",
            "[]\n",
            "[]\n",
            "[{'name': 'ポーランド', 'span': [3, 8], 'type_id': 2}, {'name': '世界', 'span': [29, 31], 'type_id': 1}]\n",
            "[{'name': '三菱UFJフィナンシャル・グループ', 'span': [0, 17], 'type_id': 2}, {'name': '三菱UFJ信託銀行', 'span': [42, 51], 'type_id': 2}, {'name': 'じぶん銀行', 'span': [80, 85], 'type_id': 2}]\n",
            "[{'name': '日産', 'span': [9, 11], 'type_id': 2}, {'name': 'ダットサン', 'span': [23, 28], 'type_id': 2}]\n",
            "[{'name': '野口裕之', 'span': [12, 16], 'type_id': 1}]\n",
            "[{'name': '町', 'span': [20, 21], 'type_id': 6}, {'name': '奉行', 'span': [21, 23], 'type_id': 2}]\n",
            "[]\n",
            "[{'name': 'ブラッドリー', 'span': [6, 12], 'type_id': 1}, {'name': 'ブファーム', 'span': [37, 42], 'type_id': 1}, {'name': 'ワーストック', 'span': [78, 84], 'type_id': 1}]\n",
            "[{'name': '奈良', 'span': [0, 2], 'type_id': 2}, {'name': '・ナーラ', 'span': [9, 13], 'type_id': 2}, {'name': '奈良', 'span': [17, 19], 'type_id': 2}]\n",
            "[{'name': '赤崎勇', 'span': [15, 18], 'type_id': 1}, {'name': '天野', 'span': [19, 21], 'type_id': 1}, {'name': '修', 'span': [36, 37], 'type_id': 1}]\n"
          ]
        },
        {
          "output_type": "stream",
          "name": "stderr",
          "text": [
            "\n",
            "  6%|▌         | 63/1070 [00:00<00:12, 83.77it/s]\u001b[A"
          ]
        },
        {
          "output_type": "stream",
          "name": "stdout",
          "text": [
            "[{'name': '海兵', 'span': [12, 14], 'type_id': 2}, {'name': 'ジェームズ・・バリンジャー大佐', 'span': [15, 30], 'type_id': 1}, {'name': '太平洋艦隊司令', 'span': [32, 39], 'type_id': 1}, {'name': 'ニミッツ提督', 'span': [41, 47], 'type_id': 1}, {'name': '極東軍', 'span': [52, 55], 'type_id': 2}, {'name': 'マッカーサー元帥', 'span': [59, 67], 'type_id': 1}]\n",
            "[{'name': 'NECプラットフォーム', 'span': [7, 18], 'type_id': 2}]\n",
            "[{'name': '木下惠介', 'span': [48, 52], 'type_id': 1}]\n",
            "[{'name': 'and', 'span': [23, 26], 'type_id': 1}]\n",
            "[{'name': '農業', 'span': [5, 7], 'type_id': 2}]\n",
            "[{'name': '忠三', 'span': [0, 2], 'type_id': 1}, {'name': '利一', 'span': [22, 24], 'type_id': 1}, {'name': '正雄', 'span': [39, 41], 'type_id': 1}, {'name': '昭雄', 'span': [45, 47], 'type_id': 1}]\n",
            "[{'name': '京阪', 'span': [27, 29], 'type_id': 2}]\n",
            "[{'name': '甲', 'span': [1, 2], 'type_id': 8}, {'name': '陽軍', 'span': [2, 4], 'type_id': 1}, {'name': '信盛', 'span': [11, 13], 'type_id': 1}]\n",
            "[]\n",
            "[]\n",
            "[]\n",
            "[{'name': 'プタ', 'span': [18, 20], 'type_id': 2}]\n",
            "[{'name': '月島機械', 'span': [0, 4], 'type_id': 2}, {'name': '人', 'span': [34, 35], 'type_id': 8}, {'name': '日本産業機械工業会', 'span': [35, 44], 'type_id': 2}]\n",
            "[{'name': '新', 'span': [1, 2], 'type_id': 2}, {'name': '学院', 'span': [2, 4], 'type_id': 6}, {'name': '高等', 'span': [4, 6], 'type_id': 2}, {'name': '神奈川', 'span': [10, 13], 'type_id': 2}, {'name': '千葉', 'span': [31, 33], 'type_id': 2}]\n",
            "[{'name': 'モア', 'span': [2, 4], 'type_id': 1}, {'name': 'モア', 'span': [38, 40], 'type_id': 1}]\n",
            "[{'name': 'ビュート伯爵', 'span': [9, 15], 'type_id': 1}, {'name': 'ジョージ・グレンヴィル', 'span': [16, 27], 'type_id': 1}, {'name': 'イグリモント伯爵', 'span': [28, 36], 'type_id': 1}, {'name': 'ハリファックス伯爵', 'span': [37, 46], 'type_id': 1}]\n",
            "[]\n"
          ]
        },
        {
          "output_type": "stream",
          "name": "stderr",
          "text": [
            "\n",
            "  7%|▋         | 72/1070 [00:00<00:12, 80.41it/s]\u001b[A\n",
            "  8%|▊         | 81/1070 [00:00<00:12, 81.13it/s]\u001b[A"
          ]
        },
        {
          "output_type": "stream",
          "name": "stdout",
          "text": [
            "[]\n",
            "[{'name': '・ヨット・クラブ', 'span': [9, 17], 'type_id': 2}, {'name': 'アメリカ', 'span': [24, 28], 'type_id': 7}, {'name': 'ズ・カップ', 'span': [28, 33], 'type_id': 2}]\n",
            "[{'name': 'シティ・', 'span': [9, 13], 'type_id': 1}, {'name': 'ハーベスト', 'span': [13, 18], 'type_id': 2}, {'name': 'ドミニク・アンセル', 'span': [26, 35], 'type_id': 1}, {'name': 'ニコラス・ローリーおよびクエストラブ', 'span': [47, 65], 'type_id': 1}]\n",
            "[]\n",
            "[{'name': '李明博', 'span': [27, 30], 'type_id': 1}, {'name': '朴槿恵', 'span': [33, 36], 'type_id': 1}]\n",
            "[{'name': '・メ', 'span': [32, 34], 'type_id': 1}, {'name': 'サ大学', 'span': [34, 37], 'type_id': 2}, {'name': 'セント', 'span': [38, 41], 'type_id': 1}, {'name': 'メアリー', 'span': [41, 45], 'type_id': 6}]\n",
            "[]\n",
            "[{'name': '鬼武', 'span': [0, 2], 'type_id': 1}, {'name': '野本孝一', 'span': [4, 8], 'type_id': 1}, {'name': '経', 'span': [27, 28], 'type_id': 2}, {'name': 'ア式蹴', 'span': [39, 42], 'type_id': 2}]\n",
            "[{'name': 'テイン・セイン', 'span': [6, 13], 'type_id': 1}]\n",
            "[{'name': 'ニューアーク・アカデミー', 'span': [2, 14], 'type_id': 2}, {'name': 'アーク・', 'span': [36, 40], 'type_id': 2}]\n",
            "[]\n",
            "[]\n",
            "[{'name': 'シーメンス', 'span': [15, 20], 'type_id': 2}, {'name': 'ユーロ', 'span': [48, 51], 'type_id': 2}]\n",
            "[{'name': 'ジェン', 'span': [0, 3], 'type_id': 1}]\n",
            "[{'name': '新聞', 'span': [5, 7], 'type_id': 2}]\n",
            "[{'name': 'サ', 'span': [8, 9], 'type_id': 2}, {'name': 'ニックス', 'span': [9, 13], 'type_id': 6}]\n",
            "[{'name': 'ラシェの', 'span': [15, 19], 'type_id': 1}]\n"
          ]
        },
        {
          "output_type": "stream",
          "name": "stderr",
          "text": [
            "\n",
            "  8%|▊         | 90/1070 [00:01<00:11, 81.67it/s]\u001b[A\n",
            "  9%|▉         | 99/1070 [00:01<00:11, 82.76it/s]\u001b[A"
          ]
        },
        {
          "output_type": "stream",
          "name": "stdout",
          "text": [
            "[{'name': 'ロックスイン', 'span': [43, 49], 'type_id': 2}, {'name': 'Vサービス', 'span': [54, 59], 'type_id': 2}]\n",
            "[{'name': 'フアン・ロドリゲス・カブリリョ', 'span': [17, 32], 'type_id': 1}]\n",
            "[{'name': '西鉄ライオンズ', 'span': [14, 21], 'type_id': 2}, {'name': '豊田泰光', 'span': [31, 35], 'type_id': 1}, {'name': '中西太', 'span': [36, 39], 'type_id': 1}, {'name': '大下弘', 'span': [40, 43], 'type_id': 1}, {'name': '稲尾和久', 'span': [44, 48], 'type_id': 1}]\n",
            "[{'name': '国立', 'span': [13, 15], 'type_id': 6}, {'name': '会計', 'span': [15, 17], 'type_id': 3}, {'name': '監査', 'span': [17, 19], 'type_id': 2}]\n",
            "[]\n",
            "[{'name': 'ヤードバーズ', 'span': [0, 6], 'type_id': 2}, {'name': 'ジミー・ペイジ', 'span': [13, 20], 'type_id': 1}, {'name': 'ドレヤ', 'span': [21, 24], 'type_id': 1}]\n",
            "[{'name': '伊丹敬之', 'span': [17, 21], 'type_id': 1}, {'name': '加護野忠男', 'span': [22, 27], 'type_id': 1}]\n",
            "[{'name': 'フィリーズ', 'span': [4, 9], 'type_id': 2}]\n",
            "[]\n",
            "[]\n",
            "[{'name': '道路', 'span': [17, 19], 'type_id': 2}]\n",
            "[{'name': 'ガストン・ドゥメルグ', 'span': [8, 18], 'type_id': 1}]\n",
            "[]\n",
            "[{'name': '神戸', 'span': [0, 2], 'type_id': 8}]\n",
            "[{'name': 'トリニ', 'span': [12, 15], 'type_id': 1}, {'name': 'ータ', 'span': [15, 17], 'type_id': 2}]\n",
            "[{'name': 'オリンピック委員会', 'span': [2, 11], 'type_id': 2}, {'name': '国際', 'span': [15, 17], 'type_id': 8}, {'name': 'オリンピック委員会', 'span': [17, 26], 'type_id': 2}, {'name': '委員', 'span': [36, 38], 'type_id': 2}]\n",
            "[{'name': 'ローリング', 'span': [14, 19], 'type_id': 2}, {'name': '・ストーンズ', 'span': [19, 25], 'type_id': 1}, {'name': 'スマ', 'span': [26, 28], 'type_id': 1}, {'name': 'ッシング・', 'span': [28, 33], 'type_id': 2}, {'name': 'パンプキンズ', 'span': [33, 39], 'type_id': 1}, {'name': 'ユニバーサルミュージック', 'span': [64, 76], 'type_id': 2}]\n"
          ]
        },
        {
          "output_type": "stream",
          "name": "stderr",
          "text": [
            "\n",
            " 10%|█         | 108/1070 [00:01<00:11, 80.89it/s]\u001b[A\n",
            " 11%|█         | 117/1070 [00:01<00:11, 81.65it/s]\u001b[A"
          ]
        },
        {
          "output_type": "stream",
          "name": "stdout",
          "text": [
            "[{'name': 'イギリス東インド会社', 'span': [14, 24], 'type_id': 2}]\n",
            "[{'name': 'ホワイトチャペル社', 'span': [6, 15], 'type_id': 2}, {'name': 'シス', 'span': [36, 38], 'type_id': 1}]\n",
            "[]\n",
            "[{'name': 'ノートルダム・ジャパン・ボウル', 'span': [6, 21], 'type_id': 2}, {'name': '回アメリカンフットボール', 'span': [54, 66], 'type_id': 8}, {'name': '・', 'span': [66, 67], 'type_id': 2}]\n",
            "[{'name': 'ax', 'span': [81, 83], 'type_id': 1}, {'name': 'PA', 'span': [87, 89], 'type_id': 2}]\n",
            "[{'name': '世界', 'span': [10, 12], 'type_id': 7}, {'name': '道', 'span': [14, 15], 'type_id': 2}]\n",
            "[{'name': 'テレビジョン', 'span': [15, 21], 'type_id': 2}]\n",
            "[{'name': '県', 'span': [13, 14], 'type_id': 2}, {'name': '新日本', 'span': [21, 24], 'type_id': 2}, {'name': 'アントニオ猪木', 'span': [46, 53], 'type_id': 1}]\n",
            "[{'name': '米', 'span': [5, 6], 'type_id': 1}, {'name': '社会大衆', 'span': [13, 17], 'type_id': 2}]\n",
            "[{'name': '与', 'span': [20, 21], 'type_id': 2}, {'name': '科学', 'span': [33, 35], 'type_id': 2}, {'name': '産業', 'span': [39, 41], 'type_id': 2}]\n",
            "[]\n",
            "[{'name': '嘉人', 'span': [28, 30], 'type_id': 1}, {'name': '奈良竜', 'span': [49, 52], 'type_id': 1}]\n",
            "[]\n",
            "[]\n",
            "[{'name': '夢', 'span': [4, 5], 'type_id': 8}, {'name': 'スター歌謡', 'span': [5, 10], 'type_id': 2}, {'name': '祭', 'span': [10, 11], 'type_id': 8}, {'name': '組', 'span': [12, 13], 'type_id': 8}, {'name': '組', 'span': [15, 16], 'type_id': 8}]\n",
            "[]\n",
            "[{'name': '北陸', 'span': [3, 5], 'type_id': 2}]\n"
          ]
        },
        {
          "output_type": "stream",
          "name": "stderr",
          "text": [
            "\n",
            " 12%|█▏        | 126/1070 [00:01<00:11, 80.98it/s]\u001b[A\n",
            " 13%|█▎        | 135/1070 [00:01<00:11, 82.54it/s]\u001b[A"
          ]
        },
        {
          "output_type": "stream",
          "name": "stdout",
          "text": [
            "[{'name': '連合国', 'span': [4, 7], 'type_id': 2}]\n",
            "[{'name': 'ヘンリー・R・ヘイル', 'span': [6, 16], 'type_id': 1}]\n",
            "[]\n",
            "[{'name': '州立', 'span': [8, 10], 'type_id': 2}]\n",
            "[{'name': 'デュエン・クレーマー', 'span': [4, 14], 'type_id': 1}, {'name': 'シャーリー・クレーマー', 'span': [15, 26], 'type_id': 1}, {'name': 'クレーマー', 'span': [44, 49], 'type_id': 1}]\n",
            "[{'name': '々園', 'span': [5, 7], 'type_id': 1}, {'name': '佐伯', 'span': [15, 17], 'type_id': 5}, {'name': '々園', 'span': [19, 21], 'type_id': 1}]\n",
            "[{'name': 'アレクサンデル・スタンボリスキ農民同盟', 'span': [5, 24], 'type_id': 1}]\n",
            "[{'name': '野', 'span': [1, 2], 'type_id': 1}, {'name': '徳島', 'span': [11, 13], 'type_id': 2}, {'name': '野', 'span': [15, 16], 'type_id': 1}, {'name': 'ツ', 'span': [18, 19], 'type_id': 1}]\n",
            "[{'name': '最高', 'span': [20, 22], 'type_id': 2}, {'name': 'エドウィン・スタン', 'span': [34, 43], 'type_id': 1}]\n",
            "[{'name': 'クォーター', 'span': [44, 49], 'type_id': 1}]\n",
            "[{'name': 'ソ連', 'span': [0, 2], 'type_id': 1}, {'name': 'ウラジミロフ少将', 'span': [3, 11], 'type_id': 1}]\n",
            "[{'name': '都市開発', 'span': [6, 10], 'type_id': 2}]\n",
            "[{'name': 'リパブリックエアウェイズ・ホールディングズ', 'span': [12, 33], 'type_id': 2}, {'name': 'リパブリック航空', 'span': [46, 54], 'type_id': 2}, {'name': '11', 'span': [56, 58], 'type_id': 2}]\n",
            "[]\n",
            "[{'name': '郵政', 'span': [9, 11], 'type_id': 2}, {'name': 'ト', 'span': [37, 38], 'type_id': 2}]\n",
            "[{'name': 'ユン・ピョウ', 'span': [6, 12], 'type_id': 1}, {'name': 'サモ・ハン', 'span': [35, 40], 'type_id': 1}, {'name': 'ユン・ピョウ', 'span': [51, 57], 'type_id': 1}]\n",
            "[{'name': '・', 'span': [27, 28], 'type_id': 2}]\n",
            "[{'name': 'ノー・', 'span': [3, 6], 'type_id': 1}, {'name': 'ウェイ', 'span': [6, 9], 'type_id': 2}, {'name': '・アウト', 'span': [9, 13], 'type_id': 1}, {'name': 'ミステリオ', 'span': [15, 20], 'type_id': 1}]\n"
          ]
        },
        {
          "output_type": "stream",
          "name": "stderr",
          "text": [
            "\n",
            " 13%|█▎        | 144/1070 [00:01<00:11, 81.69it/s]\u001b[A\n",
            " 14%|█▍        | 153/1070 [00:01<00:11, 80.73it/s]\u001b[A"
          ]
        },
        {
          "output_type": "stream",
          "name": "stdout",
          "text": [
            "[{'name': '菊地又男', 'span': [0, 4], 'type_id': 1}, {'name': '道アンデパン', 'span': [33, 39], 'type_id': 2}, {'name': '菊地', 'span': [51, 53], 'type_id': 1}, {'name': '純', 'span': [60, 61], 'type_id': 1}]\n",
            "[]\n",
            "[{'name': '遠州鉄道', 'span': [0, 4], 'type_id': 2}, {'name': '遠', 'span': [11, 12], 'type_id': 2}, {'name': '浜松', 'span': [27, 29], 'type_id': 2}, {'name': '遠', 'span': [48, 49], 'type_id': 2}]\n",
            "[]\n",
            "[{'name': 'ランスタッド日本合同', 'span': [0, 10], 'type_id': 2}, {'name': 'ランスタッド', 'span': [25, 31], 'type_id': 2}]\n",
            "[]\n",
            "[{'name': 'レガ', 'span': [12, 14], 'type_id': 7}]\n",
            "[{'name': '防衛', 'span': [2, 4], 'type_id': 2}, {'name': '宇宙戦艦ヤマト', 'span': [11, 18], 'type_id': 2}]\n",
            "[]\n",
            "[{'name': 'マーカス・レイトホールド', 'span': [6, 18], 'type_id': 1}]\n",
            "[{'name': 'ニーズ', 'span': [5, 8], 'type_id': 1}]\n",
            "[]\n",
            "[{'name': '名古屋相互', 'span': [41, 46], 'type_id': 2}]\n",
            "[{'name': 'ヴィトー', 'span': [8, 12], 'type_id': 1}, {'name': 'リア', 'span': [12, 14], 'type_id': 2}, {'name': 'バ', 'span': [33, 34], 'type_id': 2}, {'name': 'ポンチ・プレ', 'span': [39, 45], 'type_id': 1}, {'name': 'ス', 'span': [51, 52], 'type_id': 2}, {'name': 'ル', 'span': [57, 58], 'type_id': 2}, {'name': '・', 'span': [59, 60], 'type_id': 1}, {'name': '・', 'span': [69, 70], 'type_id': 2}, {'name': 'ミネ', 'span': [70, 72], 'type_id': 1}, {'name': 'ナウ', 'span': [87, 89], 'type_id': 1}]\n",
            "[{'name': 'ギグ・ヤング', 'span': [3, 9], 'type_id': 1}, {'name': 'バイロン・エルスワース・バー', 'span': [13, 27], 'type_id': 1}, {'name': 'グリーンヒル', 'span': [31, 37], 'type_id': 1}]\n",
            "[{'name': '双竜セメント工業', 'span': [6, 14], 'type_id': 2}, {'name': '国営', 'span': [18, 20], 'type_id': 2}]\n",
            "[{'name': '屋', 'span': [32, 33], 'type_id': 7}]\n"
          ]
        },
        {
          "output_type": "stream",
          "name": "stderr",
          "text": [
            "\n",
            " 15%|█▌        | 162/1070 [00:02<00:12, 72.21it/s]\u001b[A\n",
            " 16%|█▌        | 171/1070 [00:02<00:11, 75.27it/s]\u001b[A"
          ]
        },
        {
          "output_type": "stream",
          "name": "stdout",
          "text": [
            "[{'name': '住友信託', 'span': [4, 8], 'type_id': 2}, {'name': '東京', 'span': [55, 57], 'type_id': 2}, {'name': '住友信託', 'span': [65, 69], 'type_id': 2}]\n",
            "[{'name': 'カナダ', 'span': [3, 6], 'type_id': 2}]\n",
            "[{'name': 'ボルシア・メン', 'span': [16, 23], 'type_id': 2}, {'name': 'ヒェングラートバッハ', 'span': [23, 33], 'type_id': 1}, {'name': 'スター・', 'span': [37, 41], 'type_id': 2}]\n",
            "[{'name': 'イギリス', 'span': [0, 4], 'type_id': 1}, {'name': 'ロイ', 'span': [12, 14], 'type_id': 1}, {'name': 'ヤ', 'span': [14, 15], 'type_id': 2}, {'name': 'トマス・バセット', 'span': [21, 29], 'type_id': 1}, {'name': 'モー', 'span': [31, 33], 'type_id': 1}]\n",
            "[{'name': 'み', 'span': [7, 8], 'type_id': 6}]\n",
            "[{'name': '羽田孜', 'span': [13, 16], 'type_id': 1}, {'name': '杉山憲夫', 'span': [17, 21], 'type_id': 1}, {'name': '熊谷弘', 'span': [22, 25], 'type_id': 1}, {'name': '船田元', 'span': [26, 29], 'type_id': 1}, {'name': '岡田克也', 'span': [30, 34], 'type_id': 1}, {'name': '二階俊博', 'span': [35, 39], 'type_id': 1}, {'name': '野田毅', 'span': [40, 43], 'type_id': 1}, {'name': '扇千景', 'span': [44, 47], 'type_id': 1}, {'name': '小池百合子', 'span': [48, 53], 'type_id': 1}, {'name': '石破茂', 'span': [54, 57], 'type_id': 1}, {'name': '西川太一郎', 'span': [58, 63], 'type_id': 1}, {'name': '高橋嘉信', 'span': [64, 68], 'type_id': 1}, {'name': '渡辺秀央', 'span': [69, 73], 'type_id': 1}, {'name': '大江康弘', 'span': [74, 78], 'type_id': 1}, {'name': '西村眞悟', 'span': [79, 83], 'type_id': 1}, {'name': '藤井裕久', 'span': [84, 88], 'type_id': 1}, {'name': '中塚一宏', 'span': [89, 93], 'type_id': 1}, {'name': '階猛', 'span': [94, 96], 'type_id': 1}, {'name': '黄川田徹', 'span': [97, 101], 'type_id': 1}, {'name': '平野達男', 'span': [102, 106], 'type_id': 1}]\n",
            "[{'name': 'ダニエル・カージー', 'span': [18, 27], 'type_id': 1}]\n",
            "[{'name': 'ジェットエアウェイズ', 'span': [11, 21], 'type_id': 2}, {'name': 'セーシェル航空', 'span': [22, 29], 'type_id': 2}, {'name': 'エ', 'span': [35, 36], 'type_id': 2}, {'name': 'ティ', 'span': [36, 38], 'type_id': 1}, {'name': 'ハド航空パートナー', 'span': [38, 47], 'type_id': 2}]\n",
            "[{'name': '東京撮影', 'span': [2, 6], 'type_id': 2}]\n",
            "[{'name': 'ユナイテッド', 'span': [27, 33], 'type_id': 2}]\n",
            "[{'name': 'ザ・カンパニー', 'span': [2, 9], 'type_id': 2}]\n",
            "[]\n",
            "[]\n",
            "[]\n",
            "[]\n",
            "[]\n",
            "[{'name': 'ドラゴンズ', 'span': [9, 14], 'type_id': 1}, {'name': '鎌田圭司', 'span': [15, 19], 'type_id': 1}]\n"
          ]
        },
        {
          "output_type": "stream",
          "name": "stderr",
          "text": [
            "\n",
            " 17%|█▋        | 180/1070 [00:02<00:11, 77.17it/s]\u001b[A\n",
            " 18%|█▊        | 189/1070 [00:02<00:10, 80.14it/s]\u001b[A"
          ]
        },
        {
          "output_type": "stream",
          "name": "stdout",
          "text": [
            "[]\n",
            "[{'name': 'クル', 'span': [2, 4], 'type_id': 2}]\n",
            "[{'name': '機動', 'span': [4, 6], 'type_id': 2}, {'name': '戦士', 'span': [6, 8], 'type_id': 8}, {'name': 'ガンダム', 'span': [8, 12], 'type_id': 2}, {'name': '富野由悠季', 'span': [26, 31], 'type_id': 1}, {'name': '富野', 'span': [62, 64], 'type_id': 1}, {'name': '戦', 'span': [87, 88], 'type_id': 2}, {'name': '機', 'span': [88, 89], 'type_id': 3}, {'name': 'エル', 'span': [89, 91], 'type_id': 1}, {'name': 'ガイ', 'span': [91, 93], 'type_id': 7}, {'name': 'ム', 'span': [93, 94], 'type_id': 1}]\n",
            "[{'name': '帝人', 'span': [32, 34], 'type_id': 2}, {'name': 'デュー', 'span': [40, 43], 'type_id': 2}]\n",
            "[{'name': '速水厚志少年', 'span': [19, 25], 'type_id': 1}]\n",
            "[{'name': 'ノルーブル', 'span': [2, 7], 'type_id': 1}, {'name': '桜花', 'span': [43, 45], 'type_id': 8}, {'name': 'ノルーブル', 'span': [59, 64], 'type_id': 1}]\n",
            "[{'name': 'ジョン・ブック', 'span': [9, 16], 'type_id': 1}]\n",
            "[{'name': '大垣', 'span': [28, 30], 'type_id': 2}, {'name': '大垣菓子', 'span': [43, 47], 'type_id': 2}, {'name': '大垣水まんじゅう製造', 'span': [51, 61], 'type_id': 2}]\n",
            "[]\n",
            "[]\n",
            "[{'name': 'yth', 'span': [12, 15], 'type_id': 2}]\n",
            "[{'name': 'レゲエジャパンス', 'span': [0, 8], 'type_id': 2}, {'name': 'プラ', 'span': [8, 10], 'type_id': 7}, {'name': 'ッシュ', 'span': [10, 13], 'type_id': 2}, {'name': 'サマー', 'span': [14, 17], 'type_id': 8}, {'name': 'ソニック', 'span': [17, 21], 'type_id': 2}, {'name': 'オーガスタ', 'span': [22, 27], 'type_id': 2}]\n",
            "[{'name': '索', 'span': [2, 3], 'type_id': 2}]\n",
            "[{'name': 'ミヒャエル・ハンフら', 'span': [4, 14], 'type_id': 1}, {'name': 'ガル', 'span': [45, 47], 'type_id': 1}, {'name': 'ブランデンブルク選帝侯', 'span': [56, 67], 'type_id': 1}, {'name': 'フリードリヒ・ヴィルヘルム', 'span': [68, 81], 'type_id': 1}]\n",
            "[{'name': '日本郵便', 'span': [68, 72], 'type_id': 2}]\n",
            "[]\n",
            "[{'name': '梅原', 'span': [3, 5], 'type_id': 1}, {'name': '香苗さん', 'span': [6, 10], 'type_id': 1}, {'name': '梨穂子', 'span': [30, 33], 'type_id': 1}]\n",
            "[{'name': 'シュトゥ', 'span': [13, 17], 'type_id': 2}, {'name': 'ルム・グラー', 'span': [17, 23], 'type_id': 1}]\n"
          ]
        },
        {
          "output_type": "stream",
          "name": "stderr",
          "text": [
            "\n",
            " 19%|█▊        | 198/1070 [00:02<00:10, 80.27it/s]\u001b[A\n",
            " 19%|█▉        | 207/1070 [00:02<00:10, 81.70it/s]\u001b[A"
          ]
        },
        {
          "output_type": "stream",
          "name": "stdout",
          "text": [
            "[]\n",
            "[{'name': 'ベルトラン・ドラノエ', 'span': [32, 42], 'type_id': 1}]\n",
            "[{'name': 'ノーマン・フォスター', 'span': [21, 31], 'type_id': 1}, {'name': 'フォスター', 'span': [47, 52], 'type_id': 1}]\n",
            "[{'name': '木', 'span': [2, 3], 'type_id': 2}, {'name': '紗', 'span': [23, 24], 'type_id': 1}]\n",
            "[{'name': 'アレクサンドロフ、', 'span': [9, 18], 'type_id': 1}, {'name': 'ミハイロフ', 'span': [21, 26], 'type_id': 1}, {'name': '内部', 'span': [32, 34], 'type_id': 6}, {'name': '内部', 'span': [65, 67], 'type_id': 6}, {'name': 'マケドニア・', 'span': [67, 73], 'type_id': 2}, {'name': 'アドリア', 'span': [73, 77], 'type_id': 6}, {'name': 'ノープル革命', 'span': [77, 83], 'type_id': 2}, {'name': 'サンダンスキ', 'span': [86, 92], 'type_id': 1}]\n",
            "[{'name': '直', 'span': [2, 3], 'type_id': 1}]\n",
            "[]\n",
            "[{'name': 'テージ', 'span': [1, 4], 'type_id': 2}]\n",
            "[{'name': '高橋克彦', 'span': [12, 16], 'type_id': 1}]\n",
            "[]\n",
            "[{'name': 'ジョン・F・ケネディ', 'span': [0, 10], 'type_id': 1}]\n",
            "[{'name': 'アトランタ', 'span': [15, 20], 'type_id': 8}, {'name': 'アレン・ジョンソン', 'span': [36, 45], 'type_id': 1}]\n",
            "[{'name': '藤田実', 'span': [56, 59], 'type_id': 1}, {'name': '棟田', 'span': [67, 69], 'type_id': 1}]\n",
            "[{'name': 'マヌエル・ノイアー', 'span': [3, 12], 'type_id': 1}, {'name': 'アリエン・ロッベン', 'span': [13, 22], 'type_id': 1}]\n",
            "[{'name': '矢', 'span': [0, 1], 'type_id': 2}, {'name': '吹', 'span': [1, 2], 'type_id': 1}, {'name': '郷', 'span': [5, 6], 'type_id': 6}, {'name': '白', 'span': [15, 16], 'type_id': 1}, {'name': '河', 'span': [16, 17], 'type_id': 2}, {'name': '矢', 'span': [18, 19], 'type_id': 2}, {'name': '吹', 'span': [19, 20], 'type_id': 6}]\n",
            "[{'name': 'ジ', 'span': [8, 9], 'type_id': 1}, {'name': 'リスタン', 'span': [9, 13], 'type_id': 2}]\n",
            "[]\n",
            "[{'name': 'プリ', 'span': [15, 17], 'type_id': 2}, {'name': 'マス', 'span': [17, 19], 'type_id': 1}, {'name': '・', 'span': [19, 20], 'type_id': 2}, {'name': 'アーガイル', 'span': [20, 25], 'type_id': 1}]\n"
          ]
        },
        {
          "output_type": "stream",
          "name": "stderr",
          "text": [
            "\n",
            " 20%|██        | 216/1070 [00:02<00:10, 82.29it/s]\u001b[A\n",
            " 21%|██        | 225/1070 [00:02<00:10, 80.45it/s]\u001b[A"
          ]
        },
        {
          "output_type": "stream",
          "name": "stdout",
          "text": [
            "[{'name': '岡安譲', 'span': [9, 12], 'type_id': 1}, {'name': '青嶋達也', 'span': [19, 23], 'type_id': 1}, {'name': '塩原恒夫', 'span': [30, 34], 'type_id': 1}, {'name': '福原直英', 'span': [53, 57], 'type_id': 1}, {'name': '吉原功', 'span': [70, 73], 'type_id': 1}]\n",
            "[{'name': 'レイクスターズ', 'span': [12, 19], 'type_id': 2}]\n",
            "[{'name': '全米', 'span': [18, 20], 'type_id': 2}]\n",
            "[{'name': '首長', 'span': [3, 5], 'type_id': 1}, {'name': '国連邦', 'span': [5, 8], 'type_id': 2}]\n",
            "[{'name': 'エジ', 'span': [7, 9], 'type_id': 8}, {'name': 'ンバラフリンジ', 'span': [9, 16], 'type_id': 2}]\n",
            "[{'name': '京', 'span': [15, 16], 'type_id': 1}]\n",
            "[]\n",
            "[{'name': '国際会議', 'span': [5, 9], 'type_id': 2}, {'name': 'コンベンション', 'span': [16, 23], 'type_id': 2}]\n",
            "[{'name': 'PA', 'span': [12, 14], 'type_id': 7}]\n",
            "[{'name': 'アンテミウス帝', 'span': [0, 7], 'type_id': 1}, {'name': 'ローマ帝国', 'span': [9, 14], 'type_id': 2}, {'name': 'リキメル将軍', 'span': [21, 27], 'type_id': 1}]\n",
            "[{'name': 'Q', 'span': [9, 10], 'type_id': 2}, {'name': 'Y', 'span': [11, 12], 'type_id': 6}]\n",
            "[{'name': '第一屋ラブスベー', 'span': [16, 24], 'type_id': 2}, {'name': 'カリー', 'span': [24, 27], 'type_id': 1}, {'name': '・インコー', 'span': [27, 32], 'type_id': 2}]\n",
            "[{'name': 'EN', 'span': [8, 10], 'type_id': 2}]\n",
            "[{'name': '飯田徳治', 'span': [32, 36], 'type_id': 1}]\n",
            "[{'name': '福壽酒造', 'span': [0, 4], 'type_id': 1}, {'name': '阪神', 'span': [15, 17], 'type_id': 8}, {'name': '・', 'span': [17, 18], 'type_id': 1}, {'name': '淡路', 'span': [18, 20], 'type_id': 2}, {'name': '豊澤酒造', 'span': [45, 49], 'type_id': 2}, {'name': '神戸酒心', 'span': [61, 65], 'type_id': 2}]\n",
            "[{'name': '住友化学', 'span': [13, 17], 'type_id': 2}]\n",
            "[{'name': '諏訪', 'span': [0, 2], 'type_id': 2}, {'name': '共楽', 'span': [6, 8], 'type_id': 2}, {'name': '本山', 'span': [10, 12], 'type_id': 2}, {'name': '共楽', 'span': [51, 53], 'type_id': 2}, {'name': '諏訪', 'span': [67, 69], 'type_id': 2}]\n"
          ]
        },
        {
          "output_type": "stream",
          "name": "stderr",
          "text": [
            "\n",
            " 22%|██▏       | 234/1070 [00:02<00:10, 78.94it/s]\u001b[A\n",
            " 23%|██▎       | 244/1070 [00:03<00:10, 82.46it/s]\u001b[A"
          ]
        },
        {
          "output_type": "stream",
          "name": "stdout",
          "text": [
            "[{'name': 'ゲイリー・スティーヴンス', 'span': [23, 35], 'type_id': 1}]\n",
            "[{'name': 'メルセデス・ベンツ', 'span': [13, 22], 'type_id': 2}]\n",
            "[{'name': '環境', 'span': [8, 10], 'type_id': 8}, {'name': '保護', 'span': [10, 12], 'type_id': 2}]\n",
            "[{'name': '村', 'span': [27, 28], 'type_id': 2}, {'name': '国', 'span': [28, 29], 'type_id': 1}]\n",
            "[{'name': '・ニュースペーパー', 'span': [11, 20], 'type_id': 2}, {'name': 'シンジ', 'span': [21, 24], 'type_id': 2}]\n",
            "[{'name': 'いかりや', 'span': [0, 4], 'type_id': 1}, {'name': '立川談志', 'span': [23, 27], 'type_id': 1}]\n",
            "[{'name': '東京アマチュア小品盆', 'span': [8, 18], 'type_id': 2}]\n",
            "[{'name': 'パサール', 'span': [45, 49], 'type_id': 2}]\n",
            "[{'name': 'チェプラク', 'span': [0, 5], 'type_id': 1}, {'name': 'ヨーロッパ', 'span': [13, 18], 'type_id': 8}, {'name': 'ジュニア', 'span': [18, 22], 'type_id': 7}]\n",
            "[{'name': '速水けんたろう', 'span': [0, 7], 'type_id': 1}, {'name': '茂森', 'span': [8, 10], 'type_id': 1}, {'name': '回', 'span': [18, 19], 'type_id': 8}, {'name': '紅白', 'span': [22, 24], 'type_id': 8}]\n",
            "[{'name': 'メタルワン', 'span': [10, 15], 'type_id': 2}, {'name': '住友商事', 'span': [33, 37], 'type_id': 2}, {'name': '住商メタルワン', 'span': [55, 62], 'type_id': 2}]\n",
            "[{'name': '正道会館', 'span': [11, 15], 'type_id': 2}, {'name': 'ノック', 'span': [21, 24], 'type_id': 8}, {'name': 'ダウンオープン', 'span': [24, 31], 'type_id': 2}, {'name': 'トー', 'span': [31, 33], 'type_id': 6}, {'name': 'ナメント全日本', 'span': [33, 40], 'type_id': 8}, {'name': '佐竹雅昭', 'span': [53, 57], 'type_id': 1}]\n",
            "[{'name': '浅野総一郎', 'span': [0, 5], 'type_id': 1}, {'name': 'ハリマン', 'span': [6, 10], 'type_id': 1}, {'name': '洋', 'span': [57, 58], 'type_id': 2}]\n",
            "[{'name': 'ケリー', 'span': [14, 17], 'type_id': 1}, {'name': '参謀本部', 'span': [29, 33], 'type_id': 2}, {'name': 'デヴォー', 'span': [46, 50], 'type_id': 1}]\n",
            "[]\n",
            "[{'name': '始皇帝', 'span': [3, 6], 'type_id': 1}, {'name': '李斯', 'span': [7, 9], 'type_id': 1}, {'name': '李斯', 'span': [28, 30], 'type_id': 1}]\n",
            "[{'name': 'アントニオ・ダブリウ', 'span': [13, 23], 'type_id': 1}, {'name': 'ナ', 'span': [35, 36], 'type_id': 7}]\n"
          ]
        },
        {
          "output_type": "stream",
          "name": "stderr",
          "text": [
            "\n",
            " 24%|██▎       | 253/1070 [00:03<00:09, 81.79it/s]\u001b[A\n",
            " 24%|██▍       | 262/1070 [00:03<00:09, 81.46it/s]\u001b[A"
          ]
        },
        {
          "output_type": "stream",
          "name": "stdout",
          "text": [
            "[]\n",
            "[{'name': '東京モーターショー', 'span': [3, 12], 'type_id': 2}]\n",
            "[{'name': 'ヴァルチーラ', 'span': [64, 70], 'type_id': 2}]\n",
            "[{'name': 'コティニョーラ', 'span': [0, 7], 'type_id': 1}]\n",
            "[]\n",
            "[]\n",
            "[]\n",
            "[{'name': 'アーサー・ロストロン', 'span': [7, 17], 'type_id': 1}]\n",
            "[]\n",
            "[{'name': 'コンスタンツ', 'span': [12, 18], 'type_id': 1}, {'name': '公', 'span': [18, 19], 'type_id': 2}]\n",
            "[{'name': 'バンダ', 'span': [1, 4], 'type_id': 1}, {'name': '共和', 'span': [14, 16], 'type_id': 2}, {'name': 'バンダカ', 'span': [21, 25], 'type_id': 1}]\n",
            "[]\n",
            "[{'name': 'オリギノ', 'span': [34, 38], 'type_id': 1}]\n",
            "[{'name': '国際連合経済社会理事会', 'span': [10, 21], 'type_id': 2}]\n",
            "[{'name': 'フロ', 'span': [27, 29], 'type_id': 2}, {'name': '・ソフトウェア', 'span': [30, 37], 'type_id': 2}, {'name': 'ver', 'span': [47, 50], 'type_id': 2}]\n",
            "[{'name': 'ノッティ', 'span': [3, 7], 'type_id': 1}, {'name': 'ンガム大学', 'span': [7, 12], 'type_id': 2}, {'name': 'ピーター・マンスフィールド', 'span': [13, 26], 'type_id': 1}, {'name': 'ター', 'span': [41, 43], 'type_id': 2}]\n",
            "[]\n",
            "[{'name': '三菱地所', 'span': [7, 11], 'type_id': 2}]\n"
          ]
        },
        {
          "output_type": "stream",
          "name": "stderr",
          "text": [
            "\n",
            " 25%|██▌       | 271/1070 [00:03<00:09, 82.09it/s]\u001b[A\n",
            " 26%|██▌       | 280/1070 [00:03<00:09, 82.10it/s]\u001b[A"
          ]
        },
        {
          "output_type": "stream",
          "name": "stdout",
          "text": [
            "[{'name': '日本体育大学', 'span': [8, 14], 'type_id': 2}]\n",
            "[{'name': '能代', 'span': [0, 2], 'type_id': 2}, {'name': '厚生', 'span': [2, 4], 'type_id': 1}, {'name': '能代', 'span': [15, 17], 'type_id': 1}, {'name': '秋田県厚生農業協同組合連合', 'span': [26, 39], 'type_id': 2}]\n",
            "[{'name': 'r', 'span': [49, 50], 'type_id': 2}]\n",
            "[{'name': '長山洋子', 'span': [23, 27], 'type_id': 1}]\n",
            "[{'name': 'ベント', 'span': [8, 11], 'type_id': 1}]\n",
            "[{'name': 'フォース・インディア', 'span': [35, 45], 'type_id': 2}]\n",
            "[{'name': '日本', 'span': [8, 10], 'type_id': 8}, {'name': '陸連', 'span': [10, 12], 'type_id': 2}]\n",
            "[{'name': '連合国軍最高', 'span': [6, 12], 'type_id': 2}, {'name': '司令官総司令部', 'span': [12, 19], 'type_id': 1}, {'name': '経済力集中排除', 'span': [25, 32], 'type_id': 2}, {'name': '日本発送電', 'span': [39, 44], 'type_id': 2}]\n",
            "[]\n",
            "[{'name': 'アモス・コレック', 'span': [13, 21], 'type_id': 1}, {'name': 'マイク・リー', 'span': [22, 28], 'type_id': 1}, {'name': 'エミール・クストリッツァ', 'span': [29, 41], 'type_id': 1}, {'name': 'デヴィッド・リンチ', 'span': [42, 51], 'type_id': 1}]\n",
            "[]\n",
            "[{'name': '日', 'span': [12, 13], 'type_id': 2}, {'name': '学', 'span': [13, 14], 'type_id': 6}, {'name': '日学株式会社', 'span': [44, 50], 'type_id': 2}]\n",
            "[{'name': '地球空間', 'span': [6, 10], 'type_id': 6}, {'name': '情報', 'span': [10, 12], 'type_id': 2}]\n",
            "[{'name': 'ストーン', 'span': [15, 19], 'type_id': 2}, {'name': '・ローゼズ', 'span': [19, 24], 'type_id': 1}]\n",
            "[]\n",
            "[{'name': 'サラ・サンダース報道', 'span': [0, 10], 'type_id': 1}]\n",
            "[]\n",
            "[{'name': 'ナム', 'span': [17, 19], 'type_id': 2}]\n"
          ]
        },
        {
          "output_type": "stream",
          "name": "stderr",
          "text": [
            "\n",
            " 27%|██▋       | 289/1070 [00:03<00:09, 80.73it/s]\u001b[A\n",
            " 28%|██▊       | 298/1070 [00:03<00:09, 81.30it/s]"
          ]
        },
        {
          "output_type": "stream",
          "name": "stdout",
          "text": [
            "[{'name': '飯田泰之', 'span': [19, 23], 'type_id': 1}]\n",
            "[{'name': '肥バス', 'span': [7, 10], 'type_id': 2}]\n",
            "[{'name': 'トヨタファイナンシャルサービス証券', 'span': [7, 24], 'type_id': 2}]\n",
            "[{'name': '御', 'span': [13, 14], 'type_id': 1}, {'name': '本丸', 'span': [14, 16], 'type_id': 6}]\n",
            "[]\n",
            "[{'name': 'アクアクラ', 'span': [5, 10], 'type_id': 2}]\n",
            "[{'name': '徳田', 'span': [27, 29], 'type_id': 1}]\n",
            "[]\n",
            "[{'name': '國實唯理', 'span': [10, 14], 'type_id': 1}]\n",
            "[{'name': '安田財閥', 'span': [5, 9], 'type_id': 2}, {'name': '桂川電力', 'span': [11, 15], 'type_id': 2}, {'name': '利根', 'span': [27, 29], 'type_id': 2}, {'name': '利根', 'span': [48, 50], 'type_id': 2}]\n",
            "[]\n",
            "[{'name': 'バー', 'span': [3, 5], 'type_id': 2}, {'name': '日新製薬株式会社', 'span': [10, 18], 'type_id': 2}, {'name': 'クラシエ薬品', 'span': [22, 28], 'type_id': 2}]\n",
            "[{'name': '中之島', 'span': [9, 12], 'type_id': 2}, {'name': '朝日会館', 'span': [16, 20], 'type_id': 2}, {'name': '永井康三', 'span': [26, 30], 'type_id': 1}]\n",
            "[{'name': 'ザガート', 'span': [0, 4], 'type_id': 2}, {'name': 'ランボルギーニ・ガ', 'span': [17, 26], 'type_id': 2}, {'name': 'ヤルド', 'span': [26, 29], 'type_id': 1}, {'name': 'コンコルソ', 'span': [66, 71], 'type_id': 2}, {'name': 'デ', 'span': [72, 73], 'type_id': 2}]\n",
            "[{'name': 'ザウバー', 'span': [26, 30], 'type_id': 2}]\n",
            "[{'name': '砂', 'span': [5, 6], 'type_id': 7}, {'name': '誓', 'span': [7, 8], 'type_id': 7}, {'name': '西條八十', 'span': [14, 18], 'type_id': 1}, {'name': '古賀政男', 'span': [22, 26], 'type_id': 1}, {'name': '伊藤久男', 'span': [30, 34], 'type_id': 1}]\n",
            "[{'name': 'ガミ', 'span': [47, 49], 'type_id': 2}]\n",
            "[{'name': 'ダイムラー・ベンツ', 'span': [27, 36], 'type_id': 2}]\n"
          ]
        },
        {
          "output_type": "stream",
          "name": "stderr",
          "text": [
            "\u001b[A\n",
            " 29%|██▊       | 307/1070 [00:03<00:09, 79.81it/s]\u001b[A\n",
            " 29%|██▉       | 315/1070 [00:03<00:09, 79.28it/s]\u001b[A"
          ]
        },
        {
          "output_type": "stream",
          "name": "stdout",
          "text": [
            "[{'name': '徳仁親王', 'span': [16, 20], 'type_id': 1}, {'name': '大阪', 'span': [22, 24], 'type_id': 8}, {'name': '万博', 'span': [24, 26], 'type_id': 2}, {'name': '三菱未来', 'span': [30, 34], 'type_id': 2}]\n",
            "[{'name': 'ニナ・リッチ', 'span': [17, 23], 'type_id': 1}]\n",
            "[{'name': 'カンザスシティ・ロイヤルズ', 'span': [10, 23], 'type_id': 2}, {'name': 'カウフマン・スタジアム', 'span': [27, 38], 'type_id': 2}]\n",
            "[{'name': 'プロメテウスの創造', 'span': [35, 44], 'type_id': 1}]\n",
            "[{'name': 'イリジウム', 'span': [13, 18], 'type_id': 2}, {'name': 'イリジウム', 'span': [25, 30], 'type_id': 2}, {'name': '豊科', 'span': [69, 71], 'type_id': 2}, {'name': '田', 'span': [72, 73], 'type_id': 5}, {'name': '長野', 'span': [75, 77], 'type_id': 2}, {'name': 'ノ', 'span': [79, 80], 'type_id': 1}, {'name': '曇', 'span': [84, 85], 'type_id': 2}]\n",
            "[{'name': '・ド・', 'span': [11, 14], 'type_id': 2}, {'name': 'アメリカン・バレエ・シアター', 'span': [20, 34], 'type_id': 2}]\n",
            "[{'name': 'ミカエル・S・ベルベリアン', 'span': [6, 19], 'type_id': 1}]\n",
            "[{'name': '金', 'span': [24, 25], 'type_id': 8}, {'name': '鶏', 'span': [25, 26], 'type_id': 2}, {'name': '賞', 'span': [26, 27], 'type_id': 8}, {'name': '世界', 'span': [48, 50], 'type_id': 8}, {'name': '映画', 'span': [50, 52], 'type_id': 2}, {'name': '祭', 'span': [52, 53], 'type_id': 8}]\n",
            "[{'name': 'マルセロ', 'span': [31, 35], 'type_id': 1}, {'name': 'クレス', 'span': [91, 94], 'type_id': 1}]\n",
            "[{'name': 'E・E・リッチ', 'span': [0, 7], 'type_id': 1}]\n",
            "[{'name': '宮本佳那子', 'span': [8, 13], 'type_id': 1}, {'name': '小西克幸', 'span': [14, 18], 'type_id': 1}]\n",
            "[{'name': '鹿島学園高校', 'span': [12, 18], 'type_id': 2}, {'name': '回全国', 'span': [28, 31], 'type_id': 8}, {'name': '高等', 'span': [31, 33], 'type_id': 2}, {'name': '学校', 'span': [33, 35], 'type_id': 6}, {'name': '選手権', 'span': [39, 42], 'type_id': 8}]\n",
            "[{'name': 'ヴィクトリア', 'span': [7, 13], 'type_id': 1}, {'name': 'グラッドストン政府', 'span': [31, 40], 'type_id': 1}]\n",
            "[{'name': '昭和シェル石油', 'span': [6, 13], 'type_id': 2}, {'name': 'n', 'span': [72, 73], 'type_id': 2}]\n",
            "[]\n",
            "[{'name': '経', 'span': [18, 19], 'type_id': 1}]\n",
            "[{'name': '山縣有朋', 'span': [19, 23], 'type_id': 1}, {'name': '伊藤博文', 'span': [41, 45], 'type_id': 1}]\n"
          ]
        },
        {
          "output_type": "stream",
          "name": "stderr",
          "text": [
            "\n",
            " 30%|███       | 324/1070 [00:04<00:09, 80.01it/s]\u001b[A\n",
            " 31%|███       | 333/1070 [00:04<00:09, 81.08it/s]\u001b[A"
          ]
        },
        {
          "output_type": "stream",
          "name": "stdout",
          "text": [
            "[{'name': 'マクガイア', 'span': [6, 11], 'type_id': 1}, {'name': 'ユナイテッドヘルス・グループ', 'span': [45, 59], 'type_id': 2}, {'name': 'ユナイテッドヘルス・グループ', 'span': [79, 93], 'type_id': 2}, {'name': 'マクガイア', 'span': [113, 118], 'type_id': 1}]\n",
            "[{'name': '松尾早人', 'span': [0, 4], 'type_id': 1}, {'name': '岩崎英則', 'span': [21, 25], 'type_id': 1}]\n",
            "[{'name': 'グリーンウッド', 'span': [12, 19], 'type_id': 1}, {'name': 'ジョン・ライアル', 'span': [36, 44], 'type_id': 1}]\n",
            "[{'name': '帯広図書館友の会', 'span': [14, 22], 'type_id': 2}]\n",
            "[{'name': 'デン', 'span': [11, 13], 'type_id': 2}, {'name': '・', 'span': [13, 14], 'type_id': 1}, {'name': 'ハー', 'span': [14, 16], 'type_id': 2}, {'name': 'グ', 'span': [16, 17], 'type_id': 1}, {'name': 'ユーロ', 'span': [27, 30], 'type_id': 8}, {'name': 'ビジョン・ソング・', 'span': [30, 39], 'type_id': 2}]\n",
            "[{'name': 'ナス・トーバル', 'span': [78, 85], 'type_id': 1}]\n",
            "[{'name': 'ルイ・デュコ・デュ・オーロン', 'span': [11, 25], 'type_id': 1}]\n",
            "[]\n",
            "[{'name': '啓', 'span': [2, 3], 'type_id': 1}, {'name': '光学園高校', 'span': [3, 8], 'type_id': 2}, {'name': '29', 'span': [23, 25], 'type_id': 2}, {'name': '回高校東西', 'span': [25, 30], 'type_id': 8}]\n",
            "[]\n",
            "[{'name': '宮城スパ', 'span': [33, 37], 'type_id': 2}, {'name': '日', 'span': [41, 42], 'type_id': 2}]\n",
            "[{'name': 'ラージプタナ', 'span': [19, 25], 'type_id': 1}, {'name': 'マハトマ・ガンディー', 'span': [42, 52], 'type_id': 1}]\n",
            "[]\n",
            "[]\n",
            "[]\n",
            "[{'name': 'ar Anal', 'span': [5, 12], 'type_id': 2}]\n",
            "[{'name': '伊藤穣一', 'span': [14, 18], 'type_id': 1}, {'name': 'エキ', 'span': [29, 31], 'type_id': 2}, {'name': 'ケーブル・アンド', 'span': [220, 228], 'type_id': 2}, {'name': '・', 'span': [228, 229], 'type_id': 1}, {'name': 'ワイヤレス', 'span': [229, 234], 'type_id': 2}]\n",
            "[{'name': 'N', 'span': [4, 5], 'type_id': 2}, {'name': '社会運動', 'span': [29, 33], 'type_id': 2}]\n"
          ]
        },
        {
          "output_type": "stream",
          "name": "stderr",
          "text": [
            "\n",
            " 32%|███▏      | 342/1070 [00:04<00:09, 80.02it/s]\u001b[A"
          ]
        },
        {
          "output_type": "stream",
          "name": "stdout",
          "text": [
            "[{'name': '北海道', 'span': [7, 10], 'type_id': 2}, {'name': '総合', 'span': [11, 13], 'type_id': 8}, {'name': '豊', 'span': [20, 21], 'type_id': 2}, {'name': '平', 'span': [21, 22], 'type_id': 1}, {'name': '警察', 'span': [22, 24], 'type_id': 2}]\n",
            "[]\n",
            "[]\n",
            "[{'name': '西大', 'span': [7, 9], 'type_id': 2}, {'name': '山口誠孝', 'span': [13, 17], 'type_id': 1}, {'name': '西大', 'span': [25, 27], 'type_id': 2}]\n",
            "[{'name': '大島治男', 'span': [18, 22], 'type_id': 1}, {'name': '桑原楽之', 'span': [23, 27], 'type_id': 1}, {'name': '溝手顕正', 'span': [28, 32], 'type_id': 1}, {'name': '川瀬隆', 'span': [33, 36], 'type_id': 1}]\n",
            "[{'name': '〇', 'span': [7, 8], 'type_id': 1}, {'name': '一', 'span': [8, 9], 'type_id': 2}, {'name': '八丈', 'span': [28, 30], 'type_id': 2}]\n",
            "[]\n",
            "[{'name': '土屋アンナ', 'span': [14, 19], 'type_id': 1}, {'name': '氣志團', 'span': [27, 30], 'type_id': 1}, {'name': '土屋アンナ', 'span': [45, 50], 'type_id': 1}, {'name': '愛', 'span': [51, 52], 'type_id': 1}, {'name': '氣志團', 'span': [55, 58], 'type_id': 1}]\n",
            "[{'name': 'ダグ・ミントケイビッチ', 'span': [12, 23], 'type_id': 1}, {'name': '・', 'span': [60, 61], 'type_id': 2}]\n",
            "[{'name': '泰則', 'span': [2, 4], 'type_id': 1}]\n",
            "[]\n",
            "[{'name': 'ワールド', 'span': [6, 10], 'type_id': 8}, {'name': '・ソーラー・', 'span': [10, 16], 'type_id': 2}]\n",
            "[{'name': '西山忠範', 'span': [0, 4], 'type_id': 1}]\n",
            "[{'name': 'ジョンソン・エンド・ジョンソン', 'span': [42, 57], 'type_id': 2}, {'name': 'ジョンソン」', 'span': [92, 98], 'type_id': 2}, {'name': 'ジョンソン', 'span': [108, 113], 'type_id': 2}]\n",
            "[{'name': 'プレ', 'span': [2, 4], 'type_id': 2}, {'name': 'ボータもコース・ド・ラ・レイ', 'span': [14, 28], 'type_id': 1}, {'name': 'クリスティアーン・デ・ヴェト', 'span': [29, 43], 'type_id': 1}, {'name': 'ヤン・スマッツ', 'span': [44, 51], 'type_id': 1}, {'name': 'ジェームズ・ヘルツォーク', 'span': [52, 64], 'type_id': 1}, {'name': 'ボー', 'span': [97, 99], 'type_id': 1}, {'name': 'ア', 'span': [99, 100], 'type_id': 2}]\n",
            "[{'name': '奈々', 'span': [7, 9], 'type_id': 1}, {'name': '各神遼一郎', 'span': [24, 29], 'type_id': 1}, {'name': '村海', 'span': [41, 43], 'type_id': 1}, {'name': 'リリス', 'span': [60, 63], 'type_id': 1}]\n",
            "[{'name': 'ロッテ', 'span': [0, 3], 'type_id': 2}, {'name': '千葉マリン', 'span': [4, 9], 'type_id': 2}]\n"
          ]
        },
        {
          "output_type": "stream",
          "name": "stderr",
          "text": [
            "\n",
            " 33%|███▎      | 351/1070 [00:04<00:09, 79.78it/s]\u001b[A\n",
            " 34%|███▎      | 360/1070 [00:04<00:08, 81.61it/s]\u001b[A"
          ]
        },
        {
          "output_type": "stream",
          "name": "stdout",
          "text": [
            "[]\n",
            "[{'name': '福岡ソフトバンクホークス', 'span': [9, 21], 'type_id': 2}, {'name': 'オリックス・バ', 'span': [37, 44], 'type_id': 2}, {'name': 'ファローズ', 'span': [44, 49], 'type_id': 1}]\n",
            "[{'name': 'ホーナー', 'span': [0, 4], 'type_id': 2}]\n",
            "[]\n",
            "[{'name': '最高', 'span': [3, 5], 'type_id': 2}, {'name': 'アエロフロート', 'span': [10, 17], 'type_id': 2}, {'name': 'ベレゾフスキー', 'span': [27, 34], 'type_id': 1}, {'name': 'ベレゾフスキー', 'span': [48, 55], 'type_id': 1}]\n",
            "[{'name': '北', 'span': [9, 10], 'type_id': 2}, {'name': '芳', 'span': [12, 13], 'type_id': 6}]\n",
            "[{'name': 'ゲームズワークショップ', 'span': [3, 14], 'type_id': 2}]\n",
            "[]\n",
            "[]\n",
            "[{'name': 'ヒラリー・クリントン', 'span': [28, 38], 'type_id': 1}, {'name': 'プーチン大統領', 'span': [67, 74], 'type_id': 1}]\n",
            "[{'name': '&', 'span': [10, 11], 'type_id': 1}]\n",
            "[]\n",
            "[{'name': 'アルテ', 'span': [10, 13], 'type_id': 2}]\n",
            "[{'name': 'アルトゥーロ・メリノ・ベニテス国際', 'span': [0, 17], 'type_id': 1}]\n",
            "[{'name': '金正恩', 'span': [0, 3], 'type_id': 1}, {'name': '一書記', 'span': [4, 7], 'type_id': 1}]\n",
            "[{'name': 'トリス', 'span': [2, 5], 'type_id': 7}, {'name': 'アレクセイ・パジトノフ', 'span': [13, 24], 'type_id': 1}]\n",
            "[]\n",
            "[{'name': '阪', 'span': [0, 1], 'type_id': 2}, {'name': '南', 'span': [1, 2], 'type_id': 6}, {'name': '阪', 'span': [15, 16], 'type_id': 2}, {'name': '南', 'span': [16, 17], 'type_id': 6}]\n"
          ]
        },
        {
          "output_type": "stream",
          "name": "stderr",
          "text": [
            "\n",
            " 34%|███▍      | 369/1070 [00:04<00:08, 81.71it/s]\u001b[A\n",
            " 35%|███▌      | 378/1070 [00:04<00:08, 83.32it/s]\u001b[A"
          ]
        },
        {
          "output_type": "stream",
          "name": "stdout",
          "text": [
            "[]\n",
            "[{'name': '電器', 'span': [2, 4], 'type_id': 2}, {'name': '電産', 'span': [20, 22], 'type_id': 2}]\n",
            "[{'name': 'ドルトン', 'span': [0, 4], 'type_id': 1}, {'name': 'ヘンリー・ドルトン', 'span': [14, 23], 'type_id': 1}]\n",
            "[{'name': '植物', 'span': [4, 6], 'type_id': 6}]\n",
            "[{'name': 'ナリ', 'span': [67, 69], 'type_id': 2}]\n",
            "[{'name': 'こ', 'span': [5, 6], 'type_id': 2}, {'name': '宮古島', 'span': [17, 20], 'type_id': 2}]\n",
            "[]\n",
            "[{'name': 'アルカテル・ルーセント', 'span': [0, 11], 'type_id': 2}]\n",
            "[]\n",
            "[{'name': 'ック', 'span': [26, 28], 'type_id': 1}]\n",
            "[{'name': 'ティム・ボッシュ', 'span': [19, 27], 'type_id': 1}]\n",
            "[]\n",
            "[]\n",
            "[{'name': 'ウィリアム・ジェームズ', 'span': [25, 36], 'type_id': 1}]\n",
            "[{'name': '日本通運', 'span': [5, 9], 'type_id': 2}, {'name': '国鉄', 'span': [17, 19], 'type_id': 2}, {'name': '口鉄道', 'span': [30, 33], 'type_id': 2}, {'name': '口貨物', 'span': [47, 50], 'type_id': 2}]\n",
            "[{'name': 'オダギリジョー', 'span': [0, 7], 'type_id': 1}, {'name': '三浦春', 'span': [27, 30], 'type_id': 1}]\n",
            "[]\n",
            "[{'name': '環境', 'span': [9, 11], 'type_id': 2}, {'name': '気象', 'span': [16, 18], 'type_id': 2}]\n"
          ]
        },
        {
          "output_type": "stream",
          "name": "stderr",
          "text": [
            "\n",
            " 36%|███▌      | 387/1070 [00:04<00:08, 83.51it/s]\u001b[A\n",
            " 37%|███▋      | 396/1070 [00:04<00:08, 83.68it/s]\u001b[A"
          ]
        },
        {
          "output_type": "stream",
          "name": "stdout",
          "text": [
            "[]\n",
            "[{'name': 'ま', 'span': [14, 15], 'type_id': 1}, {'name': '自然の', 'span': [15, 18], 'type_id': 2}]\n",
            "[{'name': '東宝', 'span': [12, 14], 'type_id': 2}, {'name': '東宝スカラ', 'span': [17, 22], 'type_id': 2}]\n",
            "[]\n",
            "[{'name': '大韓航空機', 'span': [8, 13], 'type_id': 2}, {'name': '70', 'span': [27, 29], 'type_id': 2}]\n",
            "[]\n",
            "[{'name': 'やなぎなぎ', 'span': [27, 32], 'type_id': 1}]\n",
            "[]\n",
            "[{'name': 'リバ', 'span': [0, 2], 'type_id': 2}, {'name': '慶', 'span': [44, 45], 'type_id': 2}, {'name': '谷', 'span': [56, 57], 'type_id': 1}, {'name': '海兵', 'span': [65, 67], 'type_id': 2}, {'name': 'ダリン・クラーク', 'span': [75, 83], 'type_id': 1}]\n",
            "[{'name': 'グレイトフル・デッド', 'span': [6, 16], 'type_id': 1}]\n",
            "[]\n",
            "[{'name': 'la', 'span': [31, 33], 'type_id': 7}]\n",
            "[{'name': 'ロウズ・ステート・シアター', 'span': [0, 13], 'type_id': 2}]\n",
            "[{'name': 'マ', 'span': [11, 12], 'type_id': 1}, {'name': '座部', 'span': [22, 24], 'type_id': 2}, {'name': 'ダ', 'span': [40, 41], 'type_id': 1}, {'name': 'レー', 'span': [41, 43], 'type_id': 2}]\n",
            "[{'name': 'カーレンベルグ', 'span': [5, 12], 'type_id': 1}, {'name': 'ペーター・マドセン', 'span': [25, 34], 'type_id': 1}]\n",
            "[{'name': '鉄', 'span': [4, 5], 'type_id': 2}, {'name': '地', 'span': [12, 13], 'type_id': 2}]\n"
          ]
        },
        {
          "output_type": "stream",
          "name": "stderr",
          "text": [
            "\n",
            " 38%|███▊      | 405/1070 [00:05<00:08, 77.58it/s]\u001b[A\n",
            " 39%|███▊      | 414/1070 [00:05<00:08, 79.00it/s]\u001b[A"
          ]
        },
        {
          "output_type": "stream",
          "name": "stdout",
          "text": [
            "[{'name': '宝塚大劇場', 'span': [18, 23], 'type_id': 2}, {'name': '東京宝塚劇場', 'span': [41, 47], 'type_id': 2}]\n",
            "[{'name': 'とフィルム・フェア・ロンドン', 'span': [3, 17], 'type_id': 2}]\n",
            "[]\n",
            "[]\n",
            "[{'name': '栄直', 'span': [1, 3], 'type_id': 1}, {'name': '・ファー', 'span': [5, 9], 'type_id': 2}, {'name': 'レン', 'span': [9, 11], 'type_id': 1}, {'name': '長崎', 'span': [11, 13], 'type_id': 2}]\n",
            "[]\n",
            "[]\n",
            "[{'name': '中部日本教映', 'span': [0, 6], 'type_id': 2}, {'name': '一宮', 'span': [15, 17], 'type_id': 1}]\n",
            "[]\n",
            "[]\n",
            "[{'name': '山田章博', 'span': [8, 12], 'type_id': 1}, {'name': '水野良', 'span': [21, 24], 'type_id': 1}, {'name': 'ファ', 'span': [28, 30], 'type_id': 1}, {'name': 'リス', 'span': [30, 32], 'type_id': 7}, {'name': '聖', 'span': [33, 34], 'type_id': 1}]\n",
            "[]\n",
            "[{'name': '清岡卓行', 'span': [16, 20], 'type_id': 1}]\n",
            "[]\n",
            "[{'name': '県立', 'span': [40, 42], 'type_id': 6}, {'name': '桜', 'span': [43, 44], 'type_id': 1}, {'name': '学', 'span': [44, 45], 'type_id': 6}, {'name': '館中学校・高等', 'span': [45, 52], 'type_id': 2}]\n",
            "[{'name': 'ランド', 'span': [6, 9], 'type_id': 2}, {'name': '・マクナリー', 'span': [9, 15], 'type_id': 1}, {'name': 'コーニング', 'span': [33, 38], 'type_id': 1}]\n"
          ]
        },
        {
          "output_type": "stream",
          "name": "stderr",
          "text": [
            "\n",
            " 39%|███▉      | 422/1070 [00:05<00:08, 77.90it/s]\u001b[A\n",
            " 40%|████      | 430/1070 [00:05<00:08, 76.30it/s]\u001b[A"
          ]
        },
        {
          "output_type": "stream",
          "name": "stdout",
          "text": [
            "[{'name': 'サンフレッチェ', 'span': [51, 58], 'type_id': 2}, {'name': '広島', 'span': [58, 60], 'type_id': 1}, {'name': 'FCユース', 'span': [60, 65], 'type_id': 2}]\n",
            "[{'name': 'グルーヴ', 'span': [15, 19], 'type_id': 2}]\n",
            "[{'name': '東京ドームシティアトラクションズ・スカイシアター', 'span': [47, 71], 'type_id': 2}]\n",
            "[{'name': 'SS', 'span': [6, 8], 'type_id': 2}, {'name': 'ベンチャー', 'span': [16, 21], 'type_id': 2}]\n",
            "[]\n",
            "[{'name': 'ファットボーイ・スリム', 'span': [23, 34], 'type_id': 1}]\n",
            "[{'name': 'ニコライ大公', 'span': [0, 6], 'type_id': 1}, {'name': '一', 'span': [17, 18], 'type_id': 2}]\n",
            "[{'name': '日航製造', 'span': [0, 4], 'type_id': 2}, {'name': '通産省', 'span': [18, 21], 'type_id': 2}]\n",
            "[{'name': '世界', 'span': [3, 5], 'type_id': 2}, {'name': '東京産業大学', 'span': [17, 23], 'type_id': 2}, {'name': '軍需', 'span': [29, 31], 'type_id': 2}, {'name': '如水', 'span': [89, 91], 'type_id': 2}]\n",
            "[{'name': '太宗', 'span': [9, 11], 'type_id': 1}, {'name': '大越', 'span': [16, 18], 'type_id': 1}, {'name': 'ジャヤ・パラメーシュヴァラヴァルマン2', 'span': [26, 45], 'type_id': 1}, {'name': '博拉吉', 'span': [49, 52], 'type_id': 1}]\n",
            "[{'name': 'みずほ銀行赤坂', 'span': [7, 14], 'type_id': 2}, {'name': '三井住友銀行赤坂', 'span': [30, 38], 'type_id': 2}, {'name': '三菱東京UFJ銀行赤坂', 'span': [41, 52], 'type_id': 2}, {'name': '千葉銀行', 'span': [55, 59], 'type_id': 2}, {'name': '商工組合中央金庫', 'span': [65, 73], 'type_id': 2}]\n",
            "[{'name': '世界', 'span': [17, 19], 'type_id': 7}]\n",
            "[{'name': 'タイ・ラン', 'span': [24, 29], 'type_id': 1}]\n",
            "[{'name': 'TCH', 'span': [28, 31], 'type_id': 2}, {'name': 'フ屋', 'span': [80, 82], 'type_id': 2}]\n",
            "[{'name': '兵動・野爆', 'span': [1, 6], 'type_id': 1}, {'name': 'ピング', 'span': [10, 13], 'type_id': 2}]\n"
          ]
        },
        {
          "output_type": "stream",
          "name": "stderr",
          "text": [
            "\n",
            " 41%|████      | 438/1070 [00:05<00:08, 75.85it/s]\u001b[A\n",
            " 42%|████▏     | 446/1070 [00:05<00:08, 76.71it/s]\u001b[A"
          ]
        },
        {
          "output_type": "stream",
          "name": "stdout",
          "text": [
            "[{'name': '踏', 'span': [6, 7], 'type_id': 8}, {'name': '節', 'span': [8, 9], 'type_id': 8}]\n",
            "[{'name': '電気鉄道', 'span': [11, 15], 'type_id': 2}]\n",
            "[{'name': 'ナーチャラム・ムルガナンダム', 'span': [2, 16], 'type_id': 1}, {'name': '・', 'span': [25, 26], 'type_id': 1}, {'name': 'ナードゥ', 'span': [26, 30], 'type_id': 2}, {'name': 'ヤン', 'span': [33, 35], 'type_id': 1}, {'name': 'ブ', 'span': [35, 36], 'type_id': 3}, {'name': 'ットゥール', 'span': [36, 41], 'type_id': 1}]\n",
            "[]\n",
            "[{'name': 'Cネイションズ', 'span': [2, 9], 'type_id': 7}, {'name': 'コン', 'span': [50, 52], 'type_id': 8}, {'name': 'フェ', 'span': [52, 54], 'type_id': 2}, {'name': 'デ', 'span': [54, 55], 'type_id': 6}, {'name': 'レーションズ', 'span': [55, 61], 'type_id': 7}]\n",
            "[{'name': 'soft', 'span': [18, 22], 'type_id': 2}]\n",
            "[{'name': '官営', 'span': [8, 10], 'type_id': 2}, {'name': '阪神急行電鉄神戸', 'span': [21, 29], 'type_id': 2}, {'name': '電気鉄道', 'span': [33, 37], 'type_id': 2}, {'name': '電気鉄道', 'span': [40, 44], 'type_id': 2}]\n",
            "[]\n",
            "[{'name': 'レアル・', 'span': [11, 15], 'type_id': 2}, {'name': 'サラゴ', 'span': [15, 18], 'type_id': 1}, {'name': 'サ', 'span': [18, 19], 'type_id': 2}]\n",
            "[{'name': 'ピエール・デュギュア・シュール・ド・モン', 'span': [28, 48], 'type_id': 1}, {'name': 'サンクロワ島', 'span': [49, 55], 'type_id': 1}]\n",
            "[]\n",
            "[{'name': '豊蔵', 'span': [0, 2], 'type_id': 1}, {'name': '井上治兵衛', 'span': [9, 14], 'type_id': 1}, {'name': '丸石製薬', 'span': [25, 29], 'type_id': 2}]\n",
            "[{'name': 'LGトステム', 'span': [0, 6], 'type_id': 2}]\n",
            "[{'name': 'ロンドン・ライシアム', 'span': [12, 22], 'type_id': 2}]\n",
            "[{'name': 'ヴィアティン桑名', 'span': [10, 18], 'type_id': 2}]\n",
            "[{'name': 'サンダース', 'span': [0, 5], 'type_id': 1}]\n",
            "[{'name': '評議', 'span': [15, 17], 'type_id': 6}]\n"
          ]
        },
        {
          "output_type": "stream",
          "name": "stderr",
          "text": [
            "\n",
            " 42%|████▏     | 454/1070 [00:05<00:07, 77.38it/s]\u001b[A\n",
            " 43%|████▎     | 463/1070 [00:05<00:07, 80.48it/s]\u001b[A"
          ]
        },
        {
          "output_type": "stream",
          "name": "stdout",
          "text": [
            "[{'name': 'O', 'span': [17, 18], 'type_id': 1}, {'name': 'ンダ', 'span': [42, 44], 'type_id': 2}, {'name': 'ン', 'span': [44, 45], 'type_id': 1}]\n",
            "[]\n",
            "[{'name': '木谷個人', 'span': [33, 37], 'type_id': 1}, {'name': 'ナカ企画', 'span': [42, 46], 'type_id': 1}]\n",
            "[]\n",
            "[{'name': 'ロン', 'span': [0, 2], 'type_id': 2}]\n",
            "[{'name': '東京中央銀行', 'span': [15, 21], 'type_id': 2}, {'name': 'ジャッカル', 'span': [30, 35], 'type_id': 2}, {'name': '田沼', 'span': [39, 41], 'type_id': 1}, {'name': '波工藝', 'span': [47, 50], 'type_id': 2}, {'name': '和泉康二', 'span': [81, 85], 'type_id': 1}, {'name': '宝田', 'span': [96, 98], 'type_id': 1}, {'name': '浅野', 'span': [108, 110], 'type_id': 1}, {'name': '仙波工藝', 'span': [140, 144], 'type_id': 2}]\n",
            "[{'name': 'モクモク', 'span': [23, 27], 'type_id': 1}, {'name': '理', 'span': [31, 32], 'type_id': 2}]\n",
            "[{'name': 'ビート', 'span': [20, 23], 'type_id': 2}, {'name': 'ップ', 'span': [23, 25], 'type_id': 7}, {'name': 'グリーンロ', 'span': [35, 40], 'type_id': 2}, {'name': 'ケッツ', 'span': [40, 43], 'type_id': 1}]\n",
            "[]\n",
            "[]\n",
            "[{'name': 'タケウエトモコ', 'span': [47, 54], 'type_id': 1}]\n",
            "[]\n",
            "[]\n",
            "[{'name': '大岡昇平', 'span': [3, 7], 'type_id': 1}]\n",
            "[{'name': 'テンポラリーセンター', 'span': [9, 19], 'type_id': 2}]\n",
            "[{'name': 'ツネイシホールディングス', 'span': [8, 20], 'type_id': 2}, {'name': 'ネイシ', 'span': [26, 29], 'type_id': 2}]\n",
            "[]\n",
            "[{'name': 'プリーストリー', 'span': [0, 7], 'type_id': 1}, {'name': 'sp', 'span': [41, 43], 'type_id': 6}]\n"
          ]
        },
        {
          "output_type": "stream",
          "name": "stderr",
          "text": [
            "\n",
            " 44%|████▍     | 472/1070 [00:05<00:07, 81.04it/s]\u001b[A\n",
            " 45%|████▍     | 481/1070 [00:05<00:07, 79.94it/s]\u001b[A"
          ]
        },
        {
          "output_type": "stream",
          "name": "stdout",
          "text": [
            "[{'name': 'テイチク', 'span': [6, 10], 'type_id': 2}]\n",
            "[{'name': 'クイ', 'span': [40, 42], 'type_id': 2}, {'name': 'ーン', 'span': [42, 44], 'type_id': 7}, {'name': 'ジョ', 'span': [44, 46], 'type_id': 8}, {'name': 'ッキー', 'span': [46, 49], 'type_id': 7}]\n",
            "[{'name': 'ダーヴラ・カーワン', 'span': [0, 9], 'type_id': 1}, {'name': 'マーシー・ハーティガン', 'span': [10, 21], 'type_id': 1}, {'name': 'ラッセル・T・デイヴィス', 'span': [25, 37], 'type_id': 1}]\n",
            "[{'name': 'つのだ', 'span': [3, 6], 'type_id': 1}]\n",
            "[{'name': '若草', 'span': [29, 31], 'type_id': 2}]\n",
            "[{'name': 'ウエ', 'span': [29, 31], 'type_id': 2}]\n",
            "[]\n",
            "[{'name': 'オリエンタル・バンク', 'span': [8, 18], 'type_id': 2}, {'name': 'デビッド・マクリーン', 'span': [21, 31], 'type_id': 1}]\n",
            "[{'name': 'ザ・ポー', 'span': [27, 31], 'type_id': 2}, {'name': 'グス', 'span': [31, 33], 'type_id': 1}]\n",
            "[{'name': 'Yメロン', 'span': [10, 14], 'type_id': 2}, {'name': 'N', 'span': [25, 26], 'type_id': 2}]\n",
            "[{'name': '珠海エア', 'span': [6, 10], 'type_id': 2}]\n",
            "[{'name': '回全日本中学校', 'span': [3, 10], 'type_id': 8}, {'name': '陸上競技', 'span': [10, 14], 'type_id': 2}, {'name': '選手権', 'span': [14, 17], 'type_id': 7}, {'name': '総合', 'span': [40, 42], 'type_id': 8}, {'name': '競技', 'span': [42, 44], 'type_id': 2}]\n",
            "[]\n",
            "[{'name': 'ファーサーフ', 'span': [1, 7], 'type_id': 2}, {'name': 'ス', 'span': [13, 14], 'type_id': 2}, {'name': 'フ', 'span': [20, 21], 'type_id': 2}]\n",
            "[{'name': '仙陵', 'span': [6, 8], 'type_id': 6}]\n",
            "[{'name': '濃鉄道', 'span': [19, 22], 'type_id': 2}]\n",
            "[{'name': 'チュイル', 'span': [0, 4], 'type_id': 1}, {'name': 'リー', 'span': [4, 6], 'type_id': 2}, {'name': 'ファ-ブル', 'span': [20, 25], 'type_id': 1}, {'name': 'ナポレオン三世', 'span': [27, 34], 'type_id': 1}]\n"
          ]
        },
        {
          "output_type": "stream",
          "name": "stderr",
          "text": [
            "\n",
            " 46%|████▌     | 490/1070 [00:06<00:07, 79.51it/s]\u001b[A\n",
            " 47%|████▋     | 499/1070 [00:06<00:07, 81.00it/s]\u001b[A"
          ]
        },
        {
          "output_type": "stream",
          "name": "stdout",
          "text": [
            "[{'name': 'トラックス', 'span': [23, 28], 'type_id': 2}]\n",
            "[{'name': '泰', 'span': [1, 2], 'type_id': 1}, {'name': '淀', 'span': [17, 18], 'type_id': 6}]\n",
            "[]\n",
            "[{'name': 'ミ詩', 'span': [3, 5], 'type_id': 1}, {'name': 'アレクセイ・クルチョーヌィフ', 'span': [7, 21], 'type_id': 1}, {'name': 'ヴェリミール・フレーブニコフ', 'span': [22, 36], 'type_id': 1}, {'name': 'ズダネーヴィチ', 'span': [50, 57], 'type_id': 1}]\n",
            "[{'name': '医学研究所', 'span': [4, 9], 'type_id': 2}]\n",
            "[{'name': '李承晩', 'span': [9, 12], 'type_id': 1}, {'name': '人民委員', 'span': [52, 56], 'type_id': 2}]\n",
            "[{'name': '第22回衆議院議員総', 'span': [10, 20], 'type_id': 8}, {'name': '諸', 'span': [30, 31], 'type_id': 1}, {'name': '笹森順造', 'span': [42, 46], 'type_id': 1}, {'name': '早川崇', 'span': [47, 50], 'type_id': 1}, {'name': '岡田勢一', 'span': [51, 55], 'type_id': 1}]\n",
            "[{'name': '五十嵐俊幸', 'span': [37, 42], 'type_id': 1}]\n",
            "[{'name': '谷', 'span': [38, 39], 'type_id': 2}]\n",
            "[]\n",
            "[{'name': '森朋之', 'span': [17, 20], 'type_id': 1}]\n",
            "[{'name': 'マル', 'span': [0, 2], 'type_id': 1}, {'name': '・', 'span': [36, 37], 'type_id': 1}, {'name': 'ブル', 'span': [37, 39], 'type_id': 2}, {'name': 'ドッグ', 'span': [39, 42], 'type_id': 6}]\n",
            "[{'name': '国防', 'span': [0, 2], 'type_id': 2}, {'name': '国防', 'span': [12, 14], 'type_id': 2}, {'name': '軍', 'span': [14, 15], 'type_id': 3}]\n",
            "[]\n",
            "[{'name': 'ウサーマ・ビン・ラーディン', 'span': [0, 13], 'type_id': 1}, {'name': 'ムハンマド', 'span': [14, 19], 'type_id': 1}]\n",
            "[{'name': 'バアス', 'span': [8, 11], 'type_id': 1}, {'name': '党', 'span': [11, 12], 'type_id': 2}, {'name': 'サッダーム・フセイン政権', 'span': [27, 39], 'type_id': 1}]\n",
            "[]\n"
          ]
        },
        {
          "output_type": "stream",
          "name": "stderr",
          "text": [
            "\n",
            " 47%|████▋     | 508/1070 [00:06<00:06, 80.72it/s]\u001b[A\n",
            " 48%|████▊     | 517/1070 [00:06<00:06, 81.07it/s]\u001b[A"
          ]
        },
        {
          "output_type": "stream",
          "name": "stdout",
          "text": [
            "[{'name': '名古屋電灯', 'span': [11, 16], 'type_id': 2}, {'name': '主', 'span': [55, 56], 'type_id': 1}]\n",
            "[]\n",
            "[{'name': '世界', 'span': [22, 24], 'type_id': 7}, {'name': 'ロニア', 'span': [48, 51], 'type_id': 6}, {'name': '・', 'span': [51, 52], 'type_id': 2}]\n",
            "[{'name': '大野', 'span': [18, 20], 'type_id': 1}, {'name': '横断', 'span': [32, 34], 'type_id': 2}]\n",
            "[{'name': '帯広', 'span': [0, 2], 'type_id': 2}, {'name': '森', 'span': [3, 4], 'type_id': 6}, {'name': '帯広', 'span': [13, 15], 'type_id': 5}, {'name': '西', 'span': [18, 19], 'type_id': 2}, {'name': '芽室', 'span': [20, 22], 'type_id': 2}, {'name': '帯広', 'span': [24, 26], 'type_id': 2}]\n",
            "[]\n",
            "[{'name': '前川國男建築設計', 'span': [0, 8], 'type_id': 1}, {'name': 'デイビス・ブロディアンドアソシエ', 'span': [12, 28], 'type_id': 2}, {'name': 'ーツ', 'span': [28, 30], 'type_id': 1}, {'name': 'マッキ', 'span': [39, 42], 'type_id': 1}, {'name': 'ンゼー・アンド・カンパニー', 'span': [42, 55], 'type_id': 2}]\n",
            "[{'name': 'フィリッパ', 'span': [18, 23], 'type_id': 1}, {'name': 'ヴェンディーチェ', 'span': [31, 39], 'type_id': 1}]\n",
            "[{'name': '田淵幸一', 'span': [3, 7], 'type_id': 1}, {'name': '山本浩司', 'span': [8, 12], 'type_id': 1}, {'name': '富田勝', 'span': [13, 16], 'type_id': 1}, {'name': '法大', 'span': [18, 20], 'type_id': 2}, {'name': '羽', 'span': [21, 22], 'type_id': 2}, {'name': '谷沢健一', 'span': [35, 39], 'type_id': 1}, {'name': '荒川', 'span': [40, 42], 'type_id': 1}]\n",
            "[{'name': '横山エンタツ', 'span': [0, 6], 'type_id': 1}, {'name': 'エンタツ', 'span': [20, 24], 'type_id': 1}, {'name': '名', 'span': [25, 26], 'type_id': 1}]\n",
            "[{'name': 'レイクチャールズ', 'span': [17, 25], 'type_id': 1}, {'name': 'レイクチャールズ', 'span': [26, 34], 'type_id': 1}]\n",
            "[{'name': 'エルナン・クレスポ、ディエゴ・シメオネ', 'span': [10, 29], 'type_id': 1}, {'name': 'フアン・セバスティアン・ベロン', 'span': [30, 45], 'type_id': 1}, {'name': 'ネストル・センシーニ', 'span': [46, 56], 'type_id': 1}]\n",
            "[{'name': '榮', 'span': [1, 2], 'type_id': 2}, {'name': '路', 'span': [19, 20], 'type_id': 6}, {'name': '井', 'span': [20, 21], 'type_id': 2}]\n",
            "[{'name': 'バ', 'span': [16, 17], 'type_id': 2}]\n",
            "[{'name': 'エル・コル', 'span': [0, 5], 'type_id': 2}, {'name': 'テ・イングレス', 'span': [5, 12], 'type_id': 1}]\n",
            "[]\n",
            "[{'name': 'ロッキー・ロメロ', 'span': [0, 8], 'type_id': 1}]\n"
          ]
        },
        {
          "output_type": "stream",
          "name": "stderr",
          "text": [
            "\n",
            " 49%|████▉     | 526/1070 [00:06<00:06, 81.27it/s]\u001b[A\n",
            " 50%|█████     | 535/1070 [00:06<00:06, 82.48it/s]\u001b[A"
          ]
        },
        {
          "output_type": "stream",
          "name": "stdout",
          "text": [
            "[{'name': '工学', 'span': [13, 15], 'type_id': 2}]\n",
            "[{'name': '渋沢栄一', 'span': [3, 7], 'type_id': 1}, {'name': 'クラシー', 'span': [36, 40], 'type_id': 2}]\n",
            "[{'name': '西成', 'span': [5, 7], 'type_id': 1}, {'name': '今宮国民', 'span': [8, 12], 'type_id': 1}, {'name': '大正', 'span': [15, 17], 'type_id': 1}]\n",
            "[{'name': '吉山', 'span': [17, 19], 'type_id': 2}]\n",
            "[]\n",
            "[{'name': 'ルイ・ド・フュネス', 'span': [7, 16], 'type_id': 1}]\n",
            "[]\n",
            "[{'name': 'アジア系アメリカ人ジャーナリスト協会', 'span': [8, 26], 'type_id': 2}, {'name': 'アジア・アメリカ問題', 'span': [33, 43], 'type_id': 2}]\n",
            "[{'name': '欧州委員会', 'span': [3, 8], 'type_id': 2}, {'name': '欧州連合', 'span': [38, 42], 'type_id': 2}, {'name': '欧州', 'span': [49, 51], 'type_id': 2}, {'name': '行動', 'span': [53, 55], 'type_id': 2}]\n",
            "[{'name': '紫', 'span': [10, 11], 'type_id': 1}, {'name': '斑', 'span': [11, 12], 'type_id': 2}]\n",
            "[]\n",
            "[{'name': 'ピート・ドハーティ', 'span': [0, 9], 'type_id': 1}, {'name': 'ベイ', 'span': [21, 23], 'type_id': 2}, {'name': 'ビーシャンブルズ', 'span': [23, 31], 'type_id': 1}, {'name': 'プライマル・スクリーム', 'span': [42, 53], 'type_id': 1}, {'name': 'アンダートーンズ', 'span': [54, 62], 'type_id': 1}]\n",
            "[]\n",
            "[{'name': 'マーティン・ベル', 'span': [6, 14], 'type_id': 1}]\n",
            "[]\n",
            "[]\n",
            "[{'name': 'ジュラスイ', 'span': [7, 12], 'type_id': 2}, {'name': 'ジュラスイ', 'span': [24, 29], 'type_id': 2}]\n"
          ]
        },
        {
          "output_type": "stream",
          "name": "stderr",
          "text": [
            "\n",
            " 51%|█████     | 544/1070 [00:06<00:06, 80.84it/s]\u001b[A\n",
            " 52%|█████▏    | 553/1070 [00:06<00:06, 80.56it/s]\u001b[A"
          ]
        },
        {
          "output_type": "stream",
          "name": "stdout",
          "text": [
            "[{'name': 'レイセオン・ミサイルシステムズ', 'span': [13, 28], 'type_id': 2}, {'name': 'Eシステムズ', 'span': [33, 39], 'type_id': 2}]\n",
            "[{'name': 'リエージュ', 'span': [0, 5], 'type_id': 1}, {'name': 'ギユマン', 'span': [6, 10], 'type_id': 1}]\n",
            "[{'name': 'シリコングラフィックス', 'span': [7, 18], 'type_id': 2}, {'name': 'ネットスケープ', 'span': [20, 27], 'type_id': 2}, {'name': 'ジム・クラーク', 'span': [33, 40], 'type_id': 1}, {'name': 'アース・アイランド・インスティテュー', 'span': [75, 93], 'type_id': 2}]\n",
            "[{'name': 'ユナイテッドアローズ', 'span': [5, 15], 'type_id': 2}]\n",
            "[]\n",
            "[{'name': 'ルイ・コスタ', 'span': [12, 18], 'type_id': 1}, {'name': 'バティストゥータ', 'span': [19, 27], 'type_id': 1}, {'name': 'ディネ', 'span': [47, 50], 'type_id': 1}, {'name': 'ー', 'span': [50, 51], 'type_id': 2}, {'name': 'ゼ', 'span': [51, 52], 'type_id': 1}, {'name': 'バティストゥータ', 'span': [104, 112], 'type_id': 1}]\n",
            "[{'name': '全国', 'span': [36, 38], 'type_id': 2}, {'name': '大学', 'span': [38, 40], 'type_id': 6}, {'name': '野球', 'span': [40, 42], 'type_id': 2}, {'name': '新制大学', 'span': [47, 51], 'type_id': 2}, {'name': '全国', 'span': [118, 120], 'type_id': 2}, {'name': '新制', 'span': [120, 122], 'type_id': 6}, {'name': '大学野球', 'span': [122, 126], 'type_id': 2}, {'name': '大学野球', 'span': [162, 166], 'type_id': 2}, {'name': '明治', 'span': [215, 217], 'type_id': 2}, {'name': '神宮', 'span': [217, 219], 'type_id': 8}]\n",
            "[]\n",
            "[{'name': '古沢時衛', 'span': [38, 42], 'type_id': 1}]\n",
            "[{'name': 'ロシア鉄道研究所', 'span': [20, 28], 'type_id': 2}]\n",
            "[{'name': 'ynam', 'span': [5, 9], 'type_id': 2}]\n",
            "[{'name': 'アワド太守シュジャー・ウッダウラ', 'span': [9, 25], 'type_id': 1}, {'name': 'ミール・カーシム', 'span': [26, 34], 'type_id': 1}, {'name': 'ー', 'span': [69, 70], 'type_id': 1}, {'name': 'ハー', 'span': [70, 72], 'type_id': 2}, {'name': 'バード', 'span': [72, 75], 'type_id': 1}]\n",
            "[]\n",
            "[{'name': 'その後ガイア・エヌピー', 'span': [0, 11], 'type_id': 2}]\n",
            "[{'name': '嶽', 'span': [1, 2], 'type_id': 1}]\n",
            "[{'name': '多発同時', 'span': [18, 22], 'type_id': 2}]\n",
            "[{'name': 'アタリ社', 'span': [11, 15], 'type_id': 2}]\n"
          ]
        },
        {
          "output_type": "stream",
          "name": "stderr",
          "text": [
            "\n",
            " 53%|█████▎    | 562/1070 [00:06<00:06, 79.88it/s]\u001b[A\n",
            " 53%|█████▎    | 571/1070 [00:07<00:06, 81.43it/s]\u001b[A"
          ]
        },
        {
          "output_type": "stream",
          "name": "stdout",
          "text": [
            "[{'name': '原三柿野', 'span': [5, 9], 'type_id': 1}, {'name': '東', 'span': [17, 18], 'type_id': 1}]\n",
            "[]\n",
            "[{'name': 'ジョン・ビング提督', 'span': [11, 20], 'type_id': 1}]\n",
            "[{'name': '島', 'span': [28, 29], 'type_id': 2}]\n",
            "[]\n",
            "[{'name': 'エドワード・R・マロー', 'span': [14, 25], 'type_id': 1}, {'name': 'マロー自ら', 'span': [35, 40], 'type_id': 1}, {'name': 'マイロ・ラドゥロヴィッチ', 'span': [77, 89], 'type_id': 1}]\n",
            "[]\n",
            "[{'name': '国台弁', 'span': [22, 25], 'type_id': 2}, {'name': '台湾', 'span': [33, 35], 'type_id': 6}, {'name': '韓国', 'span': [39, 41], 'type_id': 1}, {'name': '国', 'span': [44, 45], 'type_id': 1}, {'name': '国', 'span': [135, 136], 'type_id': 1}, {'name': '国', 'span': [152, 153], 'type_id': 1}]\n",
            "[{'name': 'ボストン・レッドソックス', 'span': [12, 24], 'type_id': 1}]\n",
            "[{'name': 'ワイド', 'span': [2, 5], 'type_id': 2}]\n",
            "[]\n",
            "[{'name': '大毎オリオンズ', 'span': [21, 28], 'type_id': 2}, {'name': '南海', 'span': [29, 31], 'type_id': 2}, {'name': '野村', 'span': [53, 55], 'type_id': 1}]\n",
            "[{'name': 'ルエラ・パーソンズ', 'span': [11, 20], 'type_id': 1}]\n",
            "[]\n",
            "[]\n",
            "[]\n",
            "[{'name': '佐佐木勝彦', 'span': [9, 14], 'type_id': 1}]\n",
            "[{'name': 'ナン', 'span': [2, 4], 'type_id': 1}, {'name': '・', 'span': [4, 5], 'type_id': 2}, {'name': 'オ', 'span': [24, 25], 'type_id': 1}, {'name': 'ム', 'span': [25, 26], 'type_id': 6}]\n"
          ]
        },
        {
          "output_type": "stream",
          "name": "stderr",
          "text": [
            "\n",
            " 54%|█████▍    | 580/1070 [00:07<00:06, 81.17it/s]\u001b[A\n"
          ]
        },
        {
          "output_type": "stream",
          "name": "stdout",
          "text": [
            "[]\n",
            "[]\n",
            "[{'name': '住銀広島駅', 'span': [10, 15], 'type_id': 2}, {'name': '十和', 'span': [44, 46], 'type_id': 2}]\n",
            "[]\n",
            "[{'name': '千', 'span': [33, 34], 'type_id': 1}]\n",
            "[{'name': 'コメディアン植木等', 'span': [0, 9], 'type_id': 1}]\n",
            "[{'name': 'ミック・ジャガー', 'span': [9, 17], 'type_id': 1}, {'name': '・', 'span': [23, 24], 'type_id': 1}, {'name': 'メニ', 'span': [24, 26], 'type_id': 7}, {'name': 'ー・クックス', 'span': [26, 32], 'type_id': 1}]\n",
            "[]\n",
            "[]\n",
            "[{'name': '日吉ミミ', 'span': [25, 29], 'type_id': 1}]\n",
            "[{'name': 'アイアン', 'span': [4, 8], 'type_id': 1}, {'name': 'ダウニー・Jr', 'span': [16, 23], 'type_id': 1}, {'name': 'ドン・チードル', 'span': [36, 43], 'type_id': 1}]\n",
            "[{'name': '松江春次', 'span': [33, 37], 'type_id': 1}]\n",
            "[{'name': '放送協会', 'span': [2, 6], 'type_id': 2}, {'name': '阪神', 'span': [36, 38], 'type_id': 2}, {'name': '支局', 'span': [38, 40], 'type_id': 1}, {'name': '報', 'span': [56, 57], 'type_id': 2}]\n",
            "[]\n",
            "[{'name': '野', 'span': [24, 25], 'type_id': 1}]\n",
            "[{'name': '青二プロダクション', 'span': [0, 9], 'type_id': 2}]\n",
            "[{'name': '西尾末広', 'span': [0, 4], 'type_id': 1}, {'name': '曽祢益', 'span': [14, 17], 'type_id': 1}]\n",
            "[]\n"
          ]
        },
        {
          "output_type": "stream",
          "name": "stderr",
          "text": [
            " 55%|█████▌    | 589/1070 [00:07<00:05, 80.33it/s]\u001b[A\n",
            " 56%|█████▌    | 598/1070 [00:07<00:05, 81.27it/s]\u001b[A\n",
            " 57%|█████▋    | 607/1070 [00:07<00:05, 81.97it/s]\u001b[A"
          ]
        },
        {
          "output_type": "stream",
          "name": "stdout",
          "text": [
            "[{'name': 'チョコボレーシング', 'span': [1, 10], 'type_id': 2}, {'name': '界', 'span': [12, 13], 'type_id': 2}]\n",
            "[{'name': '・ファー', 'span': [4, 8], 'type_id': 2}, {'name': 'レン', 'span': [8, 10], 'type_id': 1}, {'name': '長崎', 'span': [10, 12], 'type_id': 2}, {'name': '隼', 'span': [20, 21], 'type_id': 1}]\n",
            "[{'name': 'ソニー生命', 'span': [8, 13], 'type_id': 2}, {'name': 'エイゴン', 'span': [14, 18], 'type_id': 2}, {'name': 'ソニー生命', 'span': [39, 44], 'type_id': 2}, {'name': 'エイゴン', 'span': [45, 49], 'type_id': 2}]\n",
            "[{'name': '世界', 'span': [27, 29], 'type_id': 7}, {'name': 'レード', 'span': [48, 51], 'type_id': 8}]\n",
            "[]\n",
            "[{'name': '信州', 'span': [0, 2], 'type_id': 2}]\n",
            "[{'name': '空港交通', 'span': [2, 6], 'type_id': 2}]\n",
            "[]\n",
            "[{'name': 'ロナルド・レーガン', 'span': [16, 25], 'type_id': 1}, {'name': 'ジョン・カサヴェテス', 'span': [76, 86], 'type_id': 1}]\n",
            "[{'name': '小', 'span': [7, 8], 'type_id': 7}]\n",
            "[{'name': 'フィリッポ・ネリ', 'span': [5, 13], 'type_id': 1}, {'name': 'フィオレンティーニ', 'span': [15, 24], 'type_id': 1}, {'name': '洗礼者', 'span': [25, 28], 'type_id': 1}, {'name': 'ヨハネ', 'span': [28, 31], 'type_id': 6}]\n",
            "[{'name': 'EM', 'span': [30, 32], 'type_id': 6}]\n",
            "[]\n",
            "[{'name': '桃井直美高知県知事', 'span': [0, 9], 'type_id': 1}, {'name': '赤間文三大阪府知事', 'span': [10, 19], 'type_id': 1}, {'name': '美能', 'span': [42, 44], 'type_id': 1}, {'name': '若', 'span': [46, 47], 'type_id': 1}]\n",
            "[{'name': '三浦靖', 'span': [11, 14], 'type_id': 1}, {'name': '参院', 'span': [20, 22], 'type_id': 8}]\n",
            "[{'name': '射', 'span': [16, 17], 'type_id': 2}, {'name': '水', 'span': [17, 18], 'type_id': 1}]\n",
            "[{'name': 'チリ経済開発', 'span': [9, 15], 'type_id': 2}, {'name': 'フェルナンド・フローレス', 'span': [40, 52], 'type_id': 1}]\n",
            "[{'name': 'ニ', 'span': [23, 24], 'type_id': 8}, {'name': '五', 'span': [56, 57], 'type_id': 3}, {'name': '福竜丸', 'span': [57, 60], 'type_id': 1}]\n"
          ]
        },
        {
          "output_type": "stream",
          "name": "stderr",
          "text": [
            "\n",
            " 58%|█████▊    | 616/1070 [00:07<00:05, 81.46it/s]\u001b[A\n"
          ]
        },
        {
          "output_type": "stream",
          "name": "stdout",
          "text": [
            "[{'name': '水道', 'span': [2, 4], 'type_id': 2}, {'name': '国民', 'span': [10, 12], 'type_id': 1}, {'name': '政府', 'span': [12, 14], 'type_id': 8}]\n",
            "[{'name': 'エ', 'span': [14, 15], 'type_id': 1}, {'name': 'ヴェ', 'span': [15, 17], 'type_id': 2}, {'name': 'ッサ', 'span': [17, 19], 'type_id': 1}]\n",
            "[{'name': 'ウェストブルック・カレッジ', 'span': [35, 48], 'type_id': 2}]\n",
            "[{'name': 'ニューオーリンズ', 'span': [12, 20], 'type_id': 2}, {'name': '・セインツ', 'span': [20, 25], 'type_id': 1}, {'name': 'フィラデルフィア・イーグルス', 'span': [26, 40], 'type_id': 2}, {'name': 'ロサンゼルス', 'span': [41, 47], 'type_id': 2}, {'name': '・', 'span': [47, 48], 'type_id': 1}, {'name': 'ラムズ', 'span': [48, 51], 'type_id': 2}, {'name': 'テネシー', 'span': [52, 56], 'type_id': 2}, {'name': '・タイ', 'span': [56, 59], 'type_id': 1}, {'name': 'タンズ', 'span': [59, 62], 'type_id': 2}, {'name': 'バッファ', 'span': [63, 67], 'type_id': 2}, {'name': 'ロー・', 'span': [67, 70], 'type_id': 1}, {'name': 'ビルズ', 'span': [70, 73], 'type_id': 2}]\n",
            "[{'name': 'IHG・ANA・ホテル', 'span': [0, 11], 'type_id': 2}]\n",
            "[{'name': 'シンシナティ', 'span': [7, 13], 'type_id': 2}, {'name': '・ベン', 'span': [13, 16], 'type_id': 1}, {'name': 'ガルズ', 'span': [16, 19], 'type_id': 2}, {'name': 'リバー', 'span': [20, 23], 'type_id': 1}, {'name': 'フロント・', 'span': [23, 28], 'type_id': 2}]\n",
            "[]\n",
            "[{'name': '太平洋諸島信託統治', 'span': [33, 42], 'type_id': 2}]\n",
            "[{'name': '東京', 'span': [2, 4], 'type_id': 2}, {'name': '服部順一', 'span': [15, 19], 'type_id': 1}, {'name': '・ファー', 'span': [27, 31], 'type_id': 2}, {'name': 'レン', 'span': [31, 33], 'type_id': 1}, {'name': '長崎', 'span': [33, 35], 'type_id': 2}]\n",
            "[{'name': '志水', 'span': [3, 5], 'type_id': 1}]\n",
            "[{'name': 'マン', 'span': [19, 21], 'type_id': 2}]\n",
            "[]\n",
            "[{'name': 'ピアソン', 'span': [24, 28], 'type_id': 1}, {'name': 'ピア', 'span': [50, 52], 'type_id': 1}]\n",
            "[{'name': 'ポーランド', 'span': [8, 13], 'type_id': 2}, {'name': '騎士', 'span': [15, 17], 'type_id': 2}]\n",
            "[{'name': 'みずほ信託銀行不動産カストディ部', 'span': [14, 30], 'type_id': 2}, {'name': 'ビックランドプロパティ1', 'span': [40, 52], 'type_id': 2}, {'name': '札幌', 'span': [57, 59], 'type_id': 2}, {'name': '・', 'span': [80, 81], 'type_id': 2}]\n",
            "[{'name': 'はや', 'span': [5, 7], 'type_id': 8}, {'name': 'ぶ', 'span': [7, 8], 'type_id': 1}]\n",
            "[]\n",
            "[{'name': 'オート', 'span': [22, 25], 'type_id': 6}, {'name': 'レース', 'span': [25, 28], 'type_id': 2}, {'name': 'オートレース選手', 'span': [49, 57], 'type_id': 2}]\n"
          ]
        },
        {
          "output_type": "stream",
          "name": "stderr",
          "text": [
            " 58%|█████▊    | 625/1070 [00:07<00:05, 80.85it/s]\u001b[A\n",
            " 59%|█████▉    | 634/1070 [00:07<00:05, 81.44it/s]\u001b[A\n",
            " 60%|██████    | 643/1070 [00:07<00:05, 81.62it/s]\u001b[A"
          ]
        },
        {
          "output_type": "stream",
          "name": "stdout",
          "text": [
            "[{'name': 'ランボー', 'span': [0, 4], 'type_id': 1}]\n",
            "[]\n",
            "[]\n",
            "[{'name': '和城', 'span': [1, 3], 'type_id': 6}, {'name': '際', 'span': [3, 4], 'type_id': 2}, {'name': '軌道', 'span': [4, 6], 'type_id': 6}, {'name': '江蘇', 'span': [17, 19], 'type_id': 5}, {'name': '南京', 'span': [20, 22], 'type_id': 5}, {'name': '花', 'span': [24, 25], 'type_id': 1}, {'name': '台', 'span': [25, 26], 'type_id': 6}, {'name': '南京南', 'span': [28, 31], 'type_id': 6}, {'name': '口', 'span': [35, 36], 'type_id': 6}, {'name': '高', 'span': [38, 39], 'type_id': 1}, {'name': '東', 'span': [49, 50], 'type_id': 6}]\n",
            "[{'name': '42', 'span': [7, 9], 'type_id': 1}, {'name': '回', 'span': [9, 10], 'type_id': 8}, {'name': '衆議院', 'span': [10, 13], 'type_id': 1}, {'name': '議員総', 'span': [13, 16], 'type_id': 8}, {'name': '土屋品子', 'span': [20, 24], 'type_id': 1}]\n",
            "[{'name': 'アメリカベル&ハウエル社', 'span': [6, 18], 'type_id': 2}]\n",
            "[]\n",
            "[{'name': '・パシフィック鉄道', 'span': [22, 31], 'type_id': 2}]\n",
            "[]\n",
            "[]\n",
            "[{'name': 'アイゼンハワー', 'span': [39, 46], 'type_id': 1}]\n",
            "[]\n",
            "[{'name': 'ノリッジ・シティ', 'span': [0, 8], 'type_id': 1}, {'name': 'FC', 'span': [8, 10], 'type_id': 2}, {'name': 'ディミタール・ベルバトフ', 'span': [56, 68], 'type_id': 1}, {'name': 'ウーゴ・ロダジェガ', 'span': [69, 78], 'type_id': 1}]\n",
            "[{'name': '福地寿樹', 'span': [40, 44], 'type_id': 1}]\n",
            "[{'name': 'ブリーダーズカップ', 'span': [0, 9], 'type_id': 2}, {'name': '・ター', 'span': [9, 12], 'type_id': 8}, {'name': 'フ', 'span': [12, 13], 'type_id': 2}]\n",
            "[{'name': '州農業品評', 'span': [33, 38], 'type_id': 2}]\n",
            "[{'name': 'ピエレ・ブランデンシュタイン', 'span': [2, 16], 'type_id': 1}]\n",
            "[]\n"
          ]
        },
        {
          "output_type": "stream",
          "name": "stderr",
          "text": [
            "\n",
            " 61%|██████    | 652/1070 [00:08<00:05, 81.29it/s]\u001b[A\n",
            " 62%|██████▏   | 661/1070 [00:08<00:05, 81.39it/s]\u001b[A"
          ]
        },
        {
          "output_type": "stream",
          "name": "stdout",
          "text": [
            "[{'name': '金子達仁', 'span': [20, 24], 'type_id': 1}]\n",
            "[]\n",
            "[{'name': 'フォーカス・フィーチャーズ', 'span': [41, 54], 'type_id': 2}, {'name': 'トマス・バルメス監督', 'span': [87, 97], 'type_id': 1}]\n",
            "[{'name': 'ック', 'span': [1, 3], 'type_id': 1}, {'name': '・', 'span': [3, 4], 'type_id': 2}]\n",
            "[{'name': 'ジャン・ポール・ゲティ', 'span': [3, 14], 'type_id': 1}, {'name': 'ゲティ', 'span': [19, 22], 'type_id': 1}]\n",
            "[{'name': '戦艦', 'span': [8, 10], 'type_id': 2}, {'name': 'ヤマト', 'span': [10, 13], 'type_id': 8}, {'name': 'の', 'span': [19, 20], 'type_id': 2}, {'name': '少女ハイジ', 'span': [20, 25], 'type_id': 1}, {'name': '未来', 'span': [27, 29], 'type_id': 1}, {'name': '少年', 'span': [29, 31], 'type_id': 2}, {'name': '戦士', 'span': [38, 40], 'type_id': 8}, {'name': 'ガン', 'span': [40, 42], 'type_id': 2}, {'name': 'ダム', 'span': [42, 44], 'type_id': 7}, {'name': '大友克洋', 'span': [57, 61], 'type_id': 1}, {'name': '童', 'span': [63, 64], 'type_id': 7}]\n",
            "[{'name': '詩', 'span': [2, 3], 'type_id': 7}]\n",
            "[{'name': 'ビジェイ・マリヤ', 'span': [3, 11], 'type_id': 1}, {'name': 'クリエン', 'span': [29, 33], 'type_id': 1}, {'name': 'フィジケラ', 'span': [34, 39], 'type_id': 1}, {'name': 'モンタニー', 'span': [40, 45], 'type_id': 1}, {'name': 'リウッツィ', 'span': [46, 51], 'type_id': 1}]\n",
            "[]\n",
            "[{'name': 'nobodyknows+', 'span': [6, 18], 'type_id': 1}, {'name': 'nobody knows', 'span': [24, 36], 'type_id': 1}]\n",
            "[{'name': 'ホ', 'span': [4, 5], 'type_id': 2}, {'name': 'グルコノラクト', 'span': [5, 12], 'type_id': 1}, {'name': 'ペントースリン', 'span': [17, 24], 'type_id': 1}]\n",
            "[{'name': 'ミラン・バデリ', 'span': [0, 7], 'type_id': 1}, {'name': 'ブル', 'span': [10, 12], 'type_id': 2}, {'name': 'ガー', 'span': [12, 14], 'type_id': 1}]\n",
            "[{'name': '萌え', 'span': [7, 9], 'type_id': 6}, {'name': 'ドリ', 'span': [9, 11], 'type_id': 7}, {'name': 'ル', 'span': [11, 12], 'type_id': 1}]\n",
            "[]\n",
            "[{'name': '若林史江', 'span': [9, 13], 'type_id': 1}]\n",
            "[{'name': '孫崎享', 'span': [0, 3], 'type_id': 1}]\n",
            "[{'name': 'メトロ', 'span': [37, 40], 'type_id': 5}, {'name': 'ビアス', 'span': [40, 43], 'type_id': 2}, {'name': 'ウル', 'span': [44, 46], 'type_id': 1}, {'name': 'キサ', 'span': [46, 48], 'type_id': 6}, {'name': 'フェ', 'span': [50, 52], 'type_id': 5}, {'name': 'ロビ', 'span': [52, 54], 'type_id': 6}, {'name': 'アス', 'span': [54, 56], 'type_id': 2}, {'name': 'ベル', 'span': [57, 59], 'type_id': 7}, {'name': 'グラーノ北', 'span': [59, 64], 'type_id': 6}, {'name': 'アルゼンチン国鉄', 'span': [82, 90], 'type_id': 2}]\n",
            "[{'name': 'サムスングループ', 'span': [18, 26], 'type_id': 2}, {'name': 'バラク・オバマ大統領', 'span': [39, 49], 'type_id': 1}]\n"
          ]
        },
        {
          "output_type": "stream",
          "name": "stderr",
          "text": [
            "\n",
            " 63%|██████▎   | 670/1070 [00:08<00:04, 80.82it/s]\u001b[A\n"
          ]
        },
        {
          "output_type": "stream",
          "name": "stdout",
          "text": [
            "[{'name': 'ブルース・ウィリス', 'span': [0, 9], 'type_id': 1}, {'name': 'アン', 'span': [11, 13], 'type_id': 7}, {'name': 'ブレイ', 'span': [13, 16], 'type_id': 1}, {'name': 'カ', 'span': [16, 17], 'type_id': 7}, {'name': 'ブル', 'span': [17, 19], 'type_id': 1}, {'name': 'シャマラン', 'span': [55, 60], 'type_id': 1}]\n",
            "[{'name': '回札幌国際ハーフ', 'span': [11, 19], 'type_id': 8}]\n",
            "[{'name': 'ブライアン・エプスタイン', 'span': [30, 42], 'type_id': 1}]\n",
            "[{'name': 'ヴィトール・メイラ', 'span': [16, 25], 'type_id': 1}, {'name': 'J', 'span': [33, 34], 'type_id': 2}, {'name': 'フォイト・', 'span': [35, 40], 'type_id': 2}]\n",
            "[{'name': 'ペトレイアス', 'span': [4, 10], 'type_id': 1}, {'name': 'スルターン・ハーシム', 'span': [11, 21], 'type_id': 1}]\n",
            "[{'name': 'スタンリイ・G・ワインボウム', 'span': [3, 17], 'type_id': 1}, {'name': 'オデ', 'span': [22, 24], 'type_id': 7}]\n",
            "[{'name': 'ザウアーラント射撃連盟', 'span': [10, 21], 'type_id': 2}]\n",
            "[{'name': 'ジョン・コー', 'span': [57, 63], 'type_id': 1}]\n",
            "[{'name': 'キング', 'span': [26, 29], 'type_id': 2}]\n",
            "[{'name': 'マートル', 'span': [5, 9], 'type_id': 1}, {'name': 'ビーチ', 'span': [9, 12], 'type_id': 2}, {'name': '・ペリカン', 'span': [12, 17], 'type_id': 1}]\n",
            "[]\n",
            "[{'name': '福岡', 'span': [10, 12], 'type_id': 2}, {'name': '蹊', 'span': [17, 18], 'type_id': 2}, {'name': '大学', 'span': [18, 20], 'type_id': 1}, {'name': '江守一郎', 'span': [23, 27], 'type_id': 1}]\n",
            "[]\n",
            "[{'name': '陸上', 'span': [6, 8], 'type_id': 7}, {'name': '競技選手権', 'span': [8, 13], 'type_id': 2}]\n",
            "[]\n",
            "[{'name': '岸本斉', 'span': [10, 13], 'type_id': 1}, {'name': 'NAR', 'span': [20, 23], 'type_id': 2}, {'name': 'UT', 'span': [23, 25], 'type_id': 7}, {'name': 'O-', 'span': [25, 27], 'type_id': 2}, {'name': 'ナル', 'span': [27, 29], 'type_id': 3}, {'name': 'ト', 'span': [29, 30], 'type_id': 7}, {'name': 'NAR', 'span': [80, 83], 'type_id': 2}, {'name': 'UT', 'span': [83, 85], 'type_id': 7}, {'name': 'O-', 'span': [85, 87], 'type_id': 2}, {'name': 'ナル', 'span': [87, 89], 'type_id': 3}, {'name': 'ト', 'span': [89, 90], 'type_id': 7}, {'name': 'NAR', 'span': [110, 113], 'type_id': 2}, {'name': 'UT', 'span': [113, 115], 'type_id': 7}, {'name': 'O-', 'span': [115, 117], 'type_id': 2}, {'name': 'ナル', 'span': [117, 119], 'type_id': 3}]\n",
            "[{'name': '世界選手権', 'span': [0, 5], 'type_id': 7}, {'name': '自転車', 'span': [5, 8], 'type_id': 8}, {'name': '競技', 'span': [8, 10], 'type_id': 2}]\n",
            "[]\n"
          ]
        },
        {
          "output_type": "stream",
          "name": "stderr",
          "text": [
            " 63%|██████▎   | 679/1070 [00:08<00:04, 80.69it/s]\u001b[A\n",
            " 64%|██████▍   | 688/1070 [00:08<00:04, 81.50it/s]\u001b[A\n",
            " 65%|██████▌   | 697/1070 [00:08<00:04, 82.31it/s]\u001b[A"
          ]
        },
        {
          "output_type": "stream",
          "name": "stdout",
          "text": [
            "[{'name': 'arm', 'span': [22, 25], 'type_id': 6}]\n",
            "[{'name': 'マルコーニ', 'span': [0, 5], 'type_id': 1}, {'name': 'グリエルモ・マルコーニ', 'span': [22, 33], 'type_id': 1}]\n",
            "[{'name': 'サンドマン', 'span': [3, 8], 'type_id': 1}, {'name': 'サブゥー', 'span': [9, 13], 'type_id': 1}, {'name': 'ボールズ・マホーニー', 'span': [14, 24], 'type_id': 1}, {'name': 'ビンス・マクマホン', 'span': [59, 68], 'type_id': 1}, {'name': 'イライジャ・バーク', 'span': [78, 87], 'type_id': 1}]\n",
            "[{'name': '佐藤俊久', 'span': [0, 4], 'type_id': 1}, {'name': '山崎桂一技', 'span': [12, 17], 'type_id': 1}]\n",
            "[{'name': '蜷川幸雄', 'span': [6, 10], 'type_id': 1}, {'name': '徳三郎', 'span': [48, 51], 'type_id': 1}]\n",
            "[{'name': 'テレビマンユニオン', 'span': [5, 14], 'type_id': 2}, {'name': 'テレビ朝日', 'span': [15, 20], 'type_id': 2}]\n",
            "[]\n",
            "[{'name': 'グレッチ', 'span': [0, 4], 'type_id': 1}]\n",
            "[{'name': 'ブリタ', 'span': [0, 3], 'type_id': 1}]\n",
            "[{'name': '賀茂鶴', 'span': [23, 26], 'type_id': 2}, {'name': '酒造', 'span': [26, 28], 'type_id': 1}]\n",
            "[]\n",
            "[]\n",
            "[]\n",
            "[{'name': 'ロジャー・レドファーン', 'span': [0, 11], 'type_id': 1}, {'name': 'シェイラ・オニール', 'span': [16, 25], 'type_id': 1}]\n",
            "[{'name': 'フロンティアエアラインズ', 'span': [20, 32], 'type_id': 2}]\n",
            "[{'name': '全日本', 'span': [1, 4], 'type_id': 8}, {'name': 'パンフェスティバル', 'span': [4, 13], 'type_id': 2}]\n",
            "[{'name': 'リタル', 'span': [4, 7], 'type_id': 2}]\n",
            "[]\n"
          ]
        },
        {
          "output_type": "stream",
          "name": "stderr",
          "text": [
            "\n",
            " 66%|██████▌   | 706/1070 [00:08<00:04, 82.97it/s]\u001b[A\n",
            " 67%|██████▋   | 715/1070 [00:08<00:04, 82.37it/s]"
          ]
        },
        {
          "output_type": "stream",
          "name": "stdout",
          "text": [
            "[{'name': '次', 'span': [2, 3], 'type_id': 1}, {'name': '世界', 'span': [3, 5], 'type_id': 7}]\n",
            "[{'name': '漕', 'span': [3, 4], 'type_id': 2}]\n",
            "[{'name': '中村雅俊', 'span': [14, 18], 'type_id': 1}]\n",
            "[]\n",
            "[{'name': '帝國大學', 'span': [5, 9], 'type_id': 2}]\n",
            "[{'name': '世田谷', 'span': [15, 18], 'type_id': 5}, {'name': '代', 'span': [19, 20], 'type_id': 5}]\n",
            "[{'name': 'フランク・ウイリアムズ', 'span': [6, 17], 'type_id': 1}]\n",
            "[{'name': '陽', 'span': [24, 25], 'type_id': 6}, {'name': '山西', 'span': [27, 29], 'type_id': 6}]\n",
            "[{'name': 'ウィーン', 'span': [4, 8], 'type_id': 2}, {'name': '国立', 'span': [8, 10], 'type_id': 6}, {'name': '音楽アカデミー', 'span': [10, 17], 'type_id': 2}, {'name': '福田伸光', 'span': [29, 33], 'type_id': 1}]\n",
            "[]\n",
            "[{'name': 'ピストン', 'span': [14, 18], 'type_id': 2}]\n",
            "[{'name': '見', 'span': [61, 62], 'type_id': 1}]\n",
            "[{'name': 'クリエイ', 'span': [9, 13], 'type_id': 2}]\n",
            "[{'name': '吉村甚兵衛', 'span': [2, 7], 'type_id': 1}, {'name': '陸運', 'span': [11, 13], 'type_id': 2}, {'name': '會', 'span': [14, 15], 'type_id': 2}, {'name': '日本通運', 'span': [20, 24], 'type_id': 2}]\n",
            "[]\n",
            "[{'name': '後藤夜半', 'span': [0, 4], 'type_id': 1}]\n",
            "[{'name': '世界保健', 'span': [10, 14], 'type_id': 2}]\n",
            "[{'name': '孝謙上皇', 'span': [0, 4], 'type_id': 1}, {'name': '淳仁天皇', 'span': [5, 9], 'type_id': 1}, {'name': '藤原', 'span': [26, 28], 'type_id': 1}, {'name': '仲麻呂', 'span': [34, 37], 'type_id': 1}, {'name': '良', 'span': [56, 57], 'type_id': 2}]\n"
          ]
        },
        {
          "output_type": "stream",
          "name": "stderr",
          "text": [
            "\u001b[A\n",
            " 68%|██████▊   | 724/1070 [00:08<00:04, 81.61it/s]\u001b[A\n"
          ]
        },
        {
          "output_type": "stream",
          "name": "stdout",
          "text": [
            "[{'name': 'クロウリー', 'span': [9, 14], 'type_id': 1}, {'name': 'ファー', 'span': [16, 19], 'type_id': 1}, {'name': 'メイ', 'span': [22, 24], 'type_id': 1}, {'name': '・ウラニア', 'span': [65, 70], 'type_id': 1}]\n",
            "[{'name': 'ロー', 'span': [6, 8], 'type_id': 8}, {'name': 'ウェル天文台', 'span': [8, 14], 'type_id': 2}, {'name': 'エドワード・ボーエル', 'span': [15, 25], 'type_id': 1}]\n",
            "[{'name': 'グディソン・パーク', 'span': [11, 20], 'type_id': 1}, {'name': 'ノッティ', 'span': [25, 29], 'type_id': 1}, {'name': 'ンガム', 'span': [29, 32], 'type_id': 2}, {'name': '・フォレスト', 'span': [32, 38], 'type_id': 1}]\n",
            "[{'name': '千鳥', 'span': [0, 2], 'type_id': 2}, {'name': '屋', 'span': [2, 3], 'type_id': 1}, {'name': '総', 'span': [3, 4], 'type_id': 2}, {'name': '豊島', 'span': [15, 17], 'type_id': 5}]\n",
            "[{'name': 'スクエアとうき', 'span': [19, 26], 'type_id': 2}]\n",
            "[{'name': '安倍晋三内閣総理大臣', 'span': [9, 19], 'type_id': 1}, {'name': 'サルマーン皇太子及びアブドゥッラー国王', 'span': [31, 50], 'type_id': 1}, {'name': 'サウジアラビア', 'span': [60, 67], 'type_id': 2}]\n",
            "[{'name': '浄土', 'span': [5, 7], 'type_id': 2}]\n",
            "[{'name': '大韓民国', 'span': [8, 12], 'type_id': 2}]\n",
            "[{'name': 'イベリア', 'span': [9, 13], 'type_id': 2}, {'name': 'ウォル', 'span': [54, 57], 'type_id': 1}]\n",
            "[]\n",
            "[{'name': '日本', 'span': [0, 2], 'type_id': 2}, {'name': '維新', 'span': [2, 4], 'type_id': 1}, {'name': 'の会', 'span': [4, 6], 'type_id': 2}]\n",
            "[{'name': 'リーヴァイ・ストラウス', 'span': [0, 11], 'type_id': 1}, {'name': 'ドミンゴ・ギラーデリー', 'span': [19, 30], 'type_id': 1}]\n",
            "[{'name': '明治学院大学', 'span': [6, 12], 'type_id': 2}]\n",
            "[{'name': 'パッツ', 'span': [6, 9], 'type_id': 1}]\n",
            "[{'name': '北陸', 'span': [0, 2], 'type_id': 2}, {'name': '条', 'span': [5, 6], 'type_id': 1}, {'name': '頭竜', 'span': [31, 33], 'type_id': 2}]\n",
            "[{'name': 'ジョン・H・バーハム', 'span': [20, 30], 'type_id': 1}]\n",
            "[{'name': '坂本雅幸', 'span': [0, 4], 'type_id': 1}]\n",
            "[{'name': 'Fフィ', 'span': [13, 16], 'type_id': 2}, {'name': 'ン', 'span': [18, 19], 'type_id': 2}]\n"
          ]
        },
        {
          "output_type": "stream",
          "name": "stderr",
          "text": [
            " 69%|██████▊   | 733/1070 [00:09<00:04, 80.86it/s]\u001b[A\n",
            " 69%|██████▉   | 742/1070 [00:09<00:04, 79.57it/s]\u001b[A\n",
            " 70%|███████   | 750/1070 [00:09<00:04, 79.22it/s]\u001b[A"
          ]
        },
        {
          "output_type": "stream",
          "name": "stdout",
          "text": [
            "[{'name': '広州', 'span': [7, 9], 'type_id': 1}, {'name': '富力足球', 'span': [9, 13], 'type_id': 6}, {'name': 'アトレ', 'span': [26, 29], 'type_id': 2}, {'name': 'チコ・ミネイロ', 'span': [29, 36], 'type_id': 1}, {'name': 'アレクサンド', 'span': [49, 55], 'type_id': 1}, {'name': 'ヴァスコ・ダ・ガマ', 'span': [65, 74], 'type_id': 1}]\n",
            "[{'name': '2014年アジア', 'span': [0, 8], 'type_id': 8}, {'name': '競技', 'span': [8, 10], 'type_id': 2}, {'name': '南', 'span': [40, 41], 'type_id': 6}, {'name': '洞アジアードラグビー', 'span': [41, 51], 'type_id': 2}]\n",
            "[{'name': '淳', 'span': [13, 14], 'type_id': 1}]\n",
            "[{'name': 'オジロ', 'span': [12, 15], 'type_id': 1}]\n",
            "[{'name': '鳥羽・伏見', 'span': [3, 8], 'type_id': 1}, {'name': '多喜', 'span': [24, 26], 'type_id': 1}, {'name': '松平正質', 'span': [29, 33], 'type_id': 1}, {'name': '徳川慶喜', 'span': [34, 38], 'type_id': 1}, {'name': '喜', 'span': [79, 80], 'type_id': 2}]\n",
            "[{'name': 'ノースカロライナ', 'span': [8, 16], 'type_id': 1}, {'name': 'シャーロット', 'span': [17, 23], 'type_id': 1}, {'name': 'スチュアート・W・クラマー', 'span': [24, 37], 'type_id': 1}]\n",
            "[{'name': 'ミルトン・キーンズ・ドンズ', 'span': [12, 25], 'type_id': 1}]\n",
            "[]\n",
            "[{'name': '宮下一博', 'span': [2, 6], 'type_id': 1}, {'name': '大野久羅', 'span': [7, 11], 'type_id': 1}, {'name': 'る', 'span': [17, 18], 'type_id': 1}]\n",
            "[{'name': 'ライニッシュ鉄道', 'span': [0, 8], 'type_id': 2}, {'name': 'ライン', 'span': [32, 35], 'type_id': 2}, {'name': '=ナー', 'span': [35, 38], 'type_id': 1}, {'name': 'エ', 'span': [38, 39], 'type_id': 6}]\n",
            "[]\n",
            "[{'name': '独立党', 'span': [0, 3], 'type_id': 2}, {'name': '進歩党', 'span': [9, 12], 'type_id': 2}, {'name': 'バタリア', 'span': [18, 22], 'type_id': 2}]\n",
            "[{'name': '山田', 'span': [6, 8], 'type_id': 1}, {'name': '今井', 'span': [9, 11], 'type_id': 1}]\n",
            "[{'name': '小前', 'span': [0, 2], 'type_id': 1}]\n",
            "[]\n",
            "[{'name': '森川', 'span': [6, 8], 'type_id': 1}]\n",
            "[{'name': 'ブリティッシュ・ホーム・', 'span': [0, 12], 'type_id': 2}]\n"
          ]
        },
        {
          "output_type": "stream",
          "name": "stderr",
          "text": [
            "\n",
            " 71%|███████   | 758/1070 [00:09<00:03, 79.05it/s]\u001b[A\n",
            " 72%|███████▏  | 767/1070 [00:09<00:03, 80.97it/s]\u001b[A"
          ]
        },
        {
          "output_type": "stream",
          "name": "stdout",
          "text": [
            "[]\n",
            "[]\n",
            "[{'name': '督', 'span': [6, 7], 'type_id': 1}, {'name': '趙秉稷', 'span': [8, 11], 'type_id': 1}]\n",
            "[]\n",
            "[{'name': 'チュルボメカ', 'span': [26, 32], 'type_id': 2}]\n",
            "[{'name': '連邦準備制度', 'span': [7, 13], 'type_id': 2}]\n",
            "[]\n",
            "[]\n",
            "[]\n",
            "[]\n",
            "[]\n",
            "[]\n",
            "[{'name': '黒総', 'span': [15, 17], 'type_id': 2}, {'name': '本', 'span': [17, 18], 'type_id': 1}, {'name': '舗', 'span': [18, 19], 'type_id': 2}, {'name': '婁', 'span': [28, 29], 'type_id': 2}, {'name': '地', 'span': [31, 32], 'type_id': 2}]\n",
            "[]\n",
            "[]\n",
            "[{'name': '江', 'span': [5, 6], 'type_id': 1}, {'name': '追', 'span': [7, 8], 'type_id': 1}, {'name': '江', 'span': [30, 31], 'type_id': 6}, {'name': '追', 'span': [32, 33], 'type_id': 7}, {'name': '分', 'span': [33, 34], 'type_id': 2}]\n",
            "[]\n"
          ]
        },
        {
          "output_type": "stream",
          "name": "stderr",
          "text": [
            "\n",
            " 73%|███████▎  | 776/1070 [00:09<00:03, 80.67it/s]\u001b[A\n",
            " 73%|███████▎  | 785/1070 [00:09<00:03, 82.06it/s]\u001b[A"
          ]
        },
        {
          "output_type": "stream",
          "name": "stdout",
          "text": [
            "[{'name': '田', 'span': [1, 2], 'type_id': 1}]\n",
            "[{'name': '中川カ〜ル', 'span': [18, 23], 'type_id': 1}]\n",
            "[{'name': '三重建設', 'span': [16, 20], 'type_id': 2}]\n",
            "[{'name': '瓦斯', 'span': [7, 9], 'type_id': 2}, {'name': '名古屋電灯', 'span': [33, 38], 'type_id': 2}, {'name': '瓦斯', 'span': [53, 55], 'type_id': 2}]\n",
            "[{'name': 'ツクダオリジナル', 'span': [6, 14], 'type_id': 2}, {'name': '和久', 'span': [36, 38], 'type_id': 2}, {'name': '井', 'span': [38, 39], 'type_id': 1}, {'name': 'ワクイコーポレーション', 'span': [44, 55], 'type_id': 2}]\n",
            "[{'name': '池田', 'span': [40, 42], 'type_id': 1}]\n",
            "[{'name': 'セルラー', 'span': [10, 14], 'type_id': 2}]\n",
            "[]\n",
            "[{'name': '大石', 'span': [7, 9], 'type_id': 1}]\n",
            "[]\n",
            "[{'name': '仙台トラストシティ', 'span': [0, 9], 'type_id': 2}, {'name': '仙台トラストタワー', 'span': [24, 33], 'type_id': 2}]\n",
            "[{'name': 'アメリ・ノトン', 'span': [13, 20], 'type_id': 1}, {'name': 'アメリー・ノートン', 'span': [60, 69], 'type_id': 1}]\n",
            "[{'name': 'ソニー株式会社', 'span': [7, 14], 'type_id': 2}]\n",
            "[]\n",
            "[{'name': 'プリティーリズム・ディア', 'span': [36, 48], 'type_id': 2}, {'name': 'マイ', 'span': [48, 50], 'type_id': 1}, {'name': 'フュー', 'span': [50, 53], 'type_id': 7}, {'name': 'チャー', 'span': [53, 56], 'type_id': 1}, {'name': 'タカラトミー', 'span': [89, 95], 'type_id': 2}, {'name': 'タカラトミーアーツ', 'span': [101, 110], 'type_id': 2}]\n",
            "[{'name': 'ニューヨーク銀行', 'span': [16, 24], 'type_id': 2}, {'name': 'ティ信託', 'span': [28, 32], 'type_id': 2}]\n",
            "[]\n",
            "[{'name': '千葉ロッテマリーンズ', 'span': [9, 19], 'type_id': 2}, {'name': '東北楽天', 'span': [20, 24], 'type_id': 2}, {'name': 'イーグルス', 'span': [24, 29], 'type_id': 1}]\n"
          ]
        },
        {
          "output_type": "stream",
          "name": "stderr",
          "text": [
            "\n",
            " 74%|███████▍  | 794/1070 [00:09<00:03, 81.47it/s]\u001b[A\n",
            " 75%|███████▌  | 803/1070 [00:09<00:03, 80.47it/s]"
          ]
        },
        {
          "output_type": "stream",
          "name": "stdout",
          "text": [
            "[{'name': 'V', 'span': [27, 28], 'type_id': 2}]\n",
            "[{'name': 'ジェノアCF', 'span': [10, 16], 'type_id': 2}, {'name': '・', 'span': [73, 74], 'type_id': 2}, {'name': 'バリ', 'span': [74, 76], 'type_id': 7}, {'name': 'ャドリード', 'span': [76, 81], 'type_id': 1}]\n",
            "[{'name': '航空', 'span': [10, 12], 'type_id': 2}]\n",
            "[{'name': '2', 'span': [2, 3], 'type_id': 2}, {'name': '神戸', 'span': [12, 14], 'type_id': 2}, {'name': '2', 'span': [52, 53], 'type_id': 2}]\n",
            "[{'name': '江本孟紀', 'span': [8, 12], 'type_id': 1}, {'name': '江本', 'span': [25, 27], 'type_id': 1}]\n",
            "[{'name': '・日立', 'span': [3, 6], 'type_id': 2}, {'name': '東京ディズニーリゾート', 'span': [7, 18], 'type_id': 2}, {'name': 'ひたち', 'span': [39, 42], 'type_id': 1}, {'name': 'とき', 'span': [43, 45], 'type_id': 2}]\n",
            "[{'name': 'モ', 'span': [8, 9], 'type_id': 2}]\n",
            "[{'name': '市立', 'span': [23, 25], 'type_id': 2}, {'name': '社', 'span': [33, 34], 'type_id': 8}, {'name': '寺', 'span': [34, 35], 'type_id': 2}, {'name': '曼', 'span': [37, 38], 'type_id': 8}, {'name': '荼', 'span': [38, 39], 'type_id': 7}]\n",
            "[{'name': '鈴木亜久里', 'span': [20, 25], 'type_id': 1}]\n",
            "[{'name': '英帝国', 'span': [13, 16], 'type_id': 1}]\n",
            "[]\n",
            "[{'name': '新都市センター', 'span': [24, 31], 'type_id': 2}]\n",
            "[{'name': '帯広ステーションビル', 'span': [6, 16], 'type_id': 2}]\n",
            "[]\n",
            "[{'name': '田原電灯', 'span': [38, 42], 'type_id': 2}]\n",
            "[{'name': '徽宗', 'span': [20, 22], 'type_id': 1}]\n",
            "[{'name': 'ロム', 'span': [3, 5], 'type_id': 1}]\n",
            "[{'name': 'アルフレッド・マーシャル', 'span': [55, 67], 'type_id': 1}]\n"
          ]
        },
        {
          "output_type": "stream",
          "name": "stderr",
          "text": [
            "\u001b[A\n",
            " 76%|███████▌  | 812/1070 [00:10<00:03, 78.08it/s]\u001b[A"
          ]
        },
        {
          "output_type": "stream",
          "name": "stdout",
          "text": [
            "[{'name': 'あいちトリエンナーレ', 'span': [0, 10], 'type_id': 2}, {'name': '愛知', 'span': [11, 13], 'type_id': 2}, {'name': '名古屋', 'span': [15, 18], 'type_id': 1}]\n",
            "[]\n",
            "[{'name': 'y', 'span': [23, 24], 'type_id': 7}, {'name': 'f', 'span': [24, 25], 'type_id': 2}]\n",
            "[{'name': '連邦共和国', 'span': [53, 58], 'type_id': 2}, {'name': 'ユーゴ', 'span': [77, 80], 'type_id': 2}, {'name': 'ユーゴ', 'span': [110, 113], 'type_id': 2}]\n",
            "[{'name': '大島', 'span': [13, 15], 'type_id': 1}, {'name': '柴田', 'span': [16, 18], 'type_id': 1}, {'name': '木村拓也', 'span': [28, 32], 'type_id': 1}, {'name': '長冨浩志', 'span': [40, 44], 'type_id': 1}]\n",
            "[{'name': 'ココストアイースト', 'span': [4, 13], 'type_id': 2}, {'name': 'ココストア', 'span': [52, 57], 'type_id': 2}]\n",
            "[{'name': '女子プロ', 'span': [7, 11], 'type_id': 2}, {'name': 'フローラ', 'span': [18, 22], 'type_id': 2}]\n",
            "[]\n",
            "[]\n",
            "[{'name': '陳誠', 'span': [3, 5], 'type_id': 1}]\n",
            "[{'name': '藤本龍児', 'span': [5, 9], 'type_id': 1}, {'name': 'ブル・', 'span': [25, 28], 'type_id': 2}]\n",
            "[]\n",
            "[{'name': 'イリーナ・ドルゴワ', 'span': [17, 26], 'type_id': 1}, {'name': 'エンダ・カリージョ', 'span': [55, 64], 'type_id': 1}, {'name': '普', 'span': [82, 83], 'type_id': 1}]\n",
            "[{'name': '三国外相', 'span': [4, 8], 'type_id': 2}, {'name': '南朝', 'span': [36, 38], 'type_id': 2}, {'name': '南朝', 'span': [78, 80], 'type_id': 2}]\n",
            "[]\n",
            "[]\n",
            "[]\n"
          ]
        },
        {
          "output_type": "stream",
          "name": "stderr",
          "text": [
            "\n",
            " 77%|███████▋  | 821/1070 [00:10<00:03, 78.54it/s]\u001b[A\n",
            " 77%|███████▋  | 829/1070 [00:10<00:03, 78.20it/s]\u001b[A"
          ]
        },
        {
          "output_type": "stream",
          "name": "stdout",
          "text": [
            "[{'name': 'ディン', 'span': [4, 7], 'type_id': 2}, {'name': '・', 'span': [8, 9], 'type_id': 1}, {'name': '・', 'span': [11, 12], 'type_id': 1}, {'name': '・', 'span': [13, 14], 'type_id': 1}, {'name': 'ショ', 'span': [14, 16], 'type_id': 7}, {'name': 'ルダー', 'span': [16, 19], 'type_id': 1}, {'name': 'オブ', 'span': [20, 22], 'type_id': 2}, {'name': 'ジャ', 'span': [23, 25], 'type_id': 6}, {'name': 'イアン', 'span': [25, 28], 'type_id': 1}]\n",
            "[{'name': '継承', 'span': [9, 11], 'type_id': 2}, {'name': 'ダ', 'span': [23, 24], 'type_id': 1}]\n",
            "[{'name': 'ヴィジャヤナガル王ヴェンカタ2世', 'span': [6, 22], 'type_id': 1}, {'name': 'ペヌコンダ', 'span': [23, 28], 'type_id': 1}, {'name': 'チャンドラギリ', 'span': [30, 37], 'type_id': 1}, {'name': 'チャンドラギリ', 'span': [48, 55], 'type_id': 1}]\n",
            "[{'name': '名', 'span': [14, 15], 'type_id': 6}, {'name': '湖', 'span': [15, 16], 'type_id': 2}, {'name': 'ボート', 'span': [16, 19], 'type_id': 1}, {'name': 'レース', 'span': [19, 22], 'type_id': 7}]\n",
            "[{'name': '江崎グリコ', 'span': [5, 10], 'type_id': 2}]\n",
            "[{'name': '佐藤', 'span': [32, 34], 'type_id': 1}]\n",
            "[]\n",
            "[{'name': '芸術協会', 'span': [2, 6], 'type_id': 2}]\n",
            "[{'name': '新潟交通グループ', 'span': [2, 10], 'type_id': 2}, {'name': '新潟', 'span': [34, 36], 'type_id': 2}, {'name': '行政', 'span': [38, 40], 'type_id': 6}, {'name': '西', 'span': [68, 69], 'type_id': 6}, {'name': '西', 'span': [74, 75], 'type_id': 6}]\n",
            "[{'name': 'ジェル', 'span': [8, 11], 'type_id': 1}, {'name': 'デイビッド・アッテンボロー', 'span': [25, 38], 'type_id': 1}, {'name': 'Ed', 'span': [46, 48], 'type_id': 7}]\n",
            "[{'name': 'ベリテ・プロ', 'span': [11, 17], 'type_id': 2}]\n",
            "[{'name': 'ns', 'span': [42, 44], 'type_id': 2}]\n",
            "[]\n",
            "[{'name': '国際', 'span': [21, 23], 'type_id': 2}]\n",
            "[{'name': 'モーリス・クラインマン', 'span': [48, 59], 'type_id': 1}, {'name': 'サム・タッカー', 'span': [60, 67], 'type_id': 1}, {'name': 'ルイス・ロスコップ', 'span': [69, 78], 'type_id': 1}]\n",
            "[{'name': '高校', 'span': [26, 28], 'type_id': 6}]\n",
            "[{'name': '全共闘', 'span': [40, 43], 'type_id': 2}]\n"
          ]
        },
        {
          "output_type": "stream",
          "name": "stderr",
          "text": [
            "\n",
            " 78%|███████▊  | 838/1070 [00:10<00:02, 78.90it/s]\u001b[A\n",
            " 79%|███████▉  | 847/1070 [00:10<00:02, 80.52it/s]\u001b[A"
          ]
        },
        {
          "output_type": "stream",
          "name": "stdout",
          "text": [
            "[{'name': '住友海上', 'span': [8, 12], 'type_id': 2}]\n",
            "[{'name': 'ホテルズブランド', 'span': [9, 17], 'type_id': 2}]\n",
            "[{'name': '東アジア競技', 'span': [5, 11], 'type_id': 8}, {'name': '大阪', 'span': [38, 40], 'type_id': 1}]\n",
            "[]\n",
            "[{'name': 'ナ', 'span': [5, 6], 'type_id': 7}, {'name': 'チャラン・ポ・ランタン', 'span': [20, 31], 'type_id': 1}]\n",
            "[{'name': '連合国', 'span': [19, 22], 'type_id': 2}]\n",
            "[]\n",
            "[{'name': 'ジェームズ・ブキャナン大統領', 'span': [3, 17], 'type_id': 1}]\n",
            "[{'name': 'パトリック・ヤンセン', 'span': [4, 14], 'type_id': 1}, {'name': 'ザ・ホーンテッド', 'span': [15, 23], 'type_id': 1}, {'name': 'センチ', 'span': [56, 59], 'type_id': 1}, {'name': 'ュリー', 'span': [59, 62], 'type_id': 2}, {'name': '・', 'span': [62, 63], 'type_id': 1}, {'name': 'メディア・', 'span': [63, 68], 'type_id': 2}]\n",
            "[{'name': 'アル', 'span': [15, 17], 'type_id': 2}]\n",
            "[]\n",
            "[{'name': 'サンレーヴ', 'span': [15, 20], 'type_id': 2}]\n",
            "[{'name': 'サンフランシスコ', 'span': [31, 39], 'type_id': 1}, {'name': '・ジャイアンツ', 'span': [39, 46], 'type_id': 2}, {'name': 'マット・ケイン', 'span': [62, 69], 'type_id': 1}, {'name': 'ティム・リンスカム', 'span': [70, 79], 'type_id': 1}]\n",
            "[{'name': '海信集団', 'span': [38, 42], 'type_id': 2}, {'name': '美的集団', 'span': [43, 47], 'type_id': 2}, {'name': 'タカタ', 'span': [70, 73], 'type_id': 2}, {'name': 'キー・セーフティ・システムズ', 'span': [76, 90], 'type_id': 2}]\n",
            "[{'name': '地理', 'span': [10, 12], 'type_id': 2}]\n",
            "[]\n",
            "[]\n"
          ]
        },
        {
          "output_type": "stream",
          "name": "stderr",
          "text": [
            "\n",
            " 80%|████████  | 856/1070 [00:10<00:02, 79.67it/s]\u001b[A\n",
            " 81%|████████  | 865/1070 [00:10<00:02, 81.21it/s]\u001b[A"
          ]
        },
        {
          "output_type": "stream",
          "name": "stdout",
          "text": [
            "[{'name': '町田', 'span': [24, 26], 'type_id': 1}, {'name': 'タイトー', 'span': [28, 32], 'type_id': 2}, {'name': '町田プレジャー', 'span': [42, 49], 'type_id': 2}, {'name': 'キャ', 'span': [49, 51], 'type_id': 1}]\n",
            "[{'name': 'ナポレオン・ボナパルト率いる大陸', 'span': [4, 20], 'type_id': 1}, {'name': 'アウステルリッツ', 'span': [26, 34], 'type_id': 1}]\n",
            "[{'name': '杉本勝', 'span': [24, 27], 'type_id': 1}]\n",
            "[{'name': '司法', 'span': [7, 9], 'type_id': 1}, {'name': 'リチャード・オルニー', 'span': [12, 22], 'type_id': 1}]\n",
            "[]\n",
            "[{'name': '世界', 'span': [3, 5], 'type_id': 2}, {'name': '連合', 'span': [22, 24], 'type_id': 2}]\n",
            "[{'name': 'モザイ', 'span': [0, 3], 'type_id': 8}, {'name': 'カルチャー世界', 'span': [3, 10], 'type_id': 2}, {'name': '博', 'span': [10, 11], 'type_id': 7}]\n",
            "[{'name': 'ガンバ大阪', 'span': [5, 10], 'type_id': 2}]\n",
            "[]\n",
            "[{'name': 'U', 'span': [12, 13], 'type_id': 8}]\n",
            "[]\n",
            "[{'name': '林頼三郎大審', 'span': [12, 18], 'type_id': 1}, {'name': '院', 'span': [18, 19], 'type_id': 2}, {'name': '三', 'span': [24, 25], 'type_id': 2}, {'name': '・', 'span': [25, 26], 'type_id': 1}, {'name': '一', 'span': [26, 27], 'type_id': 2}, {'name': '太田耐', 'span': [60, 63], 'type_id': 1}, {'name': '司法', 'span': [64, 66], 'type_id': 2}]\n",
            "[{'name': 'ントン', 'span': [6, 9], 'type_id': 6}]\n",
            "[{'name': '土建業者', 'span': [3, 7], 'type_id': 2}, {'name': '商工会議', 'span': [14, 18], 'type_id': 2}]\n",
            "[{'name': 'ウェブスター', 'span': [6, 12], 'type_id': 1}, {'name': 'ップス', 'span': [17, 20], 'type_id': 1}, {'name': 'ヒル', 'span': [20, 22], 'type_id': 2}]\n",
            "[{'name': '講道館', 'span': [4, 7], 'type_id': 8}]\n",
            "[{'name': 'ベイ', 'span': [19, 21], 'type_id': 2}]\n",
            "[]\n"
          ]
        },
        {
          "output_type": "stream",
          "name": "stderr",
          "text": [
            "\n",
            " 82%|████████▏ | 874/1070 [00:10<00:02, 81.47it/s]\u001b[A\n",
            " 83%|████████▎ | 883/1070 [00:10<00:02, 81.38it/s]\u001b[A"
          ]
        },
        {
          "output_type": "stream",
          "name": "stdout",
          "text": [
            "[{'name': '愛知万博', 'span': [3, 7], 'type_id': 2}, {'name': '長久手町', 'span': [8, 12], 'type_id': 2}, {'name': '愛知青少年公園', 'span': [13, 20], 'type_id': 2}]\n",
            "[{'name': '金星スターズ', 'span': [6, 12], 'type_id': 2}, {'name': '急', 'span': [17, 18], 'type_id': 2}]\n",
            "[{'name': 'ダンフェール', 'span': [0, 6], 'type_id': 1}, {'name': 'シュ', 'span': [8, 10], 'type_id': 1}, {'name': 'B', 'span': [41, 42], 'type_id': 7}]\n",
            "[{'name': '田中義一', 'span': [15, 19], 'type_id': 1}, {'name': '小川平吉', 'span': [29, 33], 'type_id': 1}]\n",
            "[{'name': '朋学園大学', 'span': [5, 10], 'type_id': 2}, {'name': '交響', 'span': [30, 32], 'type_id': 2}]\n",
            "[{'name': '武部', 'span': [0, 2], 'type_id': 1}, {'name': '武部', 'span': [37, 39], 'type_id': 1}, {'name': '山崎', 'span': [42, 44], 'type_id': 1}]\n",
            "[{'name': 'レイトナー', 'span': [6, 11], 'type_id': 1}, {'name': 'ブライアン・デービス', 'span': [24, 34], 'type_id': 1}, {'name': 'ダー', 'span': [44, 46], 'type_id': 2}]\n",
            "[{'name': '渡辺ミキ', 'span': [11, 15], 'type_id': 1}, {'name': 'ビスケットエンターティ', 'span': [29, 40], 'type_id': 2}, {'name': 'ワンダ', 'span': [55, 58], 'type_id': 8}, {'name': 'フル', 'span': [58, 60], 'type_id': 2}, {'name': 'ウン', 'span': [63, 65], 'type_id': 1}, {'name': 'ナンの', 'span': [65, 68], 'type_id': 2}, {'name': 'ホント', 'span': [68, 71], 'type_id': 1}, {'name': '力の限り', 'span': [76, 80], 'type_id': 2}, {'name': 'ゴー', 'span': [80, 82], 'type_id': 1}]\n",
            "[{'name': 'マッサ', 'span': [9, 12], 'type_id': 7}, {'name': '放送', 'span': [72, 74], 'type_id': 2}]\n",
            "[{'name': 'ベティ・サッチャー・オロス', 'span': [47, 60], 'type_id': 1}]\n",
            "[{'name': 'レッド', 'span': [0, 3], 'type_id': 2}, {'name': '・ツェッペリン', 'span': [3, 10], 'type_id': 1}, {'name': 'プラント', 'span': [14, 18], 'type_id': 1}]\n",
            "[]\n",
            "[{'name': '道出人', 'span': [1, 4], 'type_id': 1}]\n",
            "[{'name': '東北放送', 'span': [0, 4], 'type_id': 2}, {'name': 'スピーチ', 'span': [9, 13], 'type_id': 2}]\n",
            "[{'name': 'ジャン=バティスト・ド・ロシャンボー将軍', 'span': [0, 20], 'type_id': 1}, {'name': 'フランス陸軍', 'span': [24, 30], 'type_id': 2}]\n",
            "[]\n",
            "[{'name': '国際南北アメリカ', 'span': [23, 31], 'type_id': 2}]"
          ]
        },
        {
          "output_type": "stream",
          "name": "stderr",
          "text": [
            "\n",
            " 83%|████████▎ | 892/1070 [00:11<00:02, 79.34it/s]\u001b[A\n",
            " 84%|████████▍ | 900/1070 [00:11<00:02, 79.07it/s]\u001b[A"
          ]
        },
        {
          "output_type": "stream",
          "name": "stdout",
          "text": [
            "\n",
            "[{'name': '玄光社', 'span': [0, 3], 'type_id': 2}]\n",
            "[]\n",
            "[{'name': 'アフロ', 'span': [10, 13], 'type_id': 2}, {'name': '・シラジ', 'span': [13, 17], 'type_id': 1}, {'name': '党', 'span': [17, 18], 'type_id': 2}, {'name': 'ザン', 'span': [31, 33], 'type_id': 1}, {'name': 'ジバル', 'span': [33, 36], 'type_id': 2}]\n",
            "[{'name': 'CO', 'span': [30, 32], 'type_id': 2}, {'name': 'あま', 'span': [33, 35], 'type_id': 2}, {'name': 'が', 'span': [35, 36], 'type_id': 6}, {'name': 'さき', 'span': [36, 38], 'type_id': 1}]\n",
            "[{'name': '爺', 'span': [1, 2], 'type_id': 2}]\n",
            "[{'name': 'リオ・ティン', 'span': [0, 6], 'type_id': 2}, {'name': 'ト', 'span': [6, 7], 'type_id': 1}, {'name': '・グループ', 'span': [7, 12], 'type_id': 2}]\n",
            "[{'name': '樺山資紀内', 'span': [4, 9], 'type_id': 1}, {'name': '顧問', 'span': [18, 20], 'type_id': 1}, {'name': '田中不二麿', 'span': [21, 26], 'type_id': 1}, {'name': '小村壽太郎', 'span': [34, 39], 'type_id': 1}, {'name': '金子堅太郎', 'span': [40, 45], 'type_id': 1}, {'name': '賀田種太郎', 'span': [47, 52], 'type_id': 1}]\n",
            "[{'name': 'クイズ', 'span': [1, 4], 'type_id': 2}, {'name': '長山藍子', 'span': [25, 29], 'type_id': 1}]\n",
            "[{'name': '相川七瀬', 'span': [6, 10], 'type_id': 1}]\n",
            "[{'name': 'コープラド', 'span': [0, 5], 'type_id': 2}]\n",
            "[{'name': '千葉ロッテマリーンズ', 'span': [6, 16], 'type_id': 1}, {'name': 'マイク・ディアズ', 'span': [17, 25], 'type_id': 1}]\n",
            "[]\n",
            "[{'name': 'マ', 'span': [7, 8], 'type_id': 1}, {'name': 'オリ', 'span': [8, 10], 'type_id': 2}, {'name': 'マオリ', 'span': [24, 27], 'type_id': 2}]\n",
            "[]\n",
            "[]\n"
          ]
        },
        {
          "output_type": "stream",
          "name": "stderr",
          "text": [
            "\n",
            " 85%|████████▍ | 908/1070 [00:11<00:02, 76.95it/s]\u001b[A\n",
            " 86%|████████▌ | 916/1070 [00:11<00:01, 77.50it/s]\u001b[A"
          ]
        },
        {
          "output_type": "stream",
          "name": "stdout",
          "text": [
            "[{'name': '禄・', 'span': [1, 3], 'type_id': 2}, {'name': '慶長の', 'span': [3, 6], 'type_id': 1}, {'name': '種', 'span': [11, 12], 'type_id': 1}]\n",
            "[{'name': 'ミズノ', 'span': [27, 30], 'type_id': 2}]\n",
            "[{'name': '国', 'span': [9, 10], 'type_id': 1}, {'name': '煌動', 'span': [32, 34], 'type_id': 2}, {'name': 'フューチャー・プラネット', 'span': [47, 59], 'type_id': 2}]\n",
            "[{'name': '富士製紙', 'span': [2, 6], 'type_id': 2}, {'name': '王子製紙', 'span': [19, 23], 'type_id': 2}, {'name': '条製紙', 'span': [39, 42], 'type_id': 2}, {'name': '日本製紙', 'span': [55, 59], 'type_id': 2}]\n",
            "[{'name': 'フジ・トラベル・', 'span': [4, 12], 'type_id': 2}]\n",
            "[{'name': 'ウィリアム・ミドルトン', 'span': [17, 28], 'type_id': 1}]\n",
            "[{'name': 'ルイ', 'span': [7, 9], 'type_id': 1}, {'name': 'ビル', 'span': [9, 11], 'type_id': 2}, {'name': 'ルイビル・ウォーター・', 'span': [12, 23], 'type_id': 2}]\n",
            "[{'name': '張志良', 'span': [31, 34], 'type_id': 1}]\n",
            "[{'name': '北海道循環器病', 'span': [6, 13], 'type_id': 2}]\n",
            "[{'name': '1952', 'span': [0, 4], 'type_id': 8}, {'name': 'ヘルシンキ', 'span': [5, 10], 'type_id': 8}]\n",
            "[{'name': 'デン・パーク', 'span': [10, 16], 'type_id': 2}, {'name': 'アトレティコ', 'span': [26, 32], 'type_id': 1}, {'name': '・マドリード', 'span': [32, 38], 'type_id': 2}, {'name': 'フィ', 'span': [39, 41], 'type_id': 2}, {'name': 'オレ', 'span': [41, 43], 'type_id': 1}, {'name': 'ン', 'span': [43, 44], 'type_id': 2}, {'name': 'ティーナ', 'span': [44, 48], 'type_id': 1}, {'name': 'シュタ', 'span': [76, 79], 'type_id': 2}, {'name': 'アトレティコ', 'span': [92, 98], 'type_id': 1}, {'name': '・マドリード', 'span': [98, 104], 'type_id': 2}, {'name': 'フィオレ', 'span': [105, 109], 'type_id': 1}, {'name': 'ン', 'span': [109, 110], 'type_id': 2}, {'name': 'ティーナ', 'span': [110, 114], 'type_id': 1}]\n",
            "[{'name': 'リング', 'span': [17, 20], 'type_id': 1}, {'name': '&', 'span': [29, 30], 'type_id': 1}]\n",
            "[]\n",
            "[{'name': '国際', 'span': [10, 12], 'type_id': 2}, {'name': '見本', 'span': [14, 16], 'type_id': 2}]\n",
            "[{'name': '高等', 'span': [10, 12], 'type_id': 2}, {'name': '研究', 'span': [12, 14], 'type_id': 6}, {'name': '計画', 'span': [14, 16], 'type_id': 2}, {'name': 'フロンティア・システムズ', 'span': [42, 54], 'type_id': 2}]\n",
            "[{'name': '佐藤和三郎', 'span': [4, 9], 'type_id': 1}, {'name': '詩人野口雨情', 'span': [14, 20], 'type_id': 1}]\n"
          ]
        },
        {
          "output_type": "stream",
          "name": "stderr",
          "text": [
            "\n",
            " 86%|████████▋ | 924/1070 [00:11<00:01, 77.25it/s]\u001b[A\n",
            " 87%|████████▋ | 933/1070 [00:11<00:01, 78.55it/s]\u001b[A"
          ]
        },
        {
          "output_type": "stream",
          "name": "stdout",
          "text": [
            "[]\n",
            "[]\n",
            "[{'name': '進藤本人', 'span': [2, 6], 'type_id': 1}, {'name': '東邦電力', 'span': [16, 20], 'type_id': 2}, {'name': '関西', 'span': [21, 23], 'type_id': 2}]\n",
            "[{'name': 'ヤングジャンプ', 'span': [6, 13], 'type_id': 8}, {'name': 'べ', 'span': [23, 24], 'type_id': 7}, {'name': '週刊少年ジャンプ', 'span': [33, 41], 'type_id': 2}]\n",
            "[{'name': 'バーク', 'span': [16, 19], 'type_id': 2}, {'name': 'リー', 'span': [19, 21], 'type_id': 1}, {'name': '音楽', 'span': [21, 23], 'type_id': 2}, {'name': '大学', 'span': [23, 25], 'type_id': 1}, {'name': 'ケーシー・サイモンセン', 'span': [28, 39], 'type_id': 1}]\n",
            "[]\n",
            "[{'name': 'アッティリオ・カリマーニ', 'span': [17, 29], 'type_id': 1}]\n",
            "[{'name': 'フェビアン協会', 'span': [4, 11], 'type_id': 2}]\n",
            "[{'name': 'コロラド', 'span': [0, 4], 'type_id': 2}, {'name': '・ロッキー', 'span': [4, 9], 'type_id': 1}, {'name': 'ズ', 'span': [9, 10], 'type_id': 2}, {'name': 'フロリダ', 'span': [26, 30], 'type_id': 2}, {'name': '・', 'span': [30, 31], 'type_id': 1}, {'name': 'マーリンズ', 'span': [31, 36], 'type_id': 2}]\n",
            "[]\n",
            "[{'name': 'サッカー', 'span': [8, 12], 'type_id': 2}, {'name': '・', 'span': [19, 20], 'type_id': 2}, {'name': 'カル', 'span': [20, 22], 'type_id': 1}, {'name': 'チネンタル', 'span': [44, 49], 'type_id': 7}]\n",
            "[]\n",
            "[{'name': '州', 'span': [6, 7], 'type_id': 6}, {'name': 'カルラス・プッチダモン元', 'span': [10, 22], 'type_id': 1}, {'name': '自治', 'span': [54, 56], 'type_id': 6}, {'name': '州', 'span': [56, 57], 'type_id': 2}]\n",
            "[{'name': 'ステンソン', 'span': [15, 20], 'type_id': 2}, {'name': 'フレデリク', 'span': [25, 30], 'type_id': 1}, {'name': '父', 'span': [31, 32], 'type_id': 1}, {'name': 'アンデシュ・ビレ伯爵', 'span': [69, 79], 'type_id': 1}]\n",
            "[{'name': 'マイルス・', 'span': [8, 13], 'type_id': 1}]\n",
            "[{'name': 'ポッカサ', 'span': [8, 12], 'type_id': 2}, {'name': 'ッポ', 'span': [12, 14], 'type_id': 1}, {'name': 'ロフード&ビバレ', 'span': [14, 22], 'type_id': 2}, {'name': 'ッジ', 'span': [22, 24], 'type_id': 1}, {'name': 'ロルシュタ', 'span': [47, 52], 'type_id': 7}]\n",
            "[{'name': 'ラ党', 'span': [5, 7], 'type_id': 2}, {'name': 'ペルー', 'span': [14, 17], 'type_id': 1}]\n",
            "[{'name': '泉', 'span': [4, 5], 'type_id': 2}]\n"
          ]
        },
        {
          "output_type": "stream",
          "name": "stderr",
          "text": [
            "\n",
            " 88%|████████▊ | 941/1070 [00:11<00:01, 77.42it/s]\u001b[A\n",
            " 89%|████████▉ | 950/1070 [00:11<00:01, 79.06it/s]\u001b[A"
          ]
        },
        {
          "output_type": "stream",
          "name": "stdout",
          "text": [
            "[{'name': '読売', 'span': [16, 18], 'type_id': 2}, {'name': 'サッカー協会', 'span': [27, 33], 'type_id': 2}, {'name': '団', 'span': [36, 37], 'type_id': 2}, {'name': '読売', 'span': [52, 54], 'type_id': 2}]\n",
            "[{'name': '長野', 'span': [9, 11], 'type_id': 1}]\n",
            "[{'name': '福井県立音楽堂', 'span': [9, 16], 'type_id': 2}]\n",
            "[{'name': 'リチャード・ヘンダーソン', 'span': [30, 42], 'type_id': 1}, {'name': 'モア・ショールズ', 'span': [45, 53], 'type_id': 1}]\n",
            "[{'name': '松本憲二', 'span': [11, 15], 'type_id': 1}, {'name': '中央', 'span': [36, 38], 'type_id': 8}]\n",
            "[]\n",
            "[{'name': 'カコック', 'span': [12, 16], 'type_id': 1}, {'name': 'サウスベイ・レイカーズ', 'span': [42, 53], 'type_id': 2}]\n",
            "[{'name': '務', 'span': [1, 2], 'type_id': 2}]\n",
            "[{'name': 'ヘルマン・グロスマン', 'span': [0, 10], 'type_id': 1}, {'name': 'ヘンヴァルト', 'span': [23, 29], 'type_id': 6}, {'name': '収容', 'span': [29, 31], 'type_id': 2}]\n",
            "[{'name': '腕アトム', 'span': [24, 28], 'type_id': 2}, {'name': '虫プロ', 'span': [40, 43], 'type_id': 2}]\n",
            "[{'name': '福島', 'span': [14, 16], 'type_id': 1}, {'name': '海老', 'span': [17, 19], 'type_id': 1}]\n",
            "[{'name': '本田', 'span': [12, 14], 'type_id': 1}, {'name': '・', 'span': [19, 20], 'type_id': 1}, {'name': '愛', 'span': [39, 40], 'type_id': 8}, {'name': '・', 'span': [40, 41], 'type_id': 1}, {'name': '地球', 'span': [41, 43], 'type_id': 2}, {'name': '博', 'span': [43, 44], 'type_id': 8}, {'name': '本田', 'span': [53, 55], 'type_id': 1}, {'name': '愛', 'span': [70, 71], 'type_id': 8}, {'name': '・', 'span': [71, 72], 'type_id': 1}, {'name': '地球', 'span': [72, 74], 'type_id': 7}, {'name': '博', 'span': [74, 75], 'type_id': 8}]\n",
            "[{'name': 'ビックリ', 'span': [22, 26], 'type_id': 7}, {'name': 'マン', 'span': [26, 28], 'type_id': 2}]\n",
            "[{'name': 'ニューナンブ', 'span': [0, 6], 'type_id': 2}, {'name': 'M', 'span': [6, 7], 'type_id': 1}, {'name': '新中央工業', 'span': [15, 20], 'type_id': 2}]\n",
            "[{'name': '・', 'span': [29, 30], 'type_id': 1}, {'name': 'ユナイテッド', 'span': [30, 36], 'type_id': 2}]\n",
            "[{'name': 'サン', 'span': [39, 41], 'type_id': 2}]\n",
            "[{'name': 'エステ', 'span': [3, 6], 'type_id': 2}, {'name': 'エステ', 'span': [24, 27], 'type_id': 2}]\n"
          ]
        },
        {
          "output_type": "stream",
          "name": "stderr",
          "text": [
            "\n",
            " 90%|████████▉ | 958/1070 [00:11<00:01, 78.72it/s]\u001b[A\n",
            " 90%|█████████ | 967/1070 [00:12<00:01, 79.71it/s]\u001b[A"
          ]
        },
        {
          "output_type": "stream",
          "name": "stdout",
          "text": [
            "[{'name': '京阪電気鉄道', 'span': [9, 15], 'type_id': 2}]\n",
            "[]\n",
            "[]\n",
            "[{'name': 'ガスリー', 'span': [8, 12], 'type_id': 1}]\n",
            "[]\n",
            "[{'name': 'かざあなダウンタウン', 'span': [10, 20], 'type_id': 1}, {'name': 'ダウンタウン', 'span': [23, 29], 'type_id': 1}, {'name': '松本人志', 'span': [43, 47], 'type_id': 1}, {'name': 'ダウンタウン', 'span': [58, 64], 'type_id': 1}, {'name': '木村', 'span': [79, 81], 'type_id': 1}, {'name': '東野', 'span': [82, 84], 'type_id': 1}, {'name': 'ットン調査', 'span': [103, 108], 'type_id': 1}]\n",
            "[{'name': 'プロシネチキ', 'span': [2, 8], 'type_id': 1}, {'name': 'レッドスター・', 'span': [17, 24], 'type_id': 2}, {'name': 'ベオグラード', 'span': [24, 30], 'type_id': 1}]\n",
            "[{'name': 'フランキー・フリッシュ', 'span': [44, 55], 'type_id': 1}, {'name': 'ハンク・グリーンバーグ', 'span': [56, 67], 'type_id': 1}, {'name': 'ルー・ブードロー', 'span': [68, 76], 'type_id': 1}]\n",
            "[{'name': '国民党', 'span': [10, 13], 'type_id': 2}]\n",
            "[{'name': '谷村新司', 'span': [4, 8], 'type_id': 1}, {'name': 'チョー・ヨンピル', 'span': [9, 17], 'type_id': 1}, {'name': 'ワン・ジェ', 'span': [18, 23], 'type_id': 1}, {'name': '喜屋武マリー', 'span': [24, 30], 'type_id': 1}]\n",
            "[{'name': 'タツノコプロ', 'span': [8, 14], 'type_id': 2}, {'name': 'タツノコ', 'span': [20, 24], 'type_id': 2}, {'name': '布川ゆうじ', 'span': [31, 36], 'type_id': 1}, {'name': '和光', 'span': [41, 43], 'type_id': 2}, {'name': '激', 'span': [47, 48], 'type_id': 7}, {'name': '走', 'span': [48, 49], 'type_id': 2}, {'name': '!ルーベン', 'span': [49, 54], 'type_id': 7}, {'name': 'カイザー', 'span': [54, 58], 'type_id': 1}, {'name': 'タ', 'span': [60, 61], 'type_id': 1}, {'name': 'ツノコ', 'span': [61, 64], 'type_id': 2}, {'name': '大河原邦男', 'span': [75, 80], 'type_id': 1}, {'name': '身', 'span': [87, 88], 'type_id': 6}, {'name': 'メカ', 'span': [90, 92], 'type_id': 1}, {'name': 'ンダー', 'span': [92, 95], 'type_id': 7}, {'name': 'ロボ', 'span': [95, 97], 'type_id': 1}, {'name': '動画', 'span': [101, 103], 'type_id': 2}, {'name': '超人', 'span': [105, 107], 'type_id': 6}, {'name': '戦隊バラ', 'span': [107, 111], 'type_id': 7}, {'name': 'タ', 'span': [111, 112], 'type_id': 6}, {'name': 'ック', 'span': [112, 114], 'type_id': 1}]\n",
            "[]\n",
            "[{'name': '正憲', 'span': [2, 4], 'type_id': 1}, {'name': '神戸', 'span': [9, 11], 'type_id': 1}]\n",
            "[{'name': '大蔵', 'span': [8, 10], 'type_id': 1}, {'name': '松方正義', 'span': [11, 15], 'type_id': 1}]\n",
            "[{'name': 'ナショナル セミコンダクター', 'span': [12, 26], 'type_id': 2}]\n",
            "[{'name': 'カール・アイカーン', 'span': [0, 9], 'type_id': 1}]\n"
          ]
        },
        {
          "output_type": "stream",
          "name": "stderr",
          "text": [
            "\n",
            " 91%|█████████ | 975/1070 [00:12<00:01, 77.67it/s]\u001b[A\n",
            " 92%|█████████▏| 984/1070 [00:12<00:01, 79.11it/s]\u001b[A"
          ]
        },
        {
          "output_type": "stream",
          "name": "stdout",
          "text": [
            "[{'name': 'ツヴォルキン', 'span': [6, 12], 'type_id': 1}, {'name': 'ファー', 'span': [23, 26], 'type_id': 2}, {'name': 'ンズ', 'span': [26, 28], 'type_id': 1}]\n",
            "[{'name': 'ニューオーリンズ・ジャズ&ヘリテッジ・フェスティバル', 'span': [10, 36], 'type_id': 2}, {'name': '・', 'span': [53, 54], 'type_id': 2}]\n",
            "[{'name': '三宮', 'span': [3, 5], 'type_id': 6}, {'name': '神戸', 'span': [7, 9], 'type_id': 2}, {'name': '空港', 'span': [9, 11], 'type_id': 6}, {'name': '三宮', 'span': [18, 20], 'type_id': 1}, {'name': '三宮', 'span': [57, 59], 'type_id': 6}]\n",
            "[{'name': 'ビット王立', 'span': [15, 20], 'type_id': 2}, {'name': '蒸', 'span': [20, 21], 'type_id': 1}, {'name': '溜', 'span': [21, 22], 'type_id': 2}]\n",
            "[{'name': 'ラリー', 'span': [29, 32], 'type_id': 6}]\n",
            "[{'name': '永', 'span': [9, 10], 'type_id': 2}]\n",
            "[]\n",
            "[{'name': 'F・R・チェス', 'span': [0, 7], 'type_id': 1}]\n",
            "[]\n",
            "[{'name': '韓クラブ', 'span': [51, 55], 'type_id': 2}, {'name': '台', 'span': [156, 157], 'type_id': 2}, {'name': 'インターコンチネンタル', 'span': [158, 169], 'type_id': 2}]\n",
            "[{'name': '藤田元司', 'span': [33, 37], 'type_id': 1}, {'name': '三井', 'span': [82, 84], 'type_id': 2}]\n",
            "[]\n",
            "[{'name': '秘密戦隊ゴレンジャー', 'span': [27, 37], 'type_id': 7}, {'name': '宇宙刑事', 'span': [40, 44], 'type_id': 2}, {'name': 'ギャ', 'span': [44, 46], 'type_id': 7}, {'name': 'バン', 'span': [46, 48], 'type_id': 1}]\n",
            "[{'name': 'ペンシルベニア邦', 'span': [3, 11], 'type_id': 1}, {'name': 'ジョン・ディキンソン', 'span': [13, 23], 'type_id': 1}]\n",
            "[{'name': '明治安田生命', 'span': [62, 68], 'type_id': 2}]\n",
            "[{'name': 'fl', 'span': [9, 11], 'type_id': 2}, {'name': 'ザ', 'span': [26, 27], 'type_id': 2}, {'name': '・', 'span': [27, 28], 'type_id': 1}, {'name': 'クラ', 'span': [28, 30], 'type_id': 7}, {'name': 'ウン', 'span': [30, 32], 'type_id': 1}, {'name': 'ジャレッド・ハリス', 'span': [35, 44], 'type_id': 1}, {'name': 'ジョージ6', 'span': [45, 50], 'type_id': 1}]\n",
            "[{'name': 'ロベール・シューマン', 'span': [0, 10], 'type_id': 1}, {'name': '欧州石炭鉄鋼共同', 'span': [58, 66], 'type_id': 2}, {'name': '欧州石炭鉄鋼共同', 'span': [88, 96], 'type_id': 2}]\n"
          ]
        },
        {
          "output_type": "stream",
          "name": "stderr",
          "text": [
            "\n",
            " 93%|█████████▎| 992/1070 [00:12<00:00, 79.04it/s]\u001b[A\n",
            " 94%|█████████▎| 1001/1070 [00:12<00:00, 81.58it/s]\u001b[A"
          ]
        },
        {
          "output_type": "stream",
          "name": "stdout",
          "text": [
            "[{'name': 'スタン・ハンセン', 'span': [0, 8], 'type_id': 1}, {'name': 'ブラックジャック・マリガン', 'span': [9, 22], 'type_id': 1}, {'name': '府立', 'span': [48, 50], 'type_id': 6}, {'name': 'ハンセン', 'span': [56, 60], 'type_id': 1}, {'name': '坂口&小林', 'span': [64, 69], 'type_id': 1}]\n",
            "[]\n",
            "[]\n",
            "[{'name': '吉田茂', 'span': [20, 23], 'type_id': 1}]\n",
            "[{'name': 'フレッド・ヘイニー新', 'span': [6, 16], 'type_id': 1}, {'name': 'コンリー', 'span': [19, 23], 'type_id': 1}]\n",
            "[{'name': '楽高原', 'span': [19, 22], 'type_id': 2}]\n",
            "[]\n",
            "[{'name': '入間川砂利株式会社', 'span': [11, 20], 'type_id': 2}]\n",
            "[{'name': '中央交通', 'span': [27, 31], 'type_id': 2}, {'name': 'ネオ', 'span': [37, 39], 'type_id': 2}]\n",
            "[{'name': 'アレクサンドル・グリゴリエヴィチ・ストロガノフ', 'span': [8, 31], 'type_id': 1}, {'name': 'ニコライ・グリゴリエヴィチ', 'span': [32, 45], 'type_id': 1}, {'name': 'セルゲイ・グリゴリエヴィチ', 'span': [46, 59], 'type_id': 1}]\n",
            "[{'name': '高パトロール', 'span': [2, 8], 'type_id': 2}, {'name': '首都高速道路', 'span': [14, 20], 'type_id': 2}, {'name': '首都高速道路', 'span': [31, 37], 'type_id': 2}]\n",
            "[{'name': 'イエス', 'span': [9, 12], 'type_id': 1}, {'name': 'ジョン・アンダーソン', 'span': [13, 23], 'type_id': 1}, {'name': 'ザ・', 'span': [24, 26], 'type_id': 2}, {'name': 'ビーチ・ボーイズ', 'span': [26, 34], 'type_id': 1}, {'name': 'ブライアン・ウィルソン', 'span': [35, 46], 'type_id': 1}, {'name': 'カール・ウィルソン', 'span': [47, 56], 'type_id': 1}, {'name': 'フレディ・マーキュリー', 'span': [62, 73], 'type_id': 1}]\n",
            "[{'name': '五木', 'span': [0, 2], 'type_id': 1}, {'name': '回', 'span': [13, 14], 'type_id': 8}, {'name': '紅白', 'span': [17, 19], 'type_id': 8}]\n",
            "[{'name': '慶州マウナオーシャンリゾート', 'span': [0, 14], 'type_id': 2}, {'name': '慶尚', 'span': [38, 40], 'type_id': 2}, {'name': '慶州', 'span': [42, 44], 'type_id': 2}, {'name': '南', 'span': [46, 47], 'type_id': 1}, {'name': 'コーロングループ', 'span': [51, 59], 'type_id': 2}]\n",
            "[{'name': 'ク', 'span': [16, 17], 'type_id': 1}, {'name': 'GA', 'span': [28, 30], 'type_id': 7}]\n",
            "[]\n",
            "[{'name': 'アーマー研究所', 'span': [6, 13], 'type_id': 2}, {'name': '東通工', 'span': [21, 24], 'type_id': 2}, {'name': 'アーマー研究所', 'span': [25, 32], 'type_id': 2}]\n",
            "[{'name': '検索ブラジル', 'span': [2, 8], 'type_id': 2}]\n"
          ]
        },
        {
          "output_type": "stream",
          "name": "stderr",
          "text": [
            "\n",
            " 94%|█████████▍| 1010/1070 [00:12<00:00, 81.07it/s]\u001b[A\n",
            " 95%|█████████▌| 1019/1070 [00:12<00:00, 82.21it/s]\u001b[A"
          ]
        },
        {
          "output_type": "stream",
          "name": "stdout",
          "text": [
            "[{'name': '山田義三郎', 'span': [0, 5], 'type_id': 1}, {'name': '登米', 'span': [29, 31], 'type_id': 2}, {'name': '上', 'span': [32, 33], 'type_id': 1}, {'name': '根', 'span': [36, 37], 'type_id': 6}]\n",
            "[]\n",
            "[{'name': '板垣・後藤', 'span': [40, 45], 'type_id': 1}]\n",
            "[]\n",
            "[{'name': 'タワー', 'span': [33, 36], 'type_id': 2}]\n",
            "[{'name': '京浜急行バス', 'span': [22, 28], 'type_id': 2}]\n",
            "[{'name': '乃木坂', 'span': [0, 3], 'type_id': 2}]\n",
            "[{'name': '人民党', 'span': [8, 11], 'type_id': 2}, {'name': '社会党', 'span': [12, 15], 'type_id': 2}]\n",
            "[]\n",
            "[]\n",
            "[{'name': 'ップ', 'span': [24, 26], 'type_id': 2}]\n",
            "[{'name': 'セレッソ大阪', 'span': [6, 12], 'type_id': 2}, {'name': '鳥栖フューチャーズ', 'span': [28, 37], 'type_id': 2}, {'name': 'サガン鳥栖', 'span': [50, 55], 'type_id': 2}]\n",
            "[{'name': '国際連合', 'span': [13, 17], 'type_id': 2}, {'name': '北大西洋条約機構', 'span': [18, 26], 'type_id': 2}]\n",
            "[{'name': '保', 'span': [0, 1], 'type_id': 1}, {'name': '光一', 'span': [2, 4], 'type_id': 1}, {'name': '葉', 'span': [11, 12], 'type_id': 1}]\n",
            "[{'name': 'ラムセス2', 'span': [0, 5], 'type_id': 1}]\n",
            "[{'name': 'ロバート・リスキン', 'span': [0, 9], 'type_id': 1}]\n",
            "[{'name': '弘南観光', 'span': [0, 4], 'type_id': 2}]\n"
          ]
        },
        {
          "output_type": "stream",
          "name": "stderr",
          "text": [
            "\n",
            " 96%|█████████▌| 1028/1070 [00:12<00:00, 82.31it/s]\u001b[A\n",
            " 97%|█████████▋| 1037/1070 [00:12<00:00, 81.88it/s]\u001b[A"
          ]
        },
        {
          "output_type": "stream",
          "name": "stdout",
          "text": [
            "[{'name': 'トロント国際', 'span': [17, 23], 'type_id': 8}, {'name': 'エンターテインメント・ワン', 'span': [31, 44], 'type_id': 2}, {'name': 'マップ', 'span': [46, 49], 'type_id': 2}, {'name': '・', 'span': [49, 50], 'type_id': 1}, {'name': 'トゥ', 'span': [50, 52], 'type_id': 2}, {'name': '・', 'span': [52, 53], 'type_id': 1}, {'name': 'ザ', 'span': [53, 54], 'type_id': 2}, {'name': '・', 'span': [54, 55], 'type_id': 1}, {'name': 'スターズ', 'span': [55, 59], 'type_id': 7}]\n",
            "[{'name': 'ミズ', 'span': [5, 7], 'type_id': 7}]\n",
            "[{'name': '・アヤ', 'span': [15, 18], 'type_id': 2}, {'name': '・', 'span': [53, 54], 'type_id': 2}]\n",
            "[{'name': 'マーベル', 'span': [17, 21], 'type_id': 2}, {'name': 'スタン・リー', 'span': [32, 38], 'type_id': 1}, {'name': 'カービー', 'span': [48, 52], 'type_id': 1}]\n",
            "[{'name': '承', 'span': [1, 2], 'type_id': 1}, {'name': '賛', 'span': [5, 6], 'type_id': 1}]\n",
            "[{'name': 'ノヴィ・サド', 'span': [34, 40], 'type_id': 1}]\n",
            "[{'name': 'ノ口', 'span': [2, 4], 'type_id': 1}, {'name': '足柄上', 'span': [14, 17], 'type_id': 1}]\n",
            "[{'name': '邑智', 'span': [14, 16], 'type_id': 2}, {'name': '郡', 'span': [16, 17], 'type_id': 1}, {'name': '邑', 'span': [17, 18], 'type_id': 2}, {'name': '智', 'span': [18, 19], 'type_id': 6}, {'name': '国有', 'span': [29, 31], 'type_id': 2}, {'name': '江北', 'span': [34, 36], 'type_id': 2}]\n",
            "[{'name': '欧州会計監査院', 'span': [0, 7], 'type_id': 2}, {'name': '欧州委員会', 'span': [44, 49], 'type_id': 2}]\n",
            "[]\n",
            "[]\n",
            "[{'name': 'マグノ・アウベス・バレー', 'span': [46, 58], 'type_id': 1}]\n",
            "[]\n",
            "[{'name': '境', 'span': [8, 9], 'type_id': 2}]\n",
            "[]\n",
            "[]\n",
            "[{'name': '岡部冬彦', 'span': [37, 41], 'type_id': 1}, {'name': 'ばら', 'span': [61, 63], 'type_id': 1}, {'name': '山東昭', 'span': [87, 90], 'type_id': 1}]\n"
          ]
        },
        {
          "output_type": "stream",
          "name": "stderr",
          "text": [
            "\n",
            " 98%|█████████▊| 1046/1070 [00:13<00:00, 80.89it/s]\u001b[A\n",
            " 99%|█████████▊| 1055/1070 [00:13<00:00, 78.60it/s]\u001b[A"
          ]
        },
        {
          "output_type": "stream",
          "name": "stdout",
          "text": [
            "[{'name': '灘', 'span': [13, 14], 'type_id': 6}, {'name': '矢守克也ら', 'span': [27, 32], 'type_id': 1}]\n",
            "[{'name': 'ライ', 'span': [5, 7], 'type_id': 2}, {'name': 'ボストン・セル', 'span': [22, 29], 'type_id': 2}, {'name': 'ティックス', 'span': [29, 34], 'type_id': 1}, {'name': 'ロサンゼルス', 'span': [56, 62], 'type_id': 2}, {'name': '・', 'span': [62, 63], 'type_id': 1}, {'name': 'レイカーズ', 'span': [63, 68], 'type_id': 2}, {'name': 'シカゴ・ブルズ', 'span': [75, 82], 'type_id': 2}, {'name': 'サンアントニオ・', 'span': [85, 93], 'type_id': 1}, {'name': 'スパー', 'span': [93, 96], 'type_id': 2}, {'name': 'ズ', 'span': [96, 97], 'type_id': 1}, {'name': 'デトロイト', 'span': [100, 105], 'type_id': 1}, {'name': '・', 'span': [105, 106], 'type_id': 2}, {'name': 'ピストン', 'span': [106, 110], 'type_id': 1}, {'name': 'ズ', 'span': [110, 111], 'type_id': 2}, {'name': 'ヒューストン', 'span': [114, 120], 'type_id': 2}, {'name': '・', 'span': [120, 121], 'type_id': 1}, {'name': 'ロケ', 'span': [121, 123], 'type_id': 2}, {'name': 'ッツ', 'span': [123, 125], 'type_id': 1}, {'name': 'ゴールデン', 'span': [128, 133], 'type_id': 1}, {'name': 'ステート', 'span': [133, 137], 'type_id': 2}, {'name': '・', 'span': [137, 138], 'type_id': 1}, {'name': 'ウォ', 'span': [138, 140], 'type_id': 2}, {'name': 'リアーズ', 'span': [140, 144], 'type_id': 1}]\n",
            "[{'name': 'ブラッド・フリーデル', 'span': [17, 27], 'type_id': 1}]\n",
            "[{'name': '国務', 'span': [13, 15], 'type_id': 2}, {'name': '財政', 'span': [16, 18], 'type_id': 2}, {'name': '期第', 'span': [23, 25], 'type_id': 8}, {'name': '1', 'span': [25, 26], 'type_id': 2}, {'name': '回全', 'span': [26, 28], 'type_id': 8}, {'name': '人', 'span': [28, 29], 'type_id': 3}, {'name': '代', 'span': [29, 30], 'type_id': 8}]\n",
            "[{'name': '砂漠', 'span': [14, 16], 'type_id': 2}, {'name': '嵐', 'span': [24, 25], 'type_id': 7}, {'name': 'ハーシー', 'span': [31, 35], 'type_id': 1}]\n",
            "[]\n",
            "[{'name': 'ベンダー', 'span': [18, 22], 'type_id': 2}]\n",
            "[{'name': '耳', 'span': [2, 3], 'type_id': 8}, {'name': '規', 'span': [16, 17], 'type_id': 1}]\n",
            "[]\n",
            "[{'name': 'フィギュア', 'span': [13, 18], 'type_id': 6}, {'name': 'スケート', 'span': [18, 22], 'type_id': 2}]\n",
            "[{'name': '新三菱重工', 'span': [3, 8], 'type_id': 2}]\n",
            "[{'name': '日本', 'span': [12, 14], 'type_id': 2}, {'name': 'タッグ', 'span': [26, 29], 'type_id': 7}, {'name': 'ミネソタ', 'span': [37, 41], 'type_id': 2}, {'name': '・', 'span': [41, 42], 'type_id': 1}, {'name': 'レ', 'span': [42, 43], 'type_id': 7}, {'name': 'ッキング', 'span': [43, 47], 'type_id': 1}, {'name': '・', 'span': [47, 48], 'type_id': 2}, {'name': 'クルー', 'span': [48, 51], 'type_id': 1}, {'name': 'ラーズ・アンダーソン', 'span': [60, 70], 'type_id': 1}]\n",
            "[]\n",
            "[{'name': 'マーク', 'span': [26, 29], 'type_id': 2}]\n",
            "[{'name': 'テラル', 'span': [18, 21], 'type_id': 1}]\n",
            "[{'name': 'ラジニーシ', 'span': [4, 9], 'type_id': 1}]\n"
          ]
        },
        {
          "output_type": "stream",
          "name": "stderr",
          "text": [
            "\n",
            "100%|██████████| 1070/1070 [00:13<00:00, 80.33it/s]"
          ]
        },
        {
          "output_type": "stream",
          "name": "stdout",
          "text": [
            "[{'name': 'ビンス・マクマホン・シニア', 'span': [21, 34], 'type_id': 1}, {'name': 'ゴリラ・モンスーン', 'span': [49, 58], 'type_id': 1}]\n",
            "[]\n",
            "[{'name': 'スーパー', 'span': [42, 46], 'type_id': 6}, {'name': '国', 'span': [52, 53], 'type_id': 2}]\n",
            "[{'name': '浅田次郎', 'span': [7, 11], 'type_id': 1}]\n",
            "[{'name': 'フォーク', 'span': [19, 23], 'type_id': 2}]\n",
            "[{'name': 'フロント', 'span': [12, 16], 'type_id': 2}]\n",
            "[{'name': '岡本', 'span': [10, 12], 'type_id': 2}, {'name': 'テン', 'span': [18, 20], 'type_id': 2}, {'name': 'ラクテンチ', 'span': [29, 34], 'type_id': 2}, {'name': 'ラクテンチ', 'span': [45, 50], 'type_id': 2}, {'name': '西石油', 'span': [69, 72], 'type_id': 2}]\n",
            "[{'name': ':', 'span': [1, 2], 'type_id': 2}, {'name': 'ジェイコム北関東', 'span': [15, 23], 'type_id': 2}]\n",
            "[{'name': 'フォン・デニケン', 'span': [0, 8], 'type_id': 1}]\n",
            "[{'name': '島田夏枝', 'span': [14, 18], 'type_id': 1}, {'name': '蔵田照美', 'span': [19, 23], 'type_id': 1}]\n",
            "[{'name': 'フォークス', 'span': [19, 24], 'type_id': 1}, {'name': 'クレーマー', 'span': [43, 48], 'type_id': 1}]\n",
            "[{'name': 'マスター', 'span': [0, 4], 'type_id': 2}, {'name': '明治乳業', 'span': [8, 12], 'type_id': 2}, {'name': '通', 'span': [28, 29], 'type_id': 2}]\n",
            "[{'name': '永田萠', 'span': [15, 18], 'type_id': 1}]\n",
            "[{'name': '通信', 'span': [2, 4], 'type_id': 2}, {'name': '永井晴二', 'span': [6, 10], 'type_id': 1}, {'name': 'ディープインパクト', 'span': [11, 20], 'type_id': 1}]\n"
          ]
        },
        {
          "output_type": "stream",
          "name": "stderr",
          "text": [
            "\n"
          ]
        }
      ]
    },
    {
      "cell_type": "code",
      "source": [
        "print(\"# 正解\")\n",
        "print(entities_list[0])\n",
        "print(\"# 抽出\")\n",
        "print(entities_predicted_list[0])\n",
        "\n",
        "print(predict('伊藤家には、海外の収集品の他にも、ヤン・フレデリク・フェイルケによる富士山の墨絵「富嶽図」も残されている。', tokenizer, bert_tc))\n",
        "print(predict('AさんはB大学に入学した。', tokenizer, bert_tc))"
      ],
      "metadata": {
        "colab": {
          "base_uri": "https://localhost:8080/"
        },
        "id": "eGybR147Vj_4",
        "outputId": "99201553-0eda-4a70-e01f-284ddf419b25"
      },
      "execution_count": 48,
      "outputs": [
        {
          "output_type": "stream",
          "name": "stdout",
          "text": [
            "# 正解\n",
            "[{'name': '李承晩政権', 'span': [0, 5], 'type_id': 3}, {'name': '朴正煕政権', 'span': [8, 13], 'type_id': 3}, {'name': '大韓民国', 'span': [28, 32], 'type_id': 5}, {'name': '朝鮮民主主義人民共和国', 'span': [38, 49], 'type_id': 5}]\n",
            "# 抽出\n",
            "[{'name': '李承晩', 'span': [0, 3], 'type_id': 1}, {'name': '朴正煕', 'span': [8, 11], 'type_id': 1}]\n",
            "[{'name': '伊藤', 'span': [0, 2], 'type_id': 1}, {'name': 'ヤン・フレデリク・フェイルケ', 'span': [17, 31], 'type_id': 1}]\n",
            "[{'name': '伊藤', 'span': [0, 2], 'type_id': 1}, {'name': 'ヤン・フレデリク・フェイルケ', 'span': [17, 31], 'type_id': 1}]\n",
            "[]\n",
            "[]\n"
          ]
        }
      ]
    },
    {
      "cell_type": "code",
      "source": [
        "def evaluate_model(entities_list, entities_predicted_list, type_id=None):\n",
        "    \"\"\"\n",
        "    正解と予測を比較し、モデルの固有表現抽出の性能を評価する。\n",
        "    type_idがNoneのときは、全ての固有表現のタイプに対して評価する。\n",
        "    type_idが整数を指定すると、その固有表現のタイプのIDに対して評価を行う。\n",
        "    \"\"\"\n",
        "    num_entities = 0 # 固有表現(正解)の個数\n",
        "    num_predictions = 0 # BERTにより予測された固有表現の個数\n",
        "    num_correct = 0 # BERTにより予測のうち正解であった固有表現の数\n",
        "\n",
        "    # それぞれの文章で予測と正解を比較。\n",
        "    # 予測は文章中の位置とタイプIDが一致すれば正解とみなす。\n",
        "    for entities, entities_predicted \\\n",
        "        in zip(entities_list, entities_predicted_list):\n",
        "\n",
        "    # 関数の引数でtype_idを指定した場合には、それと一致する固有表現だけを評価する\n",
        "        if type_id:\n",
        "            entities = [ e for e in entities if e['type_id'] == type_id ]\n",
        "            entities_predicted = [ \n",
        "                e for e in entities_predicted if e['type_id'] == type_id\n",
        "            ]\n",
        "\n",
        "        # 各entitiy e の初期位置と最終位置、type_idの組みを求める  \n",
        "        get_span_type = lambda e: (e['span'][0], e['span'][1], e['type_id'])\n",
        "        set_entities = set( get_span_type(e) for e in entities )\n",
        "        set_entities_predicted = \\\n",
        "            set( get_span_type(e) for e in entities_predicted )\n",
        "\n",
        "        num_entities += len(entities)\n",
        "        num_predictions += len(entities_predicted)\n",
        "        num_correct += len( set_entities & set_entities_predicted )\n",
        "\n",
        "    # 指標を計算\n",
        "    precision = num_correct/num_predictions # 適合率\n",
        "    recall = num_correct/num_entities # 再現率\n",
        "    f_value = 2*precision*recall/(precision+recall) # F値\n",
        "\n",
        "    result = {\n",
        "        'num_entities': num_entities,\n",
        "        'num_predictions': num_predictions,\n",
        "        'num_correct': num_correct,\n",
        "        'precision': precision,\n",
        "        'recall': recall,\n",
        "        'f_value': f_value\n",
        "    }\n",
        "\n",
        "    return result\n"
      ],
      "metadata": {
        "id": "1KS1kFata8r4"
      },
      "execution_count": 49,
      "outputs": []
    },
    {
      "cell_type": "code",
      "source": [
        "print( evaluate_model(entities_list, entities_predicted_list) )"
      ],
      "metadata": {
        "colab": {
          "base_uri": "https://localhost:8080/"
        },
        "id": "k6LLD9RlbIke",
        "outputId": "3908ca71-9e84-4538-82b6-448ec98cba02"
      },
      "execution_count": 50,
      "outputs": [
        {
          "output_type": "stream",
          "name": "stdout",
          "text": [
            "{'num_entities': 2612, 'num_predictions': 2023, 'num_correct': 531, 'precision': 0.2624814631735047, 'recall': 0.20329249617151607, 'f_value': 0.229126213592233}\n"
          ]
        }
      ]
    }
  ]
}